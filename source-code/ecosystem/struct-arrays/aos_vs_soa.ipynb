{
 "cells": [
  {
   "cell_type": "markdown",
   "id": "aa1d6401-7317-42d0-b5df-2f2594ca4893",
   "metadata": {},
   "source": [
    "# Requirements"
   ]
  },
  {
   "cell_type": "markdown",
   "id": "e19fbb54-5d4f-4f04-aa60-066c8fea0efb",
   "metadata": {},
   "source": [
    "Since this notebook uses a Julia package that is not in the standard library, an environment was created in which it is installed.  Using the `Pkg` module, that environment, `struct_arrrays`, can be activated, so that the `StructArrays` module can be loaded."
   ]
  },
  {
   "cell_type": "code",
   "execution_count": 1,
   "id": "f63f9173-6d97-4c27-983e-28a979ce4ce6",
   "metadata": {},
   "outputs": [],
   "source": [
    "using Pkg\n",
    "Pkg.activate(\"struct_arrays\")\n",
    "using StructArrays\n",
    "using BenchmarkTools"
   ]
  },
  {
   "cell_type": "markdown",
   "id": "897c6a97-c5de-48c9-b8b2-01b9bebc3869",
   "metadata": {},
   "source": [
    "# Array of structures"
   ]
  },
  {
   "cell_type": "markdown",
   "id": "50b22a6e-3fcf-4587-a819-597dba2042b6",
   "metadata": {},
   "source": [
    "Consider a structure that represents a particle.  A point has an $x$ and $y$ coordinate, and a mass."
   ]
  },
  {
   "cell_type": "code",
   "execution_count": 2,
   "id": "43fdfc87-5d96-42d2-a908-1491638bab6b",
   "metadata": {},
   "outputs": [],
   "source": [
    "struct Particle\n",
    "    x::Float64\n",
    "    y::Float64\n",
    "    mass::Float64\n",
    "    v_x::Float64\n",
    "    v_y::Float64\n",
    "    charge::Int32\n",
    "end"
   ]
  },
  {
   "cell_type": "markdown",
   "id": "ead45fd5-3ee9-48ae-9c3d-0539fa638bfc",
   "metadata": {},
   "source": [
    "We create many such particles and store them in a `Vector`."
   ]
  },
  {
   "cell_type": "code",
   "execution_count": 3,
   "id": "df4109f6-b38e-4472-a7a9-dec3001a134f",
   "metadata": {},
   "outputs": [],
   "source": [
    "nr_particles = 10_000_000\n",
    "particles = Array{Particle}(undef, nr_particles)\n",
    "for i in eachindex(particles)\n",
    "    particles[i] = Particle(randn(), randn(), rand(), randn(), randn(), 1)\n",
    "end"
   ]
  },
  {
   "cell_type": "code",
   "execution_count": 4,
   "id": "d781fd4a-5b76-446c-ab7d-45180aae8871",
   "metadata": {},
   "outputs": [
    {
     "data": {
      "text/plain": [
       "Vector{Particle} (alias for Array{Particle, 1})"
      ]
     },
     "execution_count": 4,
     "metadata": {},
     "output_type": "execute_result"
    }
   ],
   "source": [
    "typeof(particles)"
   ]
  },
  {
   "cell_type": "markdown",
   "id": "1ea21c7e-3aee-418b-8e2b-230cd65e4ce6",
   "metadata": {},
   "source": [
    "We want to compute the center of mass and define a function to compute it."
   ]
  },
  {
   "cell_type": "code",
   "execution_count": 5,
   "id": "4c20ddac-e9f1-4a31-8bda-082626edfb66",
   "metadata": {},
   "outputs": [
    {
     "data": {
      "text/plain": [
       "center_of_mass (generic function with 1 method)"
      ]
     },
     "execution_count": 5,
     "metadata": {},
     "output_type": "execute_result"
    }
   ],
   "source": [
    "function center_of_mass(particles::Array{Particle})\n",
    "    x_coord = sum(map(p -> p.x, particles))\n",
    "    y_coord = sum(map(p -> p.y, particles))\n",
    "    mass = sum(map(p -> p.mass, particles))\n",
    "    return x_coord/mass, y_coord/mass\n",
    "end"
   ]
  },
  {
   "cell_type": "code",
   "execution_count": 14,
   "id": "803deba3-da82-461f-880b-c74f2ab28173",
   "metadata": {},
   "outputs": [
    {
     "data": {
      "text/plain": [
       "BechmarkTools.Trial: 37 samples with 1 evaluations.\n",
       " Range \u001b[90m(\u001b[39m\u001b[36m\u001b[1mmin\u001b[22m\u001b[39m … \u001b[35mmax\u001b[39m\u001b[90m):  \u001b[39m\u001b[36m\u001b[1m129.019 ms\u001b[22m\u001b[39m … \u001b[35m147.559 ms\u001b[39m  \u001b[90m┊\u001b[39m GC \u001b[90m(\u001b[39mmin … max\u001b[90m): \u001b[39m0.00% … 11.24%\n",
       " Time  \u001b[90m(\u001b[39m\u001b[34m\u001b[1mmedian\u001b[22m\u001b[39m\u001b[90m):     \u001b[39m\u001b[34m\u001b[1m131.979 ms               \u001b[22m\u001b[39m\u001b[90m┊\u001b[39m GC \u001b[90m(\u001b[39mmedian\u001b[90m):    \u001b[39m0.00%\n",
       " Time  \u001b[90m(\u001b[39m\u001b[32m\u001b[1mmean\u001b[22m\u001b[39m ± \u001b[32mσ\u001b[39m\u001b[90m):   \u001b[39m\u001b[32m\u001b[1m136.593 ms\u001b[22m\u001b[39m ± \u001b[32m  7.411 ms\u001b[39m  \u001b[90m┊\u001b[39m GC \u001b[90m(\u001b[39mmean ± σ\u001b[90m):  \u001b[39m4.46% ±  4.96%\n",
       "\n",
       "  \u001b[39m▂\u001b[39m█\u001b[39m \u001b[39m \u001b[39m▅\u001b[39m \u001b[34m \u001b[39m\u001b[39m \u001b[39m \u001b[39m \u001b[39m \u001b[39m \u001b[39m \u001b[39m \u001b[39m \u001b[39m \u001b[39m \u001b[39m \u001b[39m \u001b[39m \u001b[39m \u001b[39m \u001b[39m \u001b[39m \u001b[39m \u001b[32m \u001b[39m\u001b[39m \u001b[39m \u001b[39m \u001b[39m \u001b[39m \u001b[39m \u001b[39m \u001b[39m \u001b[39m \u001b[39m \u001b[39m \u001b[39m \u001b[39m \u001b[39m \u001b[39m \u001b[39m \u001b[39m \u001b[39m \u001b[39m \u001b[39m \u001b[39m \u001b[39m \u001b[39m \u001b[39m \u001b[39m \u001b[39m \u001b[39m \u001b[39m \u001b[39m \u001b[39m \u001b[39m \u001b[39m \u001b[39m \u001b[39m \u001b[39m \u001b[39m \u001b[39m \n",
       "  \u001b[39m█\u001b[39m█\u001b[39m▅\u001b[39m█\u001b[39m█\u001b[39m█\u001b[34m▅\u001b[39m\u001b[39m▁\u001b[39m▁\u001b[39m█\u001b[39m▁\u001b[39m▁\u001b[39m▁\u001b[39m▁\u001b[39m▁\u001b[39m▁\u001b[39m▁\u001b[39m▁\u001b[39m▁\u001b[39m▁\u001b[39m▁\u001b[39m▁\u001b[39m▁\u001b[39m▅\u001b[39m▁\u001b[32m▁\u001b[39m\u001b[39m▁\u001b[39m▁\u001b[39m▁\u001b[39m▁\u001b[39m▁\u001b[39m▁\u001b[39m▁\u001b[39m▁\u001b[39m▅\u001b[39m▁\u001b[39m▁\u001b[39m▁\u001b[39m▁\u001b[39m▁\u001b[39m▁\u001b[39m▁\u001b[39m▁\u001b[39m▁\u001b[39m▅\u001b[39m▁\u001b[39m█\u001b[39m▅\u001b[39m▅\u001b[39m▅\u001b[39m▅\u001b[39m▁\u001b[39m▅\u001b[39m█\u001b[39m▁\u001b[39m▁\u001b[39m▁\u001b[39m▁\u001b[39m▅\u001b[39m█\u001b[39m█\u001b[39m \u001b[39m▁\n",
       "  129 ms\u001b[90m           Histogram: frequency by time\u001b[39m          148 ms \u001b[0m\u001b[1m<\u001b[22m\n",
       "\n",
       " Memory estimate\u001b[90m: \u001b[39m\u001b[33m228.88 MiB\u001b[39m, allocs estimate\u001b[90m: \u001b[39m\u001b[33m7\u001b[39m."
      ]
     },
     "execution_count": 14,
     "metadata": {},
     "output_type": "execute_result"
    }
   ],
   "source": [
    "@benchmark center_of_mass(particles)"
   ]
  },
  {
   "cell_type": "markdown",
   "id": "fac6d235-cee1-4bc8-a89a-53864c7ac0f1",
   "metadata": {},
   "source": [
    "The memory access pattern in the previous implementation is far from optimal, for the current data stucture it can be improved by iterating over the particles and computing the $x$ and $y$ coordinates and the total mass one particle at th4e time."
   ]
  },
  {
   "cell_type": "code",
   "execution_count": 7,
   "id": "53ba4ba1-a058-456b-bd43-51775477a89f",
   "metadata": {},
   "outputs": [
    {
     "data": {
      "text/plain": [
       "center_of_mass_iter (generic function with 1 method)"
      ]
     },
     "execution_count": 7,
     "metadata": {},
     "output_type": "execute_result"
    }
   ],
   "source": [
    "function center_of_mass_iter(particles::Array{Particle})\n",
    "    x_coord, y_coord, mass = 0.0, 0.0, 0.0\n",
    "    for particle in particles\n",
    "        x_coord += particle.x\n",
    "        y_coord += particle.y\n",
    "        mass += particle.mass\n",
    "    end\n",
    "    return x_coord/mass, y_coord/mass\n",
    "end"
   ]
  },
  {
   "cell_type": "code",
   "execution_count": 8,
   "id": "3f37951b-88d2-41fe-b0cc-9d7c42f77de3",
   "metadata": {},
   "outputs": [
    {
     "data": {
      "text/plain": [
       "BechmarkTools.Trial: 205 samples with 1 evaluations.\n",
       " Range \u001b[90m(\u001b[39m\u001b[36m\u001b[1mmin\u001b[22m\u001b[39m … \u001b[35mmax\u001b[39m\u001b[90m):  \u001b[39m\u001b[36m\u001b[1m23.991 ms\u001b[22m\u001b[39m … \u001b[35m 26.361 ms\u001b[39m  \u001b[90m┊\u001b[39m GC \u001b[90m(\u001b[39mmin … max\u001b[90m): \u001b[39m0.00% … 0.00%\n",
       " Time  \u001b[90m(\u001b[39m\u001b[34m\u001b[1mmedian\u001b[22m\u001b[39m\u001b[90m):     \u001b[39m\u001b[34m\u001b[1m24.313 ms               \u001b[22m\u001b[39m\u001b[90m┊\u001b[39m GC \u001b[90m(\u001b[39mmedian\u001b[90m):    \u001b[39m0.00%\n",
       " Time  \u001b[90m(\u001b[39m\u001b[32m\u001b[1mmean\u001b[22m\u001b[39m ± \u001b[32mσ\u001b[39m\u001b[90m):   \u001b[39m\u001b[32m\u001b[1m24.360 ms\u001b[22m\u001b[39m ± \u001b[32m314.726 μs\u001b[39m  \u001b[90m┊\u001b[39m GC \u001b[90m(\u001b[39mmean ± σ\u001b[90m):  \u001b[39m0.00% ± 0.00%\n",
       "\n",
       "  \u001b[39m \u001b[39m \u001b[39m▇\u001b[39m▃\u001b[39m█\u001b[39m▁\u001b[39m▄\u001b[39m▁\u001b[39m▄\u001b[39m▂\u001b[39m \u001b[39m▁\u001b[34m▄\u001b[39m\u001b[39m▅\u001b[32m▇\u001b[39m\u001b[39m \u001b[39m▅\u001b[39m \u001b[39m▄\u001b[39m▁\u001b[39m \u001b[39m \u001b[39m \u001b[39m \u001b[39m \u001b[39m \u001b[39m \u001b[39m \u001b[39m \u001b[39m \u001b[39m \u001b[39m \u001b[39m \u001b[39m \u001b[39m \u001b[39m \u001b[39m \u001b[39m \u001b[39m \u001b[39m \u001b[39m \u001b[39m \u001b[39m \u001b[39m \u001b[39m \u001b[39m \u001b[39m \u001b[39m \u001b[39m \u001b[39m \u001b[39m \u001b[39m \u001b[39m \u001b[39m \u001b[39m \u001b[39m \u001b[39m \u001b[39m \u001b[39m \u001b[39m \u001b[39m \u001b[39m \n",
       "  \u001b[39m▄\u001b[39m▆\u001b[39m█\u001b[39m█\u001b[39m█\u001b[39m█\u001b[39m█\u001b[39m█\u001b[39m█\u001b[39m█\u001b[39m▅\u001b[39m█\u001b[34m█\u001b[39m\u001b[39m█\u001b[32m█\u001b[39m\u001b[39m▆\u001b[39m█\u001b[39m█\u001b[39m█\u001b[39m█\u001b[39m█\u001b[39m▆\u001b[39m▄\u001b[39m▆\u001b[39m▁\u001b[39m▅\u001b[39m▄\u001b[39m▃\u001b[39m▅\u001b[39m▄\u001b[39m▁\u001b[39m▁\u001b[39m▃\u001b[39m▃\u001b[39m▃\u001b[39m▁\u001b[39m▁\u001b[39m▁\u001b[39m▁\u001b[39m▁\u001b[39m▁\u001b[39m▁\u001b[39m▁\u001b[39m▃\u001b[39m▁\u001b[39m▃\u001b[39m▃\u001b[39m▁\u001b[39m▁\u001b[39m▁\u001b[39m▁\u001b[39m▃\u001b[39m▁\u001b[39m▃\u001b[39m▃\u001b[39m▁\u001b[39m▁\u001b[39m▁\u001b[39m▁\u001b[39m▃\u001b[39m \u001b[39m▄\n",
       "  24 ms\u001b[90m           Histogram: frequency by time\u001b[39m         25.5 ms \u001b[0m\u001b[1m<\u001b[22m\n",
       "\n",
       " Memory estimate\u001b[90m: \u001b[39m\u001b[33m32 bytes\u001b[39m, allocs estimate\u001b[90m: \u001b[39m\u001b[33m1\u001b[39m."
      ]
     },
     "execution_count": 8,
     "metadata": {},
     "output_type": "execute_result"
    }
   ],
   "source": [
    "@benchmark center_of_mass_iter(particles)"
   ]
  },
  {
   "cell_type": "markdown",
   "id": "fdc709b6-5b9e-43ea-8d55-2fab0c3747ba",
   "metadata": {},
   "source": [
    "# Structure of arrays"
   ]
  },
  {
   "cell_type": "markdown",
   "id": "ac304fc6-9ca9-47bd-b846-4915d70204ad",
   "metadata": {},
   "source": [
    "However, note that we are accessing the `x`, `y` and `mass` field of each particle one after the other.  Storing these fields in arrays would improve the memory access pattern."
   ]
  },
  {
   "cell_type": "code",
   "execution_count": 9,
   "id": "e9804d02-b707-450c-a0c9-4f483e46f012",
   "metadata": {},
   "outputs": [],
   "source": [
    "particles_sa = StructArray(particles);"
   ]
  },
  {
   "cell_type": "code",
   "execution_count": 10,
   "id": "b4c77872-6a0f-41af-93ae-f22b2eca8542",
   "metadata": {},
   "outputs": [
    {
     "data": {
      "text/plain": [
       "StructVector{Particle, NamedTuple{(:x, :y, :mass, :v_x, :v_y, :charge), Tuple{Vector{Float64}, Vector{Float64}, Vector{Float64}, Vector{Float64}, Vector{Float64}, Vector{Int32}}}, Int64} (alias for StructArray{Particle, 1, NamedTuple{(:x, :y, :mass, :v_x, :v_y, :charge), Tuple{Array{Float64, 1}, Array{Float64, 1}, Array{Float64, 1}, Array{Float64, 1}, Array{Float64, 1}, Array{Int32, 1}}}, Int64})"
      ]
     },
     "execution_count": 10,
     "metadata": {},
     "output_type": "execute_result"
    }
   ],
   "source": [
    "typeof(particles_sa)"
   ]
  },
  {
   "cell_type": "code",
   "execution_count": 11,
   "id": "ab379992-964c-4326-814b-b20b1378d0a4",
   "metadata": {},
   "outputs": [
    {
     "data": {
      "text/plain": [
       "center_of_mass (generic function with 2 methods)"
      ]
     },
     "execution_count": 11,
     "metadata": {},
     "output_type": "execute_result"
    }
   ],
   "source": [
    "function center_of_mass(particles::StructArray{Particle})\n",
    "    x_coord = sum(particles.x)\n",
    "    y_coord = sum(particles.y)\n",
    "    mass = sum(particles.mass)\n",
    "    return x_coord/mass, y_coord/mass\n",
    "end"
   ]
  },
  {
   "cell_type": "code",
   "execution_count": 12,
   "id": "5df8bccd-0a48-40a6-b75a-0e029a8cfae7",
   "metadata": {},
   "outputs": [
    {
     "data": {
      "text/plain": [
       "BechmarkTools.Trial: 402 samples with 1 evaluations.\n",
       " Range \u001b[90m(\u001b[39m\u001b[36m\u001b[1mmin\u001b[22m\u001b[39m … \u001b[35mmax\u001b[39m\u001b[90m):  \u001b[39m\u001b[36m\u001b[1m12.148 ms\u001b[22m\u001b[39m … \u001b[35m 13.448 ms\u001b[39m  \u001b[90m┊\u001b[39m GC \u001b[90m(\u001b[39mmin … max\u001b[90m): \u001b[39m0.00% … 0.00%\n",
       " Time  \u001b[90m(\u001b[39m\u001b[34m\u001b[1mmedian\u001b[22m\u001b[39m\u001b[90m):     \u001b[39m\u001b[34m\u001b[1m12.394 ms               \u001b[22m\u001b[39m\u001b[90m┊\u001b[39m GC \u001b[90m(\u001b[39mmedian\u001b[90m):    \u001b[39m0.00%\n",
       " Time  \u001b[90m(\u001b[39m\u001b[32m\u001b[1mmean\u001b[22m\u001b[39m ± \u001b[32mσ\u001b[39m\u001b[90m):   \u001b[39m\u001b[32m\u001b[1m12.414 ms\u001b[22m\u001b[39m ± \u001b[32m141.881 μs\u001b[39m  \u001b[90m┊\u001b[39m GC \u001b[90m(\u001b[39mmean ± σ\u001b[90m):  \u001b[39m0.00% ± 0.00%\n",
       "\n",
       "  \u001b[39m \u001b[39m \u001b[39m \u001b[39m \u001b[39m \u001b[39m \u001b[39m \u001b[39m \u001b[39m \u001b[39m▁\u001b[39m▄\u001b[39m \u001b[39m▁\u001b[39m▄\u001b[39m \u001b[39m▂\u001b[39m▄\u001b[39m█\u001b[34m▇\u001b[39m\u001b[32m▇\u001b[39m\u001b[39m▇\u001b[39m▆\u001b[39m▂\u001b[39m \u001b[39m \u001b[39m \u001b[39m \u001b[39m \u001b[39m \u001b[39m \u001b[39m \u001b[39m \u001b[39m \u001b[39m \u001b[39m \u001b[39m \u001b[39m \u001b[39m \u001b[39m \u001b[39m \u001b[39m \u001b[39m \u001b[39m \u001b[39m \u001b[39m \u001b[39m \u001b[39m \u001b[39m \u001b[39m \u001b[39m \u001b[39m \u001b[39m \u001b[39m \u001b[39m \u001b[39m \u001b[39m \u001b[39m \u001b[39m \u001b[39m \u001b[39m \u001b[39m \u001b[39m \n",
       "  \u001b[39m▃\u001b[39m▁\u001b[39m▁\u001b[39m▂\u001b[39m▂\u001b[39m▃\u001b[39m▃\u001b[39m▄\u001b[39m▇\u001b[39m█\u001b[39m█\u001b[39m█\u001b[39m█\u001b[39m█\u001b[39m█\u001b[39m█\u001b[39m█\u001b[39m█\u001b[34m█\u001b[39m\u001b[32m█\u001b[39m\u001b[39m█\u001b[39m█\u001b[39m█\u001b[39m▆\u001b[39m▆\u001b[39m▆\u001b[39m▆\u001b[39m▅\u001b[39m▃\u001b[39m▅\u001b[39m▄\u001b[39m▃\u001b[39m▂\u001b[39m▁\u001b[39m▃\u001b[39m▄\u001b[39m▃\u001b[39m▂\u001b[39m▃\u001b[39m▁\u001b[39m▂\u001b[39m▂\u001b[39m▂\u001b[39m▂\u001b[39m▁\u001b[39m▃\u001b[39m▂\u001b[39m▃\u001b[39m▂\u001b[39m▁\u001b[39m▁\u001b[39m▁\u001b[39m▃\u001b[39m▁\u001b[39m▁\u001b[39m▁\u001b[39m▁\u001b[39m▁\u001b[39m▁\u001b[39m▂\u001b[39m \u001b[39m▄\n",
       "  12.1 ms\u001b[90m         Histogram: frequency by time\u001b[39m           13 ms \u001b[0m\u001b[1m<\u001b[22m\n",
       "\n",
       " Memory estimate\u001b[90m: \u001b[39m\u001b[33m32 bytes\u001b[39m, allocs estimate\u001b[90m: \u001b[39m\u001b[33m1\u001b[39m."
      ]
     },
     "execution_count": 12,
     "metadata": {},
     "output_type": "execute_result"
    }
   ],
   "source": [
    "@benchmark center_of_mass(particles_sa)"
   ]
  },
  {
   "cell_type": "markdown",
   "id": "2741ac00-1989-4280-bbc9-81c723d20ec7",
   "metadata": {},
   "source": [
    "This data structure is much more suited for the memory access pattern in our original implementation.  All $x$ coordinates are stored continguously in memory, and similar for $y$ and the masses."
   ]
  }
 ],
 "metadata": {
  "kernelspec": {
   "display_name": "Julia 1.6.1",
   "language": "julia",
   "name": "julia-1.6"
  },
  "language_info": {
   "file_extension": ".jl",
   "mimetype": "application/julia",
   "name": "julia",
   "version": "1.6.1"
  }
 },
 "nbformat": 4,
 "nbformat_minor": 5
}
