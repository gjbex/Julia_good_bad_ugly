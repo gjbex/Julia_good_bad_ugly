{
 "cells": [
  {
   "cell_type": "markdown",
   "id": "fc14ed64-37cb-44e3-ab40-20951a69ecea",
   "metadata": {},
   "source": [
    "# Abstract type"
   ]
  },
  {
   "cell_type": "markdown",
   "id": "5b6570b7-6983-408c-a565-7f1ca9c22962",
   "metadata": {},
   "source": [
    "We define an abstract type to represent a point in a two-dimensional space.  This type will be used as a parent type for concrete types."
   ]
  },
  {
   "cell_type": "code",
   "execution_count": 1,
   "id": "6c8bf5b7-a9e5-45e0-a909-54cf0d585c9f",
   "metadata": {},
   "outputs": [],
   "source": [
    "abstract type AbstractPoint end"
   ]
  },
  {
   "cell_type": "markdown",
   "id": "c05cee27-5489-4b09-b224-df3b8c327352",
   "metadata": {},
   "source": [
    "This type will be subtyped to create types that have certain properties, in this case $x$ and $y$ coordinates."
   ]
  },
  {
   "cell_type": "markdown",
   "id": "c8080d03-2044-4250-980c-bd44418d39b0",
   "metadata": {},
   "source": [
    "It is also considered good practice to provide accessor function to deal with attributes, rather than accessing them directly."
   ]
  },
  {
   "cell_type": "code",
   "execution_count": 2,
   "id": "a79b7f9c-f87e-40e3-b8a7-4b9bd933a9bc",
   "metadata": {},
   "outputs": [
    {
     "data": {
      "text/plain": [
       "set_y_coord (generic function with 1 method)"
      ]
     },
     "execution_count": 2,
     "metadata": {},
     "output_type": "execute_result"
    }
   ],
   "source": [
    "get_x_coord(p::AbstractPoint) = p.x\n",
    "set_x_coord(p::AbstractPoint, new_x::Real) = begin p.x = new_x; end\n",
    "get_y_coord(p::AbstractPoint) = p.y\n",
    "set_y_coord(p::AbstractPoint, new_y::Real) = begin p.y = new_y; end"
   ]
  },
  {
   "cell_type": "markdown",
   "id": "f4fe0c5d-65d5-42ff-a5db-ef318ba58811",
   "metadata": {},
   "source": [
    "These accessor methods will work on all subtypes of `AbstractPoint` as long as as the structure that implements it has fields `x` and `y`."
   ]
  },
  {
   "cell_type": "markdown",
   "id": "c22a2c6a-5b7a-4fa7-90a4-3bd50e30b466",
   "metadata": {},
   "source": [
    "We define two methods, the first one to compute the Euclidean distance between two points, the other to move a point by a given distance in the $x$ and $y$ direction."
   ]
  },
  {
   "cell_type": "code",
   "execution_count": 3,
   "id": "42a27a02-3082-46a8-8dcf-f5ea872cca82",
   "metadata": {},
   "outputs": [
    {
     "data": {
      "text/plain": [
       "distance (generic function with 1 method)"
      ]
     },
     "execution_count": 3,
     "metadata": {},
     "output_type": "execute_result"
    }
   ],
   "source": [
    "function distance(p1::AbstractPoint, p2::AbstractPoint)::AbstractFloat\n",
    "    return sqrt((get_x_coord(p1) - get_x_coord(p2))^2 + (get_y_coord(p1) - get_y_coord(p2))^2)\n",
    "end"
   ]
  },
  {
   "cell_type": "markdown",
   "id": "be135706-1840-46a1-9b95-8590433299f2",
   "metadata": {},
   "source": [
    "Note that this method is defined on the abstract type `Point2D`, not on any concrete type.  This means that it can be used on a structure of any bype subtyped of `Point2D`."
   ]
  },
  {
   "cell_type": "code",
   "execution_count": 4,
   "id": "0847a3e1-f39c-4de7-96f9-093b8b8d2645",
   "metadata": {},
   "outputs": [
    {
     "data": {
      "text/plain": [
       "move (generic function with 1 method)"
      ]
     },
     "execution_count": 4,
     "metadata": {},
     "output_type": "execute_result"
    }
   ],
   "source": [
    "function move(p::AbstractPoint, delta_x::Real, delta_y::Real)\n",
    "    set_x_coord(p, get_x_coord(p) + delta_x)\n",
    "    set_y_coord(p, get_y_coord(p) + delta_y)\n",
    "    return nothing\n",
    "end"
   ]
  },
  {
   "cell_type": "markdown",
   "id": "5935e1b8-0928-4192-aca7-9ec5f9825fe4",
   "metadata": {},
   "source": [
    "# Simple point"
   ]
  },
  {
   "cell_type": "markdown",
   "id": "a9084c45-1099-4485-96c1-9c69b65744a1",
   "metadata": {},
   "source": [
    "We define a type that represents a point in a two dimensional space using real-valued coordinates.  The `Point` structure has two fields, the $x$ and $y$ coordinate of the point.  Note that the type of the coordinates is abstract, i.e., it can be any of `Float16`, `Float32` or `Float64` since it is declared `Real`.  The concrete type `Point` is a subtype of the abstract tyee `AbstractPoint`."
   ]
  },
  {
   "cell_type": "code",
   "execution_count": 5,
   "id": "1bbcd078-9f31-42ef-8098-1c8b306aebf9",
   "metadata": {},
   "outputs": [],
   "source": [
    "mutable struct Point <: AbstractPoint\n",
    "    x::Real\n",
    "    y::Real\n",
    "end"
   ]
  },
  {
   "cell_type": "markdown",
   "id": "e3e7a34c-bc10-4744-8573-4c3e6f1a0ee1",
   "metadata": {},
   "source": [
    "We try out the methods `destance` and `move` on two points."
   ]
  },
  {
   "cell_type": "code",
   "execution_count": 6,
   "id": "1a2b4515-b120-43c7-85b4-23d5d4739d73",
   "metadata": {},
   "outputs": [],
   "source": [
    "p1 = Point(3.1, 4.5)\n",
    "p2 = Point(2.3, -1.9);"
   ]
  },
  {
   "cell_type": "code",
   "execution_count": 7,
   "id": "8975c6e9-d41d-4f93-be34-65a33586e215",
   "metadata": {},
   "outputs": [
    {
     "data": {
      "text/plain": [
       "6.44980619863884"
      ]
     },
     "execution_count": 7,
     "metadata": {},
     "output_type": "execute_result"
    }
   ],
   "source": [
    "distance(p1, p2)"
   ]
  },
  {
   "cell_type": "code",
   "execution_count": 8,
   "id": "42a5728f-5139-49ad-9458-20d1c0b348a5",
   "metadata": {},
   "outputs": [],
   "source": [
    "move(p1, 0.3, 0.2)"
   ]
  },
  {
   "cell_type": "code",
   "execution_count": 9,
   "id": "200f087f-6a2a-4284-b3c1-d9e50f37d027",
   "metadata": {},
   "outputs": [
    {
     "data": {
      "text/plain": [
       "Point(3.4, 4.7)"
      ]
     },
     "execution_count": 9,
     "metadata": {},
     "output_type": "execute_result"
    }
   ],
   "source": [
    "p1"
   ]
  },
  {
   "cell_type": "markdown",
   "id": "bd3eccf0-1237-42e0-bffb-133a316ba6bf",
   "metadata": {},
   "source": [
    "# Particle"
   ]
  },
  {
   "cell_type": "markdown",
   "id": "10f7a69d-30b6-452e-8ae0-03940f32fc4e",
   "metadata": {},
   "source": [
    "In Julia, a concrete type can not be subtyped, so the only way to extend a type is by composition.  A particle has an $x$ and $y$ coordinate and we can compute the distance between two particles.  These methods have been defined for the abstract type `AbstractPoint`, and to ensure that they work on `Particle` as they do on `Point`, we can symply ensure that `Particle` has an `x` and `y` field.\n",
    "\n",
    "A particle has mass and a velocity ($x$ and $y$ components).  It is also a subtype of the abstract type `AbstractPoint`."
   ]
  },
  {
   "cell_type": "code",
   "execution_count": 10,
   "id": "c8d0a5ed-c225-4d01-abf7-90be08e6fc80",
   "metadata": {},
   "outputs": [],
   "source": [
    "mutable struct Particle <: AbstractPoint\n",
    "    x::Real\n",
    "    y::Real\n",
    "    mass::Real\n",
    "    v_x::Real\n",
    "    v_y::Real\n",
    "end"
   ]
  },
  {
   "cell_type": "markdown",
   "id": "51d356c8-1a28-40bd-b462-322825df6f1f",
   "metadata": {},
   "source": [
    "Since `Patricle` is a subtype of `Point2D`, we can simply use the `distance` and `move` method we already defined."
   ]
  },
  {
   "cell_type": "code",
   "execution_count": 11,
   "id": "a1f9961a-ecf9-47d6-b4d6-07848467896a",
   "metadata": {},
   "outputs": [],
   "source": [
    "p1 = Particle(1.2, 2.3, 1.5, -9.0, -7.0)\n",
    "p2 = Particle(3.1, 4.2, 1.3, 8.0, 2.0);"
   ]
  },
  {
   "cell_type": "code",
   "execution_count": 12,
   "id": "e94ebc41-9789-4bbc-be6a-f1358bf69da2",
   "metadata": {},
   "outputs": [
    {
     "data": {
      "text/plain": [
       "2.687005768508881"
      ]
     },
     "execution_count": 12,
     "metadata": {},
     "output_type": "execute_result"
    }
   ],
   "source": [
    "distance(p1, p2)"
   ]
  },
  {
   "cell_type": "markdown",
   "id": "44ca54e4-6011-4093-b1de-742795f0345e",
   "metadata": {},
   "source": [
    "The `move` method for particles reuses the `move` method defined for `Point`."
   ]
  },
  {
   "cell_type": "code",
   "execution_count": 13,
   "id": "7a976474-a02e-4ed6-b751-819aea3d7452",
   "metadata": {},
   "outputs": [
    {
     "data": {
      "text/plain": [
       "move (generic function with 2 methods)"
      ]
     },
     "execution_count": 13,
     "metadata": {},
     "output_type": "execute_result"
    }
   ],
   "source": [
    "function move(p::Particle, delta_t::Real)\n",
    "    move(p, p.v_x*delta_t, p.v_y*delta_t)\n",
    "    return nothing\n",
    "end"
   ]
  },
  {
   "cell_type": "code",
   "execution_count": 14,
   "id": "4380318f-29bd-41de-9d2e-00325ca20ac6",
   "metadata": {},
   "outputs": [],
   "source": [
    "move(p1, 0.1)"
   ]
  },
  {
   "cell_type": "code",
   "execution_count": 15,
   "id": "c0ed948c-9800-44e3-b8c5-9711b7a13c80",
   "metadata": {},
   "outputs": [
    {
     "data": {
      "text/plain": [
       "Particle(0.29999999999999993, 1.5999999999999996, 1.5, -9.0, -7.0)"
      ]
     },
     "execution_count": 15,
     "metadata": {},
     "output_type": "execute_result"
    }
   ],
   "source": [
    "p1"
   ]
  },
  {
   "cell_type": "markdown",
   "id": "9646427e-c1aa-46a2-a861-08467c420cd3",
   "metadata": {},
   "source": [
    "Note that we are using multiple dispatch, i.e., `move` has two methods, one for `Point2D` and the other for `Patricle`."
   ]
  },
  {
   "cell_type": "markdown",
   "id": "e259ee15-7789-44c3-b938-f10a5f97f357",
   "metadata": {},
   "source": [
    "# Composition"
   ]
  },
  {
   "cell_type": "markdown",
   "id": "7465571f-a85c-495d-9b46-8281ebc265b7",
   "metadata": {},
   "source": [
    "Although it may seem overkill to define `get_x_coord`, `set_x_coord` and friends, it helps when you would have to use composition to extend a type."
   ]
  },
  {
   "cell_type": "code",
   "execution_count": 16,
   "id": "259c1cdf-99bb-407b-b80b-17a7d1196a81",
   "metadata": {},
   "outputs": [],
   "source": [
    "mutable struct ColoredPoint <: AbstractPoint\n",
    "    coords::Point\n",
    "    color::String\n",
    "    \n",
    "    ColoredPoint(x::Real, y::Real, color::String) = new(Point(x, y), color)\n",
    "end"
   ]
  },
  {
   "cell_type": "markdown",
   "id": "a7884a04-152e-47a3-836f-73cf1ea56609",
   "metadata": {},
   "source": [
    "The representation of the $x$ and $y$ coordinates is fundamentally different from that of the `Point` and `Particle` type, we can still ensure that the methods `distance` and `move` work if we reimplement the accessor methods for the coordinates.  We could of course just reimplement them, but the `Lazy` module defines a handy macro to *forward* the call to an element of `ColoredPoint`."
   ]
  },
  {
   "cell_type": "code",
   "execution_count": 17,
   "id": "8b6b692e-9416-49d8-88c5-8ed8500bb47d",
   "metadata": {},
   "outputs": [],
   "source": [
    "using Lazy"
   ]
  },
  {
   "cell_type": "code",
   "execution_count": 18,
   "id": "18d45351-753f-4634-87ee-80c9c7ef6f71",
   "metadata": {},
   "outputs": [],
   "source": [
    "@forward ColoredPoint.coords get_x_coord\n",
    "@forward ColoredPoint.coords set_x_coord\n",
    "@forward ColoredPoint.coords get_y_coord\n",
    "@forward ColoredPoint.coords set_y_coord"
   ]
  },
  {
   "cell_type": "markdown",
   "id": "5d119adf-9e93-4d7e-a719-fdc28464b9c2",
   "metadata": {},
   "source": [
    "Thanks to the inner constructor, a `ColoredPoint` can also be constructed by simply specifying the $x$ and $y$ coordinates, rather than by explicitly constructing a Point as for `p1`."
   ]
  },
  {
   "cell_type": "code",
   "execution_count": 23,
   "id": "e34d2592-1fca-4b68-953e-b26d1422bf7f",
   "metadata": {},
   "outputs": [
    {
     "data": {
      "text/plain": [
       "ColoredPoint(Point(-1.3, 2.5), \"blue\")"
      ]
     },
     "execution_count": 23,
     "metadata": {},
     "output_type": "execute_result"
    }
   ],
   "source": [
    "p1 = ColoredPoint(1.2, -0.5, \"red\")\n",
    "p2 = ColoredPoint(-1.3, 2.5, \"blue\")"
   ]
  },
  {
   "cell_type": "code",
   "execution_count": 24,
   "id": "ea4a1d1f-213d-4941-852e-1a39e0fae82b",
   "metadata": {},
   "outputs": [
    {
     "data": {
      "text/plain": [
       "1.2"
      ]
     },
     "execution_count": 24,
     "metadata": {},
     "output_type": "execute_result"
    }
   ],
   "source": [
    "get_x_coord(p1)"
   ]
  },
  {
   "cell_type": "code",
   "execution_count": 25,
   "id": "a04ec401-c2be-4096-aeb9-025f57935554",
   "metadata": {},
   "outputs": [
    {
     "data": {
      "text/plain": [
       "3.905124837953327"
      ]
     },
     "execution_count": 25,
     "metadata": {},
     "output_type": "execute_result"
    }
   ],
   "source": [
    "distance(p1, p2)"
   ]
  }
 ],
 "metadata": {
  "kernelspec": {
   "display_name": "Julia 1.6.1",
   "language": "julia",
   "name": "julia-1.6"
  },
  "language_info": {
   "file_extension": ".jl",
   "mimetype": "application/julia",
   "name": "julia",
   "version": "1.6.1"
  }
 },
 "nbformat": 4,
 "nbformat_minor": 5
}
