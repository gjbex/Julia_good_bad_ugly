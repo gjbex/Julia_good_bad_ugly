{
 "cells": [
  {
   "cell_type": "markdown",
   "id": "fc14ed64-37cb-44e3-ab40-20951a69ecea",
   "metadata": {},
   "source": [
    "# Base type"
   ]
  },
  {
   "cell_type": "markdown",
   "id": "a9084c45-1099-4485-96c1-9c69b65744a1",
   "metadata": {},
   "source": [
    "We define a type that represents a point in a two dimensional space.  The `Point` structure has two fields, the $x$ and $y$ coordinate of the point.  Note that the type of the coordinates is parameterized, so this structure can be instantiated as `Point{Float32}`, `Point{Float64}` or whatever else makes sense."
   ]
  },
  {
   "cell_type": "code",
   "execution_count": 1,
   "id": "1bbcd078-9f31-42ef-8098-1c8b306aebf9",
   "metadata": {},
   "outputs": [],
   "source": [
    "mutable struct Point{T}\n",
    "    x::T\n",
    "    y::T\n",
    "end"
   ]
  },
  {
   "cell_type": "markdown",
   "id": "a6ae83d3-65c5-4c73-ba24-705adfe91f46",
   "metadata": {},
   "source": [
    "We define two methods, the first one to compute the Euclidean distance between two points, the other to move a point by a given distance in the $x$ and $y$ direction."
   ]
  },
  {
   "cell_type": "code",
   "execution_count": 2,
   "id": "3182d113-f7c7-42e9-8f2f-ae4f5c730f1d",
   "metadata": {},
   "outputs": [
    {
     "data": {
      "text/plain": [
       "distance (generic function with 1 method)"
      ]
     },
     "execution_count": 2,
     "metadata": {},
     "output_type": "execute_result"
    }
   ],
   "source": [
    "function distance(p1::Point{Float64}, p2::Point{Float64})::Float64\n",
    "    return sqrt((p1.x - p2.x)^2 + (p1.y - p2.y)^2)\n",
    "end"
   ]
  },
  {
   "cell_type": "code",
   "execution_count": 3,
   "id": "b1006391-5fbc-4986-a028-0765e813ec15",
   "metadata": {},
   "outputs": [
    {
     "data": {
      "text/plain": [
       "move (generic function with 1 method)"
      ]
     },
     "execution_count": 3,
     "metadata": {},
     "output_type": "execute_result"
    }
   ],
   "source": [
    "function move(p::Point{Float64}, delta_x::Float64, delta_y::Float64)\n",
    "    p.x += delta_x\n",
    "    p.y += delta_y\n",
    "    return nothing\n",
    "end"
   ]
  },
  {
   "cell_type": "markdown",
   "id": "e3e7a34c-bc10-4744-8573-4c3e6f1a0ee1",
   "metadata": {},
   "source": [
    "We try out the methods on two points."
   ]
  },
  {
   "cell_type": "code",
   "execution_count": 4,
   "id": "1a2b4515-b120-43c7-85b4-23d5d4739d73",
   "metadata": {},
   "outputs": [
    {
     "data": {
      "text/plain": [
       "Point{Float64}(2.3, -1.9)"
      ]
     },
     "execution_count": 4,
     "metadata": {},
     "output_type": "execute_result"
    }
   ],
   "source": [
    "p1 = Point(3.1, 4.5)\n",
    "p2 = Point(2.3, -1.9)"
   ]
  },
  {
   "cell_type": "code",
   "execution_count": 5,
   "id": "8975c6e9-d41d-4f93-be34-65a33586e215",
   "metadata": {},
   "outputs": [
    {
     "data": {
      "text/plain": [
       "6.44980619863884"
      ]
     },
     "execution_count": 5,
     "metadata": {},
     "output_type": "execute_result"
    }
   ],
   "source": [
    "distance(p1, p2)"
   ]
  },
  {
   "cell_type": "code",
   "execution_count": 6,
   "id": "42a5728f-5139-49ad-9458-20d1c0b348a5",
   "metadata": {},
   "outputs": [],
   "source": [
    "move(p1, 0.3, 0.2)"
   ]
  },
  {
   "cell_type": "code",
   "execution_count": 7,
   "id": "200f087f-6a2a-4284-b3c1-d9e50f37d027",
   "metadata": {},
   "outputs": [
    {
     "data": {
      "text/plain": [
       "Point{Float64}(3.4, 4.7)"
      ]
     },
     "execution_count": 7,
     "metadata": {},
     "output_type": "execute_result"
    }
   ],
   "source": [
    "p1"
   ]
  },
  {
   "cell_type": "markdown",
   "id": "bd3eccf0-1237-42e0-bffb-133a316ba6bf",
   "metadata": {},
   "source": [
    "# Derived type"
   ]
  },
  {
   "cell_type": "markdown",
   "id": "10f7a69d-30b6-452e-8ae0-03940f32fc4e",
   "metadata": {},
   "source": [
    "In Julia, a concrete type can not be specialized, so the only way to extend a type is by composition.  A particle has an $x$ and $y$ coordinate and we can compute the distance between two particles.  A particle can also be moved.  This functionality can be reused from the `Point` structure by composition.\n",
    "\n",
    "A particle has mass and a velocity ($x$ and $y$ components)."
   ]
  },
  {
   "cell_type": "code",
   "execution_count": 8,
   "id": "c8d0a5ed-c225-4d01-abf7-90be08e6fc80",
   "metadata": {},
   "outputs": [],
   "source": [
    "mutable struct Particle\n",
    "    coords::Point{Float64}\n",
    "    mass::Float64\n",
    "    v_x::Float64\n",
    "    v_y::Float64\n",
    "    Particle(x::Float64, y::Float64, mass::Float64, v_x::Float64, v_y::Float64) = new(Point{Float64}(x, y), mass, v_x, v_y)\n",
    "end"
   ]
  },
  {
   "cell_type": "markdown",
   "id": "d235bc1f-8f07-42f2-8743-b43b9240c929",
   "metadata": {},
   "source": [
    "Note that we define an inner constructor so that we can create a particle without creating a point first.\n",
    "\n",
    "We can now define a distance method for particles by calling the `distance` method defined for `Point`."
   ]
  },
  {
   "cell_type": "code",
   "execution_count": 9,
   "id": "42fa9c17-e3f4-4563-955e-80e2b910e503",
   "metadata": {},
   "outputs": [
    {
     "data": {
      "text/plain": [
       "distance (generic function with 2 methods)"
      ]
     },
     "execution_count": 9,
     "metadata": {},
     "output_type": "execute_result"
    }
   ],
   "source": [
    "function distance(p1::Particle, p2::Particle)::Float64\n",
    "    return distance(p1.coords, p2.coords)\n",
    "end"
   ]
  },
  {
   "cell_type": "code",
   "execution_count": 10,
   "id": "a1f9961a-ecf9-47d6-b4d6-07848467896a",
   "metadata": {},
   "outputs": [
    {
     "data": {
      "text/plain": [
       "Particle(Point{Float64}(3.1, 4.2), 1.3, 8.0, 2.0)"
      ]
     },
     "execution_count": 10,
     "metadata": {},
     "output_type": "execute_result"
    }
   ],
   "source": [
    "p1 = Particle(1.2, 2.3, 1.5, -9.0, -7.0)\n",
    "p2 = Particle(3.1, 4.2, 1.3, 8.0, 2.0)"
   ]
  },
  {
   "cell_type": "code",
   "execution_count": 11,
   "id": "e94ebc41-9789-4bbc-be6a-f1358bf69da2",
   "metadata": {},
   "outputs": [
    {
     "data": {
      "text/plain": [
       "2.687005768508881"
      ]
     },
     "execution_count": 11,
     "metadata": {},
     "output_type": "execute_result"
    }
   ],
   "source": [
    "distance(p1, p2)"
   ]
  },
  {
   "cell_type": "markdown",
   "id": "44ca54e4-6011-4093-b1de-742795f0345e",
   "metadata": {},
   "source": [
    "The `move` method for particles reuses the `move` method defined for `Point`."
   ]
  },
  {
   "cell_type": "code",
   "execution_count": 12,
   "id": "7a976474-a02e-4ed6-b751-819aea3d7452",
   "metadata": {},
   "outputs": [
    {
     "data": {
      "text/plain": [
       "move (generic function with 2 methods)"
      ]
     },
     "execution_count": 12,
     "metadata": {},
     "output_type": "execute_result"
    }
   ],
   "source": [
    "function move(p::Particle, t::Float64)\n",
    "    move(p.coords, p.v_x*t, p.v_y*t)\n",
    "    return nothing\n",
    "end"
   ]
  },
  {
   "cell_type": "code",
   "execution_count": 13,
   "id": "4380318f-29bd-41de-9d2e-00325ca20ac6",
   "metadata": {},
   "outputs": [],
   "source": [
    "move(p1, 0.1)"
   ]
  },
  {
   "cell_type": "code",
   "execution_count": 14,
   "id": "c0ed948c-9800-44e3-b8c5-9711b7a13c80",
   "metadata": {},
   "outputs": [
    {
     "data": {
      "text/plain": [
       "Particle(Point{Float64}(0.29999999999999993, 1.5999999999999996), 1.5, -9.0, -7.0)"
      ]
     },
     "execution_count": 14,
     "metadata": {},
     "output_type": "execute_result"
    }
   ],
   "source": [
    "p1"
   ]
  },
  {
   "cell_type": "markdown",
   "id": "9646427e-c1aa-46a2-a861-08467c420cd3",
   "metadata": {},
   "source": [
    "Note that we are using multiple dispatch, i.e., `distance` and `move` have two methods each, one for `Point` and the other for `Patricle`."
   ]
  }
 ],
 "metadata": {
  "kernelspec": {
   "display_name": "Julia 1.6.1",
   "language": "julia",
   "name": "julia-1.6"
  },
  "language_info": {
   "file_extension": ".jl",
   "mimetype": "application/julia",
   "name": "julia",
   "version": "1.6.1"
  }
 },
 "nbformat": 4,
 "nbformat_minor": 5
}
