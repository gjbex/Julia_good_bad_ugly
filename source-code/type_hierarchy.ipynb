{
 "cells": [
  {
   "cell_type": "markdown",
   "id": "fc14ed64-37cb-44e3-ab40-20951a69ecea",
   "metadata": {},
   "source": [
    "# Abstract type"
   ]
  },
  {
   "cell_type": "markdown",
   "id": "5b6570b7-6983-408c-a565-7f1ca9c22962",
   "metadata": {},
   "source": [
    "We define an abstract type to represent a point in a two-dimensional space.  This type will be used as a parent type for concrete types."
   ]
  },
  {
   "cell_type": "code",
   "execution_count": 1,
   "id": "6c8bf5b7-a9e5-45e0-a909-54cf0d585c9f",
   "metadata": {},
   "outputs": [],
   "source": [
    "abstract type AbstractPoint end"
   ]
  },
  {
   "cell_type": "markdown",
   "id": "c05cee27-5489-4b09-b224-df3b8c327352",
   "metadata": {},
   "source": [
    "This type will be subtyped to create types that have certain properties, in this case $x$ and $y$ coordinates."
   ]
  },
  {
   "cell_type": "markdown",
   "id": "c8080d03-2044-4250-980c-bd44418d39b0",
   "metadata": {},
   "source": [
    "It is also considered good practice to provide accessor function to deal with attributes, rather than accessing them directly."
   ]
  },
  {
   "cell_type": "code",
   "execution_count": 2,
   "id": "a79b7f9c-f87e-40e3-b8a7-4b9bd933a9bc",
   "metadata": {},
   "outputs": [
    {
     "data": {
      "text/plain": [
       "set_y_coord (generic function with 1 method)"
      ]
     },
     "execution_count": 2,
     "metadata": {},
     "output_type": "execute_result"
    }
   ],
   "source": [
    "get_x_coord(p::AbstractPoint) = p.x\n",
    "set_x_coord(p::AbstractPoint, new_x::Real) = begin p.x = new_x; end\n",
    "get_y_coord(p::AbstractPoint) = p.y\n",
    "set_y_coord(p::AbstractPoint, new_y::Real) = begin p.y = new_y; end"
   ]
  },
  {
   "cell_type": "markdown",
   "id": "f4fe0c5d-65d5-42ff-a5db-ef318ba58811",
   "metadata": {},
   "source": [
    "These accessor methods will work on all subtypes of `AbstractPoint` as long as as the structure that implements it has fields `x` and `y`."
   ]
  },
  {
   "cell_type": "markdown",
   "id": "c22a2c6a-5b7a-4fa7-90a4-3bd50e30b466",
   "metadata": {},
   "source": [
    "We define two methods, the first one to compute the Euclidean distance between two points, the other to move a point by a given distance in the $x$ and $y$ direction."
   ]
  },
  {
   "cell_type": "code",
   "execution_count": 3,
   "id": "42a27a02-3082-46a8-8dcf-f5ea872cca82",
   "metadata": {},
   "outputs": [
    {
     "data": {
      "text/plain": [
       "distance (generic function with 1 method)"
      ]
     },
     "execution_count": 3,
     "metadata": {},
     "output_type": "execute_result"
    }
   ],
   "source": [
    "function distance(p1::AbstractPoint, p2::AbstractPoint)::AbstractFloat\n",
    "    return sqrt((get_x_coord(p1) - get_x_coord(p2))^2 + (get_y_coord(p1) - get_y_coord(p2))^2)\n",
    "end"
   ]
  },
  {
   "cell_type": "markdown",
   "id": "be135706-1840-46a1-9b95-8590433299f2",
   "metadata": {},
   "source": [
    "Note that this method is defined on the abstract type `Point2D`, not on any concrete type.  This means that it can be used on a structure of any bype subtyped of `Point2D`."
   ]
  },
  {
   "cell_type": "code",
   "execution_count": 4,
   "id": "0847a3e1-f39c-4de7-96f9-093b8b8d2645",
   "metadata": {},
   "outputs": [
    {
     "data": {
      "text/plain": [
       "move (generic function with 1 method)"
      ]
     },
     "execution_count": 4,
     "metadata": {},
     "output_type": "execute_result"
    }
   ],
   "source": [
    "function move(p::AbstractPoint, delta_x::Real, delta_y::Real)\n",
    "    set_x_coord(p, get_x_coord(p) + delta_x)\n",
    "    set_y_coord(p, get_y_coord(p) + delta_y)\n",
    "    return nothing\n",
    "end"
   ]
  },
  {
   "cell_type": "markdown",
   "id": "5935e1b8-0928-4192-aca7-9ec5f9825fe4",
   "metadata": {},
   "source": [
    "# Simple point"
   ]
  },
  {
   "cell_type": "markdown",
   "id": "a9084c45-1099-4485-96c1-9c69b65744a1",
   "metadata": {},
   "source": [
    "We define a type that represents a point in a two dimensional space using real-valued coordinates.  The `Point` structure has two fields, the $x$ and $y$ coordinate of the point.  Note that the type of the coordinates is abstract, i.e., it can be any of `Float16`, `Float32` or `Float64` since it is declared `Real`.  The concrete type `Point` is a subtype of the abstract tyee `AbstractPoint`."
   ]
  },
  {
   "cell_type": "code",
   "execution_count": 5,
   "id": "1bbcd078-9f31-42ef-8098-1c8b306aebf9",
   "metadata": {},
   "outputs": [],
   "source": [
    "mutable struct Point <: AbstractPoint\n",
    "    x::Real\n",
    "    y::Real\n",
    "end"
   ]
  },
  {
   "cell_type": "markdown",
   "id": "e3e7a34c-bc10-4744-8573-4c3e6f1a0ee1",
   "metadata": {},
   "source": [
    "We try out the methods `destance` and `move` on two points."
   ]
  },
  {
   "cell_type": "code",
   "execution_count": 6,
   "id": "1a2b4515-b120-43c7-85b4-23d5d4739d73",
   "metadata": {},
   "outputs": [],
   "source": [
    "p1 = Point(3.1, 4.5)\n",
    "p2 = Point(2.3, -1.9);"
   ]
  },
  {
   "cell_type": "code",
   "execution_count": 7,
   "id": "8975c6e9-d41d-4f93-be34-65a33586e215",
   "metadata": {},
   "outputs": [
    {
     "data": {
      "text/plain": [
       "6.44980619863884"
      ]
     },
     "execution_count": 7,
     "metadata": {},
     "output_type": "execute_result"
    }
   ],
   "source": [
    "distance(p1, p2)"
   ]
  },
  {
   "cell_type": "code",
   "execution_count": 8,
   "id": "42a5728f-5139-49ad-9458-20d1c0b348a5",
   "metadata": {},
   "outputs": [],
   "source": [
    "move(p1, 0.3, 0.2)"
   ]
  },
  {
   "cell_type": "code",
   "execution_count": 9,
   "id": "200f087f-6a2a-4284-b3c1-d9e50f37d027",
   "metadata": {},
   "outputs": [
    {
     "data": {
      "text/plain": [
       "Point(3.4, 4.7)"
      ]
     },
     "execution_count": 9,
     "metadata": {},
     "output_type": "execute_result"
    }
   ],
   "source": [
    "p1"
   ]
  },
  {
   "cell_type": "markdown",
   "id": "bd3eccf0-1237-42e0-bffb-133a316ba6bf",
   "metadata": {},
   "source": [
    "# Particle"
   ]
  },
  {
   "cell_type": "markdown",
   "id": "10f7a69d-30b6-452e-8ae0-03940f32fc4e",
   "metadata": {},
   "source": [
    "In Julia, a concrete type can not be subtyped, so the only way to extend a type is by composition.  A particle has an $x$ and $y$ coordinate and we can compute the distance between two particles.  These methods have been defined for the abstract type `AbstractPoint`, and to ensure that they work on `Particle` as they do on `Point`, we can symply ensure that `Particle` has an `x` and `y` field.\n",
    "\n",
    "A particle has mass and a velocity ($x$ and $y$ components).  It is also a subtype of the abstract type `AbstractPoint`."
   ]
  },
  {
   "cell_type": "code",
   "execution_count": 10,
   "id": "c8d0a5ed-c225-4d01-abf7-90be08e6fc80",
   "metadata": {},
   "outputs": [],
   "source": [
    "mutable struct Particle <: AbstractPoint\n",
    "    x::Real\n",
    "    y::Real\n",
    "    mass::Real\n",
    "    v_x::Real\n",
    "    v_y::Real\n",
    "end"
   ]
  },
  {
   "cell_type": "markdown",
   "id": "51d356c8-1a28-40bd-b462-322825df6f1f",
   "metadata": {},
   "source": [
    "Since `Patricle` is a subtype of `Point2D`, we can simply use the `distance` and `move` method we already defined."
   ]
  },
  {
   "cell_type": "code",
   "execution_count": 11,
   "id": "a1f9961a-ecf9-47d6-b4d6-07848467896a",
   "metadata": {},
   "outputs": [],
   "source": [
    "p1 = Particle(1.2, 2.3, 1.5, -9.0, -7.0)\n",
    "p2 = Particle(3.1, 4.2, 1.3, 8.0, 2.0);"
   ]
  },
  {
   "cell_type": "code",
   "execution_count": 12,
   "id": "e94ebc41-9789-4bbc-be6a-f1358bf69da2",
   "metadata": {},
   "outputs": [
    {
     "data": {
      "text/plain": [
       "2.687005768508881"
      ]
     },
     "execution_count": 12,
     "metadata": {},
     "output_type": "execute_result"
    }
   ],
   "source": [
    "distance(p1, p2)"
   ]
  },
  {
   "cell_type": "markdown",
   "id": "44ca54e4-6011-4093-b1de-742795f0345e",
   "metadata": {},
   "source": [
    "The `move` method for particles reuses the `move` method defined for `Point`."
   ]
  },
  {
   "cell_type": "code",
   "execution_count": 13,
   "id": "7a976474-a02e-4ed6-b751-819aea3d7452",
   "metadata": {},
   "outputs": [
    {
     "data": {
      "text/plain": [
       "move (generic function with 2 methods)"
      ]
     },
     "execution_count": 13,
     "metadata": {},
     "output_type": "execute_result"
    }
   ],
   "source": [
    "function move(p::Particle, delta_t::Real)\n",
    "    move(p, p.v_x*delta_t, p.v_y*delta_t)\n",
    "    return nothing\n",
    "end"
   ]
  },
  {
   "cell_type": "code",
   "execution_count": 14,
   "id": "4380318f-29bd-41de-9d2e-00325ca20ac6",
   "metadata": {},
   "outputs": [],
   "source": [
    "move(p1, 0.1)"
   ]
  },
  {
   "cell_type": "code",
   "execution_count": 15,
   "id": "c0ed948c-9800-44e3-b8c5-9711b7a13c80",
   "metadata": {},
   "outputs": [
    {
     "data": {
      "text/plain": [
       "Particle(0.29999999999999993, 1.5999999999999996, 1.5, -9.0, -7.0)"
      ]
     },
     "execution_count": 15,
     "metadata": {},
     "output_type": "execute_result"
    }
   ],
   "source": [
    "p1"
   ]
  },
  {
   "cell_type": "markdown",
   "id": "9646427e-c1aa-46a2-a861-08467c420cd3",
   "metadata": {},
   "source": [
    "Note that we are using multiple dispatch, i.e., `move` has two methods, one for `Point2D` and the other for `Patricle`."
   ]
  },
  {
   "cell_type": "markdown",
   "id": "e259ee15-7789-44c3-b938-f10a5f97f357",
   "metadata": {},
   "source": [
    "# Composition"
   ]
  },
  {
   "cell_type": "markdown",
   "id": "7465571f-a85c-495d-9b46-8281ebc265b7",
   "metadata": {},
   "source": [
    "Although it may seem overkill to define `get_x_coord`, `set_x_coord` and friends, it helps when you would have to use composition to extend a type."
   ]
  },
  {
   "cell_type": "code",
   "execution_count": 16,
   "id": "259c1cdf-99bb-407b-b80b-17a7d1196a81",
   "metadata": {},
   "outputs": [],
   "source": [
    "mutable struct ColoredPoint <: AbstractPoint\n",
    "    coords::Point\n",
    "    color::String\n",
    "    \n",
    "    ColoredPoint(x::Real, y::Real, color::String) = new(Point(x, y), color)\n",
    "end"
   ]
  },
  {
   "cell_type": "markdown",
   "id": "a7884a04-152e-47a3-836f-73cf1ea56609",
   "metadata": {},
   "source": [
    "The representation of the $x$ and $y$ coordinates is fundamentally different from that of the `Point` and `Particle` type, we can still ensure that the methods `distance` and `move` work if we reimplement the accessor methods for the coordinates.  We could of course just reimplement them, but the `Lazy` module defines a handy macro to *forward* the call to an element of `ColoredPoint`."
   ]
  },
  {
   "cell_type": "code",
   "execution_count": 17,
   "id": "8b6b692e-9416-49d8-88c5-8ed8500bb47d",
   "metadata": {},
   "outputs": [],
   "source": [
    "using Lazy"
   ]
  },
  {
   "cell_type": "code",
   "execution_count": 18,
   "id": "18d45351-753f-4634-87ee-80c9c7ef6f71",
   "metadata": {},
   "outputs": [],
   "source": [
    "@forward ColoredPoint.coords get_x_coord\n",
    "@forward ColoredPoint.coords set_x_coord\n",
    "@forward ColoredPoint.coords get_y_coord\n",
    "@forward ColoredPoint.coords set_y_coord"
   ]
  },
  {
   "cell_type": "markdown",
   "id": "5d119adf-9e93-4d7e-a719-fdc28464b9c2",
   "metadata": {},
   "source": [
    "Thanks to the inner constructor, a `ColoredPoint` can also be constructed by simply specifying the $x$ and $y$ coordinates, rather than by explicitly constructing a Point as for `p1`."
   ]
  },
  {
   "cell_type": "code",
   "execution_count": 19,
   "id": "e34d2592-1fca-4b68-953e-b26d1422bf7f",
   "metadata": {},
   "outputs": [
    {
     "data": {
      "text/plain": [
       "ColoredPoint(Point(-1.3, 2.5), \"blue\")"
      ]
     },
     "execution_count": 19,
     "metadata": {},
     "output_type": "execute_result"
    }
   ],
   "source": [
    "p1 = ColoredPoint(1.2, -0.5, \"red\")\n",
    "p2 = ColoredPoint(-1.3, 2.5, \"blue\")"
   ]
  },
  {
   "cell_type": "code",
   "execution_count": 20,
   "id": "ea4a1d1f-213d-4941-852e-1a39e0fae82b",
   "metadata": {},
   "outputs": [
    {
     "data": {
      "text/plain": [
       "1.2"
      ]
     },
     "execution_count": 20,
     "metadata": {},
     "output_type": "execute_result"
    }
   ],
   "source": [
    "get_x_coord(p1)"
   ]
  },
  {
   "cell_type": "code",
   "execution_count": 21,
   "id": "a04ec401-c2be-4096-aeb9-025f57935554",
   "metadata": {},
   "outputs": [
    {
     "data": {
      "text/plain": [
       "3.905124837953327"
      ]
     },
     "execution_count": 21,
     "metadata": {},
     "output_type": "execute_result"
    }
   ],
   "source": [
    "distance(p1, p2)"
   ]
  },
  {
   "cell_type": "markdown",
   "id": "301b1c7b-5474-470f-8a1c-ebdaadd17f50",
   "metadata": {},
   "source": [
    "# Traits"
   ]
  },
  {
   "cell_type": "markdown",
   "id": "5398081f-e867-482b-8087-16fedcfc8741",
   "metadata": {},
   "source": [
    "The cleaner way to do things is by defining traits.  A trait is an abstract type, the name ending by convention either in `Style` or `Trait`.  The trait `ColoredStyle` will be used that some types have *color*.\n",
    "\n",
    "There are also at least two concrete types subtyped from `ColoredStyle`, one to indicate that a type has color, the other that it hasn't.  Note that some traits can have more than two options."
   ]
  },
  {
   "cell_type": "code",
   "execution_count": 22,
   "id": "2242bd41-9d33-4dab-9e33-168d1e93eb24",
   "metadata": {},
   "outputs": [],
   "source": [
    "abstract type ColoredStyle end\n",
    "struct IsColored <: ColoredStyle end\n",
    "struct IsNotColored <: ColoredStyle end;"
   ]
  },
  {
   "cell_type": "markdown",
   "id": "0d79d921-282d-4a3a-94d0-3628a437716a",
   "metadata": {},
   "source": [
    "Traits can be assigned to types by defining methods that take types are arguments and using multiple dispatch.  The default for any type is that it is not colored, so the first function will return an `IsNotColored` struct object.  The second method will be invoked on all types that subtype `ColoredPoint` (which has a color) and return an `IsColored` structure as a result.\n",
    "\n",
    "These functions can be used to implement the behavior of methods depending on the traits their arguments have."
   ]
  },
  {
   "cell_type": "code",
   "execution_count": 23,
   "id": "7f9707b6-d071-4142-ac6c-9c426a06db27",
   "metadata": {},
   "outputs": [
    {
     "data": {
      "text/plain": [
       "ColoredStyle"
      ]
     },
     "execution_count": 23,
     "metadata": {},
     "output_type": "execute_result"
    }
   ],
   "source": [
    "ColoredStyle(::Type) = IsNotColored()\n",
    "ColoredStyle(::Type{<:ColoredPoint}) = IsColored()"
   ]
  },
  {
   "cell_type": "markdown",
   "id": "d208cf56-df7b-455c-87bb-0b6e54e438cf",
   "metadata": {},
   "source": [
    "We now define a method `get_color` that is supposed to return the color of a structure that has the trait `ColoredStyle`, and that generates an error if its argument has not.\n",
    "\n",
    "The first method for `get_color` takes a single argument, the object we want to get the color of.  The type of that object is treated as a variable `T`, and the function will call one of two other methods, based on whether `T` has the `ColoredStyle` trait or not.  For the former, the method `ColoredSthle` will return an instance of `IsColored`, for the latter an instance of `IsNotColored`.  Two additional methods for `get_color` deal with these respective cases."
   ]
  },
  {
   "cell_type": "code",
   "execution_count": 24,
   "id": "476e7983-424e-4cf9-99ef-7aaa5d24a782",
   "metadata": {},
   "outputs": [],
   "source": [
    "get_color(x::T) where {T} = get_color(ColoredStyle(T), x)\n",
    "get_color(::IsColored, x) = x.color\n",
    "get_color(::IsNotColored, x) = error(\"$(typeof(x)) is not colored\");"
   ]
  },
  {
   "cell_type": "code",
   "execution_count": 25,
   "id": "7d09674a-82c7-4333-8231-480c00b7e483",
   "metadata": {},
   "outputs": [
    {
     "data": {
      "text/plain": [
       "ColoredPoint(Point(1.2, -7.3), \"blue\")"
      ]
     },
     "execution_count": 25,
     "metadata": {},
     "output_type": "execute_result"
    }
   ],
   "source": [
    "point = Point(-1.2, 2.4)\n",
    "colored_point = ColoredPoint(1.2, -7.3, \"blue\")"
   ]
  },
  {
   "cell_type": "markdown",
   "id": "1f7de208-b51b-4c3a-87cc-1f4b64001d4c",
   "metadata": {},
   "source": [
    "When we try to get the color of a non-colored object, we get the appropriate error message, while if the object is colored, `get_color` will return its value."
   ]
  },
  {
   "cell_type": "code",
   "execution_count": 38,
   "id": "84d0b36a-aaea-4502-9e10-4400a5a62bfe",
   "metadata": {},
   "outputs": [
    {
     "name": "stdout",
     "output_type": "stream",
     "text": [
      "Point is not colored\n"
     ]
    }
   ],
   "source": [
    "try\n",
    "    get_color(point)\n",
    "catch err\n",
    "    println(err.msg)\n",
    "end"
   ]
  },
  {
   "cell_type": "code",
   "execution_count": 27,
   "id": "aaf44b2c-fd8b-4962-beab-09eb86c6502c",
   "metadata": {},
   "outputs": [
    {
     "data": {
      "text/plain": [
       "\"blue\""
      ]
     },
     "execution_count": 27,
     "metadata": {},
     "output_type": "execute_result"
    }
   ],
   "source": [
    "get_color(colored_point)"
   ]
  },
  {
   "cell_type": "markdown",
   "id": "f202d256-c52e-49aa-913e-52d162a849f4",
   "metadata": {},
   "source": [
    "Similarly, \"pointiness\" could also be defined as a trait."
   ]
  },
  {
   "cell_type": "code",
   "execution_count": 28,
   "id": "8e4e8b46-96fc-4f2f-a547-0c85d33248e7",
   "metadata": {},
   "outputs": [],
   "source": [
    "abstract type PointStyle end\n",
    "struct IsPoint <: PointStyle end\n",
    "struct IsNotPoint <: PointStyle end"
   ]
  },
  {
   "cell_type": "code",
   "execution_count": 29,
   "id": "31695376-e2f6-4e80-bd99-9ce6a5170173",
   "metadata": {},
   "outputs": [],
   "source": [
    "PointStyle(::Type) = IsNotPoint()\n",
    "PointStyle(::Type{<:AbstractPoint}) = IsPoint();"
   ]
  },
  {
   "cell_type": "markdown",
   "id": "2a2906cd-c094-4739-bb21-bd90163c92c0",
   "metadata": {},
   "source": [
    "We can now define methods `get_x`, `set_x`, `get_y` and `set_y`."
   ]
  },
  {
   "cell_type": "code",
   "execution_count": 30,
   "id": "f9af6d38-14ab-44f5-a534-4305fb4e32c0",
   "metadata": {},
   "outputs": [
    {
     "data": {
      "text/plain": [
       "set_y (generic function with 3 methods)"
      ]
     },
     "execution_count": 30,
     "metadata": {},
     "output_type": "execute_result"
    }
   ],
   "source": [
    "get_x(p::T) where {T} = get_x(PointStyle(T), p)\n",
    "get_x(::IsPoint, p) = get_x_coord(p)\n",
    "get_x(::IsNotPoint, p) = error(\"$(typeof(p)) is not a pointy type\")\n",
    "\n",
    "set_x(p::T, value::Real) where {T} = set_x(PointStyle(T), p, value)\n",
    "set_x(::IsPoint, p, value) = set_x_coord(p, value)\n",
    "set_x(::IsNotPoint, p, value) = error(\"$(typeof(p)) is not a pointy type\")\n",
    "\n",
    "get_y(p::T) where {T} = get_y(PointStyle(T), p)\n",
    "get_y(::IsPoint, p) = get_y_coord(p)\n",
    "get_y(::IsNotPoint, p) = error(\"$(typeof(p)) is not a pointy type\")\n",
    "\n",
    "set_y(p::T, value::Real) where {T} = set_y(PointStyle(T), p, value)\n",
    "set_y(::IsPoint, p, value) = set_y_coord(p, value)\n",
    "set_y(::IsNotPoint, p, value) = error(\"$(typeof(p)) is not a pointy type\")s"
   ]
  },
  {
   "cell_type": "code",
   "execution_count": 31,
   "id": "9c15932e-1359-46b0-8733-abe4ce80e64f",
   "metadata": {},
   "outputs": [
    {
     "data": {
      "text/plain": [
       "-1.2"
      ]
     },
     "execution_count": 31,
     "metadata": {},
     "output_type": "execute_result"
    }
   ],
   "source": [
    "get_x(point)"
   ]
  },
  {
   "cell_type": "code",
   "execution_count": 32,
   "id": "e281fa2a-ac28-45e9-8dcc-c8d39316a5ac",
   "metadata": {},
   "outputs": [
    {
     "data": {
      "text/plain": [
       "1.2"
      ]
     },
     "execution_count": 32,
     "metadata": {},
     "output_type": "execute_result"
    }
   ],
   "source": [
    "get_x(colored_point)"
   ]
  },
  {
   "cell_type": "markdown",
   "id": "901aac8b-d22b-4fd7-b92c-e45288b4a9d2",
   "metadata": {},
   "source": [
    "All this now amounts to `Point`, `Particle` and `ColoredPoint` having the `PointStyle` since all three are subtypes of `AbstractPoint`, and `ColoredPoint` having the `ColoredStyle` trait in addition to that."
   ]
  },
  {
   "cell_type": "markdown",
   "id": "e600caa1-146c-45a7-b1c0-1bf1715c29d9",
   "metadata": {},
   "source": [
    "The nice thing about traits is that you don't need a class hierarchy such as `AbstractPoint`.  For instance, if we have a type `Paint` that has a color, we can simply give that the `ColoredStyle` trait."
   ]
  },
  {
   "cell_type": "code",
   "execution_count": 33,
   "id": "213683f7-43d0-4d78-9e75-69033bab0fed",
   "metadata": {},
   "outputs": [],
   "source": [
    "struct Paint\n",
    "    color::String\n",
    "end"
   ]
  },
  {
   "cell_type": "markdown",
   "id": "8c7c57a5-4d4a-45a0-bbe2-b8a896ab9693",
   "metadata": {},
   "source": [
    "Assigning the trait to the `Paint` type is as simple as adding another method for the `ColoredStyle` function, restricting the type of the argument to subtypes of `Paint`, and returning `IsColored`."
   ]
  },
  {
   "cell_type": "code",
   "execution_count": 34,
   "id": "4b8bcbaa-11f4-4528-b60f-000d7392e005",
   "metadata": {},
   "outputs": [],
   "source": [
    "ColoredStyle(::Type{<:Paint}) = IsColored();"
   ]
  },
  {
   "cell_type": "code",
   "execution_count": 35,
   "id": "22cefe32-0def-44cf-9328-25b875216aa3",
   "metadata": {},
   "outputs": [
    {
     "data": {
      "text/plain": [
       "Paint(\"red\")"
      ]
     },
     "execution_count": 35,
     "metadata": {},
     "output_type": "execute_result"
    }
   ],
   "source": [
    "blue_paint = Paint(\"red\")"
   ]
  },
  {
   "cell_type": "code",
   "execution_count": 36,
   "id": "e35c27e0-e1a1-4ebf-ba13-9719d5b1f8f3",
   "metadata": {},
   "outputs": [
    {
     "data": {
      "text/plain": [
       "\"red\""
      ]
     },
     "execution_count": 36,
     "metadata": {},
     "output_type": "execute_result"
    }
   ],
   "source": [
    "get_color(blue_paint)"
   ]
  },
  {
   "cell_type": "markdown",
   "id": "767f9f0b-7762-4d8b-a8cf-2530e53ca70d",
   "metadata": {},
   "source": [
    "Note that naming a paint the is red `blue_paint` is not really recommended."
   ]
  },
  {
   "cell_type": "markdown",
   "id": "97b14fee-b2e4-464b-95cc-0636b7fc2824",
   "metadata": {},
   "source": [
    "Of course, `Paint` has no coordinates."
   ]
  },
  {
   "cell_type": "code",
   "execution_count": 42,
   "id": "0da07768-3175-423b-93f2-4539d3866bbb",
   "metadata": {},
   "outputs": [
    {
     "name": "stdout",
     "output_type": "stream",
     "text": [
      "Paint is not a pointy type\n"
     ]
    }
   ],
   "source": [
    "try\n",
    "    get_x(blue_paint)\n",
    "catch err\n",
    "    println(err.msg)\n",
    "end"
   ]
  }
 ],
 "metadata": {
  "kernelspec": {
   "display_name": "Julia 1.6.1",
   "language": "julia",
   "name": "julia-1.6"
  },
  "language_info": {
   "file_extension": ".jl",
   "mimetype": "application/julia",
   "name": "julia",
   "version": "1.6.1"
  }
 },
 "nbformat": 4,
 "nbformat_minor": 5
}
