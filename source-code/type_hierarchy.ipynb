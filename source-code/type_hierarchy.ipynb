{
 "cells": [
  {
   "cell_type": "code",
   "execution_count": 1,
   "id": "1bbcd078-9f31-42ef-8098-1c8b306aebf9",
   "metadata": {},
   "outputs": [],
   "source": [
    "mutable struct Point{T}\n",
    "    x::T\n",
    "    y::T\n",
    "end"
   ]
  },
  {
   "cell_type": "code",
   "execution_count": 7,
   "id": "3182d113-f7c7-42e9-8f2f-ae4f5c730f1d",
   "metadata": {},
   "outputs": [
    {
     "data": {
      "text/plain": [
       "distance (generic function with 2 methods)"
      ]
     },
     "execution_count": 7,
     "metadata": {},
     "output_type": "execute_result"
    }
   ],
   "source": [
    "function distance(p1::Point{Float64}, p2::Point{Float64})::Float64\n",
    "    return sqrt((p1.x - p2.x)^2 + (p1.y - p2.y)^2)\n",
    "end"
   ]
  },
  {
   "cell_type": "code",
   "execution_count": 9,
   "id": "b1006391-5fbc-4986-a028-0765e813ec15",
   "metadata": {},
   "outputs": [
    {
     "data": {
      "text/plain": [
       "move (generic function with 2 methods)"
      ]
     },
     "execution_count": 9,
     "metadata": {},
     "output_type": "execute_result"
    }
   ],
   "source": [
    "function move(p::Point{Float64}, delta_x::Float64, delta_y::Float64)\n",
    "    p.x += delta_x\n",
    "    p.y += delta_y\n",
    "    return nothing\n",
    "end"
   ]
  },
  {
   "cell_type": "code",
   "execution_count": 5,
   "id": "1a2b4515-b120-43c7-85b4-23d5d4739d73",
   "metadata": {},
   "outputs": [
    {
     "data": {
      "text/plain": [
       "Point{Float64}(2.3, -1.9)"
      ]
     },
     "execution_count": 5,
     "metadata": {},
     "output_type": "execute_result"
    }
   ],
   "source": [
    "p1 = Point(3.1, 4.5)\n",
    "p2 = Point(2.3, -1.9)"
   ]
  },
  {
   "cell_type": "code",
   "execution_count": 8,
   "id": "8975c6e9-d41d-4f93-be34-65a33586e215",
   "metadata": {},
   "outputs": [
    {
     "data": {
      "text/plain": [
       "6.44980619863884"
      ]
     },
     "execution_count": 8,
     "metadata": {},
     "output_type": "execute_result"
    }
   ],
   "source": [
    "distance(p1, p2)"
   ]
  },
  {
   "cell_type": "code",
   "execution_count": 11,
   "id": "42a5728f-5139-49ad-9458-20d1c0b348a5",
   "metadata": {},
   "outputs": [],
   "source": [
    "move(p1, 0.3, 0.2)"
   ]
  },
  {
   "cell_type": "code",
   "execution_count": 12,
   "id": "200f087f-6a2a-4284-b3c1-d9e50f37d027",
   "metadata": {},
   "outputs": [
    {
     "data": {
      "text/plain": [
       "Point{Float64}(3.4, 4.7)"
      ]
     },
     "execution_count": 12,
     "metadata": {},
     "output_type": "execute_result"
    }
   ],
   "source": [
    "p1"
   ]
  },
  {
   "cell_type": "code",
   "execution_count": 20,
   "id": "c8d0a5ed-c225-4d01-abf7-90be08e6fc80",
   "metadata": {},
   "outputs": [],
   "source": [
    "mutable struct Particle\n",
    "    p::Point{Float64}\n",
    "    mass::Float64\n",
    "    v_x::Float64\n",
    "    v_y::Float64\n",
    "    Particle(x::Float64, y::Float64, mass::Float64, v_x::Float64, v_y::Float64) = new(Point{Float64}(x, y), mass, v_x, v_y)\n",
    "end"
   ]
  },
  {
   "cell_type": "code",
   "execution_count": 21,
   "id": "42fa9c17-e3f4-4563-955e-80e2b910e503",
   "metadata": {},
   "outputs": [
    {
     "data": {
      "text/plain": [
       "distance (generic function with 3 methods)"
      ]
     },
     "execution_count": 21,
     "metadata": {},
     "output_type": "execute_result"
    }
   ],
   "source": [
    "function distance(p1::Particle, p2::Particle)::Float64\n",
    "    return distance(p1.p, p2.p)\n",
    "end"
   ]
  },
  {
   "cell_type": "code",
   "execution_count": 22,
   "id": "87bc03f4-9f44-4368-acad-0b0b61a6d712",
   "metadata": {},
   "outputs": [
    {
     "data": {
      "text/plain": [
       "Particle(Point{Float64}(1.2, 2.3), 1.5, -9.0, -7.0)"
      ]
     },
     "execution_count": 22,
     "metadata": {},
     "output_type": "execute_result"
    }
   ],
   "source": [
    "p1 = Particle(1.2, 2.3, 1.5, -9.0, -7.0)"
   ]
  },
  {
   "cell_type": "code",
   "execution_count": 23,
   "id": "88b6ffc3-8480-4a97-bb3d-594d0d02db48",
   "metadata": {},
   "outputs": [
    {
     "data": {
      "text/plain": [
       "Particle(Point{Float64}(3.1, 4.2), 1.3, 8.0, 2.0)"
      ]
     },
     "execution_count": 23,
     "metadata": {},
     "output_type": "execute_result"
    }
   ],
   "source": [
    "p2 = Particle(3.1, 4.2, 1.3, 8.0, 2.0)"
   ]
  },
  {
   "cell_type": "code",
   "execution_count": 24,
   "id": "e94ebc41-9789-4bbc-be6a-f1358bf69da2",
   "metadata": {},
   "outputs": [
    {
     "data": {
      "text/plain": [
       "2.687005768508881"
      ]
     },
     "execution_count": 24,
     "metadata": {},
     "output_type": "execute_result"
    }
   ],
   "source": [
    "distance(p1, p2)"
   ]
  },
  {
   "cell_type": "code",
   "execution_count": 25,
   "id": "7a976474-a02e-4ed6-b751-819aea3d7452",
   "metadata": {},
   "outputs": [
    {
     "data": {
      "text/plain": [
       "move (generic function with 3 methods)"
      ]
     },
     "execution_count": 25,
     "metadata": {},
     "output_type": "execute_result"
    }
   ],
   "source": [
    "function move(p::Particle, t::Float64)\n",
    "    move(p.p, p.v_x*t, p.v_y*t)\n",
    "    return nothing\n",
    "end"
   ]
  },
  {
   "cell_type": "code",
   "execution_count": 26,
   "id": "4380318f-29bd-41de-9d2e-00325ca20ac6",
   "metadata": {},
   "outputs": [],
   "source": [
    "move(p1, 0.1)"
   ]
  },
  {
   "cell_type": "code",
   "execution_count": 27,
   "id": "c0ed948c-9800-44e3-b8c5-9711b7a13c80",
   "metadata": {},
   "outputs": [
    {
     "data": {
      "text/plain": [
       "Particle(Point{Float64}(0.29999999999999993, 1.5999999999999996), 1.5, -9.0, -7.0)"
      ]
     },
     "execution_count": 27,
     "metadata": {},
     "output_type": "execute_result"
    }
   ],
   "source": [
    "p1"
   ]
  },
  {
   "cell_type": "code",
   "execution_count": null,
   "id": "095e6341-0bfe-43be-bc7a-4f8415c2d85c",
   "metadata": {},
   "outputs": [],
   "source": []
  }
 ],
 "metadata": {
  "kernelspec": {
   "display_name": "Julia 1.6.1",
   "language": "julia",
   "name": "julia-1.6"
  },
  "language_info": {
   "file_extension": ".jl",
   "mimetype": "application/julia",
   "name": "julia",
   "version": "1.6.1"
  }
 },
 "nbformat": 4,
 "nbformat_minor": 5
}
