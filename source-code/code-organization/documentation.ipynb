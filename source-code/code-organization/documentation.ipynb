{
 "cells": [
  {
   "cell_type": "code",
   "execution_count": 1,
   "id": "c36657ab-1d3d-4fd3-84f4-5c7bea664c87",
   "metadata": {},
   "outputs": [
    {
     "name": "stderr",
     "output_type": "stream",
     "text": [
      "┌ Info: Precompiling Gcd [6101a580-870c-4971-a759-bb25a2f00590]\n",
      "└ @ Base loading.jl:1317\n"
     ]
    }
   ],
   "source": [
    "push!(LOAD_PATH, \".\")\n",
    "using Gcd"
   ]
  },
  {
   "cell_type": "code",
   "execution_count": 2,
   "id": "4bb7dae1-f1ab-408b-920f-a875d6498006",
   "metadata": {},
   "outputs": [
    {
     "name": "stdout",
     "output_type": "stream",
     "text": [
      "search: \u001b[0m\u001b[1mm\u001b[22m\u001b[0m\u001b[1my\u001b[22m\u001b[0m\u001b[1m_\u001b[22m\u001b[0m\u001b[1mg\u001b[22m\u001b[0m\u001b[1mc\u001b[22m\u001b[0m\u001b[1md\u001b[22m\n",
      "\n"
     ]
    },
    {
     "data": {
      "text/latex": [
       "my\\_gcd(a, b)\n",
       "\n",
       "Compute the greatest common divisor of a and b\n",
       "\n",
       "\\section{Arguments}\n",
       "\\begin{itemize}\n",
       "\\item \\texttt{a::Integer}: first argument, not rquired in real life documentation\n",
       "\n",
       "\n",
       "\\item \\texttt{b::Integer}: second argument, not rquired in real life documentation\n",
       "\n",
       "\\end{itemize}\n",
       "Both arguments should be strictly positive, otherwise a \\texttt{DomaiunErr} exception will be thrown.\n",
       "\n",
       "\\section{Examples}\n",
       "\\begin{verbatim}\n",
       "julia> my_gcd(12, 15)\n",
       "3\n",
       "julia> my_gcd(13, 11)\n",
       "1\n",
       "\\end{verbatim}\n"
      ],
      "text/markdown": [
       "my_gcd(a, b)\n",
       "\n",
       "Compute the greatest common divisor of a and b\n",
       "\n",
       "# Arguments\n",
       "\n",
       "  * `a::Integer`: first argument, not rquired in real life documentation\n",
       "  * `b::Integer`: second argument, not rquired in real life documentation\n",
       "\n",
       "Both arguments should be strictly positive, otherwise a `DomaiunErr` exception will be thrown.\n",
       "\n",
       "# Examples\n",
       "\n",
       "```julia-repl\n",
       "julia> my_gcd(12, 15)\n",
       "3\n",
       "julia> my_gcd(13, 11)\n",
       "1\n",
       "```\n"
      ],
      "text/plain": [
       "  my_gcd(a, b)\n",
       "\n",
       "  Compute the greatest common divisor of a and b\n",
       "\n",
       "\u001b[1m  Arguments\u001b[22m\n",
       "\u001b[1m  ≡≡≡≡≡≡≡≡≡≡≡\u001b[22m\n",
       "\n",
       "    •  \u001b[36ma::Integer\u001b[39m: first argument, not rquired in real life documentation\n",
       "\n",
       "    •  \u001b[36mb::Integer\u001b[39m: second argument, not rquired in real life\n",
       "       documentation\n",
       "\n",
       "  Both arguments should be strictly positive, otherwise a \u001b[36mDomaiunErr\u001b[39m exception\n",
       "  will be thrown.\n",
       "\n",
       "\u001b[1m  Examples\u001b[22m\n",
       "\u001b[1m  ≡≡≡≡≡≡≡≡≡≡\u001b[22m\n",
       "\n",
       "\u001b[36m  julia> my_gcd(12, 15)\u001b[39m\n",
       "\u001b[36m  3\u001b[39m\n",
       "\u001b[36m  julia> my_gcd(13, 11)\u001b[39m\n",
       "\u001b[36m  1\u001b[39m"
      ]
     },
     "execution_count": 2,
     "metadata": {},
     "output_type": "execute_result"
    }
   ],
   "source": [
    "?my_gcd"
   ]
  },
  {
   "cell_type": "code",
   "execution_count": 4,
   "id": "94b59092-e714-4a19-a122-ffdc1bfe97fd",
   "metadata": {},
   "outputs": [
    {
     "data": {
      "text/plain": [
       "3"
      ]
     },
     "execution_count": 4,
     "metadata": {},
     "output_type": "execute_result"
    }
   ],
   "source": [
    "my_gcd(12, 15)"
   ]
  }
 ],
 "metadata": {
  "kernelspec": {
   "display_name": "Julia 1.6.1",
   "language": "julia",
   "name": "julia-1.6"
  },
  "language_info": {
   "file_extension": ".jl",
   "mimetype": "application/julia",
   "name": "julia",
   "version": "1.6.1"
  }
 },
 "nbformat": 4,
 "nbformat_minor": 5
}
