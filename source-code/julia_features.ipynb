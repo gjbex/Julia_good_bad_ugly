{
 "cells": [
  {
   "cell_type": "markdown",
   "id": "1f077b02",
   "metadata": {},
   "source": [
    "# Simple computations"
   ]
  },
  {
   "cell_type": "markdown",
   "id": "c91430fc",
   "metadata": {},
   "source": [
    "There are few (but some) surprises when doing simple computations in Julia."
   ]
  },
  {
   "cell_type": "code",
   "execution_count": 1,
   "id": "2de2ce60",
   "metadata": {},
   "outputs": [
    {
     "data": {
      "text/plain": [
       "4"
      ]
     },
     "execution_count": 1,
     "metadata": {},
     "output_type": "execute_result"
    }
   ],
   "source": [
    "1 + 3"
   ]
  },
  {
   "cell_type": "markdown",
   "id": "339ae92b",
   "metadata": {},
   "source": [
    "A nifty feature is that you can use unicode characters in variable names.  In a notebook, these can be typed in $\\LaTeX$ notation, after you press the tab key, they will be converted into unicode."
   ]
  },
  {
   "cell_type": "code",
   "execution_count": 2,
   "id": "f56d0a01",
   "metadata": {},
   "outputs": [
    {
     "data": {
      "text/plain": [
       "3.1"
      ]
     },
     "execution_count": 2,
     "metadata": {},
     "output_type": "execute_result"
    }
   ],
   "source": [
    "β = 3.1"
   ]
  },
  {
   "cell_type": "markdown",
   "id": "c9ab1fba",
   "metadata": {},
   "source": [
    "Note that like MATLAB, Julia will print the result of a statement, unless you end it with a semi-colon."
   ]
  },
  {
   "cell_type": "code",
   "execution_count": 3,
   "id": "0093a88f",
   "metadata": {},
   "outputs": [],
   "source": [
    "β = 3.3;"
   ]
  },
  {
   "cell_type": "markdown",
   "id": "4786b6d9",
   "metadata": {},
   "source": [
    "The type of a value can be determined using the `typeof` function.  By default, floating piont valies are double precision (64 bit)."
   ]
  },
  {
   "cell_type": "code",
   "execution_count": 4,
   "id": "ae8a1df4",
   "metadata": {},
   "outputs": [
    {
     "data": {
      "text/plain": [
       "Float64"
      ]
     },
     "execution_count": 4,
     "metadata": {},
     "output_type": "execute_result"
    }
   ],
   "source": [
    "typeof(β)"
   ]
  },
  {
   "cell_type": "markdown",
   "id": "14033a17",
   "metadata": {},
   "source": [
    "To create a single precision floating point value, you would use the following notation."
   ]
  },
  {
   "cell_type": "code",
   "execution_count": 5,
   "id": "ce9c8caf",
   "metadata": {},
   "outputs": [
    {
     "data": {
      "text/plain": [
       "Float32"
      ]
     },
     "execution_count": 5,
     "metadata": {},
     "output_type": "execute_result"
    }
   ],
   "source": [
    "typeof(3.1f0)"
   ]
  },
  {
   "cell_type": "markdown",
   "id": "9bcbd63f",
   "metadata": {},
   "source": [
    "Note that unlike in C/C++, you have to specify the exponent, so the `f` is not a type qualifier, it is simply denoting the exponent part of the floating point number (`e` for double precision, `f` for single precision)."
   ]
  },
  {
   "cell_type": "markdown",
   "id": "86f995ee",
   "metadata": {},
   "source": [
    "You can explicitely create a value of the type you want using the conversion functions, e.g., an 8-bit integer value."
   ]
  },
  {
   "cell_type": "code",
   "execution_count": 6,
   "id": "a4315706",
   "metadata": {},
   "outputs": [
    {
     "data": {
      "text/plain": [
       "3"
      ]
     },
     "execution_count": 6,
     "metadata": {},
     "output_type": "execute_result"
    }
   ],
   "source": [
    "bits = Int8(3)"
   ]
  },
  {
   "cell_type": "code",
   "execution_count": 7,
   "id": "1fdbebb6",
   "metadata": {},
   "outputs": [
    {
     "data": {
      "text/plain": [
       "Int8"
      ]
     },
     "execution_count": 7,
     "metadata": {},
     "output_type": "execute_result"
    }
   ],
   "source": [
    "typeof(bits)"
   ]
  },
  {
   "cell_type": "markdown",
   "id": "74f82025",
   "metadata": {},
   "source": [
    "Julia has made a halfhearted attempt at being smart at math.  When you multiply a constant value and a variable, you don't have to use the multiplication operator, it is implicit."
   ]
  },
  {
   "cell_type": "code",
   "execution_count": 8,
   "id": "f4db45a5",
   "metadata": {},
   "outputs": [
    {
     "data": {
      "text/plain": [
       "9.899999999999999"
      ]
     },
     "execution_count": 8,
     "metadata": {},
     "output_type": "execute_result"
    }
   ],
   "source": [
    "3β"
   ]
  },
  {
   "cell_type": "markdown",
   "id": "04d35838",
   "metadata": {},
   "source": [
    "Some functions also have a representation as a unicode symbol, for instance the square root function (`\\sqrt` + tab)."
   ]
  },
  {
   "cell_type": "code",
   "execution_count": 9,
   "id": "44c5ac67",
   "metadata": {},
   "outputs": [
    {
     "data": {
      "text/plain": [
       "2.23606797749979"
      ]
     },
     "execution_count": 9,
     "metadata": {},
     "output_type": "execute_result"
    }
   ],
   "source": [
    "√5"
   ]
  },
  {
   "cell_type": "markdown",
   "id": "dfb4962a",
   "metadata": {},
   "source": [
    "Of course, you can also use the function by name."
   ]
  },
  {
   "cell_type": "code",
   "execution_count": 10,
   "id": "ebcf2b22",
   "metadata": {},
   "outputs": [
    {
     "data": {
      "text/plain": [
       "2.23606797749979"
      ]
     },
     "execution_count": 10,
     "metadata": {},
     "output_type": "execute_result"
    }
   ],
   "source": [
    "sqrt(5)"
   ]
  },
  {
   "cell_type": "code",
   "execution_count": 11,
   "id": "3cbf9a40",
   "metadata": {},
   "outputs": [
    {
     "data": {
      "text/plain": [
       "3"
      ]
     },
     "execution_count": 11,
     "metadata": {},
     "output_type": "execute_result"
    }
   ],
   "source": [
    "x = 3"
   ]
  },
  {
   "cell_type": "markdown",
   "id": "2749fe0a",
   "metadata": {},
   "source": [
    "Note that the \"mathematical\" notation is intuitive, but this may lead to bugs."
   ]
  },
  {
   "cell_type": "code",
   "execution_count": 12,
   "id": "519a5ebb",
   "metadata": {},
   "outputs": [
    {
     "data": {
      "text/plain": [
       "64"
      ]
     },
     "execution_count": 12,
     "metadata": {},
     "output_type": "execute_result"
    }
   ],
   "source": [
    "2^2x"
   ]
  },
  {
   "cell_type": "markdown",
   "id": "3dc5fb74",
   "metadata": {},
   "source": [
    "The above expression is interpreted as $2^{2x}$, which is likely your intension, however it may get confusing since it is not equivalent to the following expression."
   ]
  },
  {
   "cell_type": "code",
   "execution_count": 13,
   "id": "58ed94ff",
   "metadata": {},
   "outputs": [
    {
     "data": {
      "text/plain": [
       "12"
      ]
     },
     "execution_count": 13,
     "metadata": {},
     "output_type": "execute_result"
    }
   ],
   "source": [
    "2^2*x"
   ]
  },
  {
   "cell_type": "markdown",
   "id": "322d9099",
   "metadata": {},
   "source": [
    "Also, the attempt at mathematical notation is half-hearted since the following doesn't compute."
   ]
  },
  {
   "cell_type": "code",
   "execution_count": 14,
   "id": "f2c58c6b",
   "metadata": {},
   "outputs": [
    {
     "ename": "LoadError",
     "evalue": "syntax: \"try\" at In[14]:1 expected \"end\", got \"x\"",
     "output_type": "error",
     "traceback": [
      "syntax: \"try\" at In[14]:1 expected \"end\", got \"x\"",
      "",
      "Stacktrace:",
      " [1] top-level scope",
      "   @ In[14]:2",
      " [2] eval",
      "   @ ./boot.jl:360 [inlined]",
      " [3] include_string(mapexpr::typeof(REPL.softscope), mod::Module, code::String, filename::String)",
      "   @ Base ./loading.jl:1094"
     ]
    }
   ],
   "source": [
    "try\n",
    "    β x\n",
    "catch error\n",
    "    println(error)\n",
    "end"
   ]
  },
  {
   "cell_type": "markdown",
   "id": "ffbcd56b",
   "metadata": {},
   "source": [
    "Mathematica goes all the way by reserving parenthesis for grouping and using brackets for function calls."
   ]
  },
  {
   "cell_type": "markdown",
   "id": "db2d1c14",
   "metadata": {},
   "source": [
    "Like Python 3, the division operator applied to integers results in a floating point value."
   ]
  },
  {
   "cell_type": "code",
   "execution_count": 15,
   "id": "acc6c0d1",
   "metadata": {},
   "outputs": [
    {
     "data": {
      "text/plain": [
       "0.6"
      ]
     },
     "execution_count": 15,
     "metadata": {},
     "output_type": "execute_result"
    }
   ],
   "source": [
    "3/5"
   ]
  },
  {
   "cell_type": "markdown",
   "id": "f47af4dc",
   "metadata": {},
   "source": [
    "The integer division has its unicode operator `\\div` + tab."
   ]
  },
  {
   "cell_type": "code",
   "execution_count": 16,
   "id": "9f983dbc",
   "metadata": {},
   "outputs": [
    {
     "data": {
      "text/plain": [
       "1"
      ]
     },
     "execution_count": 16,
     "metadata": {},
     "output_type": "execute_result"
    }
   ],
   "source": [
    "3 ÷ 2"
   ]
  },
  {
   "cell_type": "markdown",
   "id": "1c32c87c",
   "metadata": {},
   "source": [
    "For some operators, unicode character equivalents are available, e.g., the bit-wise exclusive or."
   ]
  },
  {
   "cell_type": "code",
   "execution_count": 17,
   "id": "907d764a",
   "metadata": {
    "scrolled": true
   },
   "outputs": [
    {
     "data": {
      "text/plain": [
       "6"
      ]
     },
     "execution_count": 17,
     "metadata": {},
     "output_type": "execute_result"
    }
   ],
   "source": [
    "5 ⊻ 3"
   ]
  },
  {
   "cell_type": "code",
   "execution_count": 18,
   "id": "ed5def0e",
   "metadata": {},
   "outputs": [
    {
     "data": {
      "text/plain": [
       "6"
      ]
     },
     "execution_count": 18,
     "metadata": {},
     "output_type": "execute_result"
    }
   ],
   "source": [
    "xor(5, 3)"
   ]
  },
  {
   "cell_type": "raw",
   "id": "6272c1f6",
   "metadata": {},
   "source": [
    "It would have made sense to add definitions for the logical or bit-wise operators such as $\\vee$ and $\\wedge$, but that opportunity was missed."
   ]
  },
  {
   "cell_type": "code",
   "execution_count": 19,
   "id": "cc3514c1",
   "metadata": {},
   "outputs": [
    {
     "name": "stdout",
     "output_type": "stream",
     "text": [
      "UndefVarError(:∨)\n"
     ]
    }
   ],
   "source": [
    "try\n",
    "    3 ∨ 7\n",
    "catch error\n",
    "    println(error)\n",
    "end"
   ]
  },
  {
   "cell_type": "markdown",
   "id": "90e4019c",
   "metadata": {},
   "source": [
    "Also the comparison operators have their unicode counterpart, e.g,, `\\le` + tab and `\\ne` + tab."
   ]
  },
  {
   "cell_type": "code",
   "execution_count": 20,
   "id": "f2c9499c",
   "metadata": {},
   "outputs": [
    {
     "data": {
      "text/plain": [
       "true"
      ]
     },
     "execution_count": 20,
     "metadata": {},
     "output_type": "execute_result"
    }
   ],
   "source": [
    "3 ≤ 5"
   ]
  },
  {
   "cell_type": "code",
   "execution_count": 21,
   "id": "49590cce",
   "metadata": {
    "scrolled": true
   },
   "outputs": [
    {
     "data": {
      "text/plain": [
       "true"
      ]
     },
     "execution_count": 21,
     "metadata": {},
     "output_type": "execute_result"
    }
   ],
   "source": [
    "3 ≠ 5"
   ]
  },
  {
   "cell_type": "markdown",
   "id": "56b5cb03",
   "metadata": {},
   "source": [
    "# Types"
   ]
  },
  {
   "cell_type": "markdown",
   "id": "d162ed36",
   "metadata": {},
   "source": [
    "## Real numbers"
   ]
  },
  {
   "cell_type": "markdown",
   "id": "5012dd65",
   "metadata": {},
   "source": [
    "Julia support half, single and double precision, as `Float16`, `Float32` and `Float64`."
   ]
  },
  {
   "cell_type": "markdown",
   "id": "8acbfc20",
   "metadata": {},
   "source": [
    "## Complex numbers"
   ]
  },
  {
   "cell_type": "markdown",
   "id": "a5c5bf37",
   "metadata": {},
   "source": [
    "You can work with complex numbers, the notation is a bit more cumbersome than in Python."
   ]
  },
  {
   "cell_type": "code",
   "execution_count": 22,
   "id": "f6e008b5",
   "metadata": {},
   "outputs": [
    {
     "name": "stdout",
     "output_type": "stream",
     "text": [
      "DomainError(-5.0, \"sqrt will only return a complex result if called with a complex argument. Try sqrt(Complex(x)).\")\n"
     ]
    }
   ],
   "source": [
    "try\n",
    "    √-5\n",
    "catch error\n",
    "    println(error)\n",
    "end"
   ]
  },
  {
   "cell_type": "code",
   "execution_count": 23,
   "id": "3f114be6",
   "metadata": {
    "scrolled": true
   },
   "outputs": [
    {
     "data": {
      "text/plain": [
       "0.0 + 2.23606797749979im"
      ]
     },
     "execution_count": 23,
     "metadata": {},
     "output_type": "execute_result"
    }
   ],
   "source": [
    "√(-5 + 0im)"
   ]
  },
  {
   "cell_type": "markdown",
   "id": "4afaba4c",
   "metadata": {},
   "source": [
    "## Integers"
   ]
  },
  {
   "cell_type": "markdown",
   "id": "4eed0b18",
   "metadata": {},
   "source": [
    "Julia supports many integer types: 8, 16, 32 and 64 bits, signed and unsigned, so `Int8`, `UInt8`, `Int16`, `UInt16`, etc."
   ]
  },
  {
   "cell_type": "markdown",
   "id": "a313e5b3",
   "metadata": {},
   "source": [
    "## Strings"
   ]
  },
  {
   "cell_type": "code",
   "execution_count": 24,
   "id": "1bd0de46",
   "metadata": {},
   "outputs": [
    {
     "data": {
      "text/plain": [
       "\"hello\""
      ]
     },
     "execution_count": 24,
     "metadata": {},
     "output_type": "execute_result"
    }
   ],
   "source": [
    "s = \"hello\""
   ]
  },
  {
   "cell_type": "code",
   "execution_count": 25,
   "id": "6f3c8da0",
   "metadata": {},
   "outputs": [
    {
     "data": {
      "text/plain": [
       "\"hel\""
      ]
     },
     "execution_count": 25,
     "metadata": {},
     "output_type": "execute_result"
    }
   ],
   "source": [
    "s[1:3]"
   ]
  },
  {
   "cell_type": "code",
   "execution_count": 26,
   "id": "f1d887df",
   "metadata": {},
   "outputs": [
    {
     "data": {
      "text/plain": [
       "'o': ASCII/Unicode U+006F (category Ll: Letter, lowercase)"
      ]
     },
     "execution_count": 26,
     "metadata": {},
     "output_type": "execute_result"
    }
   ],
   "source": [
    "s[end]"
   ]
  },
  {
   "cell_type": "code",
   "execution_count": 27,
   "id": "05777eba",
   "metadata": {},
   "outputs": [
    {
     "data": {
      "text/plain": [
       "'h': ASCII/Unicode U+0068 (category Ll: Letter, lowercase)"
      ]
     },
     "execution_count": 27,
     "metadata": {},
     "output_type": "execute_result"
    }
   ],
   "source": [
    "s[begin]"
   ]
  },
  {
   "cell_type": "code",
   "execution_count": 28,
   "id": "eac523ac",
   "metadata": {},
   "outputs": [
    {
     "data": {
      "text/plain": [
       "'l': ASCII/Unicode U+006C (category Ll: Letter, lowercase)"
      ]
     },
     "execution_count": 28,
     "metadata": {},
     "output_type": "execute_result"
    }
   ],
   "source": [
    "s[3]"
   ]
  },
  {
   "cell_type": "markdown",
   "id": "b084a810",
   "metadata": {},
   "source": [
    "Note that Julia makes the distinction between characters and strings depending on the quotes you use."
   ]
  },
  {
   "cell_type": "code",
   "execution_count": 29,
   "id": "1f18e101",
   "metadata": {},
   "outputs": [
    {
     "data": {
      "text/plain": [
       "Char"
      ]
     },
     "execution_count": 29,
     "metadata": {},
     "output_type": "execute_result"
    }
   ],
   "source": [
    "typeof('a')"
   ]
  },
  {
   "cell_type": "code",
   "execution_count": 30,
   "id": "677d87ba",
   "metadata": {},
   "outputs": [
    {
     "data": {
      "text/plain": [
       "String"
      ]
     },
     "execution_count": 30,
     "metadata": {},
     "output_type": "execute_result"
    }
   ],
   "source": [
    "typeof(\"a\")"
   ]
  },
  {
   "cell_type": "markdown",
   "id": "dd055f98",
   "metadata": {},
   "source": [
    "## Tuples and name tuples"
   ]
  },
  {
   "cell_type": "markdown",
   "id": "1a996ea3",
   "metadata": {},
   "source": [
    "Tuples and named tuples work as expected, and Julia has automatic tuple packing and unpacking similar to Python."
   ]
  },
  {
   "cell_type": "code",
   "execution_count": 152,
   "id": "fc420309",
   "metadata": {},
   "outputs": [
    {
     "data": {
      "text/plain": [
       "(3, 'a', \"fourteen\")"
      ]
     },
     "execution_count": 152,
     "metadata": {},
     "output_type": "execute_result"
    }
   ],
   "source": [
    "t = (3, 'a', \"fourteen\")"
   ]
  },
  {
   "cell_type": "code",
   "execution_count": 153,
   "id": "fadb3cc5",
   "metadata": {},
   "outputs": [
    {
     "data": {
      "text/plain": [
       "\"fourteen\""
      ]
     },
     "execution_count": 153,
     "metadata": {},
     "output_type": "execute_result"
    }
   ],
   "source": [
    "t[3]"
   ]
  },
  {
   "cell_type": "code",
   "execution_count": 154,
   "id": "33b56ce7",
   "metadata": {},
   "outputs": [
    {
     "data": {
      "text/plain": [
       "(x = 1.2, y = 2.3)"
      ]
     },
     "execution_count": 154,
     "metadata": {},
     "output_type": "execute_result"
    }
   ],
   "source": [
    "coords = (x=1.2, y=2.3)"
   ]
  },
  {
   "cell_type": "code",
   "execution_count": 155,
   "id": "d3169a99",
   "metadata": {},
   "outputs": [
    {
     "data": {
      "text/plain": [
       "(1.2, 1.2)"
      ]
     },
     "execution_count": 155,
     "metadata": {},
     "output_type": "execute_result"
    }
   ],
   "source": [
    "coords[1], coords.x"
   ]
  },
  {
   "cell_type": "code",
   "execution_count": 156,
   "id": "3bb7364f",
   "metadata": {},
   "outputs": [
    {
     "data": {
      "text/plain": [
       "(x = 1.2, y = 2.3)"
      ]
     },
     "execution_count": 156,
     "metadata": {},
     "output_type": "execute_result"
    }
   ],
   "source": [
    "x, y = coords"
   ]
  },
  {
   "cell_type": "code",
   "execution_count": 157,
   "id": "e75ed628",
   "metadata": {},
   "outputs": [
    {
     "data": {
      "text/plain": [
       "1.2"
      ]
     },
     "execution_count": 157,
     "metadata": {},
     "output_type": "execute_result"
    }
   ],
   "source": [
    "x"
   ]
  },
  {
   "cell_type": "markdown",
   "id": "a85dbe78",
   "metadata": {},
   "source": [
    "Just like in Python, you can not modify a tuple once it is created."
   ]
  },
  {
   "cell_type": "code",
   "execution_count": 158,
   "id": "20436da7",
   "metadata": {},
   "outputs": [
    {
     "ename": "LoadError",
     "evalue": "MethodError: no method matching setindex!(::NamedTuple{(:x, :y), Tuple{Float64, Float64}}, ::Float64, ::Int64)",
     "output_type": "error",
     "traceback": [
      "MethodError: no method matching setindex!(::NamedTuple{(:x, :y), Tuple{Float64, Float64}}, ::Float64, ::Int64)",
      "",
      "Stacktrace:",
      " [1] top-level scope",
      "   @ In[158]:1",
      " [2] eval",
      "   @ ./boot.jl:360 [inlined]",
      " [3] include_string(mapexpr::typeof(REPL.softscope), mod::Module, code::String, filename::String)",
      "   @ Base ./loading.jl:1094"
     ]
    }
   ],
   "source": [
    "coords[1] = -0.3"
   ]
  },
  {
   "cell_type": "markdown",
   "id": "25bcdb06",
   "metadata": {},
   "source": [
    "## Dictionaries"
   ]
  },
  {
   "cell_type": "code",
   "execution_count": 159,
   "id": "09ee91df",
   "metadata": {},
   "outputs": [
    {
     "data": {
      "text/plain": [
       "Dict{String, Int64} with 3 entries:\n",
       "  \"carol\" => 64\n",
       "  \"alice\" => 35\n",
       "  \"bob\"   => 25"
      ]
     },
     "execution_count": 159,
     "metadata": {},
     "output_type": "execute_result"
    }
   ],
   "source": [
    "dict = Dict(\"alice\" => 35, \"bob\" => 25, \"carol\" => 64)"
   ]
  },
  {
   "cell_type": "code",
   "execution_count": 160,
   "id": "42d7b4f3",
   "metadata": {},
   "outputs": [
    {
     "data": {
      "text/plain": [
       "25"
      ]
     },
     "execution_count": 160,
     "metadata": {},
     "output_type": "execute_result"
    }
   ],
   "source": [
    "dict[\"bob\"]"
   ]
  },
  {
   "cell_type": "code",
   "execution_count": 161,
   "id": "c4aef70a",
   "metadata": {},
   "outputs": [
    {
     "data": {
      "text/plain": [
       "36"
      ]
     },
     "execution_count": 161,
     "metadata": {},
     "output_type": "execute_result"
    }
   ],
   "source": [
    "dict[\"alice\"] = 36"
   ]
  },
  {
   "cell_type": "code",
   "execution_count": 169,
   "id": "b942ae90",
   "metadata": {},
   "outputs": [
    {
     "data": {
      "text/plain": [
       "12"
      ]
     },
     "execution_count": 169,
     "metadata": {},
     "output_type": "execute_result"
    }
   ],
   "source": [
    "dict[\"dereck\"] = 12"
   ]
  },
  {
   "cell_type": "code",
   "execution_count": 170,
   "id": "0d4af7fb",
   "metadata": {},
   "outputs": [
    {
     "data": {
      "text/plain": [
       "Dict{String, Int64} with 4 entries:\n",
       "  \"carol\"  => 64\n",
       "  \"alice\"  => 36\n",
       "  \"bob\"    => 25\n",
       "  \"dereck\" => 12"
      ]
     },
     "execution_count": 170,
     "metadata": {},
     "output_type": "execute_result"
    }
   ],
   "source": [
    "dict"
   ]
  },
  {
   "cell_type": "code",
   "execution_count": 164,
   "id": "48d4166b",
   "metadata": {},
   "outputs": [
    {
     "data": {
      "text/plain": [
       "true"
      ]
     },
     "execution_count": 164,
     "metadata": {},
     "output_type": "execute_result"
    }
   ],
   "source": [
    "haskey(dict, \"alice\")"
   ]
  },
  {
   "cell_type": "code",
   "execution_count": 168,
   "id": "f78b2eeb",
   "metadata": {},
   "outputs": [
    {
     "name": "stdout",
     "output_type": "stream",
     "text": [
      "64\n",
      "36\n",
      "25\n"
     ]
    }
   ],
   "source": [
    "for name in keys(dict)\n",
    "    println(dict[name])\n",
    "end"
   ]
  },
  {
   "cell_type": "markdown",
   "id": "63254a1f",
   "metadata": {},
   "source": [
    "## Sets"
   ]
  },
  {
   "cell_type": "code",
   "execution_count": 171,
   "id": "bdb75ed7",
   "metadata": {},
   "outputs": [
    {
     "data": {
      "text/plain": [
       "Set{Int64} with 3 elements:\n",
       "  5\n",
       "  7\n",
       "  3"
      ]
     },
     "execution_count": 171,
     "metadata": {},
     "output_type": "execute_result"
    }
   ],
   "source": [
    "s = Set([3, 5, 7])"
   ]
  },
  {
   "cell_type": "code",
   "execution_count": 174,
   "id": "1f03e383",
   "metadata": {},
   "outputs": [
    {
     "data": {
      "text/plain": [
       "true"
      ]
     },
     "execution_count": 174,
     "metadata": {},
     "output_type": "execute_result"
    }
   ],
   "source": [
    "3 ∈ s"
   ]
  },
  {
   "cell_type": "code",
   "execution_count": 177,
   "id": "ffe4e603",
   "metadata": {},
   "outputs": [
    {
     "data": {
      "text/plain": [
       "true"
      ]
     },
     "execution_count": 177,
     "metadata": {},
     "output_type": "execute_result"
    }
   ],
   "source": [
    "in(3, s)"
   ]
  },
  {
   "cell_type": "code",
   "execution_count": 178,
   "id": "d43e801a",
   "metadata": {},
   "outputs": [
    {
     "data": {
      "text/plain": [
       "false"
      ]
     },
     "execution_count": 178,
     "metadata": {},
     "output_type": "execute_result"
    }
   ],
   "source": [
    "4 ∈ s"
   ]
  },
  {
   "cell_type": "markdown",
   "id": "326f3bfd",
   "metadata": {},
   "source": [
    "Julia has functions for all common set operations: `union`, `intersect`, `setdiff`, `symdiff`, `issubset` and so on."
   ]
  },
  {
   "cell_type": "markdown",
   "id": "2d3475a2-d233-4e0d-9013-f6c08213bdfa",
   "metadata": {},
   "source": [
    "## Structures"
   ]
  },
  {
   "cell_type": "markdown",
   "id": "d61f8378-a685-430e-a89a-07508519512f",
   "metadata": {},
   "source": [
    "The main compound data structure in Julia is a structure.  It comes in two flavors, the default is unmutable, and mutable structures."
   ]
  },
  {
   "cell_type": "code",
   "execution_count": 2,
   "id": "47e76fd3-3c7b-4b77-9fab-65499473b960",
   "metadata": {},
   "outputs": [],
   "source": [
    "struct Person\n",
    "    first_name::String\n",
    "    last_name::String\n",
    "    age::UInt8\n",
    "end"
   ]
  },
  {
   "cell_type": "code",
   "execution_count": 3,
   "id": "39185374-8541-4753-88f9-61f7f67bda81",
   "metadata": {},
   "outputs": [
    {
     "data": {
      "text/plain": [
       "Person(\"Geert Jan\", \"Bex\", 0x35)"
      ]
     },
     "execution_count": 3,
     "metadata": {},
     "output_type": "execute_result"
    }
   ],
   "source": [
    "me = Person(\"Geert Jan\", \"Bex\", 53)"
   ]
  },
  {
   "cell_type": "code",
   "execution_count": 4,
   "id": "975f471a-9219-4d91-9285-9220d0d05022",
   "metadata": {},
   "outputs": [
    {
     "data": {
      "text/plain": [
       "\"Geert Jan\""
      ]
     },
     "execution_count": 4,
     "metadata": {},
     "output_type": "execute_result"
    }
   ],
   "source": [
    "me.first_name"
   ]
  },
  {
   "cell_type": "code",
   "execution_count": 5,
   "id": "5ee74462-2595-4c69-bf47-3eeac243c494",
   "metadata": {},
   "outputs": [
    {
     "ename": "LoadError",
     "evalue": "setfield! immutable struct of type Person cannot be changed",
     "output_type": "error",
     "traceback": [
      "setfield! immutable struct of type Person cannot be changed",
      "",
      "Stacktrace:",
      " [1] setproperty!(x::Person, f::Symbol, v::Int64)",
      "   @ Base ./Base.jl:34",
      " [2] top-level scope",
      "   @ In[5]:1",
      " [3] eval",
      "   @ ./boot.jl:360 [inlined]",
      " [4] include_string(mapexpr::typeof(REPL.softscope), mod::Module, code::String, filename::String)",
      "   @ Base ./loading.jl:1094"
     ]
    }
   ],
   "source": [
    "me.age += 1"
   ]
  },
  {
   "cell_type": "code",
   "execution_count": 7,
   "id": "3c7cc330-7eb1-406d-a676-d4fd257005cd",
   "metadata": {},
   "outputs": [],
   "source": [
    "mutable struct AgingPerson\n",
    "    first_name::String\n",
    "    last_name::String\n",
    "    age::UInt8\n",
    "end"
   ]
  },
  {
   "cell_type": "code",
   "execution_count": 8,
   "id": "493c2544-75d4-4768-8b8c-cafebb54cca0",
   "metadata": {},
   "outputs": [
    {
     "data": {
      "text/plain": [
       "AgingPerson(\"Geert Jan\", \"Bex\", 0x35)"
      ]
     },
     "execution_count": 8,
     "metadata": {},
     "output_type": "execute_result"
    }
   ],
   "source": [
    "me = AgingPerson(\"Geert Jan\", \"Bex\", 53)"
   ]
  },
  {
   "cell_type": "code",
   "execution_count": 11,
   "id": "1d7567c2-d4da-491c-bbe9-3af17003ef84",
   "metadata": {},
   "outputs": [
    {
     "data": {
      "text/plain": [
       "54"
      ]
     },
     "execution_count": 11,
     "metadata": {},
     "output_type": "execute_result"
    }
   ],
   "source": [
    "me.age += 1"
   ]
  },
  {
   "cell_type": "markdown",
   "id": "e09ed611-93fc-4cc7-b239-c81168b93bdc",
   "metadata": {},
   "source": [
    "Note that a structure defines a new type."
   ]
  },
  {
   "cell_type": "code",
   "execution_count": 12,
   "id": "2c389181-d390-48a9-b4c0-422170a16068",
   "metadata": {},
   "outputs": [
    {
     "data": {
      "text/plain": [
       "AgingPerson"
      ]
     },
     "execution_count": 12,
     "metadata": {},
     "output_type": "execute_result"
    }
   ],
   "source": [
    "typeof(me)"
   ]
  },
  {
   "cell_type": "markdown",
   "id": "3526a968",
   "metadata": {},
   "source": [
    "## Vectors and matrices"
   ]
  },
  {
   "cell_type": "markdown",
   "id": "81340441",
   "metadata": {},
   "source": [
    "Needless to say, Julia has a lot of functionality for dealing with vectors and arrays.  A literal vector can be defined using brackets."
   ]
  },
  {
   "cell_type": "code",
   "execution_count": 31,
   "id": "e36358c5",
   "metadata": {},
   "outputs": [
    {
     "data": {
      "text/plain": [
       "([1 2 3], [2 3 7], [3, 1, -1])"
      ]
     },
     "execution_count": 31,
     "metadata": {},
     "output_type": "execute_result"
    }
   ],
   "source": [
    "v_1, v_2, v_3 = [1 2 3], [2 3 7], [3, 1, -1]"
   ]
  },
  {
   "cell_type": "code",
   "execution_count": 32,
   "id": "db349212",
   "metadata": {},
   "outputs": [
    {
     "data": {
      "text/plain": [
       "((1, 3), (3,))"
      ]
     },
     "execution_count": 32,
     "metadata": {},
     "output_type": "execute_result"
    }
   ],
   "source": [
    "size(v_1), size(v_3)"
   ]
  },
  {
   "cell_type": "markdown",
   "id": "5ee31e4c",
   "metadata": {},
   "source": [
    "As you can see, Julia distinguishes between row and column vectors.  It is a little bizar that a column vector and a row vector a matrix with a single row."
   ]
  },
  {
   "cell_type": "code",
   "execution_count": 33,
   "id": "3cd5c078",
   "metadata": {},
   "outputs": [
    {
     "data": {
      "text/plain": [
       "(Matrix{Int64}, Vector{Int64})"
      ]
     },
     "execution_count": 33,
     "metadata": {},
     "output_type": "execute_result"
    }
   ],
   "source": [
    "typeof(v_1), typeof(v_3)"
   ]
  },
  {
   "cell_type": "markdown",
   "id": "fe5ea1cc",
   "metadata": {},
   "source": [
    "Multiplying a constant is straightforward."
   ]
  },
  {
   "cell_type": "code",
   "execution_count": 34,
   "id": "b96505a2",
   "metadata": {},
   "outputs": [
    {
     "data": {
      "text/plain": [
       "1×3 Matrix{Int64}:\n",
       " 3  6  9"
      ]
     },
     "execution_count": 34,
     "metadata": {},
     "output_type": "execute_result"
    }
   ],
   "source": [
    "3v_1"
   ]
  },
  {
   "cell_type": "markdown",
   "id": "aa583dc9",
   "metadata": {},
   "source": [
    "However, to add a value to each vector element, you would have to use the element-wise operator `.+`.  This is counter-intuitive when you are used to numpy and is likely to cause some frustration."
   ]
  },
  {
   "cell_type": "code",
   "execution_count": 35,
   "id": "c497c6c3",
   "metadata": {},
   "outputs": [
    {
     "data": {
      "text/plain": [
       "1×3 Matrix{Int64}:\n",
       " 4  5  6"
      ]
     },
     "execution_count": 35,
     "metadata": {},
     "output_type": "execute_result"
    }
   ],
   "source": [
    "3 .+ v_1"
   ]
  },
  {
   "cell_type": "markdown",
   "id": "d14d6101",
   "metadata": {},
   "source": [
    "Element-wise operations can be done using dot-operators and functions, e.g,, for multiplying the elements of `v` and `w`."
   ]
  },
  {
   "cell_type": "code",
   "execution_count": 36,
   "id": "3d8775cb",
   "metadata": {},
   "outputs": [
    {
     "data": {
      "text/plain": [
       "1×3 Matrix{Int64}:\n",
       " 2  6  21"
      ]
     },
     "execution_count": 36,
     "metadata": {},
     "output_type": "execute_result"
    }
   ],
   "source": [
    "v_1 .* v_2"
   ]
  },
  {
   "cell_type": "markdown",
   "id": "062f9dfc",
   "metadata": {},
   "source": [
    "Note that applying a function to a vector also requires the dot-operator."
   ]
  },
  {
   "cell_type": "code",
   "execution_count": 37,
   "id": "cb775805",
   "metadata": {},
   "outputs": [
    {
     "data": {
      "text/plain": [
       "1×3 Matrix{Float64}:\n",
       " 1.0  1.41421  1.73205"
      ]
     },
     "execution_count": 37,
     "metadata": {},
     "output_type": "execute_result"
    }
   ],
   "source": [
    "sqrt.(v_1)"
   ]
  },
  {
   "cell_type": "markdown",
   "id": "4cedb615",
   "metadata": {},
   "source": [
    "Confusingly, element-wise operators are preceeded by a dot, element-wise function have a lot at the end."
   ]
  },
  {
   "cell_type": "code",
   "execution_count": 38,
   "id": "dd2a4aa0",
   "metadata": {},
   "outputs": [
    {
     "data": {
      "text/plain": [
       "1-element Vector{Int64}:\n",
       " 2"
      ]
     },
     "execution_count": 38,
     "metadata": {},
     "output_type": "execute_result"
    }
   ],
   "source": [
    "v_1 * v_3"
   ]
  },
  {
   "cell_type": "markdown",
   "id": "72129d4a",
   "metadata": {},
   "source": [
    "Multiplying a row and a column vector results in a vector with a single element.  As expected, dimensions must match."
   ]
  },
  {
   "cell_type": "code",
   "execution_count": 39,
   "id": "ecb9b786",
   "metadata": {},
   "outputs": [
    {
     "name": "stdout",
     "output_type": "stream",
     "text": [
      "DimensionMismatch(\"matrix A has dimensions (1,3), matrix B has dimensions (1,3)\")\n"
     ]
    }
   ],
   "source": [
    "try\n",
    "    v_1 * v_2\n",
    "catch error\n",
    "    println(error)\n",
    "end"
   ]
  },
  {
   "cell_type": "markdown",
   "id": "e57215ef",
   "metadata": {},
   "source": [
    "A vector can be defined using a range as in MATLAB, but you have to use the `collect` function to actually create the vector."
   ]
  },
  {
   "cell_type": "code",
   "execution_count": 40,
   "id": "66d2d5ef",
   "metadata": {},
   "outputs": [
    {
     "data": {
      "text/plain": [
       "11-element Vector{Float64}:\n",
       " 0.0\n",
       " 0.1\n",
       " 0.2\n",
       " 0.3\n",
       " 0.4\n",
       " 0.5\n",
       " 0.6\n",
       " 0.7\n",
       " 0.8\n",
       " 0.9\n",
       " 1.0"
      ]
     },
     "execution_count": 40,
     "metadata": {},
     "output_type": "execute_result"
    }
   ],
   "source": [
    "v = collect(0.0:0.1:1.0)"
   ]
  },
  {
   "cell_type": "markdown",
   "id": "c839f694",
   "metadata": {},
   "source": [
    "A matrix can be constructed similarly to MATLAB."
   ]
  },
  {
   "cell_type": "code",
   "execution_count": 41,
   "id": "b5a8b2e1",
   "metadata": {
    "scrolled": true
   },
   "outputs": [
    {
     "data": {
      "text/plain": [
       "2×3 Matrix{Int64}:\n",
       " 1  2  3\n",
       " 4  5  6"
      ]
     },
     "execution_count": 41,
     "metadata": {},
     "output_type": "execute_result"
    }
   ],
   "source": [
    "A = [1 2 3; 4 5 6]"
   ]
  },
  {
   "cell_type": "code",
   "execution_count": 42,
   "id": "43c11c9b",
   "metadata": {
    "scrolled": true
   },
   "outputs": [
    {
     "data": {
      "text/plain": [
       "3×2 Matrix{Int64}:\n",
       " 1  5\n",
       " 4  3\n",
       " 2  6"
      ]
     },
     "execution_count": 42,
     "metadata": {},
     "output_type": "execute_result"
    }
   ],
   "source": [
    "reshape(A, (3, 2))"
   ]
  },
  {
   "cell_type": "markdown",
   "id": "d8c30484",
   "metadata": {},
   "source": [
    "Similar to numpy and MATLAB, Julia has a number of functions to initialize vectors and matrices."
   ]
  },
  {
   "cell_type": "code",
   "execution_count": 120,
   "id": "e21dc865",
   "metadata": {},
   "outputs": [
    {
     "data": {
      "text/plain": [
       "5-element Vector{Float64}:\n",
       " 0.0\n",
       " 0.0\n",
       " 0.0\n",
       " 0.0\n",
       " 0.0"
      ]
     },
     "execution_count": 120,
     "metadata": {},
     "output_type": "execute_result"
    }
   ],
   "source": [
    "zeros(5)"
   ]
  },
  {
   "cell_type": "markdown",
   "id": "220ac11f",
   "metadata": {},
   "source": [
    "Note that unlike in Python, the  dimensions are simply arguments of those functions, not a tuple."
   ]
  },
  {
   "cell_type": "code",
   "execution_count": 121,
   "id": "f5ce28fb",
   "metadata": {},
   "outputs": [
    {
     "data": {
      "text/plain": [
       "2×3 Matrix{Float64}:\n",
       " 1.0  1.0  1.0\n",
       " 1.0  1.0  1.0"
      ]
     },
     "execution_count": 121,
     "metadata": {},
     "output_type": "execute_result"
    }
   ],
   "source": [
    "ones(2, 3)"
   ]
  },
  {
   "cell_type": "code",
   "execution_count": 136,
   "id": "36b982bb",
   "metadata": {},
   "outputs": [
    {
     "data": {
      "text/plain": [
       "5×5 Matrix{Float64}:\n",
       " 4.0  4.0  4.0  4.0  3.0\n",
       " 4.0  2.0  1.0  4.0  4.0\n",
       " 4.0  3.0  2.0  2.0  4.0\n",
       " 4.0  2.0  1.0  4.0  4.0\n",
       " 2.0  4.0  3.0  3.0  4.0"
      ]
     },
     "execution_count": 136,
     "metadata": {},
     "output_type": "execute_result"
    }
   ],
   "source": [
    "rand((1.0, 2.0, 3.0, 4.0), 5, 5)"
   ]
  },
  {
   "cell_type": "markdown",
   "id": "9b317700",
   "metadata": {},
   "source": [
    "# Statements"
   ]
  },
  {
   "cell_type": "markdown",
   "id": "eb1cb270-1e6f-4646-bd78-1234d299f548",
   "metadata": {},
   "source": [
    "## Iteration statements"
   ]
  },
  {
   "cell_type": "markdown",
   "id": "313bcf84",
   "metadata": {},
   "source": [
    "Iterating over a range of values is straightforward."
   ]
  },
  {
   "cell_type": "code",
   "execution_count": 179,
   "id": "861af017",
   "metadata": {},
   "outputs": [
    {
     "name": "stdout",
     "output_type": "stream",
     "text": [
      "1\n",
      "3\n",
      "5\n",
      "7\n",
      "9\n"
     ]
    }
   ],
   "source": [
    "for i in 1:2:10\n",
    "    println(i)\n",
    "end"
   ]
  },
  {
   "cell_type": "markdown",
   "id": "e1e0dcca",
   "metadata": {},
   "source": [
    "The same statement can be used to iterate over collections as you saw above."
   ]
  },
  {
   "cell_type": "code",
   "execution_count": 1,
   "id": "f942dbec",
   "metadata": {},
   "outputs": [
    {
     "data": {
      "text/plain": [
       "(4, 4)"
      ]
     },
     "execution_count": 1,
     "metadata": {},
     "output_type": "execute_result"
    }
   ],
   "source": [
    "a, b = 12, 16\n",
    "while a ≠ b\n",
    "    if a < b\n",
    "        b -= a\n",
    "    else\n",
    "        a -= b\n",
    "    end\n",
    "end\n",
    "a, b"
   ]
  },
  {
   "cell_type": "code",
   "execution_count": 12,
   "id": "6ac687a2",
   "metadata": {},
   "outputs": [
    {
     "data": {
      "text/plain": [
       "(4, 4)"
      ]
     },
     "execution_count": 12,
     "metadata": {},
     "output_type": "execute_result"
    }
   ],
   "source": [
    "a, b = 12, 16\n",
    "while a ≠ b\n",
    "    if a < b\n",
    "        b = b - a\n",
    "    else\n",
    "        a = a - b\n",
    "    end\n",
    "end\n",
    "a, b"
   ]
  },
  {
   "cell_type": "markdown",
   "id": "a993a0ab-107a-44a0-b21d-47f8c84f4f7d",
   "metadata": {},
   "source": [
    "## Conditional statements"
   ]
  },
  {
   "cell_type": "markdown",
   "id": "160e456a",
   "metadata": {},
   "source": [
    "The conditional statement was already illustrated above, but of course, there is also `elseif`."
   ]
  },
  {
   "cell_type": "code",
   "execution_count": 3,
   "id": "ee512b5f",
   "metadata": {},
   "outputs": [
    {
     "name": "stdout",
     "output_type": "stream",
     "text": [
      "no leap year\n"
     ]
    }
   ],
   "source": [
    "year = 1900\n",
    "if year % 400 == 0\n",
    "    println(\"leap year\")\n",
    "elseif year % 100 == 0\n",
    "    println(\"no leap year\")\n",
    "elseif year % 4 == 0\n",
    "    println(\"leap year\")\n",
    "else\n",
    "    println(\"no leap year\")\n",
    "end"
   ]
  },
  {
   "cell_type": "markdown",
   "id": "4e62fde4",
   "metadata": {},
   "source": [
    "# Methods"
   ]
  },
  {
   "cell_type": "markdown",
   "id": "1522376d",
   "metadata": {},
   "source": [
    "Functions are defined similarly to how you would do that in MATLAB, although there are some differences."
   ]
  },
  {
   "cell_type": "code",
   "execution_count": 79,
   "id": "7d29a465",
   "metadata": {},
   "outputs": [
    {
     "data": {
      "text/plain": [
       "f (generic function with 3 methods)"
      ]
     },
     "execution_count": 79,
     "metadata": {},
     "output_type": "execute_result"
    }
   ],
   "source": [
    "function f(x, y)\n",
    "    x = 3\n",
    "    x + y\n",
    "end"
   ]
  },
  {
   "cell_type": "markdown",
   "id": "82d32e0c",
   "metadata": {},
   "source": [
    "Scoping rules are what you would expect."
   ]
  },
  {
   "cell_type": "code",
   "execution_count": 83,
   "id": "465ba456",
   "metadata": {},
   "outputs": [
    {
     "data": {
      "text/plain": [
       "6"
      ]
     },
     "execution_count": 83,
     "metadata": {},
     "output_type": "execute_result"
    }
   ],
   "source": [
    "f(4, 3)"
   ]
  },
  {
   "cell_type": "code",
   "execution_count": 84,
   "id": "71e6de40",
   "metadata": {},
   "outputs": [
    {
     "data": {
      "text/plain": [
       "2"
      ]
     },
     "execution_count": 84,
     "metadata": {},
     "output_type": "execute_result"
    }
   ],
   "source": [
    "x = 2"
   ]
  },
  {
   "cell_type": "code",
   "execution_count": 85,
   "id": "a02f9908",
   "metadata": {},
   "outputs": [
    {
     "data": {
      "text/plain": [
       "8"
      ]
     },
     "execution_count": 85,
     "metadata": {},
     "output_type": "execute_result"
    }
   ],
   "source": [
    "f(x, 5)"
   ]
  },
  {
   "cell_type": "code",
   "execution_count": 86,
   "id": "760a7379",
   "metadata": {},
   "outputs": [
    {
     "data": {
      "text/plain": [
       "2"
      ]
     },
     "execution_count": 86,
     "metadata": {},
     "output_type": "execute_result"
    }
   ],
   "source": [
    "x"
   ]
  },
  {
   "cell_type": "code",
   "execution_count": 91,
   "id": "407a3c37",
   "metadata": {
    "scrolled": true
   },
   "outputs": [
    {
     "data": {
      "text/plain": [
       "g (generic function with 2 methods)"
      ]
     },
     "execution_count": 91,
     "metadata": {},
     "output_type": "execute_result"
    }
   ],
   "source": [
    "function g(y)\n",
    "    x*y\n",
    "end"
   ]
  },
  {
   "cell_type": "code",
   "execution_count": 93,
   "id": "b858d5ee",
   "metadata": {},
   "outputs": [
    {
     "data": {
      "text/plain": [
       "14"
      ]
     },
     "execution_count": 93,
     "metadata": {},
     "output_type": "execute_result"
    }
   ],
   "source": [
    "g(7)"
   ]
  },
  {
   "cell_type": "markdown",
   "id": "09a0744b",
   "metadata": {},
   "source": [
    "Lambda functions are supported as well."
   ]
  },
  {
   "cell_type": "code",
   "execution_count": 87,
   "id": "0deaac00",
   "metadata": {},
   "outputs": [
    {
     "data": {
      "text/plain": [
       "3-element Vector{Int64}:\n",
       "  2\n",
       " 14\n",
       " 10"
      ]
     },
     "execution_count": 87,
     "metadata": {},
     "output_type": "execute_result"
    }
   ],
   "source": [
    "map(x -> 2x, [1, 7, 5])"
   ]
  },
  {
   "cell_type": "markdown",
   "id": "f3e21a06",
   "metadata": {},
   "source": [
    "Function signatures can contain type information, the following function computes the logical negation mapped to the symbol $\\neg$ (`\\neg` + tab)."
   ]
  },
  {
   "cell_type": "code",
   "execution_count": 90,
   "id": "cf15a586",
   "metadata": {},
   "outputs": [
    {
     "data": {
      "text/plain": [
       "¬ (generic function with 2 methods)"
      ]
     },
     "execution_count": 90,
     "metadata": {},
     "output_type": "execute_result"
    }
   ],
   "source": [
    "function ¬(b::Bool)::Bool\n",
    "    return !b\n",
    "end"
   ]
  },
  {
   "cell_type": "code",
   "execution_count": 89,
   "id": "b226d89b",
   "metadata": {},
   "outputs": [
    {
     "data": {
      "text/plain": [
       "true"
      ]
     },
     "execution_count": 89,
     "metadata": {},
     "output_type": "execute_result"
    }
   ],
   "source": [
    "¬ false"
   ]
  },
  {
   "cell_type": "markdown",
   "id": "2e30dff0",
   "metadata": {},
   "source": [
    "Function can be composed using the $\\circ$ operator (`\\circ` + tab).  Consider two function $f$ and $g$."
   ]
  },
  {
   "cell_type": "code",
   "execution_count": 100,
   "id": "f8a5cdd2",
   "metadata": {},
   "outputs": [
    {
     "data": {
      "text/plain": [
       "f (generic function with 3 methods)"
      ]
     },
     "execution_count": 100,
     "metadata": {},
     "output_type": "execute_result"
    }
   ],
   "source": [
    "function f(x::Float64)::Float64\n",
    "    return x^2\n",
    "end"
   ]
  },
  {
   "cell_type": "code",
   "execution_count": 101,
   "id": "403098e9",
   "metadata": {},
   "outputs": [
    {
     "data": {
      "text/plain": [
       "g (generic function with 2 methods)"
      ]
     },
     "execution_count": 101,
     "metadata": {},
     "output_type": "execute_result"
    }
   ],
   "source": [
    "function g(x::Float64)::Float64\n",
    "    return √x\n",
    "end"
   ]
  },
  {
   "cell_type": "code",
   "execution_count": 102,
   "id": "ab488429",
   "metadata": {},
   "outputs": [
    {
     "data": {
      "text/plain": [
       "(5.000000000000001, 5.0)"
      ]
     },
     "execution_count": 102,
     "metadata": {},
     "output_type": "execute_result"
    }
   ],
   "source": [
    "(f ∘ g)(5.0), (g ∘ f)(5.0)"
   ]
  },
  {
   "cell_type": "markdown",
   "id": "951f14b0",
   "metadata": {},
   "source": [
    "## Closures"
   ]
  },
  {
   "cell_type": "markdown",
   "id": "16707b19",
   "metadata": {},
   "source": [
    "Higher order function are also supported.  The following function creates a comparison operator that tests whether $|x - y| < \\delta$ for a given values of $\\delta$."
   ]
  },
  {
   "cell_type": "code",
   "execution_count": 114,
   "id": "f4eadb93",
   "metadata": {},
   "outputs": [
    {
     "data": {
      "text/plain": [
       "create_cmp (generic function with 1 method)"
      ]
     },
     "execution_count": 114,
     "metadata": {},
     "output_type": "execute_result"
    }
   ],
   "source": [
    "function create_cmp(δ::Float64)\n",
    "    function approx_eq(x::Float64, y::Float64)::Bool\n",
    "        abs(x - y) < δ\n",
    "    end\n",
    "    return approx_eq\n",
    "end"
   ]
  },
  {
   "cell_type": "code",
   "execution_count": 115,
   "id": "9b144c0f",
   "metadata": {},
   "outputs": [
    {
     "data": {
      "text/plain": [
       "(::var\"#approx_eq#8\"{Float64}) (generic function with 1 method)"
      ]
     },
     "execution_count": 115,
     "metadata": {},
     "output_type": "execute_result"
    }
   ],
   "source": [
    "≊ = create_cmp(1e-3)"
   ]
  },
  {
   "cell_type": "markdown",
   "id": "fee8b3c8",
   "metadata": {},
   "source": [
    "This can be used as a function with two arguments."
   ]
  },
  {
   "cell_type": "code",
   "execution_count": 118,
   "id": "2a20b976",
   "metadata": {},
   "outputs": [
    {
     "data": {
      "text/plain": [
       "true"
      ]
     },
     "execution_count": 118,
     "metadata": {},
     "output_type": "execute_result"
    }
   ],
   "source": [
    "≊(3.0, 3.00001)"
   ]
  },
  {
   "cell_type": "code",
   "execution_count": 119,
   "id": "68496e08",
   "metadata": {},
   "outputs": [
    {
     "data": {
      "text/plain": [
       "false"
      ]
     },
     "execution_count": 119,
     "metadata": {},
     "output_type": "execute_result"
    }
   ],
   "source": [
    "≊(3.0, 3.01)"
   ]
  },
  {
   "cell_type": "markdown",
   "id": "4e5580d8",
   "metadata": {},
   "source": [
    "However, it can also be used as a binary operator."
   ]
  },
  {
   "cell_type": "code",
   "execution_count": 116,
   "id": "fef73e9f",
   "metadata": {},
   "outputs": [
    {
     "data": {
      "text/plain": [
       "false"
      ]
     },
     "execution_count": 116,
     "metadata": {},
     "output_type": "execute_result"
    }
   ],
   "source": [
    "3.0 ≊ 3.01"
   ]
  },
  {
   "cell_type": "code",
   "execution_count": 117,
   "id": "51f11cc6",
   "metadata": {},
   "outputs": [
    {
     "data": {
      "text/plain": [
       "true"
      ]
     },
     "execution_count": 117,
     "metadata": {},
     "output_type": "execute_result"
    }
   ],
   "source": [
    "3.0 ≊ 3.00001"
   ]
  },
  {
   "cell_type": "markdown",
   "id": "f30db604",
   "metadata": {},
   "source": [
    "Note: there is no way to set the priority of user-defined operators in Julia."
   ]
  },
  {
   "cell_type": "markdown",
   "id": "5de0fdf7",
   "metadata": {},
   "source": [
    "## Optional and keyword arguments"
   ]
  },
  {
   "cell_type": "markdown",
   "id": "268c9ad8",
   "metadata": {},
   "source": [
    "By default, keyword arguments can not be used."
   ]
  },
  {
   "cell_type": "code",
   "execution_count": 145,
   "id": "a3427b36",
   "metadata": {},
   "outputs": [
    {
     "data": {
      "text/plain": [
       "f1 (generic function with 1 method)"
      ]
     },
     "execution_count": 145,
     "metadata": {},
     "output_type": "execute_result"
    }
   ],
   "source": [
    "function f1(x::Float64, y::Float64, z::Float64)::Float64\n",
    "    x + y*z\n",
    "end"
   ]
  },
  {
   "cell_type": "code",
   "execution_count": 146,
   "id": "422348fd",
   "metadata": {},
   "outputs": [
    {
     "data": {
      "text/plain": [
       "7.0"
      ]
     },
     "execution_count": 146,
     "metadata": {},
     "output_type": "execute_result"
    }
   ],
   "source": [
    "f1(1.0, 2.0, 3.0)"
   ]
  },
  {
   "cell_type": "code",
   "execution_count": 151,
   "id": "9601bc06",
   "metadata": {},
   "outputs": [
    {
     "ename": "LoadError",
     "evalue": "MethodError: no method matching f1(; z=3.0, x=1.0, y=2.0)\n\u001b[0mClosest candidates are:\n\u001b[0m  f1(\u001b[91m::Float64\u001b[39m, \u001b[91m::Float64\u001b[39m, \u001b[91m::Float64\u001b[39m) at In[145]:1\u001b[91m got unsupported keyword arguments \"z\", \"x\", \"y\"\u001b[39m",
     "output_type": "error",
     "traceback": [
      "MethodError: no method matching f1(; z=3.0, x=1.0, y=2.0)\n\u001b[0mClosest candidates are:\n\u001b[0m  f1(\u001b[91m::Float64\u001b[39m, \u001b[91m::Float64\u001b[39m, \u001b[91m::Float64\u001b[39m) at In[145]:1\u001b[91m got unsupported keyword arguments \"z\", \"x\", \"y\"\u001b[39m",
      "",
      "Stacktrace:",
      " [1] top-level scope",
      "   @ In[151]:1",
      " [2] eval",
      "   @ ./boot.jl:360 [inlined]",
      " [3] include_string(mapexpr::typeof(REPL.softscope), mod::Module, code::String, filename::String)",
      "   @ Base ./loading.jl:1094"
     ]
    }
   ],
   "source": [
    "f1(z=3.0, x=1.0, y=2.0)"
   ]
  },
  {
   "cell_type": "markdown",
   "id": "99f4c276",
   "metadata": {},
   "source": [
    "Julia allows keyword arguments though, but you have to declare that explicitly.  All arguments following the semicolon are keyword arguments."
   ]
  },
  {
   "cell_type": "code",
   "execution_count": 147,
   "id": "51c3eedf",
   "metadata": {},
   "outputs": [
    {
     "data": {
      "text/plain": [
       "f2 (generic function with 1 method)"
      ]
     },
     "execution_count": 147,
     "metadata": {},
     "output_type": "execute_result"
    }
   ],
   "source": [
    "function f2(; x::Float64, y::Float64, z::Float64)::Float64\n",
    "    x + y*z\n",
    "end"
   ]
  },
  {
   "cell_type": "code",
   "execution_count": 148,
   "id": "8aa7a6ba",
   "metadata": {},
   "outputs": [
    {
     "data": {
      "text/plain": [
       "7.0"
      ]
     },
     "execution_count": 148,
     "metadata": {},
     "output_type": "execute_result"
    }
   ],
   "source": [
    "f2(z=3.0, x=1.0, y=2.0)"
   ]
  },
  {
   "cell_type": "markdown",
   "id": "b7116cb6",
   "metadata": {},
   "source": [
    "Optional arguments can also be specified."
   ]
  },
  {
   "cell_type": "code",
   "execution_count": 149,
   "id": "15bbff88",
   "metadata": {},
   "outputs": [
    {
     "data": {
      "text/plain": [
       "f3 (generic function with 2 methods)"
      ]
     },
     "execution_count": 149,
     "metadata": {},
     "output_type": "execute_result"
    }
   ],
   "source": [
    "function f3(x::Float64, y::Float64, z::Float64=3.0)::Float64\n",
    "    x + y*z\n",
    "end"
   ]
  },
  {
   "cell_type": "code",
   "execution_count": 150,
   "id": "db3c862e",
   "metadata": {},
   "outputs": [
    {
     "data": {
      "text/plain": [
       "7.0"
      ]
     },
     "execution_count": 150,
     "metadata": {},
     "output_type": "execute_result"
    }
   ],
   "source": [
    "f3(1.0, 2.0)"
   ]
  },
  {
   "cell_type": "markdown",
   "id": "6124be3c-9338-4074-bada-b5e3283daa36",
   "metadata": {},
   "source": [
    "## Lambda functions"
   ]
  },
  {
   "cell_type": "markdown",
   "id": "f9273910-d334-4e39-8587-4b43f8f812e3",
   "metadata": {},
   "source": [
    "As in many programming languages, Julia supports lambda functions."
   ]
  },
  {
   "cell_type": "code",
   "execution_count": 1,
   "id": "38e90e94-c479-4175-badc-8ca48137359a",
   "metadata": {},
   "outputs": [
    {
     "data": {
      "text/plain": [
       "5-element Vector{Float64}:\n",
       " 1.0\n",
       " 1.4142135623730951\n",
       " 1.7320508075688772\n",
       " 2.0\n",
       " 2.23606797749979"
      ]
     },
     "execution_count": 1,
     "metadata": {},
     "output_type": "execute_result"
    }
   ],
   "source": [
    "map((x) -> √x, 1:5)"
   ]
  }
 ],
 "metadata": {
  "kernelspec": {
   "display_name": "Julia 1.6.1",
   "language": "julia",
   "name": "julia-1.6"
  },
  "language_info": {
   "file_extension": ".jl",
   "mimetype": "application/julia",
   "name": "julia",
   "version": "1.6.1"
  }
 },
 "nbformat": 4,
 "nbformat_minor": 5
}
