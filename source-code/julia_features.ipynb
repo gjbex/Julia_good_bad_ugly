{
 "cells": [
  {
   "cell_type": "markdown",
   "id": "1f077b02",
   "metadata": {},
   "source": [
    "# Simple computations"
   ]
  },
  {
   "cell_type": "markdown",
   "id": "c91430fc",
   "metadata": {},
   "source": [
    "There are few (but some) surprises when doing simple computations in Julia."
   ]
  },
  {
   "cell_type": "code",
   "execution_count": 1,
   "id": "2de2ce60",
   "metadata": {},
   "outputs": [
    {
     "data": {
      "text/plain": [
       "4"
      ]
     },
     "execution_count": 1,
     "metadata": {},
     "output_type": "execute_result"
    }
   ],
   "source": [
    "1 + 3"
   ]
  },
  {
   "cell_type": "markdown",
   "id": "339ae92b",
   "metadata": {},
   "source": [
    "A nifty feature is that you can use unicode characters in variable names.  In a notebook, these can be typed in $\\LaTeX$ notation, after you press the tab key, they will be converted into unicode."
   ]
  },
  {
   "cell_type": "code",
   "execution_count": 2,
   "id": "f56d0a01",
   "metadata": {},
   "outputs": [
    {
     "data": {
      "text/plain": [
       "3.1"
      ]
     },
     "execution_count": 2,
     "metadata": {},
     "output_type": "execute_result"
    }
   ],
   "source": [
    "β = 3.1"
   ]
  },
  {
   "cell_type": "markdown",
   "id": "c9ab1fba",
   "metadata": {},
   "source": [
    "Note that like MATLAB, Julia will print the result of a statement, unless you end it with a semi-colon."
   ]
  },
  {
   "cell_type": "code",
   "execution_count": 3,
   "id": "0093a88f",
   "metadata": {},
   "outputs": [],
   "source": [
    "β = 3.3;"
   ]
  },
  {
   "cell_type": "markdown",
   "id": "4786b6d9",
   "metadata": {},
   "source": [
    "The type of a value can be determined using the `typeof` function.  By default, floating piont valies are double precision (64 bit)."
   ]
  },
  {
   "cell_type": "code",
   "execution_count": 4,
   "id": "ae8a1df4",
   "metadata": {},
   "outputs": [
    {
     "data": {
      "text/plain": [
       "Float64"
      ]
     },
     "execution_count": 4,
     "metadata": {},
     "output_type": "execute_result"
    }
   ],
   "source": [
    "typeof(β)"
   ]
  },
  {
   "cell_type": "markdown",
   "id": "14033a17",
   "metadata": {},
   "source": [
    "To create a single precision floating point value, you would use the following notation."
   ]
  },
  {
   "cell_type": "code",
   "execution_count": 5,
   "id": "ce9c8caf",
   "metadata": {},
   "outputs": [
    {
     "data": {
      "text/plain": [
       "Float32"
      ]
     },
     "execution_count": 5,
     "metadata": {},
     "output_type": "execute_result"
    }
   ],
   "source": [
    "typeof(3.1f0)"
   ]
  },
  {
   "cell_type": "markdown",
   "id": "9bcbd63f",
   "metadata": {},
   "source": [
    "Note that unlike in C/C++, you have to specify the exponent, so the `f` is not a type qualifier, it is simply denoting the exponent part of the floating point number (`e` for double precision, `f` for single precision)."
   ]
  },
  {
   "cell_type": "markdown",
   "id": "86f995ee",
   "metadata": {},
   "source": [
    "You can explicitely create a value of the type you want using the conversion functions, e.g., an 8-bit integer value."
   ]
  },
  {
   "cell_type": "code",
   "execution_count": 6,
   "id": "a4315706",
   "metadata": {},
   "outputs": [
    {
     "data": {
      "text/plain": [
       "3"
      ]
     },
     "execution_count": 6,
     "metadata": {},
     "output_type": "execute_result"
    }
   ],
   "source": [
    "bits = Int8(3)"
   ]
  },
  {
   "cell_type": "code",
   "execution_count": 7,
   "id": "1fdbebb6",
   "metadata": {},
   "outputs": [
    {
     "data": {
      "text/plain": [
       "Int8"
      ]
     },
     "execution_count": 7,
     "metadata": {},
     "output_type": "execute_result"
    }
   ],
   "source": [
    "typeof(bits)"
   ]
  },
  {
   "cell_type": "markdown",
   "id": "74f82025",
   "metadata": {},
   "source": [
    "Julia has made a halfhearted attempt at being smart at math.  When you multiply a constant value and a variable, you don't have to use the multiplication operator, it is implicit."
   ]
  },
  {
   "cell_type": "code",
   "execution_count": 8,
   "id": "f4db45a5",
   "metadata": {},
   "outputs": [
    {
     "data": {
      "text/plain": [
       "9.899999999999999"
      ]
     },
     "execution_count": 8,
     "metadata": {},
     "output_type": "execute_result"
    }
   ],
   "source": [
    "3β"
   ]
  },
  {
   "cell_type": "markdown",
   "id": "04d35838",
   "metadata": {},
   "source": [
    "Some functions also have a representation as a unicode symbol, for instance the square root function (`\\sqrt` + tab)."
   ]
  },
  {
   "cell_type": "code",
   "execution_count": 9,
   "id": "44c5ac67",
   "metadata": {},
   "outputs": [
    {
     "data": {
      "text/plain": [
       "2.23606797749979"
      ]
     },
     "execution_count": 9,
     "metadata": {},
     "output_type": "execute_result"
    }
   ],
   "source": [
    "√5"
   ]
  },
  {
   "cell_type": "markdown",
   "id": "dfb4962a",
   "metadata": {},
   "source": [
    "Of course, you can also use the function by name."
   ]
  },
  {
   "cell_type": "code",
   "execution_count": 10,
   "id": "ebcf2b22",
   "metadata": {},
   "outputs": [
    {
     "data": {
      "text/plain": [
       "2.23606797749979"
      ]
     },
     "execution_count": 10,
     "metadata": {},
     "output_type": "execute_result"
    }
   ],
   "source": [
    "sqrt(5)"
   ]
  },
  {
   "cell_type": "code",
   "execution_count": 11,
   "id": "3cbf9a40",
   "metadata": {},
   "outputs": [
    {
     "data": {
      "text/plain": [
       "3"
      ]
     },
     "execution_count": 11,
     "metadata": {},
     "output_type": "execute_result"
    }
   ],
   "source": [
    "x = 3"
   ]
  },
  {
   "cell_type": "markdown",
   "id": "2749fe0a",
   "metadata": {},
   "source": [
    "Note that the \"mathematical\" notation is intuitive, but this may lead to bugs."
   ]
  },
  {
   "cell_type": "code",
   "execution_count": 12,
   "id": "519a5ebb",
   "metadata": {},
   "outputs": [
    {
     "data": {
      "text/plain": [
       "64"
      ]
     },
     "execution_count": 12,
     "metadata": {},
     "output_type": "execute_result"
    }
   ],
   "source": [
    "2^2x"
   ]
  },
  {
   "cell_type": "markdown",
   "id": "3dc5fb74",
   "metadata": {},
   "source": [
    "The above expression is interpreted as $2^{2x}$, which is likely your intension, however it may get confusing since it is not equivalent to the following expression."
   ]
  },
  {
   "cell_type": "code",
   "execution_count": 13,
   "id": "58ed94ff",
   "metadata": {},
   "outputs": [
    {
     "data": {
      "text/plain": [
       "12"
      ]
     },
     "execution_count": 13,
     "metadata": {},
     "output_type": "execute_result"
    }
   ],
   "source": [
    "2^2*x"
   ]
  },
  {
   "cell_type": "markdown",
   "id": "322d9099",
   "metadata": {},
   "source": [
    "Also, the attempt at mathematical notation is half-hearted since the following doesn't compute."
   ]
  },
  {
   "cell_type": "code",
   "execution_count": 14,
   "id": "f2c58c6b",
   "metadata": {},
   "outputs": [
    {
     "ename": "LoadError",
     "evalue": "syntax: \"try\" at In[14]:1 expected \"end\", got \"x\"",
     "output_type": "error",
     "traceback": [
      "syntax: \"try\" at In[14]:1 expected \"end\", got \"x\"",
      "",
      "Stacktrace:",
      " [1] top-level scope",
      "   @ In[14]:2",
      " [2] eval",
      "   @ ./boot.jl:360 [inlined]",
      " [3] include_string(mapexpr::typeof(REPL.softscope), mod::Module, code::String, filename::String)",
      "   @ Base ./loading.jl:1094"
     ]
    }
   ],
   "source": [
    "try\n",
    "    β x\n",
    "catch error\n",
    "    println(error)\n",
    "end"
   ]
  },
  {
   "cell_type": "markdown",
   "id": "ffbcd56b",
   "metadata": {},
   "source": [
    "Mathematica goes all the way by reserving parenthesis for grouping and using brackets for function calls."
   ]
  },
  {
   "cell_type": "markdown",
   "id": "db2d1c14",
   "metadata": {},
   "source": [
    "Like Python 3, the division operator applied to integers results in a floating point value."
   ]
  },
  {
   "cell_type": "code",
   "execution_count": 15,
   "id": "acc6c0d1",
   "metadata": {},
   "outputs": [
    {
     "data": {
      "text/plain": [
       "0.6"
      ]
     },
     "execution_count": 15,
     "metadata": {},
     "output_type": "execute_result"
    }
   ],
   "source": [
    "3/5"
   ]
  },
  {
   "cell_type": "markdown",
   "id": "f47af4dc",
   "metadata": {},
   "source": [
    "The integer division has its unicode operator `\\div` + tab."
   ]
  },
  {
   "cell_type": "code",
   "execution_count": 16,
   "id": "9f983dbc",
   "metadata": {},
   "outputs": [
    {
     "data": {
      "text/plain": [
       "1"
      ]
     },
     "execution_count": 16,
     "metadata": {},
     "output_type": "execute_result"
    }
   ],
   "source": [
    "3 ÷ 2"
   ]
  },
  {
   "cell_type": "markdown",
   "id": "1c32c87c",
   "metadata": {},
   "source": [
    "For some operators, unicode character equivalents are available, e.g., the bit-wise exclusive or."
   ]
  },
  {
   "cell_type": "code",
   "execution_count": 17,
   "id": "907d764a",
   "metadata": {
    "scrolled": true
   },
   "outputs": [
    {
     "data": {
      "text/plain": [
       "6"
      ]
     },
     "execution_count": 17,
     "metadata": {},
     "output_type": "execute_result"
    }
   ],
   "source": [
    "5 ⊻ 3"
   ]
  },
  {
   "cell_type": "code",
   "execution_count": 18,
   "id": "ed5def0e",
   "metadata": {},
   "outputs": [
    {
     "data": {
      "text/plain": [
       "6"
      ]
     },
     "execution_count": 18,
     "metadata": {},
     "output_type": "execute_result"
    }
   ],
   "source": [
    "xor(5, 3)"
   ]
  },
  {
   "cell_type": "raw",
   "id": "6272c1f6",
   "metadata": {},
   "source": [
    "It would have made sense to add definitions for the logical or bit-wise operators such as $\\vee$ and $\\wedge$, but that opportunity was missed."
   ]
  },
  {
   "cell_type": "code",
   "execution_count": 19,
   "id": "cc3514c1",
   "metadata": {},
   "outputs": [
    {
     "name": "stdout",
     "output_type": "stream",
     "text": [
      "UndefVarError(:∨)\n"
     ]
    }
   ],
   "source": [
    "try\n",
    "    3 ∨ 7\n",
    "catch error\n",
    "    println(error)\n",
    "end"
   ]
  },
  {
   "cell_type": "markdown",
   "id": "90e4019c",
   "metadata": {},
   "source": [
    "Also the comparison operators have their unicode counterpart, e.g,, `\\le` + tab and `\\ne` + tab."
   ]
  },
  {
   "cell_type": "code",
   "execution_count": 20,
   "id": "f2c9499c",
   "metadata": {},
   "outputs": [
    {
     "data": {
      "text/plain": [
       "true"
      ]
     },
     "execution_count": 20,
     "metadata": {},
     "output_type": "execute_result"
    }
   ],
   "source": [
    "3 ≤ 5"
   ]
  },
  {
   "cell_type": "code",
   "execution_count": 21,
   "id": "49590cce",
   "metadata": {
    "scrolled": true
   },
   "outputs": [
    {
     "data": {
      "text/plain": [
       "true"
      ]
     },
     "execution_count": 21,
     "metadata": {},
     "output_type": "execute_result"
    }
   ],
   "source": [
    "3 ≠ 5"
   ]
  },
  {
   "cell_type": "markdown",
   "id": "1ac974d5",
   "metadata": {},
   "source": [
    "# Types"
   ]
  },
  {
   "cell_type": "markdown",
   "id": "0dd9b765",
   "metadata": {},
   "source": [
    "## Real numbers"
   ]
  },
  {
   "cell_type": "markdown",
   "id": "03468d80",
   "metadata": {},
   "source": [
    "Julia support half, single and double precision, as `Float16`, `Float32` and `Float64`."
   ]
  },
  {
   "cell_type": "markdown",
   "id": "8acbfc20",
   "metadata": {},
   "source": [
    "## Complex numbers"
   ]
  },
  {
   "cell_type": "markdown",
   "id": "a5c5bf37",
   "metadata": {},
   "source": [
    "You can work with complex numbers, the notation is a bit more cumbersome than in Python."
   ]
  },
  {
   "cell_type": "code",
   "execution_count": 22,
   "id": "f6e008b5",
   "metadata": {},
   "outputs": [
    {
     "name": "stdout",
     "output_type": "stream",
     "text": [
      "DomainError(-5.0, \"sqrt will only return a complex result if called with a complex argument. Try sqrt(Complex(x)).\")\n"
     ]
    }
   ],
   "source": [
    "try\n",
    "    √-5\n",
    "catch error\n",
    "    println(error)\n",
    "end"
   ]
  },
  {
   "cell_type": "code",
   "execution_count": 23,
   "id": "3f114be6",
   "metadata": {
    "scrolled": true
   },
   "outputs": [
    {
     "data": {
      "text/plain": [
       "0.0 + 2.23606797749979im"
      ]
     },
     "execution_count": 23,
     "metadata": {},
     "output_type": "execute_result"
    }
   ],
   "source": [
    "√(-5 + 0im)"
   ]
  },
  {
   "cell_type": "markdown",
   "id": "4e4a29e6",
   "metadata": {},
   "source": [
    "## Integers"
   ]
  },
  {
   "cell_type": "markdown",
   "id": "0c4e4bd8",
   "metadata": {},
   "source": [
    "Julia supports many integer types: 8, 16, 32 and 64 bits, signed and unsigned, so `Int8`, `UInt8`, `Int16`, `UInt16`, etc."
   ]
  },
  {
   "cell_type": "markdown",
   "id": "a313e5b3",
   "metadata": {},
   "source": [
    "## Strings"
   ]
  },
  {
   "cell_type": "code",
   "execution_count": 24,
   "id": "1bd0de46",
   "metadata": {},
   "outputs": [
    {
     "data": {
      "text/plain": [
       "\"hello\""
      ]
     },
     "execution_count": 24,
     "metadata": {},
     "output_type": "execute_result"
    }
   ],
   "source": [
    "s = \"hello\""
   ]
  },
  {
   "cell_type": "code",
   "execution_count": 25,
   "id": "6f3c8da0",
   "metadata": {},
   "outputs": [
    {
     "data": {
      "text/plain": [
       "\"hel\""
      ]
     },
     "execution_count": 25,
     "metadata": {},
     "output_type": "execute_result"
    }
   ],
   "source": [
    "s[1:3]"
   ]
  },
  {
   "cell_type": "code",
   "execution_count": 26,
   "id": "f1d887df",
   "metadata": {},
   "outputs": [
    {
     "data": {
      "text/plain": [
       "'o': ASCII/Unicode U+006F (category Ll: Letter, lowercase)"
      ]
     },
     "execution_count": 26,
     "metadata": {},
     "output_type": "execute_result"
    }
   ],
   "source": [
    "s[end]"
   ]
  },
  {
   "cell_type": "code",
   "execution_count": 27,
   "id": "05777eba",
   "metadata": {},
   "outputs": [
    {
     "data": {
      "text/plain": [
       "'h': ASCII/Unicode U+0068 (category Ll: Letter, lowercase)"
      ]
     },
     "execution_count": 27,
     "metadata": {},
     "output_type": "execute_result"
    }
   ],
   "source": [
    "s[begin]"
   ]
  },
  {
   "cell_type": "code",
   "execution_count": 28,
   "id": "eac523ac",
   "metadata": {},
   "outputs": [
    {
     "data": {
      "text/plain": [
       "'l': ASCII/Unicode U+006C (category Ll: Letter, lowercase)"
      ]
     },
     "execution_count": 28,
     "metadata": {},
     "output_type": "execute_result"
    }
   ],
   "source": [
    "s[3]"
   ]
  },
  {
   "cell_type": "markdown",
   "id": "b084a810",
   "metadata": {},
   "source": [
    "Note that Julia makes the distinction between characters and strings depending on the quotes you use."
   ]
  },
  {
   "cell_type": "code",
   "execution_count": 29,
   "id": "1f18e101",
   "metadata": {},
   "outputs": [
    {
     "data": {
      "text/plain": [
       "Char"
      ]
     },
     "execution_count": 29,
     "metadata": {},
     "output_type": "execute_result"
    }
   ],
   "source": [
    "typeof('a')"
   ]
  },
  {
   "cell_type": "code",
   "execution_count": 30,
   "id": "677d87ba",
   "metadata": {},
   "outputs": [
    {
     "data": {
      "text/plain": [
       "String"
      ]
     },
     "execution_count": 30,
     "metadata": {},
     "output_type": "execute_result"
    }
   ],
   "source": [
    "typeof(\"a\")"
   ]
  },
  {
   "cell_type": "markdown",
   "id": "fcc27b7d",
   "metadata": {},
   "source": [
    "## Tuples and name tuples"
   ]
  },
  {
   "cell_type": "markdown",
   "id": "87aa2dec",
   "metadata": {},
   "source": [
    "Tuples and named tuples work as expected, and Julia has automatic tuple packing and unpacking similar to Python."
   ]
  },
  {
   "cell_type": "code",
   "execution_count": 152,
   "id": "912d052b",
   "metadata": {},
   "outputs": [
    {
     "data": {
      "text/plain": [
       "(3, 'a', \"fourteen\")"
      ]
     },
     "execution_count": 152,
     "metadata": {},
     "output_type": "execute_result"
    }
   ],
   "source": [
    "t = (3, 'a', \"fourteen\")"
   ]
  },
  {
   "cell_type": "code",
   "execution_count": 153,
   "id": "17a512ee",
   "metadata": {},
   "outputs": [
    {
     "data": {
      "text/plain": [
       "\"fourteen\""
      ]
     },
     "execution_count": 153,
     "metadata": {},
     "output_type": "execute_result"
    }
   ],
   "source": [
    "t[3]"
   ]
  },
  {
   "cell_type": "code",
   "execution_count": 154,
   "id": "f4c5f874",
   "metadata": {},
   "outputs": [
    {
     "data": {
      "text/plain": [
       "(x = 1.2, y = 2.3)"
      ]
     },
     "execution_count": 154,
     "metadata": {},
     "output_type": "execute_result"
    }
   ],
   "source": [
    "coords = (x=1.2, y=2.3)"
   ]
  },
  {
   "cell_type": "code",
   "execution_count": 155,
   "id": "52e5800b",
   "metadata": {},
   "outputs": [
    {
     "data": {
      "text/plain": [
       "(1.2, 1.2)"
      ]
     },
     "execution_count": 155,
     "metadata": {},
     "output_type": "execute_result"
    }
   ],
   "source": [
    "coords[1], coords.x"
   ]
  },
  {
   "cell_type": "code",
   "execution_count": 156,
   "id": "00b0d7df",
   "metadata": {},
   "outputs": [
    {
     "data": {
      "text/plain": [
       "(x = 1.2, y = 2.3)"
      ]
     },
     "execution_count": 156,
     "metadata": {},
     "output_type": "execute_result"
    }
   ],
   "source": [
    "x, y = coords"
   ]
  },
  {
   "cell_type": "code",
   "execution_count": 157,
   "id": "7cf4c6b6",
   "metadata": {},
   "outputs": [
    {
     "data": {
      "text/plain": [
       "1.2"
      ]
     },
     "execution_count": 157,
     "metadata": {},
     "output_type": "execute_result"
    }
   ],
   "source": [
    "x"
   ]
  },
  {
   "cell_type": "markdown",
   "id": "0691bd50",
   "metadata": {},
   "source": [
    "Just like in Python, you can not modify a tuple once it is created."
   ]
  },
  {
   "cell_type": "code",
   "execution_count": 158,
   "id": "cd2f0212",
   "metadata": {},
   "outputs": [
    {
     "ename": "LoadError",
     "evalue": "MethodError: no method matching setindex!(::NamedTuple{(:x, :y), Tuple{Float64, Float64}}, ::Float64, ::Int64)",
     "output_type": "error",
     "traceback": [
      "MethodError: no method matching setindex!(::NamedTuple{(:x, :y), Tuple{Float64, Float64}}, ::Float64, ::Int64)",
      "",
      "Stacktrace:",
      " [1] top-level scope",
      "   @ In[158]:1",
      " [2] eval",
      "   @ ./boot.jl:360 [inlined]",
      " [3] include_string(mapexpr::typeof(REPL.softscope), mod::Module, code::String, filename::String)",
      "   @ Base ./loading.jl:1094"
     ]
    }
   ],
   "source": [
    "coords[1] = -0.3"
   ]
  },
  {
   "cell_type": "markdown",
   "id": "033caa45",
   "metadata": {},
   "source": [
    "## Dictionaries"
   ]
  },
  {
   "cell_type": "code",
   "execution_count": 159,
   "id": "be8a33cb",
   "metadata": {},
   "outputs": [
    {
     "data": {
      "text/plain": [
       "Dict{String, Int64} with 3 entries:\n",
       "  \"carol\" => 64\n",
       "  \"alice\" => 35\n",
       "  \"bob\"   => 25"
      ]
     },
     "execution_count": 159,
     "metadata": {},
     "output_type": "execute_result"
    }
   ],
   "source": [
    "dict = Dict(\"alice\" => 35, \"bob\" => 25, \"carol\" => 64)"
   ]
  },
  {
   "cell_type": "code",
   "execution_count": 160,
   "id": "a3ba1ed9",
   "metadata": {},
   "outputs": [
    {
     "data": {
      "text/plain": [
       "25"
      ]
     },
     "execution_count": 160,
     "metadata": {},
     "output_type": "execute_result"
    }
   ],
   "source": [
    "dict[\"bob\"]"
   ]
  },
  {
   "cell_type": "code",
   "execution_count": 161,
   "id": "f3ceba6d",
   "metadata": {},
   "outputs": [
    {
     "data": {
      "text/plain": [
       "36"
      ]
     },
     "execution_count": 161,
     "metadata": {},
     "output_type": "execute_result"
    }
   ],
   "source": [
    "dict[\"alice\"] = 36"
   ]
  },
  {
   "cell_type": "code",
   "execution_count": 169,
   "id": "d7ff687b",
   "metadata": {},
   "outputs": [
    {
     "data": {
      "text/plain": [
       "12"
      ]
     },
     "execution_count": 169,
     "metadata": {},
     "output_type": "execute_result"
    }
   ],
   "source": [
    "dict[\"dereck\"] = 12"
   ]
  },
  {
   "cell_type": "code",
   "execution_count": 170,
   "id": "db0dec26",
   "metadata": {},
   "outputs": [
    {
     "data": {
      "text/plain": [
       "Dict{String, Int64} with 4 entries:\n",
       "  \"carol\"  => 64\n",
       "  \"alice\"  => 36\n",
       "  \"bob\"    => 25\n",
       "  \"dereck\" => 12"
      ]
     },
     "execution_count": 170,
     "metadata": {},
     "output_type": "execute_result"
    }
   ],
   "source": [
    "dict"
   ]
  },
  {
   "cell_type": "code",
   "execution_count": 164,
   "id": "8462e995",
   "metadata": {},
   "outputs": [
    {
     "data": {
      "text/plain": [
       "true"
      ]
     },
     "execution_count": 164,
     "metadata": {},
     "output_type": "execute_result"
    }
   ],
   "source": [
    "haskey(dict, \"alice\")"
   ]
  },
  {
   "cell_type": "code",
   "execution_count": 168,
   "id": "1c237242",
   "metadata": {},
   "outputs": [
    {
     "name": "stdout",
     "output_type": "stream",
     "text": [
      "64\n",
      "36\n",
      "25\n"
     ]
    }
   ],
   "source": [
    "for name in keys(dict)\n",
    "    println(dict[name])\n",
    "end"
   ]
  },
  {
   "cell_type": "markdown",
   "id": "157fd315",
   "metadata": {},
   "source": [
    "## Sets"
   ]
  },
  {
   "cell_type": "code",
   "execution_count": 171,
   "id": "39e880a4",
   "metadata": {},
   "outputs": [
    {
     "data": {
      "text/plain": [
       "Set{Int64} with 3 elements:\n",
       "  5\n",
       "  7\n",
       "  3"
      ]
     },
     "execution_count": 171,
     "metadata": {},
     "output_type": "execute_result"
    }
   ],
   "source": [
    "s = Set([3, 5, 7])"
   ]
  },
  {
   "cell_type": "code",
   "execution_count": 174,
   "id": "9225bc4b",
   "metadata": {},
   "outputs": [
    {
     "data": {
      "text/plain": [
       "true"
      ]
     },
     "execution_count": 174,
     "metadata": {},
     "output_type": "execute_result"
    }
   ],
   "source": [
    "3 ∈ s"
   ]
  },
  {
   "cell_type": "code",
   "execution_count": 177,
   "id": "22fe214d",
   "metadata": {},
   "outputs": [
    {
     "data": {
      "text/plain": [
       "true"
      ]
     },
     "execution_count": 177,
     "metadata": {},
     "output_type": "execute_result"
    }
   ],
   "source": [
    "in(3, s)"
   ]
  },
  {
   "cell_type": "code",
   "execution_count": 178,
   "id": "dd37b1e5",
   "metadata": {},
   "outputs": [
    {
     "data": {
      "text/plain": [
       "false"
      ]
     },
     "execution_count": 178,
     "metadata": {},
     "output_type": "execute_result"
    }
   ],
   "source": [
    "4 ∈ s"
   ]
  },
  {
   "cell_type": "markdown",
   "id": "d6bf2054",
   "metadata": {},
   "source": [
    "Julia has functions for all common set operations: `union`, `intersect`, `setdiff`, `symdiff`, `issubset` and so on."
   ]
  },
  {
   "cell_type": "markdown",
   "id": "3526a968",
   "metadata": {},
   "source": [
    "# Vectors and matrices"
   ]
  },
  {
   "cell_type": "markdown",
   "id": "81340441",
   "metadata": {},
   "source": [
    "Needless to say, Julia has a lot of functionality for dealing with vectors and arrays.  A literal vector can be defined using brackets."
   ]
  },
  {
   "cell_type": "code",
   "execution_count": 31,
   "id": "e36358c5",
   "metadata": {},
   "outputs": [
    {
     "data": {
      "text/plain": [
       "([1 2 3], [2 3 7], [3, 1, -1])"
      ]
     },
     "execution_count": 31,
     "metadata": {},
     "output_type": "execute_result"
    }
   ],
   "source": [
    "v_1, v_2, v_3 = [1 2 3], [2 3 7], [3, 1, -1]"
   ]
  },
  {
   "cell_type": "code",
   "execution_count": 32,
   "id": "db349212",
   "metadata": {},
   "outputs": [
    {
     "data": {
      "text/plain": [
       "((1, 3), (3,))"
      ]
     },
     "execution_count": 32,
     "metadata": {},
     "output_type": "execute_result"
    }
   ],
   "source": [
    "size(v_1), size(v_3)"
   ]
  },
  {
   "cell_type": "markdown",
   "id": "5ee31e4c",
   "metadata": {},
   "source": [
    "As you can see, Julia distinguishes between row and column vectors.  It is a little bizar that a column vector and a row vector a matrix with a single row."
   ]
  },
  {
   "cell_type": "code",
   "execution_count": 33,
   "id": "3cd5c078",
   "metadata": {},
   "outputs": [
    {
     "data": {
      "text/plain": [
       "(Matrix{Int64}, Vector{Int64})"
      ]
     },
     "execution_count": 33,
     "metadata": {},
     "output_type": "execute_result"
    }
   ],
   "source": [
    "typeof(v_1), typeof(v_3)"
   ]
  },
  {
   "cell_type": "markdown",
   "id": "fe5ea1cc",
   "metadata": {},
   "source": [
    "Multiplying a constant is straightforward."
   ]
  },
  {
   "cell_type": "code",
   "execution_count": 34,
   "id": "b96505a2",
   "metadata": {},
   "outputs": [
    {
     "data": {
      "text/plain": [
       "1×3 Matrix{Int64}:\n",
       " 3  6  9"
      ]
     },
     "execution_count": 34,
     "metadata": {},
     "output_type": "execute_result"
    }
   ],
   "source": [
    "3v_1"
   ]
  },
  {
   "cell_type": "markdown",
   "id": "aa583dc9",
   "metadata": {},
   "source": [
    "However, to add a value to each vector element, you would have to use the element-wise operator `.+`.  This is counter-intuitive when you are used to numpy and is likely to cause some frustration."
   ]
  },
  {
   "cell_type": "code",
   "execution_count": 35,
   "id": "c497c6c3",
   "metadata": {},
   "outputs": [
    {
     "data": {
      "text/plain": [
       "1×3 Matrix{Int64}:\n",
       " 4  5  6"
      ]
     },
     "execution_count": 35,
     "metadata": {},
     "output_type": "execute_result"
    }
   ],
   "source": [
    "3 .+ v_1"
   ]
  },
  {
   "cell_type": "markdown",
   "id": "d14d6101",
   "metadata": {},
   "source": [
    "Element-wise operations can be done using dot-operators and functions, e.g,, for multiplying the elements of `v` and `w`."
   ]
  },
  {
   "cell_type": "code",
   "execution_count": 36,
   "id": "3d8775cb",
   "metadata": {},
   "outputs": [
    {
     "data": {
      "text/plain": [
       "1×3 Matrix{Int64}:\n",
       " 2  6  21"
      ]
     },
     "execution_count": 36,
     "metadata": {},
     "output_type": "execute_result"
    }
   ],
   "source": [
    "v_1 .* v_2"
   ]
  },
  {
   "cell_type": "markdown",
   "id": "062f9dfc",
   "metadata": {},
   "source": [
    "Note that applying a function to a vector also requires the dot-operator."
   ]
  },
  {
   "cell_type": "code",
   "execution_count": 37,
   "id": "cb775805",
   "metadata": {},
   "outputs": [
    {
     "data": {
      "text/plain": [
       "1×3 Matrix{Float64}:\n",
       " 1.0  1.41421  1.73205"
      ]
     },
     "execution_count": 37,
     "metadata": {},
     "output_type": "execute_result"
    }
   ],
   "source": [
    "sqrt.(v_1)"
   ]
  },
  {
   "cell_type": "markdown",
   "id": "4cedb615",
   "metadata": {},
   "source": [
    "Confusingly, element-wise operators are preceeded by a dot, element-wise function have a lot at the end."
   ]
  },
  {
   "cell_type": "code",
   "execution_count": 38,
   "id": "dd2a4aa0",
   "metadata": {},
   "outputs": [
    {
     "data": {
      "text/plain": [
       "1-element Vector{Int64}:\n",
       " 2"
      ]
     },
     "execution_count": 38,
     "metadata": {},
     "output_type": "execute_result"
    }
   ],
   "source": [
    "v_1 * v_3"
   ]
  },
  {
   "cell_type": "markdown",
   "id": "72129d4a",
   "metadata": {},
   "source": [
    "Multiplying a row and a column vector results in a vector with a single element.  As expected, dimensions must match."
   ]
  },
  {
   "cell_type": "code",
   "execution_count": 39,
   "id": "ecb9b786",
   "metadata": {
    "scrolled": false
   },
   "outputs": [
    {
     "name": "stdout",
     "output_type": "stream",
     "text": [
      "DimensionMismatch(\"matrix A has dimensions (1,3), matrix B has dimensions (1,3)\")\n"
     ]
    }
   ],
   "source": [
    "try\n",
    "    v_1 * v_2\n",
    "catch error\n",
    "    println(error)\n",
    "end"
   ]
  },
  {
   "cell_type": "markdown",
   "id": "e57215ef",
   "metadata": {},
   "source": [
    "A vector can be defined using a range as in MATLAB, but you have to use the `collect` function to actually create the vector."
   ]
  },
  {
   "cell_type": "code",
   "execution_count": 40,
   "id": "66d2d5ef",
   "metadata": {},
   "outputs": [
    {
     "data": {
      "text/plain": [
       "11-element Vector{Float64}:\n",
       " 0.0\n",
       " 0.1\n",
       " 0.2\n",
       " 0.3\n",
       " 0.4\n",
       " 0.5\n",
       " 0.6\n",
       " 0.7\n",
       " 0.8\n",
       " 0.9\n",
       " 1.0"
      ]
     },
     "execution_count": 40,
     "metadata": {},
     "output_type": "execute_result"
    }
   ],
   "source": [
    "v = collect(0.0:0.1:1.0)"
   ]
  },
  {
   "cell_type": "markdown",
   "id": "c839f694",
   "metadata": {},
   "source": [
    "A matrix can be constructed similarly to MATLAB."
   ]
  },
  {
   "cell_type": "code",
   "execution_count": 41,
   "id": "b5a8b2e1",
   "metadata": {
    "scrolled": true
   },
   "outputs": [
    {
     "data": {
      "text/plain": [
       "2×3 Matrix{Int64}:\n",
       " 1  2  3\n",
       " 4  5  6"
      ]
     },
     "execution_count": 41,
     "metadata": {},
     "output_type": "execute_result"
    }
   ],
   "source": [
    "A = [1 2 3; 4 5 6]"
   ]
  },
  {
   "cell_type": "code",
   "execution_count": 42,
   "id": "43c11c9b",
   "metadata": {
    "scrolled": true
   },
   "outputs": [
    {
     "data": {
      "text/plain": [
       "3×2 Matrix{Int64}:\n",
       " 1  5\n",
       " 4  3\n",
       " 2  6"
      ]
     },
     "execution_count": 42,
     "metadata": {},
     "output_type": "execute_result"
    }
   ],
   "source": [
    "reshape(A, (3, 2))"
   ]
  },
  {
   "cell_type": "markdown",
   "id": "4a4759fe",
   "metadata": {},
   "source": [
    "Similar to numpy and MATLAB, Julia has a number of functions to initialize vectors and matrices."
   ]
  },
  {
   "cell_type": "code",
   "execution_count": 120,
   "id": "d1e57fcf",
   "metadata": {},
   "outputs": [
    {
     "data": {
      "text/plain": [
       "5-element Vector{Float64}:\n",
       " 0.0\n",
       " 0.0\n",
       " 0.0\n",
       " 0.0\n",
       " 0.0"
      ]
     },
     "execution_count": 120,
     "metadata": {},
     "output_type": "execute_result"
    }
   ],
   "source": [
    "zeros(5)"
   ]
  },
  {
   "cell_type": "markdown",
   "id": "ee19217e",
   "metadata": {},
   "source": [
    "Note that unlike in Python, the  dimensions are simply arguments of those functions, not a tuple."
   ]
  },
  {
   "cell_type": "code",
   "execution_count": 121,
   "id": "e8adfa3b",
   "metadata": {},
   "outputs": [
    {
     "data": {
      "text/plain": [
       "2×3 Matrix{Float64}:\n",
       " 1.0  1.0  1.0\n",
       " 1.0  1.0  1.0"
      ]
     },
     "execution_count": 121,
     "metadata": {},
     "output_type": "execute_result"
    }
   ],
   "source": [
    "ones(2, 3)"
   ]
  },
  {
   "cell_type": "code",
   "execution_count": 136,
   "id": "8b77709d",
   "metadata": {},
   "outputs": [
    {
     "data": {
      "text/plain": [
       "5×5 Matrix{Float64}:\n",
       " 4.0  4.0  4.0  4.0  3.0\n",
       " 4.0  2.0  1.0  4.0  4.0\n",
       " 4.0  3.0  2.0  2.0  4.0\n",
       " 4.0  2.0  1.0  4.0  4.0\n",
       " 2.0  4.0  3.0  3.0  4.0"
      ]
     },
     "execution_count": 136,
     "metadata": {},
     "output_type": "execute_result"
    }
   ],
   "source": [
    "rand((1.0, 2.0, 3.0, 4.0), 5, 5)"
   ]
  },
  {
   "cell_type": "markdown",
   "id": "4e62fde4",
   "metadata": {},
   "source": [
    "# Functions"
   ]
  },
  {
   "cell_type": "markdown",
   "id": "1522376d",
   "metadata": {},
   "source": [
    "Functions are defined similarly to how you would do that in MATLAB, although there are some differences."
   ]
  },
  {
   "cell_type": "code",
   "execution_count": 79,
   "id": "7d29a465",
   "metadata": {},
   "outputs": [
    {
     "data": {
      "text/plain": [
       "f (generic function with 3 methods)"
      ]
     },
     "execution_count": 79,
     "metadata": {},
     "output_type": "execute_result"
    }
   ],
   "source": [
    "function f(x, y)\n",
    "    x = 3\n",
    "    x + y\n",
    "end"
   ]
  },
  {
   "cell_type": "markdown",
   "id": "ff5f80e7",
   "metadata": {},
   "source": [
    "Scoping rules are what you would expect."
   ]
  },
  {
   "cell_type": "code",
   "execution_count": 83,
   "id": "465ba456",
   "metadata": {},
   "outputs": [
    {
     "data": {
      "text/plain": [
       "6"
      ]
     },
     "execution_count": 83,
     "metadata": {},
     "output_type": "execute_result"
    }
   ],
   "source": [
    "f(4, 3)"
   ]
  },
  {
   "cell_type": "code",
   "execution_count": 84,
   "id": "71e6de40",
   "metadata": {},
   "outputs": [
    {
     "data": {
      "text/plain": [
       "2"
      ]
     },
     "execution_count": 84,
     "metadata": {},
     "output_type": "execute_result"
    }
   ],
   "source": [
    "x = 2"
   ]
  },
  {
   "cell_type": "code",
   "execution_count": 85,
   "id": "a02f9908",
   "metadata": {},
   "outputs": [
    {
     "data": {
      "text/plain": [
       "8"
      ]
     },
     "execution_count": 85,
     "metadata": {},
     "output_type": "execute_result"
    }
   ],
   "source": [
    "f(x, 5)"
   ]
  },
  {
   "cell_type": "code",
   "execution_count": 86,
   "id": "760a7379",
   "metadata": {},
   "outputs": [
    {
     "data": {
      "text/plain": [
       "2"
      ]
     },
     "execution_count": 86,
     "metadata": {},
     "output_type": "execute_result"
    }
   ],
   "source": [
    "x"
   ]
  },
  {
   "cell_type": "code",
   "execution_count": 91,
   "id": "c0081be1",
   "metadata": {
    "scrolled": true
   },
   "outputs": [
    {
     "data": {
      "text/plain": [
       "g (generic function with 2 methods)"
      ]
     },
     "execution_count": 91,
     "metadata": {},
     "output_type": "execute_result"
    }
   ],
   "source": [
    "function g(y)\n",
    "    x*y\n",
    "end"
   ]
  },
  {
   "cell_type": "code",
   "execution_count": 93,
   "id": "6024ba6d",
   "metadata": {},
   "outputs": [
    {
     "data": {
      "text/plain": [
       "14"
      ]
     },
     "execution_count": 93,
     "metadata": {},
     "output_type": "execute_result"
    }
   ],
   "source": [
    "g(7)"
   ]
  },
  {
   "cell_type": "markdown",
   "id": "02afb4cb",
   "metadata": {},
   "source": [
    "Lambda functions are supported as well."
   ]
  },
  {
   "cell_type": "code",
   "execution_count": 87,
   "id": "0deaac00",
   "metadata": {},
   "outputs": [
    {
     "data": {
      "text/plain": [
       "3-element Vector{Int64}:\n",
       "  2\n",
       " 14\n",
       " 10"
      ]
     },
     "execution_count": 87,
     "metadata": {},
     "output_type": "execute_result"
    }
   ],
   "source": [
    "map(x -> 2x, [1, 7, 5])"
   ]
  },
  {
   "cell_type": "markdown",
   "id": "6907ea1b",
   "metadata": {},
   "source": [
    "Function signatures can contain type information, the following function computes the logical negation mapped to the symbol $\\neg$ (`\\neg` + tab)."
   ]
  },
  {
   "cell_type": "code",
   "execution_count": 90,
   "id": "cf15a586",
   "metadata": {},
   "outputs": [
    {
     "data": {
      "text/plain": [
       "¬ (generic function with 2 methods)"
      ]
     },
     "execution_count": 90,
     "metadata": {},
     "output_type": "execute_result"
    }
   ],
   "source": [
    "function ¬(b::Bool)::Bool\n",
    "    return !b\n",
    "end"
   ]
  },
  {
   "cell_type": "code",
   "execution_count": 89,
   "id": "b226d89b",
   "metadata": {},
   "outputs": [
    {
     "data": {
      "text/plain": [
       "true"
      ]
     },
     "execution_count": 89,
     "metadata": {},
     "output_type": "execute_result"
    }
   ],
   "source": [
    "¬ false"
   ]
  },
  {
   "cell_type": "markdown",
   "id": "8c877a4b",
   "metadata": {},
   "source": [
    "Function can be composed using the $\\circ$ operator (`\\circ` + tab).  Consider two function $f$ and $g$."
   ]
  },
  {
   "cell_type": "code",
   "execution_count": 100,
   "id": "f8a5cdd2",
   "metadata": {},
   "outputs": [
    {
     "data": {
      "text/plain": [
       "f (generic function with 3 methods)"
      ]
     },
     "execution_count": 100,
     "metadata": {},
     "output_type": "execute_result"
    }
   ],
   "source": [
    "function f(x::Float64)::Float64\n",
    "    return x^2\n",
    "end"
   ]
  },
  {
   "cell_type": "code",
   "execution_count": 101,
   "id": "403098e9",
   "metadata": {},
   "outputs": [
    {
     "data": {
      "text/plain": [
       "g (generic function with 2 methods)"
      ]
     },
     "execution_count": 101,
     "metadata": {},
     "output_type": "execute_result"
    }
   ],
   "source": [
    "function g(x::Float64)::Float64\n",
    "    return √x\n",
    "end"
   ]
  },
  {
   "cell_type": "code",
   "execution_count": 102,
   "id": "ab488429",
   "metadata": {},
   "outputs": [
    {
     "data": {
      "text/plain": [
       "(5.000000000000001, 5.0)"
      ]
     },
     "execution_count": 102,
     "metadata": {},
     "output_type": "execute_result"
    }
   ],
   "source": [
    "(f ∘ g)(5.0), (g ∘ f)(5.0)"
   ]
  },
  {
   "cell_type": "markdown",
   "id": "86306ade",
   "metadata": {},
   "source": [
    "## Closures"
   ]
  },
  {
   "cell_type": "markdown",
   "id": "aeb2338c",
   "metadata": {},
   "source": [
    "Higher order function are also supported.  The following function creates a comparison operator that tests whether $|x - y| < \\delta$ for a given values of $\\delta$."
   ]
  },
  {
   "cell_type": "code",
   "execution_count": 114,
   "id": "5542aeaf",
   "metadata": {},
   "outputs": [
    {
     "data": {
      "text/plain": [
       "create_cmp (generic function with 1 method)"
      ]
     },
     "execution_count": 114,
     "metadata": {},
     "output_type": "execute_result"
    }
   ],
   "source": [
    "function create_cmp(δ::Float64)\n",
    "    function approx_eq(x::Float64, y::Float64)::Bool\n",
    "        abs(x - y) < δ\n",
    "    end\n",
    "    return approx_eq\n",
    "end"
   ]
  },
  {
   "cell_type": "code",
   "execution_count": 115,
   "id": "8b1d1a08",
   "metadata": {},
   "outputs": [
    {
     "data": {
      "text/plain": [
       "(::var\"#approx_eq#8\"{Float64}) (generic function with 1 method)"
      ]
     },
     "execution_count": 115,
     "metadata": {},
     "output_type": "execute_result"
    }
   ],
   "source": [
    "≊ = create_cmp(1e-3)"
   ]
  },
  {
   "cell_type": "markdown",
   "id": "90653fb4",
   "metadata": {},
   "source": [
    "This can be used as a function with two arguments."
   ]
  },
  {
   "cell_type": "code",
   "execution_count": 118,
   "id": "8e32acfc",
   "metadata": {},
   "outputs": [
    {
     "data": {
      "text/plain": [
       "true"
      ]
     },
     "execution_count": 118,
     "metadata": {},
     "output_type": "execute_result"
    }
   ],
   "source": [
    "≊(3.0, 3.00001)"
   ]
  },
  {
   "cell_type": "code",
   "execution_count": 119,
   "id": "341035b5",
   "metadata": {},
   "outputs": [
    {
     "data": {
      "text/plain": [
       "false"
      ]
     },
     "execution_count": 119,
     "metadata": {},
     "output_type": "execute_result"
    }
   ],
   "source": [
    "≊(3.0, 3.01)"
   ]
  },
  {
   "cell_type": "markdown",
   "id": "f5937a0d",
   "metadata": {},
   "source": [
    "However, it can also be used as a binary operator."
   ]
  },
  {
   "cell_type": "code",
   "execution_count": 116,
   "id": "24f85cc8",
   "metadata": {},
   "outputs": [
    {
     "data": {
      "text/plain": [
       "false"
      ]
     },
     "execution_count": 116,
     "metadata": {},
     "output_type": "execute_result"
    }
   ],
   "source": [
    "3.0 ≊ 3.01"
   ]
  },
  {
   "cell_type": "code",
   "execution_count": 117,
   "id": "4156c5d8",
   "metadata": {
    "scrolled": false
   },
   "outputs": [
    {
     "data": {
      "text/plain": [
       "true"
      ]
     },
     "execution_count": 117,
     "metadata": {},
     "output_type": "execute_result"
    }
   ],
   "source": [
    "3.0 ≊ 3.00001"
   ]
  },
  {
   "cell_type": "markdown",
   "id": "6aefa6d3",
   "metadata": {},
   "source": [
    "Note: there is no way to set the priority of user-defined operators in Julia."
   ]
  },
  {
   "cell_type": "markdown",
   "id": "637e266f",
   "metadata": {},
   "source": [
    "## Optional and keyword arguments"
   ]
  },
  {
   "cell_type": "markdown",
   "id": "b9100b84",
   "metadata": {},
   "source": [
    "By default, keyword arguments can not be used."
   ]
  },
  {
   "cell_type": "code",
   "execution_count": 145,
   "id": "e651b3d4",
   "metadata": {},
   "outputs": [
    {
     "data": {
      "text/plain": [
       "f1 (generic function with 1 method)"
      ]
     },
     "execution_count": 145,
     "metadata": {},
     "output_type": "execute_result"
    }
   ],
   "source": [
    "function f1(x::Float64, y::Float64, z::Float64)::Float64\n",
    "    x + y*z\n",
    "end"
   ]
  },
  {
   "cell_type": "code",
   "execution_count": 146,
   "id": "e7936064",
   "metadata": {},
   "outputs": [
    {
     "data": {
      "text/plain": [
       "7.0"
      ]
     },
     "execution_count": 146,
     "metadata": {},
     "output_type": "execute_result"
    }
   ],
   "source": [
    "f1(1.0, 2.0, 3.0)"
   ]
  },
  {
   "cell_type": "code",
   "execution_count": 151,
   "id": "8bfc2a5e",
   "metadata": {},
   "outputs": [
    {
     "ename": "LoadError",
     "evalue": "MethodError: no method matching f1(; z=3.0, x=1.0, y=2.0)\n\u001b[0mClosest candidates are:\n\u001b[0m  f1(\u001b[91m::Float64\u001b[39m, \u001b[91m::Float64\u001b[39m, \u001b[91m::Float64\u001b[39m) at In[145]:1\u001b[91m got unsupported keyword arguments \"z\", \"x\", \"y\"\u001b[39m",
     "output_type": "error",
     "traceback": [
      "MethodError: no method matching f1(; z=3.0, x=1.0, y=2.0)\n\u001b[0mClosest candidates are:\n\u001b[0m  f1(\u001b[91m::Float64\u001b[39m, \u001b[91m::Float64\u001b[39m, \u001b[91m::Float64\u001b[39m) at In[145]:1\u001b[91m got unsupported keyword arguments \"z\", \"x\", \"y\"\u001b[39m",
      "",
      "Stacktrace:",
      " [1] top-level scope",
      "   @ In[151]:1",
      " [2] eval",
      "   @ ./boot.jl:360 [inlined]",
      " [3] include_string(mapexpr::typeof(REPL.softscope), mod::Module, code::String, filename::String)",
      "   @ Base ./loading.jl:1094"
     ]
    }
   ],
   "source": [
    "f1(z=3.0, x=1.0, y=2.0)"
   ]
  },
  {
   "cell_type": "markdown",
   "id": "598f5a36",
   "metadata": {},
   "source": [
    "Julia allows keyword arguments though, but you have to declare that explicitly.  All arguments following the semicolon are keyword arguments."
   ]
  },
  {
   "cell_type": "code",
   "execution_count": 147,
   "id": "d33f10d2",
   "metadata": {},
   "outputs": [
    {
     "data": {
      "text/plain": [
       "f2 (generic function with 1 method)"
      ]
     },
     "execution_count": 147,
     "metadata": {},
     "output_type": "execute_result"
    }
   ],
   "source": [
    "function f2(; x::Float64, y::Float64, z::Float64)::Float64\n",
    "    x + y*z\n",
    "end"
   ]
  },
  {
   "cell_type": "code",
   "execution_count": 148,
   "id": "23d4326b",
   "metadata": {},
   "outputs": [
    {
     "data": {
      "text/plain": [
       "7.0"
      ]
     },
     "execution_count": 148,
     "metadata": {},
     "output_type": "execute_result"
    }
   ],
   "source": [
    "f2(z=3.0, x=1.0, y=2.0)"
   ]
  },
  {
   "cell_type": "markdown",
   "id": "3c1568c4",
   "metadata": {},
   "source": [
    "Optional arguments can also be specified."
   ]
  },
  {
   "cell_type": "code",
   "execution_count": 149,
   "id": "97ae3874",
   "metadata": {},
   "outputs": [
    {
     "data": {
      "text/plain": [
       "f3 (generic function with 2 methods)"
      ]
     },
     "execution_count": 149,
     "metadata": {},
     "output_type": "execute_result"
    }
   ],
   "source": [
    "function f3(x::Float64, y::Float64, z::Float64=3.0)::Float64\n",
    "    x + y*z\n",
    "end"
   ]
  },
  {
   "cell_type": "code",
   "execution_count": 150,
   "id": "b3aa8231",
   "metadata": {},
   "outputs": [
    {
     "data": {
      "text/plain": [
       "7.0"
      ]
     },
     "execution_count": 150,
     "metadata": {},
     "output_type": "execute_result"
    }
   ],
   "source": [
    "f3(1.0, 2.0)"
   ]
  },
  {
   "cell_type": "markdown",
   "id": "c3a11184",
   "metadata": {},
   "source": [
    "You can't use named arguments on an ordinary function."
   ]
  },
  {
   "cell_type": "code",
   "execution_count": 140,
   "id": "dd538916",
   "metadata": {
    "scrolled": true
   },
   "outputs": [
    {
     "ename": "LoadError",
     "evalue": "MethodError: no method matching logistic_map(; r=2.5, x=0.9, n_max=100)\n\u001b[0mClosest candidates are:\n\u001b[0m  logistic_map(\u001b[91m::Float64\u001b[39m, \u001b[91m::Float64\u001b[39m, \u001b[91m::Int32\u001b[39m) at In[139]:1\u001b[91m got unsupported keyword arguments \"r\", \"x\", \"n_max\"\u001b[39m",
     "output_type": "error",
     "traceback": [
      "MethodError: no method matching logistic_map(; r=2.5, x=0.9, n_max=100)\n\u001b[0mClosest candidates are:\n\u001b[0m  logistic_map(\u001b[91m::Float64\u001b[39m, \u001b[91m::Float64\u001b[39m, \u001b[91m::Int32\u001b[39m) at In[139]:1\u001b[91m got unsupported keyword arguments \"r\", \"x\", \"n_max\"\u001b[39m",
      "",
      "Stacktrace:",
      " [1] top-level scope",
      "   @ In[140]:1",
      " [2] eval",
      "   @ ./boot.jl:360 [inlined]",
      " [3] include_string(mapexpr::typeof(REPL.softscope), mod::Module, code::String, filename::String)",
      "   @ Base ./loading.jl:1094"
     ]
    }
   ],
   "source": [
    "logistic_map(r=2.5, x=0.9, n_max=Int32(100))"
   ]
  },
  {
   "cell_type": "markdown",
   "id": "a310e509",
   "metadata": {},
   "source": [
    "However, you can define a function to take keyword arguments."
   ]
  },
  {
   "cell_type": "code",
   "execution_count": 141,
   "id": "a8109802",
   "metadata": {},
   "outputs": [
    {
     "data": {
      "text/plain": [
       "logistic_map (generic function with 2 methods)"
      ]
     },
     "execution_count": 141,
     "metadata": {},
     "output_type": "execute_result"
    }
   ],
   "source": [
    "function logistic_map(x::Float64, r::Float64; n_max::Int32=100)::Float64\n",
    "    for n = 1:n_max\n",
    "        x = r*x*(1.0 - x)\n",
    "    end\n",
    "    return x\n",
    "end"
   ]
  },
  {
   "cell_type": "code",
   "execution_count": 144,
   "id": "e2332f53",
   "metadata": {
    "scrolled": true
   },
   "outputs": [
    {
     "data": {
      "text/plain": [
       "0.6000000000000001"
      ]
     },
     "execution_count": 144,
     "metadata": {},
     "output_type": "execute_result"
    }
   ],
   "source": [
    "logistic_map(0.9, 2.5, n_max=Int32(100))"
   ]
  },
  {
   "cell_type": "code",
   "execution_count": 140,
   "id": "a797656e",
   "metadata": {
    "scrolled": true
   },
   "outputs": [
    {
     "ename": "LoadError",
     "evalue": "MethodError: no method matching logistic_map(; r=2.5, x=0.9, n_max=100)\n\u001b[0mClosest candidates are:\n\u001b[0m  logistic_map(\u001b[91m::Float64\u001b[39m, \u001b[91m::Float64\u001b[39m, \u001b[91m::Int32\u001b[39m) at In[139]:1\u001b[91m got unsupported keyword arguments \"r\", \"x\", \"n_max\"\u001b[39m",
     "output_type": "error",
     "traceback": [
      "MethodError: no method matching logistic_map(; r=2.5, x=0.9, n_max=100)\n\u001b[0mClosest candidates are:\n\u001b[0m  logistic_map(\u001b[91m::Float64\u001b[39m, \u001b[91m::Float64\u001b[39m, \u001b[91m::Int32\u001b[39m) at In[139]:1\u001b[91m got unsupported keyword arguments \"r\", \"x\", \"n_max\"\u001b[39m",
      "",
      "Stacktrace:",
      " [1] top-level scope",
      "   @ In[140]:1",
      " [2] eval",
      "   @ ./boot.jl:360 [inlined]",
      " [3] include_string(mapexpr::typeof(REPL.softscope), mod::Module, code::String, filename::String)",
      "   @ Base ./loading.jl:1094"
     ]
    }
   ],
   "source": [
    "logistic_map(r=2.5, x=0.9, n_max=Int32(100))"
   ]
  },
  {
   "cell_type": "markdown",
   "id": "c056ee26",
   "metadata": {},
   "source": [
    "# Tasks"
   ]
  },
  {
   "cell_type": "code",
   "execution_count": 139,
   "id": "9314ad79",
   "metadata": {},
   "outputs": [
    {
     "data": {
      "text/plain": [
       "logistic_map (generic function with 1 method)"
      ]
     },
     "execution_count": 139,
     "metadata": {},
     "output_type": "execute_result"
    }
   ],
   "source": [
    "function logistic_map(x::Float64, r::Float64, n_max::Int32)::Float64\n",
    "    for n = 1:n_max\n",
    "        x = r*x*(1.0 - x)\n",
    "    end\n",
    "    return x\n",
    "end"
   ]
  },
  {
   "cell_type": "code",
   "execution_count": 68,
   "id": "ccaca0f5",
   "metadata": {},
   "outputs": [
    {
     "data": {
      "text/plain": [
       "Task (runnable) @0x00007fbf773da380"
      ]
     },
     "execution_count": 68,
     "metadata": {},
     "output_type": "execute_result"
    }
   ],
   "source": [
    "t = @task begin sleep(5); println(\"done\") end"
   ]
  },
  {
   "cell_type": "code",
   "execution_count": 69,
   "id": "19ebdff7",
   "metadata": {},
   "outputs": [
    {
     "data": {
      "text/plain": [
       "Task (runnable) @0x00007fbf773da380"
      ]
     },
     "execution_count": 69,
     "metadata": {},
     "output_type": "execute_result"
    }
   ],
   "source": [
    "schedule(t)"
   ]
  },
  {
   "cell_type": "markdown",
   "id": "d39992d6",
   "metadata": {},
   "source": [
    "# Plots"
   ]
  },
  {
   "cell_type": "code",
   "execution_count": 71,
   "id": "921cfd0a",
   "metadata": {},
   "outputs": [
    {
     "name": "stdout",
     "output_type": "stream",
     "text": [
      "done\n"
     ]
    }
   ],
   "source": [
    "import Pkg; Pkg.add(\"Plots\")"
   ]
  },
  {
   "cell_type": "code",
   "execution_count": 72,
   "id": "aab0c509",
   "metadata": {},
   "outputs": [],
   "source": [
    "using Plots"
   ]
  },
  {
   "cell_type": "code",
   "execution_count": 73,
   "id": "1b9b8207",
   "metadata": {},
   "outputs": [
    {
     "data": {
      "text/plain": [
       "1.0:0.1:10.0"
      ]
     },
     "execution_count": 73,
     "metadata": {},
     "output_type": "execute_result"
    }
   ],
   "source": [
    "x = 1:0.1:10"
   ]
  },
  {
   "cell_type": "code",
   "execution_count": 74,
   "id": "9926c65c",
   "metadata": {},
   "outputs": [],
   "source": [
    "y = sqrt.(x);"
   ]
  },
  {
   "cell_type": "code",
   "execution_count": 75,
   "id": "0c094ecf",
   "metadata": {},
   "outputs": [
    {
     "data": {
      "image/svg+xml": [
       "<?xml version=\"1.0\" encoding=\"utf-8\"?>\n",
       "<svg xmlns=\"http://www.w3.org/2000/svg\" xmlns:xlink=\"http://www.w3.org/1999/xlink\" width=\"600\" height=\"400\" viewBox=\"0 0 2400 1600\">\n",
       "<defs>\n",
       "  <clipPath id=\"clip420\">\n",
       "    <rect x=\"0\" y=\"0\" width=\"2400\" height=\"1600\"/>\n",
       "  </clipPath>\n",
       "</defs>\n",
       "<path clip-path=\"url(#clip420)\" d=\"\n",
       "M0 1600 L2400 1600 L2400 0 L0 0  Z\n",
       "  \" fill=\"#ffffff\" fill-rule=\"evenodd\" fill-opacity=\"1\"/>\n",
       "<defs>\n",
       "  <clipPath id=\"clip421\">\n",
       "    <rect x=\"480\" y=\"0\" width=\"1681\" height=\"1600\"/>\n",
       "  </clipPath>\n",
       "</defs>\n",
       "<path clip-path=\"url(#clip420)\" d=\"\n",
       "M155.765 1486.45 L2352.76 1486.45 L2352.76 47.2441 L155.765 47.2441  Z\n",
       "  \" fill=\"#ffffff\" fill-rule=\"evenodd\" fill-opacity=\"1\"/>\n",
       "<defs>\n",
       "  <clipPath id=\"clip422\">\n",
       "    <rect x=\"155\" y=\"47\" width=\"2198\" height=\"1440\"/>\n",
       "  </clipPath>\n",
       "</defs>\n",
       "<polyline clip-path=\"url(#clip422)\" style=\"stroke:#000000; stroke-width:2; stroke-opacity:0.1; fill:none\" points=\"\n",
       "  448.236,1486.45 448.236,47.2441 \n",
       "  \"/>\n",
       "<polyline clip-path=\"url(#clip422)\" style=\"stroke:#000000; stroke-width:2; stroke-opacity:0.1; fill:none\" points=\"\n",
       "  908.822,1486.45 908.822,47.2441 \n",
       "  \"/>\n",
       "<polyline clip-path=\"url(#clip422)\" style=\"stroke:#000000; stroke-width:2; stroke-opacity:0.1; fill:none\" points=\"\n",
       "  1369.41,1486.45 1369.41,47.2441 \n",
       "  \"/>\n",
       "<polyline clip-path=\"url(#clip422)\" style=\"stroke:#000000; stroke-width:2; stroke-opacity:0.1; fill:none\" points=\"\n",
       "  1829.99,1486.45 1829.99,47.2441 \n",
       "  \"/>\n",
       "<polyline clip-path=\"url(#clip422)\" style=\"stroke:#000000; stroke-width:2; stroke-opacity:0.1; fill:none\" points=\"\n",
       "  2290.58,1486.45 2290.58,47.2441 \n",
       "  \"/>\n",
       "<polyline clip-path=\"url(#clip420)\" style=\"stroke:#000000; stroke-width:4; stroke-opacity:1; fill:none\" points=\"\n",
       "  155.765,1486.45 2352.76,1486.45 \n",
       "  \"/>\n",
       "<polyline clip-path=\"url(#clip420)\" style=\"stroke:#000000; stroke-width:4; stroke-opacity:1; fill:none\" points=\"\n",
       "  448.236,1486.45 448.236,1469.18 \n",
       "  \"/>\n",
       "<polyline clip-path=\"url(#clip420)\" style=\"stroke:#000000; stroke-width:4; stroke-opacity:1; fill:none\" points=\"\n",
       "  908.822,1486.45 908.822,1469.18 \n",
       "  \"/>\n",
       "<polyline clip-path=\"url(#clip420)\" style=\"stroke:#000000; stroke-width:4; stroke-opacity:1; fill:none\" points=\"\n",
       "  1369.41,1486.45 1369.41,1469.18 \n",
       "  \"/>\n",
       "<polyline clip-path=\"url(#clip420)\" style=\"stroke:#000000; stroke-width:4; stroke-opacity:1; fill:none\" points=\"\n",
       "  1829.99,1486.45 1829.99,1469.18 \n",
       "  \"/>\n",
       "<polyline clip-path=\"url(#clip420)\" style=\"stroke:#000000; stroke-width:4; stroke-opacity:1; fill:none\" points=\"\n",
       "  2290.58,1486.45 2290.58,1469.18 \n",
       "  \"/>\n",
       "<path clip-path=\"url(#clip420)\" d=\"M 0 0 M442.889 1543.18 L459.209 1543.18 L459.209 1547.12 L437.264 1547.12 L437.264 1543.18 Q439.926 1540.43 444.51 1535.8 Q449.116 1531.15 450.297 1529.81 Q452.542 1527.28 453.422 1525.55 Q454.324 1523.79 454.324 1522.1 Q454.324 1519.34 452.38 1517.61 Q450.459 1515.87 447.357 1515.87 Q445.158 1515.87 442.704 1516.63 Q440.274 1517.4 437.496 1518.95 L437.496 1514.23 Q440.32 1513.09 442.774 1512.51 Q445.227 1511.93 447.264 1511.93 Q452.635 1511.93 455.829 1514.62 Q459.023 1517.31 459.023 1521.8 Q459.023 1523.93 458.213 1525.85 Q457.426 1527.74 455.32 1530.34 Q454.741 1531.01 451.639 1534.23 Q448.537 1537.42 442.889 1543.18 Z\" fill=\"#000000\" fill-rule=\"evenodd\" fill-opacity=\"1\" /><path clip-path=\"url(#clip420)\" d=\"M 0 0 M911.831 1516.63 L900.025 1535.08 L911.831 1535.08 L911.831 1516.63 M910.604 1512.56 L916.484 1512.56 L916.484 1535.08 L921.414 1535.08 L921.414 1538.97 L916.484 1538.97 L916.484 1547.12 L911.831 1547.12 L911.831 1538.97 L896.229 1538.97 L896.229 1534.46 L910.604 1512.56 Z\" fill=\"#000000\" fill-rule=\"evenodd\" fill-opacity=\"1\" /><path clip-path=\"url(#clip420)\" d=\"M 0 0 M1369.81 1527.98 Q1366.66 1527.98 1364.81 1530.13 Q1362.98 1532.28 1362.98 1536.03 Q1362.98 1539.76 1364.81 1541.93 Q1366.66 1544.09 1369.81 1544.09 Q1372.96 1544.09 1374.79 1541.93 Q1376.64 1539.76 1376.64 1536.03 Q1376.64 1532.28 1374.79 1530.13 Q1372.96 1527.98 1369.81 1527.98 M1379.09 1513.32 L1379.09 1517.58 Q1377.33 1516.75 1375.53 1516.31 Q1373.75 1515.87 1371.99 1515.87 Q1367.36 1515.87 1364.9 1519 Q1362.47 1522.12 1362.13 1528.44 Q1363.49 1526.43 1365.55 1525.36 Q1367.61 1524.27 1370.09 1524.27 Q1375.3 1524.27 1378.31 1527.44 Q1381.34 1530.59 1381.34 1536.03 Q1381.34 1541.36 1378.19 1544.57 Q1375.04 1547.79 1369.81 1547.79 Q1363.82 1547.79 1360.65 1543.21 Q1357.47 1538.6 1357.47 1529.87 Q1357.47 1521.68 1361.36 1516.82 Q1365.25 1511.93 1371.8 1511.93 Q1373.56 1511.93 1375.34 1512.28 Q1377.15 1512.63 1379.09 1513.32 Z\" fill=\"#000000\" fill-rule=\"evenodd\" fill-opacity=\"1\" /><path clip-path=\"url(#clip420)\" d=\"M 0 0 M1829.99 1530.71 Q1826.66 1530.71 1824.74 1532.49 Q1822.84 1534.27 1822.84 1537.4 Q1822.84 1540.52 1824.74 1542.31 Q1826.66 1544.09 1829.99 1544.09 Q1833.33 1544.09 1835.25 1542.31 Q1837.17 1540.5 1837.17 1537.4 Q1837.17 1534.27 1835.25 1532.49 Q1833.35 1530.71 1829.99 1530.71 M1825.32 1528.72 Q1822.31 1527.98 1820.62 1525.92 Q1818.95 1523.86 1818.95 1520.89 Q1818.95 1516.75 1821.89 1514.34 Q1824.85 1511.93 1829.99 1511.93 Q1835.15 1511.93 1838.09 1514.34 Q1841.03 1516.75 1841.03 1520.89 Q1841.03 1523.86 1839.34 1525.92 Q1837.68 1527.98 1834.69 1528.72 Q1838.07 1529.5 1839.95 1531.8 Q1841.84 1534.09 1841.84 1537.4 Q1841.84 1542.42 1838.76 1545.11 Q1835.71 1547.79 1829.99 1547.79 Q1824.27 1547.79 1821.2 1545.11 Q1818.14 1542.42 1818.14 1537.4 Q1818.14 1534.09 1820.04 1531.8 Q1821.94 1529.5 1825.32 1528.72 M1823.6 1521.33 Q1823.6 1524.02 1825.27 1525.52 Q1826.96 1527.03 1829.99 1527.03 Q1833 1527.03 1834.69 1525.52 Q1836.4 1524.02 1836.4 1521.33 Q1836.4 1518.65 1834.69 1517.14 Q1833 1515.64 1829.99 1515.64 Q1826.96 1515.64 1825.27 1517.14 Q1823.6 1518.65 1823.6 1521.33 Z\" fill=\"#000000\" fill-rule=\"evenodd\" fill-opacity=\"1\" /><path clip-path=\"url(#clip420)\" d=\"M 0 0 M2265.26 1543.18 L2272.9 1543.18 L2272.9 1516.82 L2264.59 1518.49 L2264.59 1514.23 L2272.86 1512.56 L2277.53 1512.56 L2277.53 1543.18 L2285.17 1543.18 L2285.17 1547.12 L2265.26 1547.12 L2265.26 1543.18 Z\" fill=\"#000000\" fill-rule=\"evenodd\" fill-opacity=\"1\" /><path clip-path=\"url(#clip420)\" d=\"M 0 0 M2304.62 1515.64 Q2301.01 1515.64 2299.18 1519.2 Q2297.37 1522.75 2297.37 1529.87 Q2297.37 1536.98 2299.18 1540.55 Q2301.01 1544.09 2304.62 1544.09 Q2308.25 1544.09 2310.06 1540.55 Q2311.88 1536.98 2311.88 1529.87 Q2311.88 1522.75 2310.06 1519.2 Q2308.25 1515.64 2304.62 1515.64 M2304.62 1511.93 Q2310.43 1511.93 2313.48 1516.54 Q2316.56 1521.12 2316.56 1529.87 Q2316.56 1538.6 2313.48 1543.21 Q2310.43 1547.79 2304.62 1547.79 Q2298.81 1547.79 2295.73 1543.21 Q2292.67 1538.6 2292.67 1529.87 Q2292.67 1521.12 2295.73 1516.54 Q2298.81 1511.93 2304.62 1511.93 Z\" fill=\"#000000\" fill-rule=\"evenodd\" fill-opacity=\"1\" /><polyline clip-path=\"url(#clip422)\" style=\"stroke:#000000; stroke-width:2; stroke-opacity:0.1; fill:none\" points=\"\n",
       "  155.765,1445.72 2352.76,1445.72 \n",
       "  \"/>\n",
       "<polyline clip-path=\"url(#clip422)\" style=\"stroke:#000000; stroke-width:2; stroke-opacity:0.1; fill:none\" points=\"\n",
       "  155.765,1131.76 2352.76,1131.76 \n",
       "  \"/>\n",
       "<polyline clip-path=\"url(#clip422)\" style=\"stroke:#000000; stroke-width:2; stroke-opacity:0.1; fill:none\" points=\"\n",
       "  155.765,817.795 2352.76,817.795 \n",
       "  \"/>\n",
       "<polyline clip-path=\"url(#clip422)\" style=\"stroke:#000000; stroke-width:2; stroke-opacity:0.1; fill:none\" points=\"\n",
       "  155.765,503.834 2352.76,503.834 \n",
       "  \"/>\n",
       "<polyline clip-path=\"url(#clip422)\" style=\"stroke:#000000; stroke-width:2; stroke-opacity:0.1; fill:none\" points=\"\n",
       "  155.765,189.874 2352.76,189.874 \n",
       "  \"/>\n",
       "<polyline clip-path=\"url(#clip420)\" style=\"stroke:#000000; stroke-width:4; stroke-opacity:1; fill:none\" points=\"\n",
       "  155.765,1486.45 155.765,47.2441 \n",
       "  \"/>\n",
       "<polyline clip-path=\"url(#clip420)\" style=\"stroke:#000000; stroke-width:4; stroke-opacity:1; fill:none\" points=\"\n",
       "  155.765,1445.72 182.129,1445.72 \n",
       "  \"/>\n",
       "<polyline clip-path=\"url(#clip420)\" style=\"stroke:#000000; stroke-width:4; stroke-opacity:1; fill:none\" points=\"\n",
       "  155.765,1131.76 182.129,1131.76 \n",
       "  \"/>\n",
       "<polyline clip-path=\"url(#clip420)\" style=\"stroke:#000000; stroke-width:4; stroke-opacity:1; fill:none\" points=\"\n",
       "  155.765,817.795 182.129,817.795 \n",
       "  \"/>\n",
       "<polyline clip-path=\"url(#clip420)\" style=\"stroke:#000000; stroke-width:4; stroke-opacity:1; fill:none\" points=\"\n",
       "  155.765,503.834 182.129,503.834 \n",
       "  \"/>\n",
       "<polyline clip-path=\"url(#clip420)\" style=\"stroke:#000000; stroke-width:4; stroke-opacity:1; fill:none\" points=\"\n",
       "  155.765,189.874 182.129,189.874 \n",
       "  \"/>\n",
       "<path clip-path=\"url(#clip420)\" d=\"M 0 0 M53.3995 1459.06 L61.0384 1459.06 L61.0384 1432.69 L52.7282 1434.36 L52.7282 1430.1 L60.9921 1428.44 L65.668 1428.44 L65.668 1459.06 L73.3068 1459.06 L73.3068 1463 L53.3995 1463 L53.3995 1459.06 Z\" fill=\"#000000\" fill-rule=\"evenodd\" fill-opacity=\"1\" /><path clip-path=\"url(#clip420)\" d=\"M 0 0 M82.7512 1457.12 L87.6354 1457.12 L87.6354 1463 L82.7512 1463 L82.7512 1457.12 Z\" fill=\"#000000\" fill-rule=\"evenodd\" fill-opacity=\"1\" /><path clip-path=\"url(#clip420)\" d=\"M 0 0 M107.821 1431.51 Q104.209 1431.51 102.381 1435.08 Q100.575 1438.62 100.575 1445.75 Q100.575 1452.86 102.381 1456.42 Q104.209 1459.96 107.821 1459.96 Q111.455 1459.96 113.26 1456.42 Q115.089 1452.86 115.089 1445.75 Q115.089 1438.62 113.26 1435.08 Q111.455 1431.51 107.821 1431.51 M107.821 1427.81 Q113.631 1427.81 116.686 1432.42 Q119.765 1437 119.765 1445.75 Q119.765 1454.48 116.686 1459.08 Q113.631 1463.67 107.821 1463.67 Q102.01 1463.67 98.9317 1459.08 Q95.8761 1454.48 95.8761 1445.75 Q95.8761 1437 98.9317 1432.42 Q102.01 1427.81 107.821 1427.81 Z\" fill=\"#000000\" fill-rule=\"evenodd\" fill-opacity=\"1\" /><path clip-path=\"url(#clip420)\" d=\"M 0 0 M54.3949 1145.1 L62.0337 1145.1 L62.0337 1118.73 L53.7236 1120.4 L53.7236 1116.14 L61.9874 1114.48 L66.6633 1114.48 L66.6633 1145.1 L74.3022 1145.1 L74.3022 1149.04 L54.3949 1149.04 L54.3949 1145.1 Z\" fill=\"#000000\" fill-rule=\"evenodd\" fill-opacity=\"1\" /><path clip-path=\"url(#clip420)\" d=\"M 0 0 M83.7466 1143.16 L88.6308 1143.16 L88.6308 1149.04 L83.7466 1149.04 L83.7466 1143.16 Z\" fill=\"#000000\" fill-rule=\"evenodd\" fill-opacity=\"1\" /><path clip-path=\"url(#clip420)\" d=\"M 0 0 M98.8622 1114.48 L117.219 1114.48 L117.219 1118.41 L103.145 1118.41 L103.145 1126.88 Q104.163 1126.54 105.182 1126.37 Q106.2 1126.19 107.219 1126.19 Q113.006 1126.19 116.385 1129.36 Q119.765 1132.53 119.765 1137.95 Q119.765 1143.53 116.293 1146.63 Q112.82 1149.71 106.501 1149.71 Q104.325 1149.71 102.057 1149.34 Q99.8113 1148.97 97.4039 1148.23 L97.4039 1143.53 Q99.4872 1144.66 101.709 1145.22 Q103.932 1145.77 106.408 1145.77 Q110.413 1145.77 112.751 1143.66 Q115.089 1141.56 115.089 1137.95 Q115.089 1134.34 112.751 1132.23 Q110.413 1130.12 106.408 1130.12 Q104.534 1130.12 102.659 1130.54 Q100.807 1130.96 98.8622 1131.84 L98.8622 1114.48 Z\" fill=\"#000000\" fill-rule=\"evenodd\" fill-opacity=\"1\" /><path clip-path=\"url(#clip420)\" d=\"M 0 0 M56.6171 831.14 L72.9365 831.14 L72.9365 835.075 L50.9921 835.075 L50.9921 831.14 Q53.6541 828.385 58.2375 823.755 Q62.8439 819.103 64.0245 817.76 Q66.2698 815.237 67.1494 813.501 Q68.0522 811.742 68.0522 810.052 Q68.0522 807.297 66.1078 805.561 Q64.1865 803.825 61.0847 803.825 Q58.8856 803.825 56.4319 804.589 Q54.0014 805.353 51.2236 806.904 L51.2236 802.181 Q54.0477 801.047 56.5014 800.468 Q58.955 799.89 60.9921 799.89 Q66.3624 799.89 69.5568 802.575 Q72.7513 805.26 72.7513 809.751 Q72.7513 811.88 71.9411 813.802 Q71.1541 815.7 69.0476 818.292 Q68.4689 818.964 65.367 822.181 Q62.2652 825.376 56.6171 831.14 Z\" fill=\"#000000\" fill-rule=\"evenodd\" fill-opacity=\"1\" /><path clip-path=\"url(#clip420)\" d=\"M 0 0 M82.7512 829.195 L87.6354 829.195 L87.6354 835.075 L82.7512 835.075 L82.7512 829.195 Z\" fill=\"#000000\" fill-rule=\"evenodd\" fill-opacity=\"1\" /><path clip-path=\"url(#clip420)\" d=\"M 0 0 M107.821 803.593 Q104.209 803.593 102.381 807.158 Q100.575 810.7 100.575 817.829 Q100.575 824.936 102.381 828.501 Q104.209 832.042 107.821 832.042 Q111.455 832.042 113.26 828.501 Q115.089 824.936 115.089 817.829 Q115.089 810.7 113.26 807.158 Q111.455 803.593 107.821 803.593 M107.821 799.89 Q113.631 799.89 116.686 804.496 Q119.765 809.08 119.765 817.829 Q119.765 826.556 116.686 831.163 Q113.631 835.746 107.821 835.746 Q102.01 835.746 98.9317 831.163 Q95.8761 826.556 95.8761 817.829 Q95.8761 809.08 98.9317 804.496 Q102.01 799.89 107.821 799.89 Z\" fill=\"#000000\" fill-rule=\"evenodd\" fill-opacity=\"1\" /><path clip-path=\"url(#clip420)\" d=\"M 0 0 M57.6125 517.179 L73.9318 517.179 L73.9318 521.114 L51.9875 521.114 L51.9875 517.179 Q54.6495 514.425 59.2328 509.795 Q63.8393 505.142 65.0198 503.8 Q67.2652 501.276 68.1448 499.54 Q69.0476 497.781 69.0476 496.091 Q69.0476 493.337 67.1032 491.601 Q65.1819 489.864 62.08 489.864 Q59.881 489.864 57.4273 490.628 Q54.9967 491.392 52.219 492.943 L52.219 488.221 Q55.043 487.087 57.4967 486.508 Q59.9504 485.929 61.9874 485.929 Q67.3578 485.929 70.5522 488.614 Q73.7466 491.3 73.7466 495.79 Q73.7466 497.92 72.9365 499.841 Q72.1494 501.739 70.0429 504.332 Q69.4642 505.003 66.3624 508.221 Q63.2606 511.415 57.6125 517.179 Z\" fill=\"#000000\" fill-rule=\"evenodd\" fill-opacity=\"1\" /><path clip-path=\"url(#clip420)\" d=\"M 0 0 M83.7466 515.235 L88.6308 515.235 L88.6308 521.114 L83.7466 521.114 L83.7466 515.235 Z\" fill=\"#000000\" fill-rule=\"evenodd\" fill-opacity=\"1\" /><path clip-path=\"url(#clip420)\" d=\"M 0 0 M98.8622 486.554 L117.219 486.554 L117.219 490.489 L103.145 490.489 L103.145 498.962 Q104.163 498.614 105.182 498.452 Q106.2 498.267 107.219 498.267 Q113.006 498.267 116.385 501.438 Q119.765 504.61 119.765 510.026 Q119.765 515.605 116.293 518.707 Q112.82 521.786 106.501 521.786 Q104.325 521.786 102.057 521.415 Q99.8113 521.045 97.4039 520.304 L97.4039 515.605 Q99.4872 516.739 101.709 517.295 Q103.932 517.85 106.408 517.85 Q110.413 517.85 112.751 515.744 Q115.089 513.637 115.089 510.026 Q115.089 506.415 112.751 504.309 Q110.413 502.202 106.408 502.202 Q104.534 502.202 102.659 502.619 Q100.807 503.036 98.8622 503.915 L98.8622 486.554 Z\" fill=\"#000000\" fill-rule=\"evenodd\" fill-opacity=\"1\" /><path clip-path=\"url(#clip420)\" d=\"M 0 0 M66.7559 188.52 Q70.1124 189.237 71.9874 191.506 Q73.8855 193.774 73.8855 197.108 Q73.8855 202.223 70.367 205.024 Q66.8485 207.825 60.3671 207.825 Q58.1912 207.825 55.8764 207.385 Q53.5847 206.969 51.131 206.112 L51.131 201.598 Q53.0754 202.733 55.3903 203.311 Q57.7051 203.89 60.2282 203.89 Q64.6263 203.89 66.918 202.154 Q69.2328 200.418 69.2328 197.108 Q69.2328 194.052 67.08 192.339 Q64.9504 190.603 61.131 190.603 L57.1032 190.603 L57.1032 186.76 L61.3161 186.76 Q64.7652 186.76 66.5939 185.395 Q68.4226 184.006 68.4226 181.413 Q68.4226 178.751 66.5245 177.339 Q64.6495 175.904 61.131 175.904 Q59.2097 175.904 57.0106 176.321 Q54.8115 176.737 52.1727 177.617 L52.1727 173.45 Q54.8347 172.71 57.1495 172.339 Q59.4875 171.969 61.5476 171.969 Q66.8717 171.969 69.9735 174.399 Q73.0753 176.807 73.0753 180.927 Q73.0753 183.797 71.4318 185.788 Q69.7883 187.756 66.7559 188.52 Z\" fill=\"#000000\" fill-rule=\"evenodd\" fill-opacity=\"1\" /><path clip-path=\"url(#clip420)\" d=\"M 0 0 M82.7512 201.274 L87.6354 201.274 L87.6354 207.154 L82.7512 207.154 L82.7512 201.274 Z\" fill=\"#000000\" fill-rule=\"evenodd\" fill-opacity=\"1\" /><path clip-path=\"url(#clip420)\" d=\"M 0 0 M107.821 175.673 Q104.209 175.673 102.381 179.237 Q100.575 182.779 100.575 189.909 Q100.575 197.015 102.381 200.58 Q104.209 204.121 107.821 204.121 Q111.455 204.121 113.26 200.58 Q115.089 197.015 115.089 189.909 Q115.089 182.779 113.26 179.237 Q111.455 175.673 107.821 175.673 M107.821 171.969 Q113.631 171.969 116.686 176.575 Q119.765 181.159 119.765 189.909 Q119.765 198.635 116.686 203.242 Q113.631 207.825 107.821 207.825 Q102.01 207.825 98.9317 203.242 Q95.8761 198.635 95.8761 189.909 Q95.8761 181.159 98.9317 176.575 Q102.01 171.969 107.821 171.969 Z\" fill=\"#000000\" fill-rule=\"evenodd\" fill-opacity=\"1\" /><polyline clip-path=\"url(#clip422)\" style=\"stroke:#009af9; stroke-width:4; stroke-opacity:1; fill:none\" points=\"\n",
       "  217.944,1445.72 240.973,1415.07 264.002,1385.78 287.032,1357.7 310.061,1330.67 333.09,1304.59 356.119,1279.37 379.149,1254.93 402.178,1231.19 425.207,1208.11 \n",
       "  448.236,1185.62 471.266,1163.69 494.295,1142.28 517.324,1121.35 540.353,1100.87 563.383,1080.81 586.412,1061.14 609.441,1041.86 632.47,1022.92 655.5,1004.33 \n",
       "  678.529,986.046 701.558,968.068 724.588,950.378 747.617,932.962 770.646,915.808 793.675,898.904 816.705,882.24 839.734,865.807 862.763,849.593 885.792,833.592 \n",
       "  908.822,817.795 931.851,802.194 954.88,786.782 977.909,771.552 1000.94,756.499 1023.97,741.615 1047,726.896 1070.03,712.336 1093.06,697.931 1116.08,683.674 \n",
       "  1139.11,669.563 1162.14,655.592 1185.17,641.757 1208.2,628.054 1231.23,614.48 1254.26,601.031 1277.29,587.704 1300.32,574.496 1323.35,561.403 1346.38,548.422 \n",
       "  1369.41,535.551 1392.44,522.786 1415.47,510.126 1438.49,497.568 1461.52,485.108 1484.55,472.746 1507.58,460.479 1530.61,448.304 1553.64,436.219 1576.67,424.223 \n",
       "  1599.7,412.314 1622.73,400.489 1645.76,388.748 1668.79,377.088 1691.82,365.507 1714.85,354.004 1737.87,342.578 1760.9,331.227 1783.93,319.949 1806.96,308.743 \n",
       "  1829.99,297.608 1853.02,286.542 1876.05,275.545 1899.08,264.614 1922.11,253.749 1945.14,242.948 1968.17,232.211 1991.2,221.536 2014.23,210.922 2037.26,200.368 \n",
       "  2060.28,189.874 2083.31,179.437 2106.34,169.058 2129.37,158.735 2152.4,148.467 2175.43,138.254 2198.46,128.095 2221.49,117.988 2244.52,107.933 2267.55,97.9295 \n",
       "  2290.58,87.9763 \n",
       "  \"/>\n",
       "<path clip-path=\"url(#clip420)\" d=\"\n",
       "M1982.98 216.178 L2279.52 216.178 L2279.52 95.2176 L1982.98 95.2176  Z\n",
       "  \" fill=\"#ffffff\" fill-rule=\"evenodd\" fill-opacity=\"1\"/>\n",
       "<polyline clip-path=\"url(#clip420)\" style=\"stroke:#000000; stroke-width:4; stroke-opacity:1; fill:none\" points=\"\n",
       "  1982.98,216.178 2279.52,216.178 2279.52,95.2176 1982.98,95.2176 1982.98,216.178 \n",
       "  \"/>\n",
       "<polyline clip-path=\"url(#clip420)\" style=\"stroke:#009af9; stroke-width:4; stroke-opacity:1; fill:none\" points=\"\n",
       "  2007.39,155.698 2153.86,155.698 \n",
       "  \"/>\n",
       "<path clip-path=\"url(#clip420)\" d=\"M 0 0 M2192.11 175.385 Q2190.31 180.015 2188.59 181.427 Q2186.88 182.839 2184.01 182.839 L2180.61 182.839 L2180.61 179.274 L2183.11 179.274 Q2184.87 179.274 2185.84 178.44 Q2186.81 177.607 2187.99 174.505 L2188.76 172.561 L2178.27 147.052 L2182.78 147.052 L2190.89 167.329 L2198.99 147.052 L2203.5 147.052 L2192.11 175.385 Z\" fill=\"#000000\" fill-rule=\"evenodd\" fill-opacity=\"1\" /><path clip-path=\"url(#clip420)\" d=\"M 0 0 M2210.79 169.042 L2218.43 169.042 L2218.43 142.677 L2210.12 144.343 L2210.12 140.084 L2218.39 138.418 L2223.06 138.418 L2223.06 169.042 L2230.7 169.042 L2230.7 172.978 L2210.79 172.978 L2210.79 169.042 Z\" fill=\"#000000\" fill-rule=\"evenodd\" fill-opacity=\"1\" /></svg>\n"
      ]
     },
     "execution_count": 75,
     "metadata": {},
     "output_type": "execute_result"
    }
   ],
   "source": [
    "plot(x, y)"
   ]
  },
  {
   "cell_type": "code",
   "execution_count": 76,
   "id": "e3f0ccd4",
   "metadata": {},
   "outputs": [],
   "source": [
    "y1 = log.(x);"
   ]
  },
  {
   "cell_type": "code",
   "execution_count": 77,
   "id": "52e2ab89",
   "metadata": {},
   "outputs": [
    {
     "data": {
      "image/svg+xml": [
       "<?xml version=\"1.0\" encoding=\"utf-8\"?>\n",
       "<svg xmlns=\"http://www.w3.org/2000/svg\" xmlns:xlink=\"http://www.w3.org/1999/xlink\" width=\"600\" height=\"400\" viewBox=\"0 0 2400 1600\">\n",
       "<defs>\n",
       "  <clipPath id=\"clip460\">\n",
       "    <rect x=\"0\" y=\"0\" width=\"2400\" height=\"1600\"/>\n",
       "  </clipPath>\n",
       "</defs>\n",
       "<path clip-path=\"url(#clip460)\" d=\"\n",
       "M0 1600 L2400 1600 L2400 0 L0 0  Z\n",
       "  \" fill=\"#ffffff\" fill-rule=\"evenodd\" fill-opacity=\"1\"/>\n",
       "<defs>\n",
       "  <clipPath id=\"clip461\">\n",
       "    <rect x=\"480\" y=\"0\" width=\"1681\" height=\"1600\"/>\n",
       "  </clipPath>\n",
       "</defs>\n",
       "<path clip-path=\"url(#clip460)\" d=\"\n",
       "M110.881 1486.45 L2352.76 1486.45 L2352.76 47.2441 L110.881 47.2441  Z\n",
       "  \" fill=\"#ffffff\" fill-rule=\"evenodd\" fill-opacity=\"1\"/>\n",
       "<defs>\n",
       "  <clipPath id=\"clip462\">\n",
       "    <rect x=\"110\" y=\"47\" width=\"2243\" height=\"1440\"/>\n",
       "  </clipPath>\n",
       "</defs>\n",
       "<polyline clip-path=\"url(#clip462)\" style=\"stroke:#000000; stroke-width:2; stroke-opacity:0.1; fill:none\" points=\"\n",
       "  409.328,1486.45 409.328,47.2441 \n",
       "  \"/>\n",
       "<polyline clip-path=\"url(#clip462)\" style=\"stroke:#000000; stroke-width:2; stroke-opacity:0.1; fill:none\" points=\"\n",
       "  879.322,1486.45 879.322,47.2441 \n",
       "  \"/>\n",
       "<polyline clip-path=\"url(#clip462)\" style=\"stroke:#000000; stroke-width:2; stroke-opacity:0.1; fill:none\" points=\"\n",
       "  1349.32,1486.45 1349.32,47.2441 \n",
       "  \"/>\n",
       "<polyline clip-path=\"url(#clip462)\" style=\"stroke:#000000; stroke-width:2; stroke-opacity:0.1; fill:none\" points=\"\n",
       "  1819.31,1486.45 1819.31,47.2441 \n",
       "  \"/>\n",
       "<polyline clip-path=\"url(#clip462)\" style=\"stroke:#000000; stroke-width:2; stroke-opacity:0.1; fill:none\" points=\"\n",
       "  2289.31,1486.45 2289.31,47.2441 \n",
       "  \"/>\n",
       "<polyline clip-path=\"url(#clip460)\" style=\"stroke:#000000; stroke-width:4; stroke-opacity:1; fill:none\" points=\"\n",
       "  110.881,1486.45 2352.76,1486.45 \n",
       "  \"/>\n",
       "<polyline clip-path=\"url(#clip460)\" style=\"stroke:#000000; stroke-width:4; stroke-opacity:1; fill:none\" points=\"\n",
       "  409.328,1486.45 409.328,1469.18 \n",
       "  \"/>\n",
       "<polyline clip-path=\"url(#clip460)\" style=\"stroke:#000000; stroke-width:4; stroke-opacity:1; fill:none\" points=\"\n",
       "  879.322,1486.45 879.322,1469.18 \n",
       "  \"/>\n",
       "<polyline clip-path=\"url(#clip460)\" style=\"stroke:#000000; stroke-width:4; stroke-opacity:1; fill:none\" points=\"\n",
       "  1349.32,1486.45 1349.32,1469.18 \n",
       "  \"/>\n",
       "<polyline clip-path=\"url(#clip460)\" style=\"stroke:#000000; stroke-width:4; stroke-opacity:1; fill:none\" points=\"\n",
       "  1819.31,1486.45 1819.31,1469.18 \n",
       "  \"/>\n",
       "<polyline clip-path=\"url(#clip460)\" style=\"stroke:#000000; stroke-width:4; stroke-opacity:1; fill:none\" points=\"\n",
       "  2289.31,1486.45 2289.31,1469.18 \n",
       "  \"/>\n",
       "<path clip-path=\"url(#clip460)\" d=\"M 0 0 M403.98 1543.18 L420.3 1543.18 L420.3 1547.12 L398.355 1547.12 L398.355 1543.18 Q401.017 1540.43 405.601 1535.8 Q410.207 1531.15 411.388 1529.81 Q413.633 1527.28 414.513 1525.55 Q415.415 1523.79 415.415 1522.1 Q415.415 1519.34 413.471 1517.61 Q411.55 1515.87 408.448 1515.87 Q406.249 1515.87 403.795 1516.63 Q401.365 1517.4 398.587 1518.95 L398.587 1514.23 Q401.411 1513.09 403.865 1512.51 Q406.318 1511.93 408.355 1511.93 Q413.726 1511.93 416.92 1514.62 Q420.115 1517.31 420.115 1521.8 Q420.115 1523.93 419.304 1525.85 Q418.517 1527.74 416.411 1530.34 Q415.832 1531.01 412.73 1534.23 Q409.628 1537.42 403.98 1543.18 Z\" fill=\"#000000\" fill-rule=\"evenodd\" fill-opacity=\"1\" /><path clip-path=\"url(#clip460)\" d=\"M 0 0 M882.332 1516.63 L870.526 1535.08 L882.332 1535.08 L882.332 1516.63 M881.105 1512.56 L886.984 1512.56 L886.984 1535.08 L891.915 1535.08 L891.915 1538.97 L886.984 1538.97 L886.984 1547.12 L882.332 1547.12 L882.332 1538.97 L866.73 1538.97 L866.73 1534.46 L881.105 1512.56 Z\" fill=\"#000000\" fill-rule=\"evenodd\" fill-opacity=\"1\" /><path clip-path=\"url(#clip460)\" d=\"M 0 0 M1349.72 1527.98 Q1346.57 1527.98 1344.72 1530.13 Q1342.89 1532.28 1342.89 1536.03 Q1342.89 1539.76 1344.72 1541.93 Q1346.57 1544.09 1349.72 1544.09 Q1352.87 1544.09 1354.7 1541.93 Q1356.55 1539.76 1356.55 1536.03 Q1356.55 1532.28 1354.7 1530.13 Q1352.87 1527.98 1349.72 1527.98 M1359 1513.32 L1359 1517.58 Q1357.25 1516.75 1355.44 1516.31 Q1353.66 1515.87 1351.9 1515.87 Q1347.27 1515.87 1344.81 1519 Q1342.38 1522.12 1342.04 1528.44 Q1343.4 1526.43 1345.46 1525.36 Q1347.52 1524.27 1350 1524.27 Q1355.21 1524.27 1358.22 1527.44 Q1361.25 1530.59 1361.25 1536.03 Q1361.25 1541.36 1358.1 1544.57 Q1354.95 1547.79 1349.72 1547.79 Q1343.73 1547.79 1340.56 1543.21 Q1337.38 1538.6 1337.38 1529.87 Q1337.38 1521.68 1341.27 1516.82 Q1345.16 1511.93 1351.71 1511.93 Q1353.47 1511.93 1355.25 1512.28 Q1357.06 1512.63 1359 1513.32 Z\" fill=\"#000000\" fill-rule=\"evenodd\" fill-opacity=\"1\" /><path clip-path=\"url(#clip460)\" d=\"M 0 0 M1819.31 1530.71 Q1815.98 1530.71 1814.06 1532.49 Q1812.16 1534.27 1812.16 1537.4 Q1812.16 1540.52 1814.06 1542.31 Q1815.98 1544.09 1819.31 1544.09 Q1822.65 1544.09 1824.57 1542.31 Q1826.49 1540.5 1826.49 1537.4 Q1826.49 1534.27 1824.57 1532.49 Q1822.67 1530.71 1819.31 1530.71 M1814.64 1528.72 Q1811.63 1527.98 1809.94 1525.92 Q1808.27 1523.86 1808.27 1520.89 Q1808.27 1516.75 1811.21 1514.34 Q1814.17 1511.93 1819.31 1511.93 Q1824.47 1511.93 1827.41 1514.34 Q1830.35 1516.75 1830.35 1520.89 Q1830.35 1523.86 1828.66 1525.92 Q1827 1527.98 1824.01 1528.72 Q1827.39 1529.5 1829.27 1531.8 Q1831.16 1534.09 1831.16 1537.4 Q1831.16 1542.42 1828.08 1545.11 Q1825.03 1547.79 1819.31 1547.79 Q1813.59 1547.79 1810.52 1545.11 Q1807.46 1542.42 1807.46 1537.4 Q1807.46 1534.09 1809.36 1531.8 Q1811.26 1529.5 1814.64 1528.72 M1812.92 1521.33 Q1812.92 1524.02 1814.59 1525.52 Q1816.28 1527.03 1819.31 1527.03 Q1822.32 1527.03 1824.01 1525.52 Q1825.72 1524.02 1825.72 1521.33 Q1825.72 1518.65 1824.01 1517.14 Q1822.32 1515.64 1819.31 1515.64 Q1816.28 1515.64 1814.59 1517.14 Q1812.92 1518.65 1812.92 1521.33 Z\" fill=\"#000000\" fill-rule=\"evenodd\" fill-opacity=\"1\" /><path clip-path=\"url(#clip460)\" d=\"M 0 0 M2263.99 1543.18 L2271.63 1543.18 L2271.63 1516.82 L2263.32 1518.49 L2263.32 1514.23 L2271.59 1512.56 L2276.26 1512.56 L2276.26 1543.18 L2283.9 1543.18 L2283.9 1547.12 L2263.99 1547.12 L2263.99 1543.18 Z\" fill=\"#000000\" fill-rule=\"evenodd\" fill-opacity=\"1\" /><path clip-path=\"url(#clip460)\" d=\"M 0 0 M2303.35 1515.64 Q2299.73 1515.64 2297.91 1519.2 Q2296.1 1522.75 2296.1 1529.87 Q2296.1 1536.98 2297.91 1540.55 Q2299.73 1544.09 2303.35 1544.09 Q2306.98 1544.09 2308.79 1540.55 Q2310.61 1536.98 2310.61 1529.87 Q2310.61 1522.75 2308.79 1519.2 Q2306.98 1515.64 2303.35 1515.64 M2303.35 1511.93 Q2309.16 1511.93 2312.21 1516.54 Q2315.29 1521.12 2315.29 1529.87 Q2315.29 1538.6 2312.21 1543.21 Q2309.16 1547.79 2303.35 1547.79 Q2297.54 1547.79 2294.46 1543.21 Q2291.4 1538.6 2291.4 1529.87 Q2291.4 1521.12 2294.46 1516.54 Q2297.54 1511.93 2303.35 1511.93 Z\" fill=\"#000000\" fill-rule=\"evenodd\" fill-opacity=\"1\" /><polyline clip-path=\"url(#clip462)\" style=\"stroke:#000000; stroke-width:2; stroke-opacity:0.1; fill:none\" points=\"\n",
       "  110.881,1445.72 2352.76,1445.72 \n",
       "  \"/>\n",
       "<polyline clip-path=\"url(#clip462)\" style=\"stroke:#000000; stroke-width:2; stroke-opacity:0.1; fill:none\" points=\"\n",
       "  110.881,1016.36 2352.76,1016.36 \n",
       "  \"/>\n",
       "<polyline clip-path=\"url(#clip462)\" style=\"stroke:#000000; stroke-width:2; stroke-opacity:0.1; fill:none\" points=\"\n",
       "  110.881,587.006 2352.76,587.006 \n",
       "  \"/>\n",
       "<polyline clip-path=\"url(#clip462)\" style=\"stroke:#000000; stroke-width:2; stroke-opacity:0.1; fill:none\" points=\"\n",
       "  110.881,157.651 2352.76,157.651 \n",
       "  \"/>\n",
       "<polyline clip-path=\"url(#clip460)\" style=\"stroke:#000000; stroke-width:4; stroke-opacity:1; fill:none\" points=\"\n",
       "  110.881,1486.45 110.881,47.2441 \n",
       "  \"/>\n",
       "<polyline clip-path=\"url(#clip460)\" style=\"stroke:#000000; stroke-width:4; stroke-opacity:1; fill:none\" points=\"\n",
       "  110.881,1445.72 137.783,1445.72 \n",
       "  \"/>\n",
       "<polyline clip-path=\"url(#clip460)\" style=\"stroke:#000000; stroke-width:4; stroke-opacity:1; fill:none\" points=\"\n",
       "  110.881,1016.36 137.783,1016.36 \n",
       "  \"/>\n",
       "<polyline clip-path=\"url(#clip460)\" style=\"stroke:#000000; stroke-width:4; stroke-opacity:1; fill:none\" points=\"\n",
       "  110.881,587.006 137.783,587.006 \n",
       "  \"/>\n",
       "<polyline clip-path=\"url(#clip460)\" style=\"stroke:#000000; stroke-width:4; stroke-opacity:1; fill:none\" points=\"\n",
       "  110.881,157.651 137.783,157.651 \n",
       "  \"/>\n",
       "<path clip-path=\"url(#clip460)\" d=\"M 0 0 M62.9365 1431.51 Q59.3254 1431.51 57.4967 1435.08 Q55.6912 1438.62 55.6912 1445.75 Q55.6912 1452.86 57.4967 1456.42 Q59.3254 1459.96 62.9365 1459.96 Q66.5707 1459.96 68.3763 1456.42 Q70.205 1452.86 70.205 1445.75 Q70.205 1438.62 68.3763 1435.08 Q66.5707 1431.51 62.9365 1431.51 M62.9365 1427.81 Q68.7467 1427.81 71.8022 1432.42 Q74.8809 1437 74.8809 1445.75 Q74.8809 1454.48 71.8022 1459.08 Q68.7467 1463.67 62.9365 1463.67 Q57.1264 1463.67 54.0477 1459.08 Q50.9921 1454.48 50.9921 1445.75 Q50.9921 1437 54.0477 1432.42 Q57.1264 1427.81 62.9365 1427.81 Z\" fill=\"#000000\" fill-rule=\"evenodd\" fill-opacity=\"1\" /><path clip-path=\"url(#clip460)\" d=\"M 0 0 M54.9736 1029.71 L62.6124 1029.71 L62.6124 1003.34 L54.3023 1005.01 L54.3023 1000.75 L62.5661 999.081 L67.242 999.081 L67.242 1029.71 L74.8809 1029.71 L74.8809 1033.64 L54.9736 1033.64 L54.9736 1029.71 Z\" fill=\"#000000\" fill-rule=\"evenodd\" fill-opacity=\"1\" /><path clip-path=\"url(#clip460)\" d=\"M 0 0 M58.5615 600.351 L74.8809 600.351 L74.8809 604.286 L52.9366 604.286 L52.9366 600.351 Q55.5986 597.596 60.1819 592.967 Q64.7883 588.314 65.9689 586.971 Q68.2143 584.448 69.0939 582.712 Q69.9967 580.953 69.9967 579.263 Q69.9967 576.508 68.0522 574.772 Q66.1309 573.036 63.0291 573.036 Q60.83 573.036 58.3763 573.8 Q55.9458 574.564 53.168 576.115 L53.168 571.393 Q55.9921 570.258 58.4458 569.68 Q60.8995 569.101 62.9365 569.101 Q68.3068 569.101 71.5013 571.786 Q74.6957 574.471 74.6957 578.962 Q74.6957 581.092 73.8855 583.013 Q73.0985 584.911 70.992 587.504 Q70.4133 588.175 67.3115 591.392 Q64.2096 594.587 58.5615 600.351 Z\" fill=\"#000000\" fill-rule=\"evenodd\" fill-opacity=\"1\" /><path clip-path=\"url(#clip460)\" d=\"M 0 0 M67.7513 156.297 Q71.1078 157.014 72.9827 159.283 Q74.8809 161.551 74.8809 164.885 Q74.8809 170 71.3624 172.801 Q67.8439 175.602 61.3624 175.602 Q59.1865 175.602 56.8717 175.162 Q54.5801 174.746 52.1264 173.889 L52.1264 169.375 Q54.0708 170.51 56.3856 171.088 Q58.7004 171.667 61.2236 171.667 Q65.6217 171.667 67.9133 169.931 Q70.2281 168.195 70.2281 164.885 Q70.2281 161.829 68.0754 160.116 Q65.9457 158.38 62.1263 158.38 L58.0986 158.38 L58.0986 154.538 L62.3115 154.538 Q65.7606 154.538 67.5893 153.172 Q69.418 151.783 69.418 149.19 Q69.418 146.528 67.5198 145.116 Q65.6448 143.681 62.1263 143.681 Q60.205 143.681 58.006 144.098 Q55.8069 144.514 53.168 145.394 L53.168 141.227 Q55.8301 140.487 58.1449 140.116 Q60.4828 139.746 62.543 139.746 Q67.867 139.746 70.9689 142.177 Q74.0707 144.584 74.0707 148.704 Q74.0707 151.575 72.4272 153.565 Q70.7837 155.533 67.7513 156.297 Z\" fill=\"#000000\" fill-rule=\"evenodd\" fill-opacity=\"1\" /><polyline clip-path=\"url(#clip462)\" style=\"stroke:#009af9; stroke-width:4; stroke-opacity:1; fill:none\" points=\"\n",
       "  174.33,1445.72 197.83,1404.79 221.33,1367.44 244.829,1333.07 268.329,1301.25 291.829,1271.63 315.329,1243.92 338.828,1217.89 362.328,1193.35 385.828,1170.13 \n",
       "  409.328,1148.11 432.827,1127.16 456.327,1107.19 479.827,1088.1 503.327,1069.83 526.826,1052.3 550.326,1035.46 573.826,1019.26 597.325,1003.64 620.825,988.577 \n",
       "  644.325,974.021 667.825,959.943 691.324,946.311 714.824,933.099 738.324,920.282 761.824,907.836 785.323,895.74 808.823,883.977 832.323,872.526 855.823,861.374 \n",
       "  879.322,850.503 902.822,839.902 926.322,829.555 949.822,819.452 973.321,809.582 996.821,799.933 1020.32,790.496 1043.82,781.262 1067.32,772.223 1090.82,763.37 \n",
       "  1114.32,754.696 1137.82,746.193 1161.32,737.856 1184.82,729.678 1208.32,721.652 1231.82,713.774 1255.32,706.037 1278.82,698.438 1302.32,690.971 1325.82,683.631 \n",
       "  1349.32,676.415 1372.82,669.318 1396.32,662.337 1419.82,655.467 1443.32,648.705 1466.82,642.048 1490.32,635.493 1513.82,629.037 1537.31,622.676 1560.81,616.408 \n",
       "  1584.31,610.23 1607.81,604.139 1631.31,598.134 1654.81,592.212 1678.31,586.37 1701.81,580.607 1725.31,574.92 1748.81,569.308 1772.31,563.768 1795.81,558.298 \n",
       "  1819.31,552.897 1842.81,547.564 1866.31,542.295 1889.81,537.091 1913.31,531.949 1936.81,526.868 1960.31,521.846 1983.81,516.882 2007.31,511.975 2030.81,507.124 \n",
       "  2054.31,502.327 2077.81,497.582 2101.31,492.89 2124.81,488.248 2148.31,483.656 2171.81,479.113 2195.31,474.617 2218.81,470.167 2242.31,465.764 2265.81,461.405 \n",
       "  2289.31,457.089 \n",
       "  \"/>\n",
       "<polyline clip-path=\"url(#clip462)\" style=\"stroke:#e26f46; stroke-width:4; stroke-opacity:1; fill:none\" points=\"\n",
       "  174.33,1016.36 197.83,995.404 221.33,975.381 244.829,956.176 268.329,937.696 291.829,919.865 315.329,902.62 338.828,885.905 362.328,869.676 385.828,853.891 \n",
       "  409.328,838.516 432.827,823.521 456.327,808.879 479.827,794.567 503.327,780.562 526.826,766.846 550.326,753.402 573.826,740.214 597.325,727.268 620.825,714.551 \n",
       "  644.325,702.051 667.825,689.758 691.324,677.662 714.824,665.754 738.324,654.024 761.824,642.466 785.323,631.072 808.823,619.835 832.323,608.749 855.823,597.808 \n",
       "  879.322,587.006 902.822,576.338 926.322,565.8 949.822,555.386 973.321,545.093 996.821,534.916 1020.32,524.852 1043.82,514.896 1067.32,505.046 1090.82,495.298 \n",
       "  1114.32,485.649 1137.82,476.096 1161.32,466.636 1184.82,457.266 1208.32,447.985 1231.82,438.789 1255.32,429.677 1278.82,420.645 1302.32,411.692 1325.82,402.816 \n",
       "  1349.32,394.015 1372.82,385.287 1396.32,376.631 1419.82,368.043 1443.32,359.524 1466.82,351.071 1490.32,342.683 1513.82,334.358 1537.31,326.095 1560.81,317.893 \n",
       "  1584.31,309.749 1607.81,301.664 1631.31,293.636 1654.81,285.663 1678.31,277.744 1701.81,269.879 1725.31,262.066 1748.81,254.304 1772.31,246.593 1795.81,238.931 \n",
       "  1819.31,231.317 1842.81,223.75 1866.31,216.23 1889.81,208.756 1913.31,201.327 1936.81,193.942 1960.31,186.6 1983.81,179.301 2007.31,172.043 2030.81,164.827 \n",
       "  2054.31,157.651 2077.81,150.515 2101.31,143.418 2124.81,136.359 2148.31,129.338 2171.81,122.355 2195.31,115.408 2218.81,108.497 2242.31,101.622 2265.81,94.782 \n",
       "  2289.31,87.9763 \n",
       "  \"/>\n",
       "<path clip-path=\"url(#clip460)\" d=\"\n",
       "M1976.5 276.658 L2278.03 276.658 L2278.03 95.2176 L1976.5 95.2176  Z\n",
       "  \" fill=\"#ffffff\" fill-rule=\"evenodd\" fill-opacity=\"1\"/>\n",
       "<polyline clip-path=\"url(#clip460)\" style=\"stroke:#000000; stroke-width:4; stroke-opacity:1; fill:none\" points=\"\n",
       "  1976.5,276.658 2278.03,276.658 2278.03,95.2176 1976.5,95.2176 1976.5,276.658 \n",
       "  \"/>\n",
       "<polyline clip-path=\"url(#clip460)\" style=\"stroke:#009af9; stroke-width:4; stroke-opacity:1; fill:none\" points=\"\n",
       "  2001.41,155.698 2150.87,155.698 \n",
       "  \"/>\n",
       "<path clip-path=\"url(#clip460)\" d=\"M 0 0 M2189.62 175.385 Q2187.81 180.015 2186.1 181.427 Q2184.39 182.839 2181.52 182.839 L2178.11 182.839 L2178.11 179.274 L2180.61 179.274 Q2182.37 179.274 2183.35 178.44 Q2184.32 177.607 2185.5 174.505 L2186.26 172.561 L2175.78 147.052 L2180.29 147.052 L2188.39 167.329 L2196.49 147.052 L2201.01 147.052 L2189.62 175.385 Z\" fill=\"#000000\" fill-rule=\"evenodd\" fill-opacity=\"1\" /><path clip-path=\"url(#clip460)\" d=\"M 0 0 M2208.3 169.042 L2215.94 169.042 L2215.94 142.677 L2207.63 144.343 L2207.63 140.084 L2215.89 138.418 L2220.57 138.418 L2220.57 169.042 L2228.21 169.042 L2228.21 172.978 L2208.3 172.978 L2208.3 169.042 Z\" fill=\"#000000\" fill-rule=\"evenodd\" fill-opacity=\"1\" /><polyline clip-path=\"url(#clip460)\" style=\"stroke:#e26f46; stroke-width:4; stroke-opacity:1; fill:none\" points=\"\n",
       "  2001.41,216.178 2150.87,216.178 \n",
       "  \"/>\n",
       "<path clip-path=\"url(#clip460)\" d=\"M 0 0 M2189.62 235.865 Q2187.81 240.495 2186.1 241.907 Q2184.39 243.319 2181.52 243.319 L2178.11 243.319 L2178.11 239.754 L2180.61 239.754 Q2182.37 239.754 2183.35 238.92 Q2184.32 238.087 2185.5 234.985 L2186.26 233.041 L2175.78 207.532 L2180.29 207.532 L2188.39 227.809 L2196.49 207.532 L2201.01 207.532 L2189.62 235.865 Z\" fill=\"#000000\" fill-rule=\"evenodd\" fill-opacity=\"1\" /><path clip-path=\"url(#clip460)\" d=\"M 0 0 M2211.52 229.522 L2227.84 229.522 L2227.84 233.458 L2205.89 233.458 L2205.89 229.522 Q2208.55 226.768 2213.14 222.138 Q2217.74 217.485 2218.92 216.143 Q2221.17 213.62 2222.05 211.884 Q2222.95 210.124 2222.95 208.435 Q2222.95 205.68 2221.01 203.944 Q2219.09 202.208 2215.99 202.208 Q2213.79 202.208 2211.33 202.972 Q2208.9 203.735 2206.12 205.286 L2206.12 200.564 Q2208.95 199.43 2211.4 198.851 Q2213.86 198.273 2215.89 198.273 Q2221.26 198.273 2224.46 200.958 Q2227.65 203.643 2227.65 208.134 Q2227.65 210.263 2226.84 212.185 Q2226.05 214.083 2223.95 216.675 Q2223.37 217.347 2220.27 220.564 Q2217.17 223.759 2211.52 229.522 Z\" fill=\"#000000\" fill-rule=\"evenodd\" fill-opacity=\"1\" /></svg>\n"
      ]
     },
     "execution_count": 77,
     "metadata": {},
     "output_type": "execute_result"
    }
   ],
   "source": [
    "plot(x, y1)\n",
    "plot!(x, y)"
   ]
  },
  {
   "cell_type": "code",
   "execution_count": 78,
   "id": "f273ac33",
   "metadata": {},
   "outputs": [
    {
     "ename": "LoadError",
     "evalue": "UndefVarError: approx not defined",
     "output_type": "error",
     "traceback": [
      "UndefVarError: approx not defined",
      "",
      "Stacktrace:",
      " [1] top-level scope",
      "   @ In[78]:1",
      " [2] eval",
      "   @ ./boot.jl:360 [inlined]",
      " [3] include_string(mapexpr::typeof(REPL.softscope), mod::Module, code::String, filename::String)",
      "   @ Base ./loading.jl:1094"
     ]
    }
   ],
   "source": [
    "0.01 <approx> 0.0349"
   ]
  }
 ],
 "metadata": {
  "kernelspec": {
   "display_name": "Julia 1.6.1",
   "language": "julia",
   "name": "julia-1.6"
  },
  "language_info": {
   "file_extension": ".jl",
   "mimetype": "application/julia",
   "name": "julia",
   "version": "1.6.1"
  }
 },
 "nbformat": 4,
 "nbformat_minor": 5
}
