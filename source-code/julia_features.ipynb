{
 "cells": [
  {
   "cell_type": "markdown",
   "id": "1f077b02",
   "metadata": {},
   "source": [
    "# Simple computations"
   ]
  },
  {
   "cell_type": "markdown",
   "id": "c91430fc",
   "metadata": {},
   "source": [
    "There are few (but some) surprises when doing simple computations in Julia."
   ]
  },
  {
   "cell_type": "code",
   "execution_count": 1,
   "id": "2de2ce60",
   "metadata": {},
   "outputs": [
    {
     "data": {
      "text/plain": [
       "4"
      ]
     },
     "execution_count": 1,
     "metadata": {},
     "output_type": "execute_result"
    }
   ],
   "source": [
    "1 + 3"
   ]
  },
  {
   "cell_type": "markdown",
   "id": "339ae92b",
   "metadata": {},
   "source": [
    "A nifty feature is that you can use unicode characters in variable names.  In a notebook, these can be typed in $\\LaTeX$ notation, after you press the tab key, they will be converted into unicode."
   ]
  },
  {
   "cell_type": "code",
   "execution_count": 2,
   "id": "f56d0a01",
   "metadata": {},
   "outputs": [
    {
     "data": {
      "text/plain": [
       "3.1"
      ]
     },
     "execution_count": 2,
     "metadata": {},
     "output_type": "execute_result"
    }
   ],
   "source": [
    "β = 3.1"
   ]
  },
  {
   "cell_type": "markdown",
   "id": "c9ab1fba",
   "metadata": {},
   "source": [
    "Note that like MATLAB, Julia will print the result of a statement, unless you end it with a semi-colon."
   ]
  },
  {
   "cell_type": "code",
   "execution_count": 3,
   "id": "0093a88f",
   "metadata": {},
   "outputs": [],
   "source": [
    "β = 3.3;"
   ]
  },
  {
   "cell_type": "markdown",
   "id": "4786b6d9",
   "metadata": {},
   "source": [
    "The type of a value can be determined using the `typeof` function.  By default, floating piont valies are double precision (64 bit)."
   ]
  },
  {
   "cell_type": "code",
   "execution_count": 4,
   "id": "ae8a1df4",
   "metadata": {},
   "outputs": [
    {
     "data": {
      "text/plain": [
       "Float64"
      ]
     },
     "execution_count": 4,
     "metadata": {},
     "output_type": "execute_result"
    }
   ],
   "source": [
    "typeof(β)"
   ]
  },
  {
   "cell_type": "markdown",
   "id": "14033a17",
   "metadata": {},
   "source": [
    "To create a single precision floating point value, you would use the following notation."
   ]
  },
  {
   "cell_type": "code",
   "execution_count": 5,
   "id": "ce9c8caf",
   "metadata": {},
   "outputs": [
    {
     "data": {
      "text/plain": [
       "Float32"
      ]
     },
     "execution_count": 5,
     "metadata": {},
     "output_type": "execute_result"
    }
   ],
   "source": [
    "typeof(3.1f0)"
   ]
  },
  {
   "cell_type": "markdown",
   "id": "9bcbd63f",
   "metadata": {},
   "source": [
    "Note that unlike in C/C++, you have to specify the exponent, so the `f` is not a type qualifier, it is simply denoting the exponent part of the floating point number (`e` for double precision, `f` for single precision)."
   ]
  },
  {
   "cell_type": "markdown",
   "id": "86f995ee",
   "metadata": {},
   "source": [
    "You can explicitely create a value of the type you want using the conversion functions, e.g., an 8-bit integer value."
   ]
  },
  {
   "cell_type": "code",
   "execution_count": 6,
   "id": "a4315706",
   "metadata": {},
   "outputs": [
    {
     "data": {
      "text/plain": [
       "3"
      ]
     },
     "execution_count": 6,
     "metadata": {},
     "output_type": "execute_result"
    }
   ],
   "source": [
    "bits = Int8(3)"
   ]
  },
  {
   "cell_type": "code",
   "execution_count": 7,
   "id": "1fdbebb6",
   "metadata": {},
   "outputs": [
    {
     "data": {
      "text/plain": [
       "Int8"
      ]
     },
     "execution_count": 7,
     "metadata": {},
     "output_type": "execute_result"
    }
   ],
   "source": [
    "typeof(bits)"
   ]
  },
  {
   "cell_type": "markdown",
   "id": "74f82025",
   "metadata": {},
   "source": [
    "Julia has made a halfhearted attempt at being smart at math.  When you multiply a constant value and a variable, you don't have to use the multiplication operator, it is implicit."
   ]
  },
  {
   "cell_type": "code",
   "execution_count": 8,
   "id": "f4db45a5",
   "metadata": {},
   "outputs": [
    {
     "data": {
      "text/plain": [
       "9.899999999999999"
      ]
     },
     "execution_count": 8,
     "metadata": {},
     "output_type": "execute_result"
    }
   ],
   "source": [
    "3β"
   ]
  },
  {
   "cell_type": "markdown",
   "id": "04d35838",
   "metadata": {},
   "source": [
    "Some functions also have a representation as a unicode symbol, for instance the square root function (`\\sqrt` + tab)."
   ]
  },
  {
   "cell_type": "code",
   "execution_count": 9,
   "id": "44c5ac67",
   "metadata": {},
   "outputs": [
    {
     "data": {
      "text/plain": [
       "2.23606797749979"
      ]
     },
     "execution_count": 9,
     "metadata": {},
     "output_type": "execute_result"
    }
   ],
   "source": [
    "√5"
   ]
  },
  {
   "cell_type": "markdown",
   "id": "dfb4962a",
   "metadata": {},
   "source": [
    "Of course, you can also use the function by name."
   ]
  },
  {
   "cell_type": "code",
   "execution_count": 10,
   "id": "ebcf2b22",
   "metadata": {},
   "outputs": [
    {
     "data": {
      "text/plain": [
       "2.23606797749979"
      ]
     },
     "execution_count": 10,
     "metadata": {},
     "output_type": "execute_result"
    }
   ],
   "source": [
    "sqrt(5)"
   ]
  },
  {
   "cell_type": "code",
   "execution_count": 11,
   "id": "3cbf9a40",
   "metadata": {},
   "outputs": [
    {
     "data": {
      "text/plain": [
       "3"
      ]
     },
     "execution_count": 11,
     "metadata": {},
     "output_type": "execute_result"
    }
   ],
   "source": [
    "x = 3"
   ]
  },
  {
   "cell_type": "markdown",
   "id": "2749fe0a",
   "metadata": {},
   "source": [
    "Note that the \"mathematical\" notation is intuitive, but this may lead to bugs."
   ]
  },
  {
   "cell_type": "code",
   "execution_count": 12,
   "id": "519a5ebb",
   "metadata": {},
   "outputs": [
    {
     "data": {
      "text/plain": [
       "64"
      ]
     },
     "execution_count": 12,
     "metadata": {},
     "output_type": "execute_result"
    }
   ],
   "source": [
    "2^2x"
   ]
  },
  {
   "cell_type": "markdown",
   "id": "3dc5fb74",
   "metadata": {},
   "source": [
    "The above expression is interpreted as $2^{2x}$, which is likely your intension, however it may get confusing since it is not equivalent to the following expression."
   ]
  },
  {
   "cell_type": "code",
   "execution_count": 13,
   "id": "58ed94ff",
   "metadata": {},
   "outputs": [
    {
     "data": {
      "text/plain": [
       "12"
      ]
     },
     "execution_count": 13,
     "metadata": {},
     "output_type": "execute_result"
    }
   ],
   "source": [
    "2^2*x"
   ]
  },
  {
   "cell_type": "markdown",
   "id": "322d9099",
   "metadata": {},
   "source": [
    "Also, the attempt at mathematical notation is half-hearted since the following doesn't compute."
   ]
  },
  {
   "cell_type": "code",
   "execution_count": 14,
   "id": "f2c58c6b",
   "metadata": {},
   "outputs": [
    {
     "ename": "LoadError",
     "evalue": "syntax: \"try\" at In[14]:1 expected \"end\", got \"x\"",
     "output_type": "error",
     "traceback": [
      "syntax: \"try\" at In[14]:1 expected \"end\", got \"x\"",
      "",
      "Stacktrace:",
      " [1] top-level scope",
      "   @ In[14]:2",
      " [2] eval",
      "   @ ./boot.jl:360 [inlined]",
      " [3] include_string(mapexpr::typeof(REPL.softscope), mod::Module, code::String, filename::String)",
      "   @ Base ./loading.jl:1094"
     ]
    }
   ],
   "source": [
    "try\n",
    "    β x\n",
    "catch error\n",
    "    println(error)\n",
    "end"
   ]
  },
  {
   "cell_type": "markdown",
   "id": "ffbcd56b",
   "metadata": {},
   "source": [
    "Mathematica goes all the way by reserving parenthesis for grouping and using brackets for function calls."
   ]
  },
  {
   "cell_type": "markdown",
   "id": "db2d1c14",
   "metadata": {},
   "source": [
    "Like Python 3, the division operator applied to integers results in a floating point value."
   ]
  },
  {
   "cell_type": "code",
   "execution_count": 15,
   "id": "acc6c0d1",
   "metadata": {},
   "outputs": [
    {
     "data": {
      "text/plain": [
       "0.6"
      ]
     },
     "execution_count": 15,
     "metadata": {},
     "output_type": "execute_result"
    }
   ],
   "source": [
    "3/5"
   ]
  },
  {
   "cell_type": "markdown",
   "id": "f47af4dc",
   "metadata": {},
   "source": [
    "The integer division has its unicode operator `\\div` + tab."
   ]
  },
  {
   "cell_type": "code",
   "execution_count": 16,
   "id": "9f983dbc",
   "metadata": {},
   "outputs": [
    {
     "data": {
      "text/plain": [
       "1"
      ]
     },
     "execution_count": 16,
     "metadata": {},
     "output_type": "execute_result"
    }
   ],
   "source": [
    "3 ÷ 2"
   ]
  },
  {
   "cell_type": "markdown",
   "id": "1c32c87c",
   "metadata": {},
   "source": [
    "For some operators, unicode character equivalents are available, e.g., the bit-wise exclusive or."
   ]
  },
  {
   "cell_type": "code",
   "execution_count": 17,
   "id": "907d764a",
   "metadata": {
    "scrolled": true
   },
   "outputs": [
    {
     "data": {
      "text/plain": [
       "6"
      ]
     },
     "execution_count": 17,
     "metadata": {},
     "output_type": "execute_result"
    }
   ],
   "source": [
    "5 ⊻ 3"
   ]
  },
  {
   "cell_type": "code",
   "execution_count": 18,
   "id": "ed5def0e",
   "metadata": {},
   "outputs": [
    {
     "data": {
      "text/plain": [
       "6"
      ]
     },
     "execution_count": 18,
     "metadata": {},
     "output_type": "execute_result"
    }
   ],
   "source": [
    "xor(5, 3)"
   ]
  },
  {
   "cell_type": "raw",
   "id": "6272c1f6",
   "metadata": {},
   "source": [
    "It would have made sense to add definitions for the logical or bit-wise operators such as $\\vee$ and $\\wedge$, but that opportunity was missed."
   ]
  },
  {
   "cell_type": "code",
   "execution_count": 19,
   "id": "cc3514c1",
   "metadata": {},
   "outputs": [
    {
     "name": "stdout",
     "output_type": "stream",
     "text": [
      "UndefVarError(:∨)\n"
     ]
    }
   ],
   "source": [
    "try\n",
    "    3 ∨ 7\n",
    "catch error\n",
    "    println(error)\n",
    "end"
   ]
  },
  {
   "cell_type": "markdown",
   "id": "90e4019c",
   "metadata": {},
   "source": [
    "Also the comparison operators have their unicode counterpart, e.g,, `\\le` + tab and `\\ne` + tab."
   ]
  },
  {
   "cell_type": "code",
   "execution_count": 20,
   "id": "f2c9499c",
   "metadata": {},
   "outputs": [
    {
     "data": {
      "text/plain": [
       "true"
      ]
     },
     "execution_count": 20,
     "metadata": {},
     "output_type": "execute_result"
    }
   ],
   "source": [
    "3 ≤ 5"
   ]
  },
  {
   "cell_type": "code",
   "execution_count": 21,
   "id": "49590cce",
   "metadata": {
    "scrolled": true
   },
   "outputs": [
    {
     "data": {
      "text/plain": [
       "true"
      ]
     },
     "execution_count": 21,
     "metadata": {},
     "output_type": "execute_result"
    }
   ],
   "source": [
    "3 ≠ 5"
   ]
  },
  {
   "cell_type": "markdown",
   "id": "56b5cb03",
   "metadata": {},
   "source": [
    "# Types"
   ]
  },
  {
   "cell_type": "markdown",
   "id": "d162ed36",
   "metadata": {},
   "source": [
    "## Real numbers"
   ]
  },
  {
   "cell_type": "markdown",
   "id": "5012dd65",
   "metadata": {},
   "source": [
    "Julia support half, single and double precision, as `Float16`, `Float32` and `Float64`."
   ]
  },
  {
   "cell_type": "markdown",
   "id": "8acbfc20",
   "metadata": {},
   "source": [
    "## Complex numbers"
   ]
  },
  {
   "cell_type": "markdown",
   "id": "a5c5bf37",
   "metadata": {},
   "source": [
    "You can work with complex numbers, the notation is a bit more cumbersome than in Python."
   ]
  },
  {
   "cell_type": "code",
   "execution_count": 22,
   "id": "f6e008b5",
   "metadata": {},
   "outputs": [
    {
     "name": "stdout",
     "output_type": "stream",
     "text": [
      "DomainError(-5.0, \"sqrt will only return a complex result if called with a complex argument. Try sqrt(Complex(x)).\")\n"
     ]
    }
   ],
   "source": [
    "try\n",
    "    √-5\n",
    "catch error\n",
    "    println(error)\n",
    "end"
   ]
  },
  {
   "cell_type": "code",
   "execution_count": 23,
   "id": "3f114be6",
   "metadata": {
    "scrolled": true
   },
   "outputs": [
    {
     "data": {
      "text/plain": [
       "0.0 + 2.23606797749979im"
      ]
     },
     "execution_count": 23,
     "metadata": {},
     "output_type": "execute_result"
    }
   ],
   "source": [
    "√(-5 + 0im)"
   ]
  },
  {
   "cell_type": "markdown",
   "id": "4afaba4c",
   "metadata": {},
   "source": [
    "## Integers"
   ]
  },
  {
   "cell_type": "markdown",
   "id": "4eed0b18",
   "metadata": {},
   "source": [
    "Julia supports many integer types: 8, 16, 32 and 64 bits, signed and unsigned, so `Int8`, `UInt8`, `Int16`, `UInt16`, etc."
   ]
  },
  {
   "cell_type": "markdown",
   "id": "a313e5b3",
   "metadata": {},
   "source": [
    "## Strings"
   ]
  },
  {
   "cell_type": "code",
   "execution_count": 24,
   "id": "1bd0de46",
   "metadata": {},
   "outputs": [
    {
     "data": {
      "text/plain": [
       "\"hello\""
      ]
     },
     "execution_count": 24,
     "metadata": {},
     "output_type": "execute_result"
    }
   ],
   "source": [
    "s = \"hello\""
   ]
  },
  {
   "cell_type": "code",
   "execution_count": 25,
   "id": "6f3c8da0",
   "metadata": {},
   "outputs": [
    {
     "data": {
      "text/plain": [
       "\"hel\""
      ]
     },
     "execution_count": 25,
     "metadata": {},
     "output_type": "execute_result"
    }
   ],
   "source": [
    "s[1:3]"
   ]
  },
  {
   "cell_type": "code",
   "execution_count": 26,
   "id": "f1d887df",
   "metadata": {},
   "outputs": [
    {
     "data": {
      "text/plain": [
       "'o': ASCII/Unicode U+006F (category Ll: Letter, lowercase)"
      ]
     },
     "execution_count": 26,
     "metadata": {},
     "output_type": "execute_result"
    }
   ],
   "source": [
    "s[end]"
   ]
  },
  {
   "cell_type": "code",
   "execution_count": 27,
   "id": "05777eba",
   "metadata": {},
   "outputs": [
    {
     "data": {
      "text/plain": [
       "'h': ASCII/Unicode U+0068 (category Ll: Letter, lowercase)"
      ]
     },
     "execution_count": 27,
     "metadata": {},
     "output_type": "execute_result"
    }
   ],
   "source": [
    "s[begin]"
   ]
  },
  {
   "cell_type": "code",
   "execution_count": 28,
   "id": "eac523ac",
   "metadata": {},
   "outputs": [
    {
     "data": {
      "text/plain": [
       "'l': ASCII/Unicode U+006C (category Ll: Letter, lowercase)"
      ]
     },
     "execution_count": 28,
     "metadata": {},
     "output_type": "execute_result"
    }
   ],
   "source": [
    "s[3]"
   ]
  },
  {
   "cell_type": "markdown",
   "id": "b084a810",
   "metadata": {},
   "source": [
    "Note that Julia makes the distinction between characters and strings depending on the quotes you use."
   ]
  },
  {
   "cell_type": "code",
   "execution_count": 29,
   "id": "1f18e101",
   "metadata": {},
   "outputs": [
    {
     "data": {
      "text/plain": [
       "Char"
      ]
     },
     "execution_count": 29,
     "metadata": {},
     "output_type": "execute_result"
    }
   ],
   "source": [
    "typeof('a')"
   ]
  },
  {
   "cell_type": "code",
   "execution_count": 30,
   "id": "677d87ba",
   "metadata": {},
   "outputs": [
    {
     "data": {
      "text/plain": [
       "String"
      ]
     },
     "execution_count": 30,
     "metadata": {},
     "output_type": "execute_result"
    }
   ],
   "source": [
    "typeof(\"a\")"
   ]
  },
  {
   "cell_type": "markdown",
   "id": "5b4b625d-5fed-4cf2-95c0-3978a1aea475",
   "metadata": {},
   "source": [
    "### String substituion"
   ]
  },
  {
   "cell_type": "markdown",
   "id": "12ba392b-5909-496e-8548-b9b5933885b2",
   "metadata": {},
   "source": [
    "Variable and expression substitution is straightforward."
   ]
  },
  {
   "cell_type": "code",
   "execution_count": 6,
   "id": "92cfa184-303d-4431-8f0c-6a7edddf6e0a",
   "metadata": {},
   "outputs": [
    {
     "data": {
      "text/plain": [
       "\"sqrt(2.0) = 1.4142135623730951\""
      ]
     },
     "execution_count": 6,
     "metadata": {},
     "output_type": "execute_result"
    }
   ],
   "source": [
    "x = 2.0\n",
    "\"sqrt($x) = $(sqrt(x))\""
   ]
  },
  {
   "cell_type": "markdown",
   "id": "dd055f98",
   "metadata": {},
   "source": [
    "## Tuples and name tuples"
   ]
  },
  {
   "cell_type": "markdown",
   "id": "1a996ea3",
   "metadata": {},
   "source": [
    "Tuples and named tuples work as expected, and Julia has automatic tuple packing and unpacking similar to Python."
   ]
  },
  {
   "cell_type": "code",
   "execution_count": 7,
   "id": "fc420309",
   "metadata": {},
   "outputs": [
    {
     "data": {
      "text/plain": [
       "(3, 'a', \"fourteen\")"
      ]
     },
     "execution_count": 7,
     "metadata": {},
     "output_type": "execute_result"
    }
   ],
   "source": [
    "t = (3, 'a', \"fourteen\")"
   ]
  },
  {
   "cell_type": "code",
   "execution_count": 8,
   "id": "fadb3cc5",
   "metadata": {},
   "outputs": [
    {
     "data": {
      "text/plain": [
       "\"fourteen\""
      ]
     },
     "execution_count": 8,
     "metadata": {},
     "output_type": "execute_result"
    }
   ],
   "source": [
    "t[3]"
   ]
  },
  {
   "cell_type": "code",
   "execution_count": 9,
   "id": "55aa07b8-3559-4a48-bf4a-ffda390ea6da",
   "metadata": {},
   "outputs": [
    {
     "data": {
      "text/plain": [
       "Tuple{Int64, Char, String}"
      ]
     },
     "execution_count": 9,
     "metadata": {},
     "output_type": "execute_result"
    }
   ],
   "source": [
    "typeof(t)"
   ]
  },
  {
   "cell_type": "code",
   "execution_count": 10,
   "id": "33b56ce7",
   "metadata": {},
   "outputs": [
    {
     "data": {
      "text/plain": [
       "(x = 1.2, y = 2.3)"
      ]
     },
     "execution_count": 10,
     "metadata": {},
     "output_type": "execute_result"
    }
   ],
   "source": [
    "coords = (x=1.2, y=2.3)"
   ]
  },
  {
   "cell_type": "code",
   "execution_count": 11,
   "id": "d3169a99",
   "metadata": {},
   "outputs": [
    {
     "data": {
      "text/plain": [
       "(1.2, 1.2)"
      ]
     },
     "execution_count": 11,
     "metadata": {},
     "output_type": "execute_result"
    }
   ],
   "source": [
    "coords[1], coords.x"
   ]
  },
  {
   "cell_type": "code",
   "execution_count": 12,
   "id": "3bb7364f",
   "metadata": {},
   "outputs": [
    {
     "data": {
      "text/plain": [
       "(x = 1.2, y = 2.3)"
      ]
     },
     "execution_count": 12,
     "metadata": {},
     "output_type": "execute_result"
    }
   ],
   "source": [
    "x, y = coords"
   ]
  },
  {
   "cell_type": "code",
   "execution_count": 13,
   "id": "e75ed628",
   "metadata": {},
   "outputs": [
    {
     "data": {
      "text/plain": [
       "1.2"
      ]
     },
     "execution_count": 13,
     "metadata": {},
     "output_type": "execute_result"
    }
   ],
   "source": [
    "x"
   ]
  },
  {
   "cell_type": "code",
   "execution_count": 14,
   "id": "e6aff279-cb04-4e7f-983f-8fa0e97823cf",
   "metadata": {},
   "outputs": [
    {
     "data": {
      "text/plain": [
       "NamedTuple{(:x, :y), Tuple{Float64, Float64}}"
      ]
     },
     "execution_count": 14,
     "metadata": {},
     "output_type": "execute_result"
    }
   ],
   "source": [
    "typeof(coords)"
   ]
  },
  {
   "cell_type": "markdown",
   "id": "a85dbe78",
   "metadata": {},
   "source": [
    "Just like in Python, you can not modify a tuple once it is created."
   ]
  },
  {
   "cell_type": "code",
   "execution_count": 158,
   "id": "20436da7",
   "metadata": {},
   "outputs": [
    {
     "ename": "LoadError",
     "evalue": "MethodError: no method matching setindex!(::NamedTuple{(:x, :y), Tuple{Float64, Float64}}, ::Float64, ::Int64)",
     "output_type": "error",
     "traceback": [
      "MethodError: no method matching setindex!(::NamedTuple{(:x, :y), Tuple{Float64, Float64}}, ::Float64, ::Int64)",
      "",
      "Stacktrace:",
      " [1] top-level scope",
      "   @ In[158]:1",
      " [2] eval",
      "   @ ./boot.jl:360 [inlined]",
      " [3] include_string(mapexpr::typeof(REPL.softscope), mod::Module, code::String, filename::String)",
      "   @ Base ./loading.jl:1094"
     ]
    }
   ],
   "source": [
    "coords[1] = -0.3"
   ]
  },
  {
   "cell_type": "markdown",
   "id": "25bcdb06",
   "metadata": {},
   "source": [
    "## Dictionaries"
   ]
  },
  {
   "cell_type": "code",
   "execution_count": 159,
   "id": "09ee91df",
   "metadata": {},
   "outputs": [
    {
     "data": {
      "text/plain": [
       "Dict{String, Int64} with 3 entries:\n",
       "  \"carol\" => 64\n",
       "  \"alice\" => 35\n",
       "  \"bob\"   => 25"
      ]
     },
     "execution_count": 159,
     "metadata": {},
     "output_type": "execute_result"
    }
   ],
   "source": [
    "dict = Dict(\"alice\" => 35, \"bob\" => 25, \"carol\" => 64)"
   ]
  },
  {
   "cell_type": "code",
   "execution_count": 160,
   "id": "42d7b4f3",
   "metadata": {},
   "outputs": [
    {
     "data": {
      "text/plain": [
       "25"
      ]
     },
     "execution_count": 160,
     "metadata": {},
     "output_type": "execute_result"
    }
   ],
   "source": [
    "dict[\"bob\"]"
   ]
  },
  {
   "cell_type": "code",
   "execution_count": 161,
   "id": "c4aef70a",
   "metadata": {},
   "outputs": [
    {
     "data": {
      "text/plain": [
       "36"
      ]
     },
     "execution_count": 161,
     "metadata": {},
     "output_type": "execute_result"
    }
   ],
   "source": [
    "dict[\"alice\"] = 36"
   ]
  },
  {
   "cell_type": "code",
   "execution_count": 169,
   "id": "b942ae90",
   "metadata": {},
   "outputs": [
    {
     "data": {
      "text/plain": [
       "12"
      ]
     },
     "execution_count": 169,
     "metadata": {},
     "output_type": "execute_result"
    }
   ],
   "source": [
    "dict[\"dereck\"] = 12"
   ]
  },
  {
   "cell_type": "code",
   "execution_count": 170,
   "id": "0d4af7fb",
   "metadata": {},
   "outputs": [
    {
     "data": {
      "text/plain": [
       "Dict{String, Int64} with 4 entries:\n",
       "  \"carol\"  => 64\n",
       "  \"alice\"  => 36\n",
       "  \"bob\"    => 25\n",
       "  \"dereck\" => 12"
      ]
     },
     "execution_count": 170,
     "metadata": {},
     "output_type": "execute_result"
    }
   ],
   "source": [
    "dict"
   ]
  },
  {
   "cell_type": "code",
   "execution_count": 164,
   "id": "48d4166b",
   "metadata": {},
   "outputs": [
    {
     "data": {
      "text/plain": [
       "true"
      ]
     },
     "execution_count": 164,
     "metadata": {},
     "output_type": "execute_result"
    }
   ],
   "source": [
    "haskey(dict, \"alice\")"
   ]
  },
  {
   "cell_type": "code",
   "execution_count": 168,
   "id": "f78b2eeb",
   "metadata": {},
   "outputs": [
    {
     "name": "stdout",
     "output_type": "stream",
     "text": [
      "64\n",
      "36\n",
      "25\n"
     ]
    }
   ],
   "source": [
    "for name in keys(dict)\n",
    "    println(dict[name])\n",
    "end"
   ]
  },
  {
   "cell_type": "markdown",
   "id": "ba0e65d0-ac04-444e-9060-52a4926c1bc3",
   "metadata": {},
   "source": [
    "Note that keys and values need not all have the same type."
   ]
  },
  {
   "cell_type": "code",
   "execution_count": 5,
   "id": "1397c031-cce3-4ff6-9295-3dc70852c3d8",
   "metadata": {},
   "outputs": [
    {
     "data": {
      "text/plain": [
       "Dict{Any, Any} with 2 entries:\n",
       "  \"a\" => 5\n",
       "  3   => \"b\""
      ]
     },
     "execution_count": 5,
     "metadata": {},
     "output_type": "execute_result"
    }
   ],
   "source": [
    "arbitrary = Dict(\"a\" => 5, 3 => \"b\")"
   ]
  },
  {
   "cell_type": "markdown",
   "id": "63254a1f",
   "metadata": {},
   "source": [
    "## Sets"
   ]
  },
  {
   "cell_type": "code",
   "execution_count": 171,
   "id": "bdb75ed7",
   "metadata": {},
   "outputs": [
    {
     "data": {
      "text/plain": [
       "Set{Int64} with 3 elements:\n",
       "  5\n",
       "  7\n",
       "  3"
      ]
     },
     "execution_count": 171,
     "metadata": {},
     "output_type": "execute_result"
    }
   ],
   "source": [
    "s = Set([3, 5, 7])"
   ]
  },
  {
   "cell_type": "markdown",
   "id": "0e33d995-d67e-4953-8320-a34a0ac7c21a",
   "metadata": {},
   "source": [
    "Set membershiip can be tested with $\\in$ (`\\in` + tab) or the `in` function."
   ]
  },
  {
   "cell_type": "code",
   "execution_count": 174,
   "id": "1f03e383",
   "metadata": {},
   "outputs": [
    {
     "data": {
      "text/plain": [
       "true"
      ]
     },
     "execution_count": 174,
     "metadata": {},
     "output_type": "execute_result"
    }
   ],
   "source": [
    "3 ∈ s"
   ]
  },
  {
   "cell_type": "code",
   "execution_count": 177,
   "id": "ffe4e603",
   "metadata": {},
   "outputs": [
    {
     "data": {
      "text/plain": [
       "true"
      ]
     },
     "execution_count": 177,
     "metadata": {},
     "output_type": "execute_result"
    }
   ],
   "source": [
    "in(3, s)"
   ]
  },
  {
   "cell_type": "code",
   "execution_count": 178,
   "id": "d43e801a",
   "metadata": {},
   "outputs": [
    {
     "data": {
      "text/plain": [
       "false"
      ]
     },
     "execution_count": 178,
     "metadata": {},
     "output_type": "execute_result"
    }
   ],
   "source": [
    "4 ∈ s"
   ]
  },
  {
   "cell_type": "markdown",
   "id": "326f3bfd",
   "metadata": {},
   "source": [
    "Julia has functions for all common set operations: `union`, `intersect`, `setdiff`, `symdiff`, `issubset` and so on."
   ]
  },
  {
   "cell_type": "markdown",
   "id": "2d3475a2-d233-4e0d-9013-f6c08213bdfa",
   "metadata": {},
   "source": [
    "## Structures"
   ]
  },
  {
   "cell_type": "markdown",
   "id": "d61f8378-a685-430e-a89a-07508519512f",
   "metadata": {},
   "source": [
    "The main compound data structure in Julia is a structure.  It comes in two flavors, the default is unmutable, and mutable structures."
   ]
  },
  {
   "cell_type": "code",
   "execution_count": 2,
   "id": "47e76fd3-3c7b-4b77-9fab-65499473b960",
   "metadata": {},
   "outputs": [],
   "source": [
    "struct Person\n",
    "    first_name::String\n",
    "    last_name::String\n",
    "    age::UInt8\n",
    "end"
   ]
  },
  {
   "cell_type": "code",
   "execution_count": 3,
   "id": "39185374-8541-4753-88f9-61f7f67bda81",
   "metadata": {},
   "outputs": [
    {
     "data": {
      "text/plain": [
       "Person(\"Geert Jan\", \"Bex\", 0x35)"
      ]
     },
     "execution_count": 3,
     "metadata": {},
     "output_type": "execute_result"
    }
   ],
   "source": [
    "me = Person(\"Geert Jan\", \"Bex\", 53)"
   ]
  },
  {
   "cell_type": "code",
   "execution_count": 4,
   "id": "975f471a-9219-4d91-9285-9220d0d05022",
   "metadata": {},
   "outputs": [
    {
     "data": {
      "text/plain": [
       "\"Geert Jan\""
      ]
     },
     "execution_count": 4,
     "metadata": {},
     "output_type": "execute_result"
    }
   ],
   "source": [
    "me.first_name"
   ]
  },
  {
   "cell_type": "code",
   "execution_count": 5,
   "id": "5ee74462-2595-4c69-bf47-3eeac243c494",
   "metadata": {},
   "outputs": [
    {
     "ename": "LoadError",
     "evalue": "setfield! immutable struct of type Person cannot be changed",
     "output_type": "error",
     "traceback": [
      "setfield! immutable struct of type Person cannot be changed",
      "",
      "Stacktrace:",
      " [1] setproperty!(x::Person, f::Symbol, v::Int64)",
      "   @ Base ./Base.jl:34",
      " [2] top-level scope",
      "   @ In[5]:1",
      " [3] eval",
      "   @ ./boot.jl:360 [inlined]",
      " [4] include_string(mapexpr::typeof(REPL.softscope), mod::Module, code::String, filename::String)",
      "   @ Base ./loading.jl:1094"
     ]
    }
   ],
   "source": [
    "me.age += 1"
   ]
  },
  {
   "cell_type": "code",
   "execution_count": 7,
   "id": "3c7cc330-7eb1-406d-a676-d4fd257005cd",
   "metadata": {},
   "outputs": [],
   "source": [
    "mutable struct AgingPerson\n",
    "    first_name::String\n",
    "    last_name::String\n",
    "    age::UInt8\n",
    "end"
   ]
  },
  {
   "cell_type": "code",
   "execution_count": 8,
   "id": "493c2544-75d4-4768-8b8c-cafebb54cca0",
   "metadata": {},
   "outputs": [
    {
     "data": {
      "text/plain": [
       "AgingPerson(\"Geert Jan\", \"Bex\", 0x35)"
      ]
     },
     "execution_count": 8,
     "metadata": {},
     "output_type": "execute_result"
    }
   ],
   "source": [
    "me = AgingPerson(\"Geert Jan\", \"Bex\", 53)"
   ]
  },
  {
   "cell_type": "code",
   "execution_count": 11,
   "id": "1d7567c2-d4da-491c-bbe9-3af17003ef84",
   "metadata": {},
   "outputs": [
    {
     "data": {
      "text/plain": [
       "54"
      ]
     },
     "execution_count": 11,
     "metadata": {},
     "output_type": "execute_result"
    }
   ],
   "source": [
    "me.age += 1"
   ]
  },
  {
   "cell_type": "markdown",
   "id": "e09ed611-93fc-4cc7-b239-c81168b93bdc",
   "metadata": {},
   "source": [
    "Note that a structure defines a new type."
   ]
  },
  {
   "cell_type": "code",
   "execution_count": 12,
   "id": "2c389181-d390-48a9-b4c0-422170a16068",
   "metadata": {},
   "outputs": [
    {
     "data": {
      "text/plain": [
       "AgingPerson"
      ]
     },
     "execution_count": 12,
     "metadata": {},
     "output_type": "execute_result"
    }
   ],
   "source": [
    "typeof(me)"
   ]
  },
  {
   "cell_type": "markdown",
   "id": "3526a968",
   "metadata": {},
   "source": [
    "## Vectors and matrices"
   ]
  },
  {
   "cell_type": "markdown",
   "id": "81340441",
   "metadata": {},
   "source": [
    "Needless to say, Julia has a lot of functionality for dealing with vectors and arrays.  A literal vector can be defined using brackets."
   ]
  },
  {
   "cell_type": "code",
   "execution_count": 15,
   "id": "e36358c5",
   "metadata": {},
   "outputs": [
    {
     "data": {
      "text/plain": [
       "([1 2 3], [2 3 7], [3, 1, -1])"
      ]
     },
     "execution_count": 15,
     "metadata": {},
     "output_type": "execute_result"
    }
   ],
   "source": [
    "v_1, v_2, v_3 = [1 2 3], [2 3 7], [3, 1, -1]"
   ]
  },
  {
   "cell_type": "code",
   "execution_count": 16,
   "id": "db349212",
   "metadata": {},
   "outputs": [
    {
     "data": {
      "text/plain": [
       "((1, 3), (3,))"
      ]
     },
     "execution_count": 16,
     "metadata": {},
     "output_type": "execute_result"
    }
   ],
   "source": [
    "size(v_1), size(v_3)"
   ]
  },
  {
   "cell_type": "markdown",
   "id": "5ee31e4c",
   "metadata": {},
   "source": [
    "As you can see, Julia distinguishes between row and column vectors.  It is a little bizar that a column vector is a `Vector` and a row vector a `Matrix` with a single row."
   ]
  },
  {
   "cell_type": "code",
   "execution_count": 33,
   "id": "3cd5c078",
   "metadata": {},
   "outputs": [
    {
     "data": {
      "text/plain": [
       "(Matrix{Int64}, Vector{Int64})"
      ]
     },
     "execution_count": 33,
     "metadata": {},
     "output_type": "execute_result"
    }
   ],
   "source": [
    "typeof(v_1), typeof(v_3)"
   ]
  },
  {
   "cell_type": "markdown",
   "id": "fe5ea1cc",
   "metadata": {},
   "source": [
    "Multiplying a constant is straightforward."
   ]
  },
  {
   "cell_type": "code",
   "execution_count": 34,
   "id": "b96505a2",
   "metadata": {},
   "outputs": [
    {
     "data": {
      "text/plain": [
       "1×3 Matrix{Int64}:\n",
       " 3  6  9"
      ]
     },
     "execution_count": 34,
     "metadata": {},
     "output_type": "execute_result"
    }
   ],
   "source": [
    "3v_1"
   ]
  },
  {
   "cell_type": "markdown",
   "id": "aa583dc9",
   "metadata": {},
   "source": [
    "However, to add a value to each vector element, you would have to use the element-wise operator `.+`.  This is counter-intuitive when you are used to numpy and is likely to cause some frustration."
   ]
  },
  {
   "cell_type": "code",
   "execution_count": 35,
   "id": "c497c6c3",
   "metadata": {},
   "outputs": [
    {
     "data": {
      "text/plain": [
       "1×3 Matrix{Int64}:\n",
       " 4  5  6"
      ]
     },
     "execution_count": 35,
     "metadata": {},
     "output_type": "execute_result"
    }
   ],
   "source": [
    "3 .+ v_1"
   ]
  },
  {
   "cell_type": "markdown",
   "id": "d14d6101",
   "metadata": {},
   "source": [
    "Element-wise operations can be done using dot-operators and functions, e.g,, for multiplying the elements of `v` and `w`."
   ]
  },
  {
   "cell_type": "code",
   "execution_count": 36,
   "id": "3d8775cb",
   "metadata": {},
   "outputs": [
    {
     "data": {
      "text/plain": [
       "1×3 Matrix{Int64}:\n",
       " 2  6  21"
      ]
     },
     "execution_count": 36,
     "metadata": {},
     "output_type": "execute_result"
    }
   ],
   "source": [
    "v_1 .* v_2"
   ]
  },
  {
   "cell_type": "markdown",
   "id": "062f9dfc",
   "metadata": {},
   "source": [
    "Note that applying a function to a vector also requires the dot-operator."
   ]
  },
  {
   "cell_type": "code",
   "execution_count": 37,
   "id": "cb775805",
   "metadata": {},
   "outputs": [
    {
     "data": {
      "text/plain": [
       "1×3 Matrix{Float64}:\n",
       " 1.0  1.41421  1.73205"
      ]
     },
     "execution_count": 37,
     "metadata": {},
     "output_type": "execute_result"
    }
   ],
   "source": [
    "sqrt.(v_1)"
   ]
  },
  {
   "cell_type": "markdown",
   "id": "4cedb615",
   "metadata": {},
   "source": [
    "Confusingly, element-wise operators are preceeded by a dot, element-wise function have a lot at the end."
   ]
  },
  {
   "cell_type": "code",
   "execution_count": 38,
   "id": "dd2a4aa0",
   "metadata": {},
   "outputs": [
    {
     "data": {
      "text/plain": [
       "1-element Vector{Int64}:\n",
       " 2"
      ]
     },
     "execution_count": 38,
     "metadata": {},
     "output_type": "execute_result"
    }
   ],
   "source": [
    "v_1 * v_3"
   ]
  },
  {
   "cell_type": "markdown",
   "id": "72129d4a",
   "metadata": {},
   "source": [
    "Multiplying a row and a column vector results in a vector with a single element.  As expected, dimensions must match."
   ]
  },
  {
   "cell_type": "code",
   "execution_count": 39,
   "id": "ecb9b786",
   "metadata": {},
   "outputs": [
    {
     "name": "stdout",
     "output_type": "stream",
     "text": [
      "DimensionMismatch(\"matrix A has dimensions (1,3), matrix B has dimensions (1,3)\")\n"
     ]
    }
   ],
   "source": [
    "try\n",
    "    v_1 * v_2\n",
    "catch error\n",
    "    println(error)\n",
    "end"
   ]
  },
  {
   "cell_type": "markdown",
   "id": "e57215ef",
   "metadata": {},
   "source": [
    "A vector can be defined using a range as in MATLAB, but you have to use the `collect` function to actually create the vector."
   ]
  },
  {
   "cell_type": "code",
   "execution_count": 40,
   "id": "66d2d5ef",
   "metadata": {},
   "outputs": [
    {
     "data": {
      "text/plain": [
       "11-element Vector{Float64}:\n",
       " 0.0\n",
       " 0.1\n",
       " 0.2\n",
       " 0.3\n",
       " 0.4\n",
       " 0.5\n",
       " 0.6\n",
       " 0.7\n",
       " 0.8\n",
       " 0.9\n",
       " 1.0"
      ]
     },
     "execution_count": 40,
     "metadata": {},
     "output_type": "execute_result"
    }
   ],
   "source": [
    "v = collect(0.0:0.1:1.0)"
   ]
  },
  {
   "cell_type": "markdown",
   "id": "c839f694",
   "metadata": {},
   "source": [
    "A matrix can be constructed similarly to MATLAB."
   ]
  },
  {
   "cell_type": "code",
   "execution_count": 41,
   "id": "b5a8b2e1",
   "metadata": {
    "scrolled": true
   },
   "outputs": [
    {
     "data": {
      "text/plain": [
       "2×3 Matrix{Int64}:\n",
       " 1  2  3\n",
       " 4  5  6"
      ]
     },
     "execution_count": 41,
     "metadata": {},
     "output_type": "execute_result"
    }
   ],
   "source": [
    "A = [1 2 3; 4 5 6]"
   ]
  },
  {
   "cell_type": "code",
   "execution_count": 42,
   "id": "43c11c9b",
   "metadata": {
    "scrolled": true
   },
   "outputs": [
    {
     "data": {
      "text/plain": [
       "3×2 Matrix{Int64}:\n",
       " 1  5\n",
       " 4  3\n",
       " 2  6"
      ]
     },
     "execution_count": 42,
     "metadata": {},
     "output_type": "execute_result"
    }
   ],
   "source": [
    "reshape(A, (3, 2))"
   ]
  },
  {
   "cell_type": "markdown",
   "id": "d8c30484",
   "metadata": {},
   "source": [
    "Similar to numpy and MATLAB, Julia has a number of functions to initialize vectors and matrices."
   ]
  },
  {
   "cell_type": "code",
   "execution_count": 120,
   "id": "e21dc865",
   "metadata": {},
   "outputs": [
    {
     "data": {
      "text/plain": [
       "5-element Vector{Float64}:\n",
       " 0.0\n",
       " 0.0\n",
       " 0.0\n",
       " 0.0\n",
       " 0.0"
      ]
     },
     "execution_count": 120,
     "metadata": {},
     "output_type": "execute_result"
    }
   ],
   "source": [
    "zeros(5)"
   ]
  },
  {
   "cell_type": "markdown",
   "id": "220ac11f",
   "metadata": {},
   "source": [
    "Note that unlike in Python, the  dimensions are simply arguments of those functions, not a tuple."
   ]
  },
  {
   "cell_type": "code",
   "execution_count": 121,
   "id": "f5ce28fb",
   "metadata": {},
   "outputs": [
    {
     "data": {
      "text/plain": [
       "2×3 Matrix{Float64}:\n",
       " 1.0  1.0  1.0\n",
       " 1.0  1.0  1.0"
      ]
     },
     "execution_count": 121,
     "metadata": {},
     "output_type": "execute_result"
    }
   ],
   "source": [
    "ones(2, 3)"
   ]
  },
  {
   "cell_type": "code",
   "execution_count": 136,
   "id": "36b982bb",
   "metadata": {},
   "outputs": [
    {
     "data": {
      "text/plain": [
       "5×5 Matrix{Float64}:\n",
       " 4.0  4.0  4.0  4.0  3.0\n",
       " 4.0  2.0  1.0  4.0  4.0\n",
       " 4.0  3.0  2.0  2.0  4.0\n",
       " 4.0  2.0  1.0  4.0  4.0\n",
       " 2.0  4.0  3.0  3.0  4.0"
      ]
     },
     "execution_count": 136,
     "metadata": {},
     "output_type": "execute_result"
    }
   ],
   "source": [
    "rand((1.0, 2.0, 3.0, 4.0), 5, 5)"
   ]
  },
  {
   "cell_type": "markdown",
   "id": "9b317700",
   "metadata": {},
   "source": [
    "# Statements"
   ]
  },
  {
   "cell_type": "markdown",
   "id": "eb1cb270-1e6f-4646-bd78-1234d299f548",
   "metadata": {},
   "source": [
    "## Iteration statements"
   ]
  },
  {
   "cell_type": "markdown",
   "id": "313bcf84",
   "metadata": {},
   "source": [
    "Iterating over a range of values is straightforward."
   ]
  },
  {
   "cell_type": "code",
   "execution_count": 179,
   "id": "861af017",
   "metadata": {},
   "outputs": [
    {
     "name": "stdout",
     "output_type": "stream",
     "text": [
      "1\n",
      "3\n",
      "5\n",
      "7\n",
      "9\n"
     ]
    }
   ],
   "source": [
    "for i in 1:2:10\n",
    "    println(i)\n",
    "end"
   ]
  },
  {
   "cell_type": "markdown",
   "id": "e1e0dcca",
   "metadata": {},
   "source": [
    "The same statement can be used to iterate over collections as you saw above."
   ]
  },
  {
   "cell_type": "code",
   "execution_count": 1,
   "id": "f942dbec",
   "metadata": {},
   "outputs": [
    {
     "data": {
      "text/plain": [
       "(4, 4)"
      ]
     },
     "execution_count": 1,
     "metadata": {},
     "output_type": "execute_result"
    }
   ],
   "source": [
    "a, b = 12, 16\n",
    "while a ≠ b\n",
    "    if a < b\n",
    "        b -= a\n",
    "    else\n",
    "        a -= b\n",
    "    end\n",
    "end\n",
    "a, b"
   ]
  },
  {
   "cell_type": "code",
   "execution_count": 12,
   "id": "6ac687a2",
   "metadata": {},
   "outputs": [
    {
     "data": {
      "text/plain": [
       "(4, 4)"
      ]
     },
     "execution_count": 12,
     "metadata": {},
     "output_type": "execute_result"
    }
   ],
   "source": [
    "a, b = 12, 16\n",
    "while a ≠ b\n",
    "    if a < b\n",
    "        b = b - a\n",
    "    else\n",
    "        a = a - b\n",
    "    end\n",
    "end\n",
    "a, b"
   ]
  },
  {
   "cell_type": "markdown",
   "id": "a993a0ab-107a-44a0-b21d-47f8c84f4f7d",
   "metadata": {},
   "source": [
    "## Conditional statements"
   ]
  },
  {
   "cell_type": "markdown",
   "id": "160e456a",
   "metadata": {},
   "source": [
    "The conditional statement was already illustrated above, but of course, there is also `elseif`."
   ]
  },
  {
   "cell_type": "code",
   "execution_count": 3,
   "id": "ee512b5f",
   "metadata": {},
   "outputs": [
    {
     "name": "stdout",
     "output_type": "stream",
     "text": [
      "no leap year\n"
     ]
    }
   ],
   "source": [
    "year = 1900\n",
    "if year % 400 == 0\n",
    "    println(\"leap year\")\n",
    "elseif year % 100 == 0\n",
    "    println(\"no leap year\")\n",
    "elseif year % 4 == 0\n",
    "    println(\"leap year\")\n",
    "else\n",
    "    println(\"no leap year\")\n",
    "end"
   ]
  },
  {
   "cell_type": "markdown",
   "id": "4e62fde4",
   "metadata": {},
   "source": [
    "# Methods"
   ]
  },
  {
   "cell_type": "markdown",
   "id": "1522376d",
   "metadata": {},
   "source": [
    "Functions are defined similarly to how you would do that in MATLAB, although there are some differences."
   ]
  },
  {
   "cell_type": "code",
   "execution_count": 79,
   "id": "7d29a465",
   "metadata": {},
   "outputs": [
    {
     "data": {
      "text/plain": [
       "f (generic function with 3 methods)"
      ]
     },
     "execution_count": 79,
     "metadata": {},
     "output_type": "execute_result"
    }
   ],
   "source": [
    "function f(x, y)\n",
    "    x = 3\n",
    "    x + y\n",
    "end"
   ]
  },
  {
   "cell_type": "markdown",
   "id": "82d32e0c",
   "metadata": {},
   "source": [
    "Scoping rules are what you would expect."
   ]
  },
  {
   "cell_type": "code",
   "execution_count": 83,
   "id": "465ba456",
   "metadata": {},
   "outputs": [
    {
     "data": {
      "text/plain": [
       "6"
      ]
     },
     "execution_count": 83,
     "metadata": {},
     "output_type": "execute_result"
    }
   ],
   "source": [
    "f(4, 3)"
   ]
  },
  {
   "cell_type": "code",
   "execution_count": 84,
   "id": "71e6de40",
   "metadata": {},
   "outputs": [
    {
     "data": {
      "text/plain": [
       "2"
      ]
     },
     "execution_count": 84,
     "metadata": {},
     "output_type": "execute_result"
    }
   ],
   "source": [
    "x = 2"
   ]
  },
  {
   "cell_type": "code",
   "execution_count": 85,
   "id": "a02f9908",
   "metadata": {},
   "outputs": [
    {
     "data": {
      "text/plain": [
       "8"
      ]
     },
     "execution_count": 85,
     "metadata": {},
     "output_type": "execute_result"
    }
   ],
   "source": [
    "f(x, 5)"
   ]
  },
  {
   "cell_type": "code",
   "execution_count": 86,
   "id": "760a7379",
   "metadata": {},
   "outputs": [
    {
     "data": {
      "text/plain": [
       "2"
      ]
     },
     "execution_count": 86,
     "metadata": {},
     "output_type": "execute_result"
    }
   ],
   "source": [
    "x"
   ]
  },
  {
   "cell_type": "code",
   "execution_count": 91,
   "id": "407a3c37",
   "metadata": {
    "scrolled": true
   },
   "outputs": [
    {
     "data": {
      "text/plain": [
       "g (generic function with 2 methods)"
      ]
     },
     "execution_count": 91,
     "metadata": {},
     "output_type": "execute_result"
    }
   ],
   "source": [
    "function g(y)\n",
    "    x*y\n",
    "end"
   ]
  },
  {
   "cell_type": "code",
   "execution_count": 93,
   "id": "b858d5ee",
   "metadata": {},
   "outputs": [
    {
     "data": {
      "text/plain": [
       "14"
      ]
     },
     "execution_count": 93,
     "metadata": {},
     "output_type": "execute_result"
    }
   ],
   "source": [
    "g(7)"
   ]
  },
  {
   "cell_type": "markdown",
   "id": "09a0744b",
   "metadata": {},
   "source": [
    "Lambda functions are supported as well."
   ]
  },
  {
   "cell_type": "code",
   "execution_count": 87,
   "id": "0deaac00",
   "metadata": {},
   "outputs": [
    {
     "data": {
      "text/plain": [
       "3-element Vector{Int64}:\n",
       "  2\n",
       " 14\n",
       " 10"
      ]
     },
     "execution_count": 87,
     "metadata": {},
     "output_type": "execute_result"
    }
   ],
   "source": [
    "map(x -> 2x, [1, 7, 5])"
   ]
  },
  {
   "cell_type": "markdown",
   "id": "f3e21a06",
   "metadata": {},
   "source": [
    "Function signatures can contain type information, the following function computes the logical negation mapped to the symbol $\\neg$ (`\\neg` + tab)."
   ]
  },
  {
   "cell_type": "code",
   "execution_count": 90,
   "id": "cf15a586",
   "metadata": {},
   "outputs": [
    {
     "data": {
      "text/plain": [
       "¬ (generic function with 2 methods)"
      ]
     },
     "execution_count": 90,
     "metadata": {},
     "output_type": "execute_result"
    }
   ],
   "source": [
    "function ¬(b::Bool)::Bool\n",
    "    return !b\n",
    "end"
   ]
  },
  {
   "cell_type": "markdown",
   "id": "4ac8675f-720e-445e-9d0e-e4d3ef5143e0",
   "metadata": {},
   "source": [
    "Note that in general, you don't annotate function arguments or specify the return type.  This keeps the code more general, and allows the compiler to optimize if appropriate.  You would use type annotation to control multiple dispatch."
   ]
  },
  {
   "cell_type": "code",
   "execution_count": 89,
   "id": "b226d89b",
   "metadata": {},
   "outputs": [
    {
     "data": {
      "text/plain": [
       "true"
      ]
     },
     "execution_count": 89,
     "metadata": {},
     "output_type": "execute_result"
    }
   ],
   "source": [
    "¬ false"
   ]
  },
  {
   "cell_type": "markdown",
   "id": "2e30dff0",
   "metadata": {},
   "source": [
    "Function can be composed using the $\\circ$ operator (`\\circ` + tab).  Consider two function $f$ and $g$."
   ]
  },
  {
   "cell_type": "code",
   "execution_count": 100,
   "id": "f8a5cdd2",
   "metadata": {},
   "outputs": [
    {
     "data": {
      "text/plain": [
       "f (generic function with 3 methods)"
      ]
     },
     "execution_count": 100,
     "metadata": {},
     "output_type": "execute_result"
    }
   ],
   "source": [
    "function f(x)\n",
    "    return x^2\n",
    "end"
   ]
  },
  {
   "cell_type": "code",
   "execution_count": 101,
   "id": "403098e9",
   "metadata": {},
   "outputs": [
    {
     "data": {
      "text/plain": [
       "g (generic function with 2 methods)"
      ]
     },
     "execution_count": 101,
     "metadata": {},
     "output_type": "execute_result"
    }
   ],
   "source": [
    "function g(x)\n",
    "    return √x\n",
    "end"
   ]
  },
  {
   "cell_type": "code",
   "execution_count": 102,
   "id": "ab488429",
   "metadata": {},
   "outputs": [
    {
     "data": {
      "text/plain": [
       "(5.000000000000001, 5.0)"
      ]
     },
     "execution_count": 102,
     "metadata": {},
     "output_type": "execute_result"
    }
   ],
   "source": [
    "(f ∘ g)(5.0), (g ∘ f)(5.0)"
   ]
  },
  {
   "cell_type": "markdown",
   "id": "951f14b0",
   "metadata": {},
   "source": [
    "## Closures"
   ]
  },
  {
   "cell_type": "markdown",
   "id": "16707b19",
   "metadata": {},
   "source": [
    "Higher order function are also supported.  The following function creates a comparison operator that tests whether $|x - y| < \\delta$ for a given values of $\\delta$."
   ]
  },
  {
   "cell_type": "code",
   "execution_count": 4,
   "id": "f4eadb93",
   "metadata": {},
   "outputs": [
    {
     "data": {
      "text/plain": [
       "create_cmp (generic function with 1 method)"
      ]
     },
     "execution_count": 4,
     "metadata": {},
     "output_type": "execute_result"
    }
   ],
   "source": [
    "function create_cmp(δ)\n",
    "    function approx_eq(x, y)\n",
    "        abs(x - y) < δ\n",
    "    end\n",
    "    return approx_eq\n",
    "end"
   ]
  },
  {
   "cell_type": "code",
   "execution_count": 5,
   "id": "9b144c0f",
   "metadata": {},
   "outputs": [
    {
     "data": {
      "text/plain": [
       "(::var\"#approx_eq#2\"{Float64}) (generic function with 1 method)"
      ]
     },
     "execution_count": 5,
     "metadata": {},
     "output_type": "execute_result"
    }
   ],
   "source": [
    "≊ = create_cmp(1e-3)"
   ]
  },
  {
   "cell_type": "markdown",
   "id": "fee8b3c8",
   "metadata": {},
   "source": [
    "This can be used as a function with two arguments."
   ]
  },
  {
   "cell_type": "code",
   "execution_count": 118,
   "id": "2a20b976",
   "metadata": {},
   "outputs": [
    {
     "data": {
      "text/plain": [
       "true"
      ]
     },
     "execution_count": 118,
     "metadata": {},
     "output_type": "execute_result"
    }
   ],
   "source": [
    "≊(3.0, 3.00001)"
   ]
  },
  {
   "cell_type": "code",
   "execution_count": 119,
   "id": "68496e08",
   "metadata": {},
   "outputs": [
    {
     "data": {
      "text/plain": [
       "false"
      ]
     },
     "execution_count": 119,
     "metadata": {},
     "output_type": "execute_result"
    }
   ],
   "source": [
    "≊(3.0, 3.01)"
   ]
  },
  {
   "cell_type": "markdown",
   "id": "4e5580d8",
   "metadata": {},
   "source": [
    "However, it can also be used as a binary operator."
   ]
  },
  {
   "cell_type": "code",
   "execution_count": 116,
   "id": "fef73e9f",
   "metadata": {},
   "outputs": [
    {
     "data": {
      "text/plain": [
       "false"
      ]
     },
     "execution_count": 116,
     "metadata": {},
     "output_type": "execute_result"
    }
   ],
   "source": [
    "3.0 ≊ 3.01"
   ]
  },
  {
   "cell_type": "code",
   "execution_count": 117,
   "id": "51f11cc6",
   "metadata": {},
   "outputs": [
    {
     "data": {
      "text/plain": [
       "true"
      ]
     },
     "execution_count": 117,
     "metadata": {},
     "output_type": "execute_result"
    }
   ],
   "source": [
    "3.0 ≊ 3.00001"
   ]
  },
  {
   "cell_type": "markdown",
   "id": "f30db604",
   "metadata": {},
   "source": [
    "Note: there is no way to set the priority of user-defined operators in Julia."
   ]
  },
  {
   "cell_type": "markdown",
   "id": "5de0fdf7",
   "metadata": {},
   "source": [
    "## Optional and keyword arguments"
   ]
  },
  {
   "cell_type": "markdown",
   "id": "268c9ad8",
   "metadata": {},
   "source": [
    "By default, keyword arguments can not be used."
   ]
  },
  {
   "cell_type": "code",
   "execution_count": 145,
   "id": "a3427b36",
   "metadata": {},
   "outputs": [
    {
     "data": {
      "text/plain": [
       "f1 (generic function with 1 method)"
      ]
     },
     "execution_count": 145,
     "metadata": {},
     "output_type": "execute_result"
    }
   ],
   "source": [
    "function f1(x, y, z)\n",
    "    x + y*z\n",
    "end"
   ]
  },
  {
   "cell_type": "code",
   "execution_count": 146,
   "id": "422348fd",
   "metadata": {},
   "outputs": [
    {
     "data": {
      "text/plain": [
       "7.0"
      ]
     },
     "execution_count": 146,
     "metadata": {},
     "output_type": "execute_result"
    }
   ],
   "source": [
    "f1(1.0, 2.0, 3.0)"
   ]
  },
  {
   "cell_type": "code",
   "execution_count": 151,
   "id": "9601bc06",
   "metadata": {},
   "outputs": [
    {
     "ename": "LoadError",
     "evalue": "MethodError: no method matching f1(; z=3.0, x=1.0, y=2.0)\n\u001b[0mClosest candidates are:\n\u001b[0m  f1(\u001b[91m::Float64\u001b[39m, \u001b[91m::Float64\u001b[39m, \u001b[91m::Float64\u001b[39m) at In[145]:1\u001b[91m got unsupported keyword arguments \"z\", \"x\", \"y\"\u001b[39m",
     "output_type": "error",
     "traceback": [
      "MethodError: no method matching f1(; z=3.0, x=1.0, y=2.0)\n\u001b[0mClosest candidates are:\n\u001b[0m  f1(\u001b[91m::Float64\u001b[39m, \u001b[91m::Float64\u001b[39m, \u001b[91m::Float64\u001b[39m) at In[145]:1\u001b[91m got unsupported keyword arguments \"z\", \"x\", \"y\"\u001b[39m",
      "",
      "Stacktrace:",
      " [1] top-level scope",
      "   @ In[151]:1",
      " [2] eval",
      "   @ ./boot.jl:360 [inlined]",
      " [3] include_string(mapexpr::typeof(REPL.softscope), mod::Module, code::String, filename::String)",
      "   @ Base ./loading.jl:1094"
     ]
    }
   ],
   "source": [
    "f1(z=3.0, x=1.0, y=2.0)"
   ]
  },
  {
   "cell_type": "markdown",
   "id": "99f4c276",
   "metadata": {},
   "source": [
    "Julia allows keyword arguments though, but you have to declare that explicitly.  All arguments following the semicolon are keyword arguments."
   ]
  },
  {
   "cell_type": "code",
   "execution_count": 147,
   "id": "51c3eedf",
   "metadata": {},
   "outputs": [
    {
     "data": {
      "text/plain": [
       "f2 (generic function with 1 method)"
      ]
     },
     "execution_count": 147,
     "metadata": {},
     "output_type": "execute_result"
    }
   ],
   "source": [
    "function f2(; x, y, z)\n",
    "    x + y*z\n",
    "end"
   ]
  },
  {
   "cell_type": "code",
   "execution_count": 148,
   "id": "8aa7a6ba",
   "metadata": {},
   "outputs": [
    {
     "data": {
      "text/plain": [
       "7.0"
      ]
     },
     "execution_count": 148,
     "metadata": {},
     "output_type": "execute_result"
    }
   ],
   "source": [
    "f2(z=3.0, x=1.0, y=2.0)"
   ]
  },
  {
   "cell_type": "markdown",
   "id": "b7116cb6",
   "metadata": {},
   "source": [
    "Optional arguments can also be specified."
   ]
  },
  {
   "cell_type": "code",
   "execution_count": 149,
   "id": "15bbff88",
   "metadata": {},
   "outputs": [
    {
     "data": {
      "text/plain": [
       "f3 (generic function with 2 methods)"
      ]
     },
     "execution_count": 149,
     "metadata": {},
     "output_type": "execute_result"
    }
   ],
   "source": [
    "function f3(x, y, z=3.0)\n",
    "    x + y*z\n",
    "end"
   ]
  },
  {
   "cell_type": "code",
   "execution_count": 150,
   "id": "db3c862e",
   "metadata": {},
   "outputs": [
    {
     "data": {
      "text/plain": [
       "7.0"
      ]
     },
     "execution_count": 150,
     "metadata": {},
     "output_type": "execute_result"
    }
   ],
   "source": [
    "f3(1.0, 2.0)"
   ]
  },
  {
   "cell_type": "markdown",
   "id": "6124be3c-9338-4074-bada-b5e3283daa36",
   "metadata": {},
   "source": [
    "## Lambda functions"
   ]
  },
  {
   "cell_type": "markdown",
   "id": "f9273910-d334-4e39-8587-4b43f8f812e3",
   "metadata": {},
   "source": [
    "As in many programming languages, Julia supports lambda functions."
   ]
  },
  {
   "cell_type": "code",
   "execution_count": 17,
   "id": "38e90e94-c479-4175-badc-8ca48137359a",
   "metadata": {},
   "outputs": [
    {
     "data": {
      "text/plain": [
       "5-element Vector{Float64}:\n",
       " 1.0\n",
       " 1.4142135623730951\n",
       " 1.7320508075688772\n",
       " 2.0\n",
       " 2.23606797749979"
      ]
     },
     "execution_count": 17,
     "metadata": {},
     "output_type": "execute_result"
    }
   ],
   "source": [
    "map(x -> √x, 1:5)"
   ]
  },
  {
   "cell_type": "markdown",
   "id": "486f6c31-e729-4143-b3ce-a9ff2067d96b",
   "metadata": {},
   "source": [
    "## Variable number of arguments"
   ]
  },
  {
   "cell_type": "markdown",
   "id": "9d880701-54bb-4d0b-9395-0802b38fd2db",
   "metadata": {},
   "source": [
    "You can define functions with methods that take a variable number of arguments, .e..g, `values...`.  In the function, you can iterate over `values` using a for loop or a `map` among other options.  The type of `values` is `Tuple`."
   ]
  },
  {
   "cell_type": "code",
   "execution_count": 12,
   "id": "36d38ae6-4776-4b6b-bea7-72b8a0a071c4",
   "metadata": {},
   "outputs": [
    {
     "data": {
      "text/plain": [
       "are_close_to (generic function with 1 method)"
      ]
     },
     "execution_count": 12,
     "metadata": {},
     "output_type": "execute_result"
    }
   ],
   "source": [
    "function are_close_to(values...; x, delta)\n",
    "    return all(map(y -> abs(x - y) < delta, values))\n",
    "end"
   ]
  },
  {
   "cell_type": "code",
   "execution_count": 14,
   "id": "610ea9b4-f592-4d86-a5bc-796e1dd4ae66",
   "metadata": {},
   "outputs": [
    {
     "data": {
      "text/plain": [
       "true"
      ]
     },
     "execution_count": 14,
     "metadata": {},
     "output_type": "execute_result"
    }
   ],
   "source": [
    "are_close_to(1.0003, 1.005, 0.9999, x=1.0, delta=0.01)"
   ]
  },
  {
   "cell_type": "code",
   "execution_count": 15,
   "id": "e3e0f42d-bf26-40a7-9f3f-bd52aae90fb7",
   "metadata": {},
   "outputs": [
    {
     "data": {
      "text/plain": [
       "false"
      ]
     },
     "execution_count": 15,
     "metadata": {},
     "output_type": "execute_result"
    }
   ],
   "source": [
    "are_close_to(1.0003, 1.05, 0.9999, x=1.0, delta=0.01)"
   ]
  },
  {
   "cell_type": "code",
   "execution_count": 16,
   "id": "0c807573-08cd-42de-a591-61653a4229fb",
   "metadata": {},
   "outputs": [
    {
     "data": {
      "text/plain": [
       "are_all_close (generic function with 1 method)"
      ]
     },
     "execution_count": 16,
     "metadata": {},
     "output_type": "execute_result"
    }
   ],
   "source": [
    "function are_all_close(values...; delta)\n",
    "    return all(map(x -> are_close_to(values..., x=x, delta=delta), values))\n",
    "end"
   ]
  },
  {
   "cell_type": "markdown",
   "id": "e70abfab-d652-4190-8477-48ccc098cf31",
   "metadata": {},
   "source": [
    "Note the use of `...` in the call to `are_close_to`, it is used to splat the tuple into separate arguments (similar to Python's `*values` syntax."
   ]
  },
  {
   "cell_type": "code",
   "execution_count": 17,
   "id": "baa01d8f-eff6-4446-894f-275bb37aed82",
   "metadata": {},
   "outputs": [
    {
     "data": {
      "text/plain": [
       "true"
      ]
     },
     "execution_count": 17,
     "metadata": {},
     "output_type": "execute_result"
    }
   ],
   "source": [
    "are_all_close(1.1, 1.05, 1.07, 1.15, delta=1e-1)"
   ]
  },
  {
   "cell_type": "code",
   "execution_count": 18,
   "id": "b3cbd888-1c30-4855-bead-9601bf553e09",
   "metadata": {},
   "outputs": [
    {
     "data": {
      "text/plain": [
       "true"
      ]
     },
     "execution_count": 18,
     "metadata": {},
     "output_type": "execute_result"
    }
   ],
   "source": [
    "are_all_close(5.0, 5.0003, 5.005, 4.9999, delta=0.01)"
   ]
  },
  {
   "cell_type": "code",
   "execution_count": 19,
   "id": "f12f3dc4-076f-4c3f-aecd-0ecb2eb2bd39",
   "metadata": {},
   "outputs": [
    {
     "data": {
      "text/plain": [
       "false"
      ]
     },
     "execution_count": 19,
     "metadata": {},
     "output_type": "execute_result"
    }
   ],
   "source": [
    "are_all_close(5.0, 5.007, 4.992, delta=0.01)"
   ]
  },
  {
   "cell_type": "markdown",
   "id": "a8674794-7de6-488b-837d-7e777346a17c",
   "metadata": {},
   "source": [
    "# File I/O"
   ]
  },
  {
   "cell_type": "markdown",
   "id": "36f27a3f-f481-49a9-ae94-cdc71f05dc5f",
   "metadata": {},
   "source": [
    "## Stardard I/O"
   ]
  },
  {
   "cell_type": "markdown",
   "id": "f33e851c-5120-49fd-9224-f4bc476b89d6",
   "metadata": {},
   "source": [
    "As most programming languages, Julia has three default I/O streams, two for output, `stdout` and `stderr`, and one for input `stdin`.  The `print` and `println` functions take an optional argument that allows you to specify the I/O stream."
   ]
  },
  {
   "cell_type": "code",
   "execution_count": 50,
   "id": "b8b4c92a-c977-4de1-ae1c-df4eecf691e5",
   "metadata": {},
   "outputs": [
    {
     "name": "stdout",
     "output_type": "stream",
     "text": [
      "my result\n"
     ]
    }
   ],
   "source": [
    "println(stdout, \"my result\")"
   ]
  },
  {
   "cell_type": "code",
   "execution_count": 49,
   "id": "8efc8549-a9ec-45d7-ab68-4bf3f5bc2bc5",
   "metadata": {},
   "outputs": [
    {
     "name": "stderr",
     "output_type": "stream",
     "text": [
      "### error: oops!\n"
     ]
    }
   ],
   "source": [
    "println(stderr, \"### error: oops!\")"
   ]
  },
  {
   "cell_type": "markdown",
   "id": "b89a58ff-e1ac-4db5-bc7d-1600b6795d3c",
   "metadata": {},
   "source": [
    "## Text files"
   ]
  },
  {
   "cell_type": "markdown",
   "id": "3371bfb6-4251-4a15-9cb3-f5235025f88c",
   "metadata": {},
   "source": [
    "Reading and writing text files is quite straightforward, especially when using the `open` function that takes a function as its first argument.  After opening the file, that function will be executed on the file, and the file will be closed when done.  This is similar to a Python context manager.  Of course, we can use do-syntax to avoid having to write a function explicitly."
   ]
  },
  {
   "cell_type": "code",
   "execution_count": 51,
   "id": "206efa61-6394-4bd3-a384-1b6644bba248",
   "metadata": {},
   "outputs": [],
   "source": [
    "open(\"temp.txt\", \"w\") do file\n",
    "    for i in 1:10\n",
    "        println(file, \"$i,$(i^2)\")\n",
    "    end\n",
    "end"
   ]
  },
  {
   "cell_type": "markdown",
   "id": "90b3aad4-c3d9-49a0-9e8d-783718466b68",
   "metadata": {},
   "source": [
    "The `eachline` function will conveniently iterate over the lines of a text file."
   ]
  },
  {
   "cell_type": "code",
   "execution_count": 52,
   "id": "8281cc97-585b-495b-a2bd-4bf292ed0f34",
   "metadata": {},
   "outputs": [
    {
     "name": "stdout",
     "output_type": "stream",
     "text": [
      "okay for 1\n",
      "okay for 2\n",
      "okay for 3\n",
      "okay for 4\n",
      "okay for 5\n",
      "okay for 6\n",
      "okay for 7\n",
      "okay for 8\n",
      "okay for 9\n",
      "okay for 10\n"
     ]
    }
   ],
   "source": [
    "open(\"temp.txt\", \"r\") do file\n",
    "    for line in eachline(file)\n",
    "        n, sqr = split(line, \",\")\n",
    "        if parse(Int64, n)^2 == parse(Int64, sqr)\n",
    "            println(\"okay for $n\")\n",
    "        end\n",
    "    end\n",
    "end"
   ]
  },
  {
   "cell_type": "markdown",
   "id": "ecb41d7c-cdcc-4c24-a123-e0070608dfe6",
   "metadata": {},
   "source": [
    "The standard library has a module for I/O on delimited file formats such as CSV."
   ]
  },
  {
   "cell_type": "code",
   "execution_count": 28,
   "id": "2d97b894-51ef-4f85-a39d-6792cc8f8a5f",
   "metadata": {},
   "outputs": [],
   "source": [
    "using DelimitedFiles"
   ]
  },
  {
   "cell_type": "markdown",
   "id": "c5266988-a895-4640-a25f-0e79465ef767",
   "metadata": {},
   "source": [
    "The default delimiter between colmns is a space, but you can specify any character."
   ]
  },
  {
   "cell_type": "code",
   "execution_count": 43,
   "id": "fd84cade-dd02-4601-a622-680713e10142",
   "metadata": {},
   "outputs": [
    {
     "data": {
      "text/plain": [
       "10×2 Matrix{Int64}:\n",
       "  1    1\n",
       "  2    4\n",
       "  3    9\n",
       "  4   16\n",
       "  5   25\n",
       "  6   36\n",
       "  7   49\n",
       "  8   64\n",
       "  9   81\n",
       " 10  100"
      ]
     },
     "execution_count": 43,
     "metadata": {},
     "output_type": "execute_result"
    }
   ],
   "source": [
    "readdlm(\"temp.txt\", ',', Int64)"
   ]
  },
  {
   "cell_type": "markdown",
   "id": "5ff865bc-acbd-4797-a37a-984d42ce509f",
   "metadata": {},
   "source": [
    "The result is a `Matrix` with elements of the specified type."
   ]
  },
  {
   "cell_type": "code",
   "execution_count": 44,
   "id": "3e7439dd-23f2-4a45-b63d-649b2d7ba976",
   "metadata": {},
   "outputs": [],
   "source": [
    "x = 1:10;\n",
    "y = x.^2;\n",
    "z = x.^3;"
   ]
  },
  {
   "cell_type": "markdown",
   "id": "c22b51bb-c29f-4638-b5c2-728f91c63c62",
   "metadata": {},
   "source": [
    "To write a delimited file using `wrtedlm`, the file must be opened explicitly."
   ]
  },
  {
   "cell_type": "code",
   "execution_count": 45,
   "id": "3cba23f2-177e-4857-8bd5-7d4ebf4dbd2a",
   "metadata": {},
   "outputs": [],
   "source": [
    "open(\"temp.txt\", \"w\") do file\n",
    "    writedlm(file, [x y z])\n",
    "end"
   ]
  },
  {
   "cell_type": "code",
   "execution_count": 46,
   "id": "c17a84b2-32a4-4192-a445-af198c74a5c6",
   "metadata": {},
   "outputs": [
    {
     "data": {
      "text/plain": [
       "10×3 Matrix{Int64}:\n",
       "  1    1     1\n",
       "  2    4     8\n",
       "  3    9    27\n",
       "  4   16    64\n",
       "  5   25   125\n",
       "  6   36   216\n",
       "  7   49   343\n",
       "  8   64   512\n",
       "  9   81   729\n",
       " 10  100  1000"
      ]
     },
     "execution_count": 46,
     "metadata": {},
     "output_type": "execute_result"
    }
   ],
   "source": [
    "readdlm(\"temp.txt\", Int64)"
   ]
  },
  {
   "cell_type": "markdown",
   "id": "339394a3-ac8a-4a6d-b4fd-9cec83e6ab6c",
   "metadata": {},
   "source": [
    "Julia also has function to deal with files, e.g., remove a file."
   ]
  },
  {
   "cell_type": "code",
   "execution_count": 54,
   "id": "81bc2bbf-7aae-4026-b6ad-53cbe38b4995",
   "metadata": {},
   "outputs": [],
   "source": [
    "rm(\"temp.txt\")"
   ]
  },
  {
   "cell_type": "markdown",
   "id": "309f69a5-a2a0-4005-93a7-a47aac6c1826",
   "metadata": {},
   "source": [
    "Formatted I/O can be done using the `@printf` macro defined in the `Printf` module.  Formatting strings are C-style, e.g.,"
   ]
  },
  {
   "cell_type": "code",
   "execution_count": 66,
   "id": "1913bc7c-8c4c-4eb0-9ca0-f7392caf612a",
   "metadata": {},
   "outputs": [],
   "source": [
    "using Printf"
   ]
  },
  {
   "cell_type": "code",
   "execution_count": 67,
   "id": "8ea175c8-562f-4cbf-b6db-2a0d20819ca2",
   "metadata": {},
   "outputs": [
    {
     "name": "stdout",
     "output_type": "stream",
     "text": [
      "0.0 -> 0.00000\n",
      "0.1 -> 0.31623\n",
      "0.2 -> 0.44721\n",
      "0.3 -> 0.54772\n",
      "0.4 -> 0.63246\n",
      "0.5 -> 0.70711\n",
      "0.6 -> 0.77460\n",
      "0.7 -> 0.83666\n",
      "0.8 -> 0.89443\n",
      "0.9 -> 0.94868\n",
      "1.0 -> 1.00000\n"
     ]
    }
   ],
   "source": [
    "for x in 0.0:0.1:1.0\n",
    "    @printf(\"%.1f -> %.5f\\n\", x, sqrt(x))\n",
    "end"
   ]
  },
  {
   "cell_type": "markdown",
   "id": "451e94b8-00f6-4deb-b9fc-4bb292d71df4",
   "metadata": {},
   "source": [
    "## Binary I/O"
   ]
  },
  {
   "cell_type": "code",
   "execution_count": 59,
   "id": "cf926bcb-5afb-4b9e-8981-ea4434e853bb",
   "metadata": {},
   "outputs": [],
   "source": [
    "open(\"temp.bin\", \"w\") do file\n",
    "    for value in 0.0:0.1:1.0\n",
    "        write(file, sqrt(value))\n",
    "    end\n",
    "end"
   ]
  },
  {
   "cell_type": "code",
   "execution_count": 63,
   "id": "999814ba-192d-47ad-a268-db58eaef19d3",
   "metadata": {},
   "outputs": [],
   "source": [
    "using Printf"
   ]
  },
  {
   "cell_type": "code",
   "execution_count": 65,
   "id": "b47a4f59-004c-4aec-b7dc-38f32762ec98",
   "metadata": {},
   "outputs": [
    {
     "name": "stdout",
     "output_type": "stream",
     "text": [
      "0.00\n",
      "0.10\n",
      "0.20\n",
      "0.30\n",
      "0.40\n",
      "0.50\n",
      "0.60\n",
      "0.70\n",
      "0.80\n",
      "0.90\n",
      "1.00\n"
     ]
    }
   ],
   "source": [
    "open(\"temp.bin\", \"r\") do file\n",
    "    while !eof(file)\n",
    "        value = read(file, Float64)\n",
    "        @printf(\"%.2f\\n\", value^2)\n",
    "\n",
    "    end\n",
    "end"
   ]
  },
  {
   "cell_type": "code",
   "execution_count": 57,
   "id": "9daa1b52-dccb-4b55-a4ad-cb529ff833b7",
   "metadata": {},
   "outputs": [],
   "source": [
    "rm(\"temp.bin\")"
   ]
  }
 ],
 "metadata": {
  "kernelspec": {
   "display_name": "Julia 1.6.1",
   "language": "julia",
   "name": "julia-1.6"
  },
  "language_info": {
   "file_extension": ".jl",
   "mimetype": "application/julia",
   "name": "julia",
   "version": "1.6.1"
  }
 },
 "nbformat": 4,
 "nbformat_minor": 5
}
