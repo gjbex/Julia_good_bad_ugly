{
 "cells": [
  {
   "cell_type": "markdown",
   "id": "da6b2c25-833e-454c-9e2e-e6a8ee15d3ec",
   "metadata": {},
   "source": [
    "Concrete and abstract types can be parameterized in Julia.  Suppose we want to create a type represent a point in a two-dimensional space that can have either integer or real coordinates."
   ]
  },
  {
   "cell_type": "markdown",
   "id": "5ac5ecf7-913c-467b-bfdd-ae29a62cde72",
   "metadata": {},
   "source": [
    "# Abstract types and functions"
   ]
  },
  {
   "cell_type": "markdown",
   "id": "86e1d3d4-d070-4adf-bb63-e943e1b46e6f",
   "metadata": {},
   "source": [
    "We can define a parameterized abstract type with a type parameter `T` that is a subtype of `Real`.  The concrete types that are subtypes of `AbstractPoint` will have `T` as the types of the fields representing the $x$ and $y$ coordinates.  `Real` is an abstract type that represents floating point values or integers."
   ]
  },
  {
   "cell_type": "code",
   "execution_count": 1,
   "id": "fdab29cd-2dc0-45a0-857f-af45bd99f7ae",
   "metadata": {},
   "outputs": [],
   "source": [
    "abstract type AbstractPoint{T<:Real} end"
   ]
  },
  {
   "cell_type": "markdown",
   "id": "bc68e68f-789e-4709-ab3a-6c51f1cb1932",
   "metadata": {},
   "source": [
    "Now we can define some accessor methods that have a parameterized type for the arguments.  Note that we have to use a `where` clause to indicate that `T` is a type parameter.  For the setters, the type of the value should of course correspond to that of the fields in the strcuture, so `T` as well."
   ]
  },
  {
   "cell_type": "code",
   "execution_count": 2,
   "id": "ee167669-56bc-457c-b90e-12c882a8f968",
   "metadata": {},
   "outputs": [
    {
     "data": {
      "text/plain": [
       "set_y! (generic function with 1 method)"
      ]
     },
     "execution_count": 2,
     "metadata": {},
     "output_type": "execute_result"
    }
   ],
   "source": [
    "get_x(p::AbstractPoint{T}) where {T} = p.x\n",
    "set_x!(p::AbstractPoint{T}, val::T) where {T} = p.x = val\n",
    "get_y(p::AbstractPoint{T}) where {T} = p.y\n",
    "set_y!(p::AbstractPoint{T}, val::T) where {T} = p.y = val"
   ]
  },
  {
   "cell_type": "markdown",
   "id": "48823b1c-701b-47f5-af39-d5af11436a43",
   "metadata": {},
   "source": [
    "The `move!` function is parameterized as well, and uses the accessors for maximum reusability."
   ]
  },
  {
   "cell_type": "code",
   "execution_count": 3,
   "id": "3f477b02-566a-4804-ba71-e2f3b45e2b50",
   "metadata": {},
   "outputs": [
    {
     "data": {
      "text/plain": [
       "move! (generic function with 1 method)"
      ]
     },
     "execution_count": 3,
     "metadata": {},
     "output_type": "execute_result"
    }
   ],
   "source": [
    "function move!(p::AbstractPoint{T}, delta_x::T, delta_y::T) where {T}\n",
    "    set_x!(p, get_x(p) + delta)\n",
    "    set_y(p, get_y(p) + delta_y)\n",
    "    return nothing\n",
    "end    "
   ]
  },
  {
   "cell_type": "markdown",
   "id": "a9bc207a-cd90-4210-aa9c-d039d855a652",
   "metadata": {},
   "source": [
    "Just for sake of the argument, we define a `distance` method for `AbstractPoints` that have `Integer` coordinates as teh Manhattan distance, while for `AbstractFloat` coordinates, we use the Euclidean distance."
   ]
  },
  {
   "cell_type": "code",
   "execution_count": 23,
   "id": "1005d016-4220-4462-9278-453df03823c2",
   "metadata": {},
   "outputs": [
    {
     "data": {
      "text/plain": [
       "distance (generic function with 1 method)"
      ]
     },
     "execution_count": 23,
     "metadata": {},
     "output_type": "execute_result"
    }
   ],
   "source": [
    "function distance(p1::AbstractPoint{T}, p2::AbstractPoint{T}) where {T<:Integer}\n",
    "    x1, y1 = get_x(p1), get_y(p1)\n",
    "    x2, y2 = get_x(p2), get_y(p2)\n",
    "    return abs(x1 - x2) + abs(y1 - y2)\n",
    "end"
   ]
  },
  {
   "cell_type": "code",
   "execution_count": 24,
   "id": "eba2e1b1-613a-44cc-826e-bcf750f6877a",
   "metadata": {},
   "outputs": [
    {
     "data": {
      "text/plain": [
       "distance (generic function with 2 methods)"
      ]
     },
     "execution_count": 24,
     "metadata": {},
     "output_type": "execute_result"
    }
   ],
   "source": [
    "function distance(p1::AbstractPoint{T}, p2::AbstractPoint{T}) where {T<:AbstractFloat}\n",
    "    x1, y1 = get_x(p1), get_y(p1)\n",
    "    x2, y2 = get_x(p2), get_y(p2)\n",
    "    return sqrt((x1 - x2)^2 + (y1 - y2)^2)\n",
    "end"
   ]
  },
  {
   "cell_type": "markdown",
   "id": "a38b3c09-77d5-445e-897a-c8ec5a396592",
   "metadata": {},
   "source": [
    "# Concrete type"
   ]
  },
  {
   "cell_type": "markdown",
   "id": "d509e464-bb97-4d50-b49b-ff4d1d8fa0d8",
   "metadata": {},
   "source": [
    "Now we can define a parameterized concrete type `Point` that is a subtype of `AbstractPoint`.  The type of the `x` and `y` fields is parameterized as `T`, the type parameter of the concrete type and its abstreact supertype."
   ]
  },
  {
   "cell_type": "code",
   "execution_count": 4,
   "id": "e7476aa6-c161-4c9d-b9f8-5d1d3010d69f",
   "metadata": {},
   "outputs": [],
   "source": [
    "mutable struct Point{T} <: AbstractPoint{T}\n",
    "    x::T\n",
    "    y::T\n",
    "end"
   ]
  },
  {
   "cell_type": "markdown",
   "id": "d04b9de9-2497-47c9-83d1-2dc2f01b5ff0",
   "metadata": {},
   "source": [
    "We can now instantiate a `Point` with `Int32` coordiates.  The type of the `x` field as well as the type of the value returned by `get_x` is indeed `Int32`."
   ]
  },
  {
   "cell_type": "code",
   "execution_count": 5,
   "id": "d23b00ee-d6f2-4cd4-8965-924ddbafe0a5",
   "metadata": {},
   "outputs": [
    {
     "data": {
      "text/plain": [
       "Point{Int32}(3, 5)"
      ]
     },
     "execution_count": 5,
     "metadata": {},
     "output_type": "execute_result"
    }
   ],
   "source": [
    "p_int32 = Point{Int32}(3, 5)"
   ]
  },
  {
   "cell_type": "code",
   "execution_count": 16,
   "id": "bc80671f-03bd-4e2a-a852-5e215cbf70d1",
   "metadata": {},
   "outputs": [
    {
     "data": {
      "text/plain": [
       "true"
      ]
     },
     "execution_count": 16,
     "metadata": {},
     "output_type": "execute_result"
    }
   ],
   "source": [
    "typeof(p_int32.x) == Int32"
   ]
  },
  {
   "cell_type": "code",
   "execution_count": 17,
   "id": "946e00fc-32ef-46f3-b8c4-ccab61d4123c",
   "metadata": {},
   "outputs": [
    {
     "data": {
      "text/plain": [
       "true"
      ]
     },
     "execution_count": 17,
     "metadata": {},
     "output_type": "execute_result"
    }
   ],
   "source": [
    "typeof(get_x(p_int32)) == Int32"
   ]
  },
  {
   "cell_type": "markdown",
   "id": "c24f1f42-178f-4baf-b43f-a5b40fb577a5",
   "metadata": {},
   "source": [
    "Similarly, we can instantiate a point with `Float32` coordinates, and verify that the fields and values return by the accessor have that type."
   ]
  },
  {
   "cell_type": "code",
   "execution_count": 8,
   "id": "492608da-52f4-4bb4-ba5b-2e9b913f9082",
   "metadata": {},
   "outputs": [
    {
     "data": {
      "text/plain": [
       "Point{Float32}(3.1f0, 4.2f0)"
      ]
     },
     "execution_count": 8,
     "metadata": {},
     "output_type": "execute_result"
    }
   ],
   "source": [
    "p_float32 = Point{Float32}(3.1f0, 4.2f0)"
   ]
  },
  {
   "cell_type": "code",
   "execution_count": 14,
   "id": "ca78af40-a3b2-4617-bc93-920772729b5e",
   "metadata": {},
   "outputs": [
    {
     "data": {
      "text/plain": [
       "true"
      ]
     },
     "execution_count": 14,
     "metadata": {},
     "output_type": "execute_result"
    }
   ],
   "source": [
    "typeof(p_float32.x) == Float32"
   ]
  },
  {
   "cell_type": "code",
   "execution_count": 15,
   "id": "4d55d88a-f9d9-4065-8ff7-534d0d338278",
   "metadata": {},
   "outputs": [
    {
     "data": {
      "text/plain": [
       "true"
      ]
     },
     "execution_count": 15,
     "metadata": {},
     "output_type": "execute_result"
    }
   ],
   "source": [
    "typeof(get_x(p_float32)) == Float32"
   ]
  },
  {
   "cell_type": "code",
   "execution_count": 10,
   "id": "a699511f-98b4-4e91-b638-ecf9e1dea2ca",
   "metadata": {},
   "outputs": [
    {
     "data": {
      "text/plain": [
       "5"
      ]
     },
     "execution_count": 10,
     "metadata": {},
     "output_type": "execute_result"
    }
   ],
   "source": [
    "set_x!(p_int32, Int32(5))"
   ]
  },
  {
   "cell_type": "markdown",
   "id": "3cda3cdf-ff1f-4469-bca4-391eb430150f",
   "metadata": {},
   "source": [
    "Attempting to set the `x` field to a value of the wrong type will result in an error."
   ]
  },
  {
   "cell_type": "code",
   "execution_count": 11,
   "id": "2fad8ae9-a5a4-42fd-858e-29aa139d6472",
   "metadata": {},
   "outputs": [
    {
     "ename": "LoadError",
     "evalue": "MethodError: no method matching set_x!(::Point{Int32}, ::Float64)\n\u001b[0mClosest candidates are:\n\u001b[0m  set_x!(::AbstractPoint{T}, \u001b[91m::T\u001b[39m) where T at In[2]:2",
     "output_type": "error",
     "traceback": [
      "MethodError: no method matching set_x!(::Point{Int32}, ::Float64)\n\u001b[0mClosest candidates are:\n\u001b[0m  set_x!(::AbstractPoint{T}, \u001b[91m::T\u001b[39m) where T at In[2]:2",
      "",
      "Stacktrace:",
      " [1] top-level scope",
      "   @ In[11]:1",
      " [2] eval",
      "   @ ./boot.jl:360 [inlined]",
      " [3] include_string(mapexpr::typeof(REPL.softscope), mod::Module, code::String, filename::String)",
      "   @ Base ./loading.jl:1094"
     ]
    }
   ],
   "source": [
    "set_x!(p_int32, 3.1)"
   ]
  },
  {
   "cell_type": "code",
   "execution_count": 12,
   "id": "31495720-c113-4305-abb4-8d8cbe67de85",
   "metadata": {},
   "outputs": [
    {
     "ename": "LoadError",
     "evalue": "MethodError: no method matching set_x!(::Point{Float32}, ::Int64)\n\u001b[0mClosest candidates are:\n\u001b[0m  set_x!(::AbstractPoint{T}, \u001b[91m::T\u001b[39m) where T at In[2]:2",
     "output_type": "error",
     "traceback": [
      "MethodError: no method matching set_x!(::Point{Float32}, ::Int64)\n\u001b[0mClosest candidates are:\n\u001b[0m  set_x!(::AbstractPoint{T}, \u001b[91m::T\u001b[39m) where T at In[2]:2",
      "",
      "Stacktrace:",
      " [1] top-level scope",
      "   @ In[12]:1",
      " [2] eval",
      "   @ ./boot.jl:360 [inlined]",
      " [3] include_string(mapexpr::typeof(REPL.softscope), mod::Module, code::String, filename::String)",
      "   @ Base ./loading.jl:1094"
     ]
    }
   ],
   "source": [
    "set_x!(p_float32, 7)"
   ]
  },
  {
   "cell_type": "raw",
   "id": "d5215576-a610-4c4e-a4ce-b06c6b150110",
   "metadata": {},
   "source": [
    "Trying to instantiate a `Point` with an inappropriate type for the fields, i.e., one that is not a subtype of `Real` results in an error as well."
   ]
  },
  {
   "cell_type": "code",
   "execution_count": 13,
   "id": "162afa21-b8b9-4d67-9801-9812e7d8c645",
   "metadata": {},
   "outputs": [
    {
     "ename": "LoadError",
     "evalue": "TypeError: in AbstractPoint, in T, expected T<:Number, got Type{String}",
     "output_type": "error",
     "traceback": [
      "TypeError: in AbstractPoint, in T, expected T<:Number, got Type{String}",
      "",
      "Stacktrace:",
      " [1] top-level scope",
      "   @ In[13]:1",
      " [2] eval",
      "   @ ./boot.jl:360 [inlined]",
      " [3] include_string(mapexpr::typeof(REPL.softscope), mod::Module, code::String, filename::String)",
      "   @ Base ./loading.jl:1094"
     ]
    }
   ],
   "source": [
    "p_string = Point{String}(\"abc\", \"cde\")"
   ]
  },
  {
   "cell_type": "markdown",
   "id": "63350573-4aa2-4e97-8b49-124b28b5ed0a",
   "metadata": {},
   "source": [
    "We can verifty that we correct method for the distance function depending on the arguments, Manhattan distance for, e.g., `Int64`, and Euclidean distance for, e.g., `Float64`."
   ]
  },
  {
   "cell_type": "code",
   "execution_count": 25,
   "id": "feff0ed9-2def-41c6-9892-a9ca4fd0b33d",
   "metadata": {},
   "outputs": [
    {
     "data": {
      "text/plain": [
       "(Point{Int64}(3, 4), Point{Int64}(4, 3))"
      ]
     },
     "execution_count": 25,
     "metadata": {},
     "output_type": "execute_result"
    }
   ],
   "source": [
    "p1_int, p2_int = Point{Int64}(3, 4), Point{Int64}(4, 3)"
   ]
  },
  {
   "cell_type": "code",
   "execution_count": 26,
   "id": "33a8fe1b-7a9e-4c2a-9300-428d23f1b8e7",
   "metadata": {},
   "outputs": [
    {
     "data": {
      "text/plain": [
       "2"
      ]
     },
     "execution_count": 26,
     "metadata": {},
     "output_type": "execute_result"
    }
   ],
   "source": [
    "distance(p1_int, p2_int)"
   ]
  },
  {
   "cell_type": "code",
   "execution_count": 27,
   "id": "5d7ac175-0b49-43ea-aabc-a7286fffcbdc",
   "metadata": {},
   "outputs": [
    {
     "data": {
      "text/plain": [
       "(Point{Float64}(3.0, 4.0), Point{Float64}(4.0, 3.0))"
      ]
     },
     "execution_count": 27,
     "metadata": {},
     "output_type": "execute_result"
    }
   ],
   "source": [
    "p1_float, p2_float = Point{Float64}(3.0, 4.0), Point{Float64}(4.0, 3.0)"
   ]
  },
  {
   "cell_type": "code",
   "execution_count": 28,
   "id": "68dd02d0-a0de-4ddb-8232-8a703c4b4f42",
   "metadata": {},
   "outputs": [
    {
     "data": {
      "text/plain": [
       "1.4142135623730951"
      ]
     },
     "execution_count": 28,
     "metadata": {},
     "output_type": "execute_result"
    }
   ],
   "source": [
    "distance(p1_float, p2_float)"
   ]
  },
  {
   "cell_type": "markdown",
   "id": "bef68ee6-4f47-4628-812c-11adec143432",
   "metadata": {},
   "source": [
    "Computing the distance between two points of different types will result in an error."
   ]
  },
  {
   "cell_type": "code",
   "execution_count": 29,
   "id": "b51d24d2-16ed-449c-b770-35552f5b8c8d",
   "metadata": {},
   "outputs": [
    {
     "ename": "LoadError",
     "evalue": "MethodError: no method matching distance(::Point{Int64}, ::Point{Float64})\n\u001b[0mClosest candidates are:\n\u001b[0m  distance(::AbstractPoint{T}, \u001b[91m::AbstractPoint{T}\u001b[39m) where T<:Integer at In[23]:1\n\u001b[0m  distance(\u001b[91m::AbstractPoint{T}\u001b[39m, ::AbstractPoint{T}) where T<:AbstractFloat at In[24]:1",
     "output_type": "error",
     "traceback": [
      "MethodError: no method matching distance(::Point{Int64}, ::Point{Float64})\n\u001b[0mClosest candidates are:\n\u001b[0m  distance(::AbstractPoint{T}, \u001b[91m::AbstractPoint{T}\u001b[39m) where T<:Integer at In[23]:1\n\u001b[0m  distance(\u001b[91m::AbstractPoint{T}\u001b[39m, ::AbstractPoint{T}) where T<:AbstractFloat at In[24]:1",
      "",
      "Stacktrace:",
      " [1] top-level scope",
      "   @ In[29]:1",
      " [2] eval",
      "   @ ./boot.jl:360 [inlined]",
      " [3] include_string(mapexpr::typeof(REPL.softscope), mod::Module, code::String, filename::String)",
      "   @ Base ./loading.jl:1094"
     ]
    }
   ],
   "source": [
    "distance(p1_int, p2_float)"
   ]
  }
 ],
 "metadata": {
  "kernelspec": {
   "display_name": "Julia 1.6.1",
   "language": "julia",
   "name": "julia-1.6"
  },
  "language_info": {
   "file_extension": ".jl",
   "mimetype": "application/julia",
   "name": "julia",
   "version": "1.6.1"
  }
 },
 "nbformat": 4,
 "nbformat_minor": 5
}
