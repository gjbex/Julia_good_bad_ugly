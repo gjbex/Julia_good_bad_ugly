{
 "cells": [
  {
   "cell_type": "markdown",
   "id": "444ec653-739f-496c-b208-391c059c028d",
   "metadata": {},
   "source": [
    "YOu can easily create a data type that implements an interface and hence can be used as an argument to any function that expects an instance of a data type that implements that interface.\n",
    "\n",
    "For instance, you can create a one-hot vector, i.e., a vector that has a single non-zero component with value 1, all other components have value 0.  An instance of such a data type only needs to store the length of the vector, and the index of the non-zero (hot) component."
   ]
  },
  {
   "cell_type": "code",
   "execution_count": 1,
   "id": "5390b51a-8290-41ab-9ef6-15227d7d9c07",
   "metadata": {},
   "outputs": [],
   "source": [
    "mutable struct OneHotVector <: AbstractVector{Bool}\n",
    "    const length::Int\n",
    "    one_index::Int\n",
    "end"
   ]
  },
  {
   "cell_type": "markdown",
   "id": "c036a4cf-055a-4b2f-8439-baa8dc93caf6",
   "metadata": {},
   "source": [
    "Note: the `length` member of the structure can be declared `const` since you will not modify the length once the vector is created (this requires Julia 1.8+).\n",
    "\n",
    "You can make this data structure behave like a regular Julia `Vector` by implementing a few methods for the `Base.getindex`, `Base.setindex` and `size` functions respectively."
   ]
  },
  {
   "cell_type": "code",
   "execution_count": 2,
   "id": "e464ce95-cf22-4c3a-b2b3-a5777b85c16a",
   "metadata": {},
   "outputs": [],
   "source": [
    "function Base.getindex(v::OneHotVector, index::Int)\n",
    "    if index < 0 || index > length(v)\n",
    "        throw(BoundsError(v, index))\n",
    "    elseif index == v.one_index\n",
    "        return one(eltype(v))\n",
    "    else\n",
    "        return zero(eltype(v))\n",
    "    end\n",
    "end\n",
    "\n",
    "function Base.setindex!(v::OneHotVector, value::Bool, index::Int)\n",
    "    if index < 0 || index > length(v)\n",
    "        throw(BoundsError(v, index))\n",
    "    elseif value\n",
    "        v.one_index = index\n",
    "    end\n",
    "    return value\n",
    "end\n",
    "\n",
    "function Base.size(v::OneHotVector)\n",
    "    return (v.length, )\n",
    "end"
   ]
  },
  {
   "cell_type": "markdown",
   "id": "ca0e1868-33ce-4e33-89cf-9db0f0a6a55d",
   "metadata": {},
   "source": [
    "Note: it is good practice to throw an error when the index of a component is out of range.  Also, the `size` function is expected to return a tuple, so a 1-tuple for onedimensional vectors.  It is also good practice to make `Base.setindex` return the value since that allows chaining assingments, which otherwise would fail.\n",
    "\n",
    "Now you can use the `OneHotVector` mostly as if it were a regular `Vector`.  First, you create an instance of a `OneHotVector` with length 5 and a non-zero component at index 2."
   ]
  },
  {
   "cell_type": "code",
   "execution_count": 11,
   "id": "6f03a67c-4eac-4ef7-b6ad-70cadaa201f2",
   "metadata": {},
   "outputs": [
    {
     "data": {
      "text/plain": [
       "5-element OneHotVector:\n",
       " 0\n",
       " 1\n",
       " 0\n",
       " 0\n",
       " 0"
      ]
     },
     "execution_count": 11,
     "metadata": {},
     "output_type": "execute_result"
    }
   ],
   "source": [
    "one_hot = OneHotVector(5, 2)"
   ]
  },
  {
   "cell_type": "markdown",
   "id": "d12bfc0c-be6b-4103-a7e6-e24127241a90",
   "metadata": {},
   "source": [
    "The \"components\" can be accessed using the syntax you are familiar with.  Under the hood, this is translated to a call of the `Base.getindex` function."
   ]
  },
  {
   "cell_type": "code",
   "execution_count": 12,
   "id": "dd322a9f-2bda-401e-81cf-5c5132a47539",
   "metadata": {},
   "outputs": [
    {
     "data": {
      "text/plain": [
       "false"
      ]
     },
     "execution_count": 12,
     "metadata": {},
     "output_type": "execute_result"
    }
   ],
   "source": [
    "one_hot[3]"
   ]
  },
  {
   "cell_type": "markdown",
   "id": "378f7dda-d9bc-4faa-92b6-1c89488de598",
   "metadata": {},
   "source": [
    "Similarly, a component can be set by assignment, i.e., implicitely calling the `Base.setindex` function."
   ]
  },
  {
   "cell_type": "code",
   "execution_count": 13,
   "id": "31cd805a-91f4-4640-9a23-709d7d1a3bbe",
   "metadata": {},
   "outputs": [
    {
     "data": {
      "text/plain": [
       "true"
      ]
     },
     "execution_count": 13,
     "metadata": {},
     "output_type": "execute_result"
    }
   ],
   "source": [
    "one_hot[4] = true"
   ]
  },
  {
   "cell_type": "code",
   "execution_count": 14,
   "id": "500ea6c9-1952-4634-9687-0658dd5f87d4",
   "metadata": {},
   "outputs": [
    {
     "data": {
      "text/plain": [
       "5-element OneHotVector:\n",
       " 0\n",
       " 0\n",
       " 0\n",
       " 1\n",
       " 0"
      ]
     },
     "execution_count": 14,
     "metadata": {},
     "output_type": "execute_result"
    }
   ],
   "source": [
    "one_hot"
   ]
  },
  {
   "cell_type": "markdown",
   "id": "4f0de6e8-1f91-4721-85d1-5ac500fff12d",
   "metadata": {},
   "source": [
    "Note that you can actually set the non-zero component to false.  However, this doesn't modify the one-hot vector in any way.  You may want to make `Base.setindex` treat that as an error."
   ]
  },
  {
   "cell_type": "code",
   "execution_count": 15,
   "id": "9ee5d877-c4eb-4aaf-9a14-902b1216b9fa",
   "metadata": {},
   "outputs": [
    {
     "data": {
      "text/plain": [
       "false"
      ]
     },
     "execution_count": 15,
     "metadata": {},
     "output_type": "execute_result"
    }
   ],
   "source": [
    "one_hot[4] = false"
   ]
  },
  {
   "cell_type": "code",
   "execution_count": 16,
   "id": "4dc5d74f-dab0-41e3-be6e-06af23b4ec8e",
   "metadata": {},
   "outputs": [
    {
     "data": {
      "text/plain": [
       "5-element OneHotVector:\n",
       " 0\n",
       " 0\n",
       " 0\n",
       " 1\n",
       " 0"
      ]
     },
     "execution_count": 16,
     "metadata": {},
     "output_type": "execute_result"
    }
   ],
   "source": [
    "one_hot"
   ]
  },
  {
   "cell_type": "markdown",
   "id": "ebb044af-ff6a-4a33-8700-bf2fea87bef2",
   "metadata": {},
   "source": [
    "As you can see, the `length` function also works, since under the hood, it calls the `size` method you implemented."
   ]
  },
  {
   "cell_type": "code",
   "execution_count": 17,
   "id": "2bd61e75-cab8-4bbd-9eca-b1199bfd8275",
   "metadata": {},
   "outputs": [
    {
     "data": {
      "text/plain": [
       "5"
      ]
     },
     "execution_count": 17,
     "metadata": {},
     "output_type": "execute_result"
    }
   ],
   "source": [
    "length(one_hot)"
   ]
  },
  {
   "cell_type": "markdown",
   "id": "a83b3e65-d882-41c6-9364-01a69fe2c602",
   "metadata": {},
   "source": [
    "The interface you implemented is that of `AbstractVector`.  This should make `OneHotVector` behave like `Vector`, so you should be able to perform computation with a `OneHotVector`."
   ]
  },
  {
   "cell_type": "code",
   "execution_count": 7,
   "id": "bac8d468-828b-4ad8-b76c-e93d8b5026d5",
   "metadata": {},
   "outputs": [
    {
     "data": {
      "text/plain": [
       "2×3 Matrix{Float64}:\n",
       " 3.1  4.2  5.3\n",
       " 6.4  7.5  8.6"
      ]
     },
     "execution_count": 7,
     "metadata": {},
     "output_type": "execute_result"
    }
   ],
   "source": [
    "M = Matrix{Float64}([\n",
    "        3.1 4.2 5.3\n",
    "        6.4 7.5 8.6\n",
    "        ])"
   ]
  },
  {
   "cell_type": "code",
   "execution_count": 8,
   "id": "f0e9c6c8-5251-4303-a418-e70655cd826d",
   "metadata": {},
   "outputs": [
    {
     "data": {
      "text/plain": [
       "3-element OneHotVector:\n",
       " 0\n",
       " 1\n",
       " 0"
      ]
     },
     "execution_count": 8,
     "metadata": {},
     "output_type": "execute_result"
    }
   ],
   "source": [
    "one_hot = OneHotVector(3, 2)"
   ]
  },
  {
   "cell_type": "code",
   "execution_count": 9,
   "id": "b5841a84-3dac-42fa-8055-a040a35b6280",
   "metadata": {},
   "outputs": [
    {
     "data": {
      "text/plain": [
       "2-element Vector{Float64}:\n",
       " 4.2\n",
       " 7.5"
      ]
     },
     "execution_count": 9,
     "metadata": {},
     "output_type": "execute_result"
    }
   ],
   "source": [
    "M*one_hot"
   ]
  },
  {
   "cell_type": "markdown",
   "id": "49d92519-f644-4760-82bd-d5e03f8f9c31",
   "metadata": {},
   "source": [
    "Indeed, when you compute the product of a matrix and a `OneHotVector`, you get the expected result since `true` is interpreted as ` in a numerical context, and `false` as 0."
   ]
  }
 ],
 "metadata": {
  "kernelspec": {
   "display_name": "Julia 1.8.0",
   "language": "julia",
   "name": "julia-1.8"
  },
  "language_info": {
   "file_extension": ".jl",
   "mimetype": "application/julia",
   "name": "julia",
   "version": "1.8.0"
  }
 },
 "nbformat": 4,
 "nbformat_minor": 5
}
