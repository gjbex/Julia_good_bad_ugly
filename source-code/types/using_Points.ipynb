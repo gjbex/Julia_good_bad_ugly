{
 "cells": [
  {
   "cell_type": "markdown",
   "id": "84f76934-804e-41f3-9f76-a860bda4500d",
   "metadata": {},
   "source": [
    "# Requirements"
   ]
  },
  {
   "cell_type": "markdown",
   "id": "9f8e4db6-9997-463f-bdfd-60926ebbc597",
   "metadata": {},
   "source": [
    "The `Points` module defines the trait for point-like object as well as functions (accessors and a distance function) to work with them.\n",
    "\n",
    "To load a module in the current directory, add this directory to `LOAD_PATH`."
   ]
  },
  {
   "cell_type": "code",
   "execution_count": 1,
   "id": "7c0be7e7-0672-478b-aa78-0d36b0573ea2",
   "metadata": {},
   "outputs": [
    {
     "name": "stderr",
     "output_type": "stream",
     "text": [
      "┌ Info: Precompiling Points [top-level]\n",
      "└ @ Base loading.jl:1317\n"
     ]
    }
   ],
   "source": [
    "push!(LOAD_PATH, \".\")\n",
    "using Points\n",
    "import Points: PointStyle"
   ]
  },
  {
   "cell_type": "markdown",
   "id": "4ba69f6f-9e79-4fca-b29a-31d359f865f2",
   "metadata": {},
   "source": [
    "Note that we import `PointStyle` explicitly to be able to add methods to the function defined in the module `Points`.  This is just for convenience, using `Points.PointStyle` would work, but seems a bit awkward."
   ]
  },
  {
   "cell_type": "markdown",
   "id": "dcbae59b-9387-47fb-a2d1-eb925a94a993",
   "metadata": {},
   "source": [
    "# Using traits"
   ]
  },
  {
   "cell_type": "markdown",
   "id": "001d2d2c-c5a3-4caa-be30-045c77a96bbf",
   "metadata": {},
   "source": [
    "## 2D points"
   ]
  },
  {
   "cell_type": "markdown",
   "id": "0a21a811-6472-498f-a853-99192982ffbf",
   "metadata": {},
   "source": [
    "A pixel has $x$ and $y$ coordiantes as well as a color value.  The coordinates are specified as unsigned integers, while the color is represented as a string."
   ]
  },
  {
   "cell_type": "code",
   "execution_count": 2,
   "id": "b9496132-2794-4abb-a96e-1e006d595818",
   "metadata": {},
   "outputs": [],
   "source": [
    "struct Pixel\n",
    "    x::UInt\n",
    "    y::UInt\n",
    "    color::String\n",
    "end"
   ]
  },
  {
   "cell_type": "markdown",
   "id": "98cefaf6-e6df-433b-963d-6324337a72de",
   "metadata": {},
   "source": [
    "Since a `Pixel` has the properties of a two-dimensional point, we assign the `PointStyle` trait to it, using `Is2DPoint`."
   ]
  },
  {
   "cell_type": "code",
   "execution_count": 3,
   "id": "9b5d4460-6927-4a07-92f0-4775f31defc2",
   "metadata": {},
   "outputs": [
    {
     "data": {
      "text/plain": [
       "PointStyle"
      ]
     },
     "execution_count": 3,
     "metadata": {},
     "output_type": "execute_result"
    }
   ],
   "source": [
    "PointStyle(::Type{<:Pixel}) = Is2DPoint()"
   ]
  },
  {
   "cell_type": "markdown",
   "id": "0f85d2e9-53a4-4ac0-9686-7d4965e731a5",
   "metadata": {},
   "source": [
    "When we create a `Pixel`, we can now use the `get_x` accessor to retrieve its $x$ coordinate."
   ]
  },
  {
   "cell_type": "code",
   "execution_count": 4,
   "id": "ef14ad12-bc81-40d1-900f-9cd3b09d4092",
   "metadata": {},
   "outputs": [
    {
     "data": {
      "text/plain": [
       "Pixel(0x0000000000000003, 0x0000000000000005, \"blue\")"
      ]
     },
     "execution_count": 4,
     "metadata": {},
     "output_type": "execute_result"
    }
   ],
   "source": [
    "pixel = Pixel(3, 5, \"blue\")"
   ]
  },
  {
   "cell_type": "code",
   "execution_count": 5,
   "id": "1ee8a361-f813-4773-85f0-0b3fd1cf37ca",
   "metadata": {},
   "outputs": [
    {
     "data": {
      "text/plain": [
       "0x0000000000000003"
      ]
     },
     "execution_count": 5,
     "metadata": {},
     "output_type": "execute_result"
    }
   ],
   "source": [
    "get_x(pixel)"
   ]
  },
  {
   "cell_type": "markdown",
   "id": "a99d9d37-60b5-4b1a-8c21-396a429a091b",
   "metadata": {},
   "source": [
    "However, since `Pixel` is a 2D point, `get_z` will throw an exception."
   ]
  },
  {
   "cell_type": "code",
   "execution_count": 6,
   "id": "9f58da15-540c-47de-af00-929e76b2fdca",
   "metadata": {},
   "outputs": [
    {
     "ename": "LoadError",
     "evalue": "MethodError: no method matching get_z(::Is2DPoint, ::Pixel)\n\u001b[0mClosest candidates are:\n\u001b[0m  get_z(\u001b[91m::Is3DPoint\u001b[39m, ::Any) at /home/gjb/Documents/Julia_good_bad_ugly/source-code/types/Points.jl:34\n\u001b[0m  get_z(\u001b[91m::Points.IsNotPoint\u001b[39m, ::Any) at /home/gjb/Documents/Julia_good_bad_ugly/source-code/types/Points.jl:35\n\u001b[0m  get_z(::T) where T at /home/gjb/Documents/Julia_good_bad_ugly/source-code/types/Points.jl:33",
     "output_type": "error",
     "traceback": [
      "MethodError: no method matching get_z(::Is2DPoint, ::Pixel)\n\u001b[0mClosest candidates are:\n\u001b[0m  get_z(\u001b[91m::Is3DPoint\u001b[39m, ::Any) at /home/gjb/Documents/Julia_good_bad_ugly/source-code/types/Points.jl:34\n\u001b[0m  get_z(\u001b[91m::Points.IsNotPoint\u001b[39m, ::Any) at /home/gjb/Documents/Julia_good_bad_ugly/source-code/types/Points.jl:35\n\u001b[0m  get_z(::T) where T at /home/gjb/Documents/Julia_good_bad_ugly/source-code/types/Points.jl:33",
      "",
      "Stacktrace:",
      " [1] get_z(p::Pixel)",
      "   @ Points ~/Documents/Julia_good_bad_ugly/source-code/types/Points.jl:33",
      " [2] top-level scope",
      "   @ In[6]:1",
      " [3] eval",
      "   @ ./boot.jl:360 [inlined]",
      " [4] include_string(mapexpr::typeof(REPL.softscope), mod::Module, code::String, filename::String)",
      "   @ Base ./loading.jl:1094"
     ]
    }
   ],
   "source": [
    "get_z(pixel)"
   ]
  },
  {
   "cell_type": "markdown",
   "id": "61e4c38a-87ad-484d-9a0b-0bb4cd8b5cfe",
   "metadata": {},
   "source": [
    "We can compute the distance between two pixels."
   ]
  },
  {
   "cell_type": "code",
   "execution_count": 7,
   "id": "c435de8a-ecdf-4b84-b2b9-5379afa7a5ee",
   "metadata": {},
   "outputs": [],
   "source": [
    "p1 = Pixel(3, 5, \"green\");\n",
    "p2 = Pixel(4, 4, \"blue\");"
   ]
  },
  {
   "cell_type": "code",
   "execution_count": 8,
   "id": "1eb5a40c-017b-476f-809e-c02a97a92553",
   "metadata": {},
   "outputs": [
    {
     "data": {
      "text/plain": [
       "1.4142135623730951"
      ]
     },
     "execution_count": 8,
     "metadata": {},
     "output_type": "execute_result"
    }
   ],
   "source": [
    "distance(p1, p2)"
   ]
  },
  {
   "cell_type": "markdown",
   "id": "36541275-4dda-4e87-a119-068b59ed0d35",
   "metadata": {},
   "source": [
    "## 3D points"
   ]
  },
  {
   "cell_type": "markdown",
   "id": "a79ffb09-51dd-4b6d-8dfe-468655824c7e",
   "metadata": {},
   "source": [
    "A voxel has $x$, $y$ and $z$ coordinates and a color."
   ]
  },
  {
   "cell_type": "code",
   "execution_count": 9,
   "id": "da0d9172-752b-4691-bb65-02bf4b7842b5",
   "metadata": {},
   "outputs": [],
   "source": [
    "struct Voxel\n",
    "    x::UInt\n",
    "    y::UInt\n",
    "    z::UInt\n",
    "    color::String\n",
    "end"
   ]
  },
  {
   "cell_type": "markdown",
   "id": "42018220-a422-4405-a2d6-bbb63c1cbc21",
   "metadata": {},
   "source": [
    "Again, we assign the `PointStyle` trait to `Voxel`, but now using `Is3DPoint` since it represents a point in three dimensions."
   ]
  },
  {
   "cell_type": "code",
   "execution_count": 10,
   "id": "f20b6f41-3ca9-4ee2-9291-d59d73765fac",
   "metadata": {},
   "outputs": [
    {
     "data": {
      "text/plain": [
       "PointStyle"
      ]
     },
     "execution_count": 10,
     "metadata": {},
     "output_type": "execute_result"
    }
   ],
   "source": [
    "PointStyle(::Type{<:Voxel}) = Is3DPoint()"
   ]
  },
  {
   "cell_type": "markdown",
   "id": "b6c2f847-74a9-40ac-b1c8-30ed0e946f8f",
   "metadata": {},
   "source": [
    "We can create some voxels, compute the distance between them, and get the $z$ coordinate."
   ]
  },
  {
   "cell_type": "code",
   "execution_count": 11,
   "id": "0cf0bd6e-a0db-44dc-9143-6772825e0238",
   "metadata": {},
   "outputs": [],
   "source": [
    "v1 = Voxel(1, 2, 3, \"red\");\n",
    "v2 = Voxel(2, 1, 4, \"yellow\");"
   ]
  },
  {
   "cell_type": "code",
   "execution_count": 12,
   "id": "7083b2c4-8744-4f44-a62a-b1ace57dc6d2",
   "metadata": {},
   "outputs": [
    {
     "data": {
      "text/plain": [
       "0x0000000000000003"
      ]
     },
     "execution_count": 12,
     "metadata": {},
     "output_type": "execute_result"
    }
   ],
   "source": [
    "get_z(v1)"
   ]
  },
  {
   "cell_type": "code",
   "execution_count": 13,
   "id": "5ed4a5a3-a8ce-4c7f-894e-7df58ea4a387",
   "metadata": {},
   "outputs": [
    {
     "data": {
      "text/plain": [
       "1.7320508075688772"
      ]
     },
     "execution_count": 13,
     "metadata": {},
     "output_type": "execute_result"
    }
   ],
   "source": [
    "distance(v1, v2)"
   ]
  },
  {
   "cell_type": "markdown",
   "id": "355fb876-1545-4eb3-876d-b30cf29b52d9",
   "metadata": {},
   "source": [
    "It is not possible to compute the distance between a 2D and a 3D point."
   ]
  },
  {
   "cell_type": "code",
   "execution_count": 14,
   "id": "c9577233-4011-47fb-b464-f9bbf561e735",
   "metadata": {},
   "outputs": [
    {
     "ename": "LoadError",
     "evalue": "MethodError: no method matching distance(::Pixel, ::Voxel)\n\u001b[0mClosest candidates are:\n\u001b[0m  distance(::T, \u001b[91m::T\u001b[39m) where T at /home/gjb/Documents/Julia_good_bad_ugly/source-code/types/Points.jl:42\n\u001b[0m  distance(\u001b[91m::Is2DPoint\u001b[39m, ::Any, \u001b[91m::Any\u001b[39m) at /home/gjb/Documents/Julia_good_bad_ugly/source-code/types/Points.jl:43\n\u001b[0m  distance(\u001b[91m::Is3DPoint\u001b[39m, ::Any, \u001b[91m::Any\u001b[39m) at /home/gjb/Documents/Julia_good_bad_ugly/source-code/types/Points.jl:48\n\u001b[0m  ...",
     "output_type": "error",
     "traceback": [
      "MethodError: no method matching distance(::Pixel, ::Voxel)\n\u001b[0mClosest candidates are:\n\u001b[0m  distance(::T, \u001b[91m::T\u001b[39m) where T at /home/gjb/Documents/Julia_good_bad_ugly/source-code/types/Points.jl:42\n\u001b[0m  distance(\u001b[91m::Is2DPoint\u001b[39m, ::Any, \u001b[91m::Any\u001b[39m) at /home/gjb/Documents/Julia_good_bad_ugly/source-code/types/Points.jl:43\n\u001b[0m  distance(\u001b[91m::Is3DPoint\u001b[39m, ::Any, \u001b[91m::Any\u001b[39m) at /home/gjb/Documents/Julia_good_bad_ugly/source-code/types/Points.jl:48\n\u001b[0m  ...",
      "",
      "Stacktrace:",
      " [1] top-level scope",
      "   @ In[14]:1",
      " [2] eval",
      "   @ ./boot.jl:360 [inlined]",
      " [3] include_string(mapexpr::typeof(REPL.softscope), mod::Module, code::String, filename::String)",
      "   @ Base ./loading.jl:1094"
     ]
    }
   ],
   "source": [
    "distance(p1, v1)"
   ]
  },
  {
   "cell_type": "markdown",
   "id": "49f4897f-0609-4758-a9f6-b0e98ce7bdc8",
   "metadata": {},
   "source": [
    "It is also not possible to compute the distance between values of types that do not have the `PointStyle`, or to get a coordiante.."
   ]
  },
  {
   "cell_type": "code",
   "execution_count": 15,
   "id": "105dde19-ae7b-4c2f-943f-3ecca4fa9c6b",
   "metadata": {},
   "outputs": [
    {
     "ename": "LoadError",
     "evalue": "MethodError: no method matching distance(::Float64, ::Float64)\n\u001b[0mClosest candidates are:\n\u001b[0m  distance(::T, ::T) where T at /home/gjb/Documents/Julia_good_bad_ugly/source-code/types/Points.jl:42\n\u001b[0m  distance(\u001b[91m::Is2DPoint\u001b[39m, ::Any, \u001b[91m::Any\u001b[39m) at /home/gjb/Documents/Julia_good_bad_ugly/source-code/types/Points.jl:43\n\u001b[0m  distance(\u001b[91m::Is3DPoint\u001b[39m, ::Any, \u001b[91m::Any\u001b[39m) at /home/gjb/Documents/Julia_good_bad_ugly/source-code/types/Points.jl:48\n\u001b[0m  ...",
     "output_type": "error",
     "traceback": [
      "MethodError: no method matching distance(::Float64, ::Float64)\n\u001b[0mClosest candidates are:\n\u001b[0m  distance(::T, ::T) where T at /home/gjb/Documents/Julia_good_bad_ugly/source-code/types/Points.jl:42\n\u001b[0m  distance(\u001b[91m::Is2DPoint\u001b[39m, ::Any, \u001b[91m::Any\u001b[39m) at /home/gjb/Documents/Julia_good_bad_ugly/source-code/types/Points.jl:43\n\u001b[0m  distance(\u001b[91m::Is3DPoint\u001b[39m, ::Any, \u001b[91m::Any\u001b[39m) at /home/gjb/Documents/Julia_good_bad_ugly/source-code/types/Points.jl:48\n\u001b[0m  ...",
      "",
      "Stacktrace:",
      " [1] distance(#unused#::Points.IsNotPoint, p1::Float64, p2::Float64)",
      "   @ Points ~/Documents/Julia_good_bad_ugly/source-code/types/Points.jl:53",
      " [2] distance(p1::Float64, p2::Float64)",
      "   @ Points ~/Documents/Julia_good_bad_ugly/source-code/types/Points.jl:42",
      " [3] top-level scope",
      "   @ In[15]:1",
      " [4] eval",
      "   @ ./boot.jl:360 [inlined]",
      " [5] include_string(mapexpr::typeof(REPL.softscope), mod::Module, code::String, filename::String)",
      "   @ Base ./loading.jl:1094"
     ]
    }
   ],
   "source": [
    "distance(3.2, 5.2)"
   ]
  },
  {
   "cell_type": "code",
   "execution_count": 16,
   "id": "b28fb1f4-0873-4104-a079-90e43a064e74",
   "metadata": {},
   "outputs": [
    {
     "ename": "LoadError",
     "evalue": "MethodError: no method matching get_x(::Float64)\n\u001b[0mClosest candidates are:\n\u001b[0m  get_x(::T) where T at /home/gjb/Documents/Julia_good_bad_ugly/source-code/types/Points.jl:15\n\u001b[0m  get_x(\u001b[91m::Union{Is2DPoint, Is3DPoint}\u001b[39m, \u001b[91m::Any\u001b[39m) at /home/gjb/Documents/Julia_good_bad_ugly/source-code/types/Points.jl:16\n\u001b[0m  get_x(\u001b[91m::Points.IsNotPoint\u001b[39m, \u001b[91m::Any\u001b[39m) at /home/gjb/Documents/Julia_good_bad_ugly/source-code/types/Points.jl:17",
     "output_type": "error",
     "traceback": [
      "MethodError: no method matching get_x(::Float64)\n\u001b[0mClosest candidates are:\n\u001b[0m  get_x(::T) where T at /home/gjb/Documents/Julia_good_bad_ugly/source-code/types/Points.jl:15\n\u001b[0m  get_x(\u001b[91m::Union{Is2DPoint, Is3DPoint}\u001b[39m, \u001b[91m::Any\u001b[39m) at /home/gjb/Documents/Julia_good_bad_ugly/source-code/types/Points.jl:16\n\u001b[0m  get_x(\u001b[91m::Points.IsNotPoint\u001b[39m, \u001b[91m::Any\u001b[39m) at /home/gjb/Documents/Julia_good_bad_ugly/source-code/types/Points.jl:17",
      "",
      "Stacktrace:",
      " [1] get_x(#unused#::Points.IsNotPoint, p::Float64)",
      "   @ Points ~/Documents/Julia_good_bad_ugly/source-code/types/Points.jl:17",
      " [2] get_x(p::Float64)",
      "   @ Points ~/Documents/Julia_good_bad_ugly/source-code/types/Points.jl:15",
      " [3] top-level scope",
      "   @ In[16]:1",
      " [4] eval",
      "   @ ./boot.jl:360 [inlined]",
      " [5] include_string(mapexpr::typeof(REPL.softscope), mod::Module, code::String, filename::String)",
      "   @ Base ./loading.jl:1094"
     ]
    }
   ],
   "source": [
    "get_x(5.2)"
   ]
  },
  {
   "cell_type": "markdown",
   "id": "15e153bb-c9c7-43c6-9e27-5f17b133b487",
   "metadata": {},
   "source": [
    "For a mutable type, we can of course use the `set_x!` and friends functions."
   ]
  },
  {
   "cell_type": "code",
   "execution_count": 17,
   "id": "3d0214c6-6042-48b7-908d-4c95af95af19",
   "metadata": {},
   "outputs": [],
   "source": [
    "mutable struct Particle\n",
    "    x::Real\n",
    "    y::Real\n",
    "    mass::Real\n",
    "end"
   ]
  },
  {
   "cell_type": "code",
   "execution_count": 18,
   "id": "f6f6e945-5a26-49a2-8b38-b0707f0424a7",
   "metadata": {},
   "outputs": [
    {
     "data": {
      "text/plain": [
       "PointStyle"
      ]
     },
     "execution_count": 18,
     "metadata": {},
     "output_type": "execute_result"
    }
   ],
   "source": [
    "PointStyle(::Type{<:Particle}) = Is2DPoint()"
   ]
  },
  {
   "cell_type": "code",
   "execution_count": 19,
   "id": "45fc8d5a-87de-49b0-b74f-453b4a47649c",
   "metadata": {},
   "outputs": [
    {
     "data": {
      "text/plain": [
       "Particle(3.1, 5.3, 0.5)"
      ]
     },
     "execution_count": 19,
     "metadata": {},
     "output_type": "execute_result"
    }
   ],
   "source": [
    "particle = Particle(3.1, 5.3, 0.5)"
   ]
  },
  {
   "cell_type": "code",
   "execution_count": 20,
   "id": "c1695d63-de42-47dc-873d-81f607f343eb",
   "metadata": {},
   "outputs": [
    {
     "data": {
      "text/plain": [
       "-1.3"
      ]
     },
     "execution_count": 20,
     "metadata": {},
     "output_type": "execute_result"
    }
   ],
   "source": [
    "set_y!(particle, -1.3)"
   ]
  },
  {
   "cell_type": "code",
   "execution_count": 21,
   "id": "748ee341-6a7c-444c-9e28-473253230975",
   "metadata": {},
   "outputs": [
    {
     "data": {
      "text/plain": [
       "Particle(3.1, -1.3, 0.5)"
      ]
     },
     "execution_count": 21,
     "metadata": {},
     "output_type": "execute_result"
    }
   ],
   "source": [
    "particle"
   ]
  }
 ],
 "metadata": {
  "kernelspec": {
   "display_name": "Julia 1.6.1",
   "language": "julia",
   "name": "julia-1.6"
  },
  "language_info": {
   "file_extension": ".jl",
   "mimetype": "application/julia",
   "name": "julia",
   "version": "1.6.1"
  }
 },
 "nbformat": 4,
 "nbformat_minor": 5
}
