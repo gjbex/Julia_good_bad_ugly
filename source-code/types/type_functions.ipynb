{
 "cells": [
  {
   "cell_type": "markdown",
   "id": "d993fac7-e2c9-43fe-bdbe-b7579ec210c6",
   "metadata": {},
   "source": [
    "## Finding types"
   ]
  },
  {
   "cell_type": "markdown",
   "id": "8d1e5cf8-8666-4012-b416-4fe08f5d2dbc",
   "metadata": {},
   "source": [
    "Type information is easy to obtain in Julia using the `typeof` function."
   ]
  },
  {
   "cell_type": "code",
   "execution_count": 1,
   "id": "11d71c4d-b09d-48e0-ba3c-63a52da8fc00",
   "metadata": {},
   "outputs": [
    {
     "data": {
      "text/plain": [
       "Int64"
      ]
     },
     "execution_count": 1,
     "metadata": {},
     "output_type": "execute_result"
    }
   ],
   "source": [
    "typeof(5)"
   ]
  },
  {
   "cell_type": "markdown",
   "id": "2e526336-3186-4e24-9b5f-3b9486f1875e",
   "metadata": {},
   "source": [
    "Types are ogranized in a tree, with concrete types as leaves of the tree, and abstract types as inner nodes.\n",
    "\n",
    "For instance, `Int` is a concrete type, as is `Float64`.  This can be tested using the `isconcretetype` function."
   ]
  },
  {
   "cell_type": "code",
   "execution_count": 2,
   "id": "f74a70e9-f18c-419c-8339-a674e4cdecae",
   "metadata": {},
   "outputs": [
    {
     "data": {
      "text/plain": [
       "(true, true)"
      ]
     },
     "execution_count": 2,
     "metadata": {},
     "output_type": "execute_result"
    }
   ],
   "source": [
    "isconcretetype(Int), isconcretetype(Float64)"
   ]
  },
  {
   "cell_type": "markdown",
   "id": "d26c3d31-e8f5-41ad-adb3-5ad9e439d678",
   "metadata": {},
   "source": [
    "The `Integer` type is abstract though."
   ]
  },
  {
   "cell_type": "code",
   "execution_count": 3,
   "id": "ae570b85-7297-41bf-9d7f-524a18d12775",
   "metadata": {},
   "outputs": [
    {
     "data": {
      "text/plain": [
       "false"
      ]
     },
     "execution_count": 3,
     "metadata": {},
     "output_type": "execute_result"
    }
   ],
   "source": [
    "isconcretetype(Integer)"
   ]
  },
  {
   "cell_type": "code",
   "execution_count": 4,
   "id": "7326a3d9-2946-46b3-9b4d-db45b14b1dd5",
   "metadata": {},
   "outputs": [
    {
     "data": {
      "text/plain": [
       "true"
      ]
     },
     "execution_count": 4,
     "metadata": {},
     "output_type": "execute_result"
    }
   ],
   "source": [
    "isabstracttype(Integer)"
   ]
  },
  {
   "cell_type": "markdown",
   "id": "c5c2a5c5-657a-484a-a472-dee2b2c41d4b",
   "metadata": {},
   "source": [
    "You can also easily check whether a value is of a specific type using the `isa` funtion."
   ]
  },
  {
   "cell_type": "code",
   "execution_count": 5,
   "id": "d4994503-53f8-41ab-b8fe-dea15bb8eabb",
   "metadata": {},
   "outputs": [
    {
     "data": {
      "text/plain": [
       "true"
      ]
     },
     "execution_count": 5,
     "metadata": {},
     "output_type": "execute_result"
    }
   ],
   "source": [
    "5 isa Int"
   ]
  },
  {
   "cell_type": "code",
   "execution_count": 6,
   "id": "48c3bb3e-8812-4704-8259-bbd6856dab6d",
   "metadata": {},
   "outputs": [
    {
     "data": {
      "text/plain": [
       "true"
      ]
     },
     "execution_count": 6,
     "metadata": {},
     "output_type": "execute_result"
    }
   ],
   "source": [
    "5 isa Integer"
   ]
  },
  {
   "cell_type": "markdown",
   "id": "f0634d10-5094-48ef-939f-4326b17c0ac9",
   "metadata": {},
   "source": [
    "The value `5` is an `Int64`, but also, more generally, an `Integer`.  On the other hand, `5.0` is not an `Int`."
   ]
  },
  {
   "cell_type": "code",
   "execution_count": 7,
   "id": "18cac127-6774-4e9e-adbe-8034655c32bc",
   "metadata": {},
   "outputs": [
    {
     "data": {
      "text/plain": [
       "false"
      ]
     },
     "execution_count": 7,
     "metadata": {},
     "output_type": "execute_result"
    }
   ],
   "source": [
    "5.0 isa Int"
   ]
  },
  {
   "cell_type": "markdown",
   "id": "29cdea00-7741-47e4-8739-9d0cde161632",
   "metadata": {},
   "source": [
    "## Type hierarchy"
   ]
  },
  {
   "cell_type": "markdown",
   "id": "bfc440da-0eca-48fe-b8de-2f0949cbb1e8",
   "metadata": {},
   "source": [
    "The type tree can explored easily using two functions: `supertype` and `subtypes`.  The latter returns multiple values stored in a `Vector`."
   ]
  },
  {
   "cell_type": "code",
   "execution_count": 8,
   "id": "494a057e-5157-4a99-bd07-30456764bd18",
   "metadata": {},
   "outputs": [
    {
     "data": {
      "text/plain": [
       "Signed"
      ]
     },
     "execution_count": 8,
     "metadata": {},
     "output_type": "execute_result"
    }
   ],
   "source": [
    "supertype(Int)"
   ]
  },
  {
   "cell_type": "code",
   "execution_count": 9,
   "id": "00290907-d26d-4e61-9c82-2a804a49b730",
   "metadata": {},
   "outputs": [
    {
     "data": {
      "text/plain": [
       "Integer"
      ]
     },
     "execution_count": 9,
     "metadata": {},
     "output_type": "execute_result"
    }
   ],
   "source": [
    "supertype(Signed)"
   ]
  },
  {
   "cell_type": "code",
   "execution_count": 10,
   "id": "ce9522a9-6403-4517-95f7-01bd413594b1",
   "metadata": {},
   "outputs": [
    {
     "data": {
      "text/plain": [
       "4-element Vector{Any}:\n",
       " BigFloat\n",
       " Float16\n",
       " Float32\n",
       " Float64"
      ]
     },
     "execution_count": 10,
     "metadata": {},
     "output_type": "execute_result"
    }
   ],
   "source": [
    "subtypes(AbstractFloat)"
   ]
  },
  {
   "cell_type": "markdown",
   "id": "09f1ddb8-fff8-463f-a884-d222625fed03",
   "metadata": {},
   "source": [
    "Using the operator `<:`, you can check whether a type is a subtype of another type."
   ]
  },
  {
   "cell_type": "code",
   "execution_count": 11,
   "id": "ba1fb85d-24e5-4e1c-97fc-b85fa5d335ad",
   "metadata": {},
   "outputs": [
    {
     "data": {
      "text/plain": [
       "true"
      ]
     },
     "execution_count": 11,
     "metadata": {},
     "output_type": "execute_result"
    }
   ],
   "source": [
    "Int <: Number"
   ]
  },
  {
   "cell_type": "markdown",
   "id": "faf2cd3b-e70d-486c-8c1c-f7be5a5f4bad",
   "metadata": {},
   "source": [
    "Using the `AbstractTrees` package, it is easy to visualize the type tree.  Note that this package is not part of the standard library."
   ]
  },
  {
   "cell_type": "code",
   "execution_count": 12,
   "id": "b25f84cb-e05d-47c7-8a57-f1092c4d57d0",
   "metadata": {},
   "outputs": [],
   "source": [
    "using AbstractTrees"
   ]
  },
  {
   "cell_type": "markdown",
   "id": "ac97fbae-0a1c-44b6-8f83-8f66f38fedca",
   "metadata": {},
   "source": [
    "To use the `print_tree` method, one has to make sure there is a method that matches the hierarchical data type to display.  In this case, you want to display a tree of types, so the arguments of `AbstractTrees.children` should be `DataType`."
   ]
  },
  {
   "cell_type": "code",
   "execution_count": 13,
   "id": "f42ae504-280f-488e-942b-a0017c6a017d",
   "metadata": {},
   "outputs": [
    {
     "data": {
      "text/plain": [
       "DataType"
      ]
     },
     "execution_count": 13,
     "metadata": {},
     "output_type": "execute_result"
    }
   ],
   "source": [
    "typeof(Int)"
   ]
  },
  {
   "cell_type": "code",
   "execution_count": 14,
   "id": "6c05f17c-6198-4593-a442-411d43f2b2e7",
   "metadata": {},
   "outputs": [],
   "source": [
    "AbstractTrees.children(x::DataType) = subtypes(x)"
   ]
  },
  {
   "cell_type": "code",
   "execution_count": 15,
   "id": "2a22c53d-bb14-489e-8170-fc77b1ead446",
   "metadata": {},
   "outputs": [
    {
     "name": "stdout",
     "output_type": "stream",
     "text": [
      "Number\n",
      "├─ Complex\n",
      "└─ Real\n",
      "   ├─ AbstractFloat\n",
      "   │  ├─ BigFloat\n",
      "   │  ├─ Float16\n",
      "   │  ├─ Float32\n",
      "   │  └─ Float64\n",
      "   ├─ AbstractIrrational\n",
      "   │  └─ Irrational\n",
      "   ├─ Integer\n",
      "   │  ├─ Bool\n",
      "   │  ├─ Signed\n",
      "   │  │  ├─ BigInt\n",
      "   │  │  ├─ Int128\n",
      "   │  │  ├─ Int16\n",
      "   │  │  ├─ Int32\n",
      "   │  │  ├─ Int64\n",
      "   │  │  └─ Int8\n",
      "   │  └─ Unsigned\n",
      "   │     ├─ UInt128\n",
      "   │     ├─ UInt16\n",
      "   │     ├─ UInt32\n",
      "   │     ├─ UInt64\n",
      "   │     └─ UInt8\n",
      "   └─ Rational\n"
     ]
    }
   ],
   "source": [
    "print_tree(Number)"
   ]
  }
 ],
 "metadata": {
  "kernelspec": {
   "display_name": "Julia 1.8.0",
   "language": "julia",
   "name": "julia-1.8"
  },
  "language_info": {
   "file_extension": ".jl",
   "mimetype": "application/julia",
   "name": "julia",
   "version": "1.8.0"
  }
 },
 "nbformat": 4,
 "nbformat_minor": 5
}
