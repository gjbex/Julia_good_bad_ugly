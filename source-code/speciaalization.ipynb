{
 "cells": [
  {
   "cell_type": "markdown",
   "id": "653f4141-b1a2-4e75-8e20-81ac61da51a1",
   "metadata": {},
   "source": [
    "## Specialization"
   ]
  },
  {
   "cell_type": "markdown",
   "id": "53d00925-cc2b-4899-9d4f-e808b93a7c4a",
   "metadata": {},
   "source": [
    "The first time a newly defined funciton is executed, it will be compiled to native code and executed.  On subsequent calls that native compiled code is executed without the overhead of the compilation process.\n",
    "\n",
    "You can clearly observe this with the funciton defined below."
   ]
  },
  {
   "cell_type": "code",
   "execution_count": 1,
   "id": "4a173f64-6ad8-44fd-bf9d-55a3876260bc",
   "metadata": {},
   "outputs": [
    {
     "data": {
      "text/plain": [
       "quadratic (generic function with 1 method)"
      ]
     },
     "execution_count": 1,
     "metadata": {},
     "output_type": "execute_result"
    }
   ],
   "source": [
    "quadratic(x) = x.^2 .+ 2x .+ 5"
   ]
  },
  {
   "cell_type": "markdown",
   "id": "6b7d4715-2269-4078-87d7-315878a4ca29",
   "metadata": {},
   "source": [
    "To provide some work for the compiler, you can call the funciton with a vector."
   ]
  },
  {
   "cell_type": "code",
   "execution_count": 2,
   "id": "322c088f-204b-4994-89eb-412fe85dc496",
   "metadata": {
    "tags": []
   },
   "outputs": [],
   "source": [
    "x = rand(10_000);"
   ]
  },
  {
   "cell_type": "code",
   "execution_count": 3,
   "id": "e316192b-07bf-461d-83bb-1324f4889c12",
   "metadata": {
    "tags": []
   },
   "outputs": [
    {
     "name": "stdout",
     "output_type": "stream",
     "text": [
      "  0.203708 seconds (720.81 k allocations: 37.400 MiB, 40.49% gc time, 99.96% compilation time)\n",
      "  0.000051 seconds (4 allocations: 156.344 KiB)\n"
     ]
    }
   ],
   "source": [
    "@time quadratic(x);\n",
    "@time quadratic(x);"
   ]
  },
  {
   "cell_type": "markdown",
   "id": "11ec41e7-0082-462e-8516-8e772e8032fd",
   "metadata": {},
   "source": [
    "The first call indeed takes orders of magnitude longer than the second or any subsequent calls for that matter.\n",
    "\n",
    "However, not that when we call the function with an argument of a different type, it will be compiled again."
   ]
  },
  {
   "cell_type": "code",
   "execution_count": 4,
   "id": "c9122199-025a-4e8a-8a77-8f9e52d8070f",
   "metadata": {
    "tags": []
   },
   "outputs": [],
   "source": [
    "x = rand(Int, (10_000, ));"
   ]
  },
  {
   "cell_type": "code",
   "execution_count": 5,
   "id": "fb04d346-1c4e-4b7a-9974-322a380c4e19",
   "metadata": {
    "tags": []
   },
   "outputs": [
    {
     "name": "stdout",
     "output_type": "stream",
     "text": [
      "  0.137798 seconds (623.40 k allocations: 31.789 MiB, 99.94% compilation time)\n",
      "  0.000040 seconds (4 allocations: 156.344 KiB)\n"
     ]
    }
   ],
   "source": [
    "@time quadratic(x);\n",
    "@time quadratic(x);"
   ]
  },
  {
   "cell_type": "markdown",
   "id": "16baea4e-e1f0-49cd-b61e-41e2bd673749",
   "metadata": {},
   "source": [
    "You can use the `MethodAnalysis` package to gain insight into the instancees that Julia generated for your funcitons by calling the `methodinstances` function."
   ]
  },
  {
   "cell_type": "code",
   "execution_count": 6,
   "id": "6717c9f1-5d52-4784-8394-ef701e159164",
   "metadata": {},
   "outputs": [],
   "source": [
    "using MethodAnalysis"
   ]
  },
  {
   "cell_type": "code",
   "execution_count": 9,
   "id": "ae728a91-83ee-487b-bdb6-6a8c343f90a5",
   "metadata": {},
   "outputs": [
    {
     "data": {
      "text/html": [
       "# 1 method for generic function <b>quadratic</b>:<ul><li> quadratic(x) in Main at In[1]:1</li> </ul>"
      ],
      "text/plain": [
       "# 1 method for generic function \"quadratic\":\n",
       "[1] quadratic(x) in Main at In[1]:1"
      ]
     },
     "execution_count": 9,
     "metadata": {},
     "output_type": "execute_result"
    }
   ],
   "source": [
    "methods(quadratic)"
   ]
  },
  {
   "cell_type": "code",
   "execution_count": 10,
   "id": "56cc85a5-ce2e-4576-a691-0bd2868b899a",
   "metadata": {},
   "outputs": [
    {
     "data": {
      "text/plain": [
       "2-element Vector{Core.MethodInstance}:\n",
       " MethodInstance for quadratic(::Vector{Float64})\n",
       " MethodInstance for quadratic(::Vector{Int64})"
      ]
     },
     "execution_count": 10,
     "metadata": {},
     "output_type": "execute_result"
    }
   ],
   "source": [
    "methodinstances(quadratic)"
   ]
  },
  {
   "cell_type": "markdown",
   "id": "4cad697a-7916-4930-8850-289c10d7f319",
   "metadata": {},
   "source": [
    "Clearly, two instances of the function have been produced, one for a `Vector` of `Float64`, the other for `Int64` elements.\n",
    "\n",
    "When you call the function with a scalar floating point value, a third instance is created, but given the fact that this is a very simple function, the compilation hardly takes any time at all."
   ]
  },
  {
   "cell_type": "code",
   "execution_count": 11,
   "id": "f495e29e-5be0-420e-98df-cc0a36b735c8",
   "metadata": {},
   "outputs": [
    {
     "name": "stdout",
     "output_type": "stream",
     "text": [
      "  0.000001 seconds\n",
      "  0.000001 seconds\n"
     ]
    }
   ],
   "source": [
    "@time quadratic(3.0);\n",
    "@time quadratic(12.0);"
   ]
  },
  {
   "cell_type": "code",
   "execution_count": 12,
   "id": "eb2623fe-0590-4fae-bcda-bedef3c1eca5",
   "metadata": {},
   "outputs": [
    {
     "data": {
      "text/plain": [
       "3-element Vector{Core.MethodInstance}:\n",
       " MethodInstance for quadratic(::Vector{Float64})\n",
       " MethodInstance for quadratic(::Vector{Int64})\n",
       " MethodInstance for quadratic(::Float64)"
      ]
     },
     "execution_count": 12,
     "metadata": {},
     "output_type": "execute_result"
    }
   ],
   "source": [
    "methodinstances(quadratic)"
   ]
  },
  {
   "cell_type": "markdown",
   "id": "61d63796-0577-434d-8ce1-980bb2d13a26",
   "metadata": {},
   "source": [
    "## Just Ahead Of Time compilation"
   ]
  },
  {
   "cell_type": "markdown",
   "id": "40560048-04f1-4c49-9c05-99e9a0c8ad39",
   "metadata": {},
   "source": [
    "When you call a function for the first time, the source code is converted into native machine code in a process with many steps.  The result of these steps can be inspected using macros.\n",
    "\n",
    "To illustrate this, you can define another function."
   ]
  },
  {
   "cell_type": "code",
   "execution_count": 1,
   "id": "c5151797-ba87-4f1a-9c9b-4a1d8b34eed5",
   "metadata": {},
   "outputs": [
    {
     "data": {
      "text/plain": [
       "axpy (generic function with 1 method)"
      ]
     },
     "execution_count": 1,
     "metadata": {},
     "output_type": "execute_result"
    }
   ],
   "source": [
    "axpy(alpha, x, y) = alpha*x + y"
   ]
  },
  {
   "cell_type": "markdown",
   "id": "69dab7de-6989-4358-b6a5-bb2de96c3895",
   "metadata": {},
   "source": [
    "One of the first steps you can inspect is the result of macro expansion, e.g., what happens when you use the `@time` macro."
   ]
  },
  {
   "cell_type": "code",
   "execution_count": 19,
   "id": "bd36a122-8ae8-445c-b198-8a1a97700bf6",
   "metadata": {},
   "outputs": [
    {
     "data": {
      "text/plain": [
       "quote\n",
       "    \u001b[90m#= timing.jl:253 =#\u001b[39m\n",
       "    begin\n",
       "        \u001b[90m#= timing.jl:258 =#\u001b[39m\n",
       "        $(Expr(:meta, :force_compile))\n",
       "        \u001b[90m#= timing.jl:259 =#\u001b[39m\n",
       "        local var\"#86#stats\" = Base.gc_num()\n",
       "        \u001b[90m#= timing.jl:260 =#\u001b[39m\n",
       "        local var\"#88#elapsedtime\" = Base.time_ns()\n",
       "        \u001b[90m#= timing.jl:261 =#\u001b[39m\n",
       "        Base.cumulative_compile_timing(true)\n",
       "        \u001b[90m#= timing.jl:262 =#\u001b[39m\n",
       "        local var\"#89#compile_elapsedtimes\" = Base.cumulative_compile_time_ns()\n",
       "        \u001b[90m#= timing.jl:263 =#\u001b[39m\n",
       "        local var\"#87#val\" = $(Expr(:tryfinally, :(axpy(2.0, 3.0, 5.0)), quote\n",
       "    var\"#88#elapsedtime\" = Base.time_ns() - var\"#88#elapsedtime\"\n",
       "    \u001b[90m#= timing.jl:265 =#\u001b[39m\n",
       "    Base.cumulative_compile_timing(false)\n",
       "    \u001b[90m#= timing.jl:266 =#\u001b[39m\n",
       "    var\"#89#compile_elapsedtimes\" = Base.cumulative_compile_time_ns() .- var\"#89#compile_elapsedtimes\"\n",
       "end))\n",
       "        \u001b[90m#= timing.jl:268 =#\u001b[39m\n",
       "        local var\"#90#diff\" = Base.GC_Diff(Base.gc_num(), var\"#86#stats\")\n",
       "        \u001b[90m#= timing.jl:269 =#\u001b[39m\n",
       "        local var\"#91#_msg\" = Base.nothing\n",
       "        \u001b[90m#= timing.jl:270 =#\u001b[39m\n",
       "        local var\"#92#has_msg\" = !(Base.isnothing(var\"#91#_msg\"))\n",
       "        \u001b[90m#= timing.jl:271 =#\u001b[39m\n",
       "        var\"#92#has_msg\" && Base.print(var\"#91#_msg\", \": \")\n",
       "        \u001b[90m#= timing.jl:272 =#\u001b[39m\n",
       "        Base.time_print(var\"#88#elapsedtime\", (var\"#90#diff\").allocd, (var\"#90#diff\").total_time, Base.gc_alloc_count(var\"#90#diff\"), Base.first(var\"#89#compile_elapsedtimes\"), Base.last(var\"#89#compile_elapsedtimes\"), true, !var\"#92#has_msg\")\n",
       "        \u001b[90m#= timing.jl:273 =#\u001b[39m\n",
       "        var\"#87#val\"\n",
       "    end\n",
       "end"
      ]
     },
     "execution_count": 19,
     "metadata": {},
     "output_type": "execute_result"
    }
   ],
   "source": [
    "@macroexpand @time axpy(2.0, 3.0, 5.0)"
   ]
  },
  {
   "cell_type": "markdown",
   "id": "76c8fa24-a045-4887-ab3e-c713595130c1",
   "metadata": {},
   "source": [
    "As you can see, a lot of bookkeeping is required to take track of the time and number of allocation accurately,  After writing the timing results, the result of the Julia expression is returned.\n",
    "\n",
    "This function is of course most useful when you develop your own macros.\n",
    "\n",
    "The code is subsequently converted into an internal representation, i.e., the code is \"lowered\"."
   ]
  },
  {
   "cell_type": "code",
   "execution_count": 26,
   "id": "b645f32d-23b7-47ea-8826-22d3246624f4",
   "metadata": {},
   "outputs": [
    {
     "data": {
      "text/plain": [
       "CodeInfo(\n",
       "\u001b[90m1 ─\u001b[39m %1 = alpha * x\n",
       "\u001b[90m│  \u001b[39m %2 = %1 + y\n",
       "\u001b[90m└──\u001b[39m      return %2\n",
       ")"
      ]
     },
     "execution_count": 26,
     "metadata": {},
     "output_type": "execute_result"
    }
   ],
   "source": [
    "@code_lowered axpy(2.0, 3.0, 5.0)"
   ]
  },
  {
   "cell_type": "markdown",
   "id": "f74af285-1a94-46d2-add2-74f22ce5e01e",
   "metadata": {},
   "source": [
    "In the next phase, types are derived for this code, which you can inspect as well."
   ]
  },
  {
   "cell_type": "code",
   "execution_count": 27,
   "id": "52d49eb7-a466-42d0-8fef-efa2553b4698",
   "metadata": {},
   "outputs": [
    {
     "data": {
      "text/plain": [
       "CodeInfo(\n",
       "\u001b[90m1 ─\u001b[39m %1 = Base.mul_float(alpha, x)\u001b[36m::Float64\u001b[39m\n",
       "\u001b[90m│  \u001b[39m %2 = Base.add_float(%1, y)\u001b[36m::Float64\u001b[39m\n",
       "\u001b[90m└──\u001b[39m      return %2\n",
       ") => Float64"
      ]
     },
     "execution_count": 27,
     "metadata": {},
     "output_type": "execute_result"
    }
   ],
   "source": [
    "@code_typed axpy(2.0, 3.0, 5.0)"
   ]
  },
  {
   "cell_type": "markdown",
   "id": "5e218530-a6a7-4af8-9248-0bf2ab8d0687",
   "metadata": {},
   "source": [
    "Since all function arguments are `Float64` in this case, all intermediate types as well as the return type of the funciton will be `Float64` as well.\n",
    "\n",
    "On the other hand, if the first two arguments are `Int`, you observe a different intermediate type, as well as some type conversions."
   ]
  },
  {
   "cell_type": "code",
   "execution_count": 28,
   "id": "309e5097-1d58-4656-8794-8d7669e0f3d1",
   "metadata": {},
   "outputs": [
    {
     "data": {
      "text/plain": [
       "CodeInfo(\n",
       "\u001b[90m1 ─\u001b[39m %1 = Base.mul_int(alpha, x)\u001b[36m::Int64\u001b[39m\n",
       "\u001b[90m│  \u001b[39m %2 = Base.sitofp(Float64, %1)\u001b[36m::Float64\u001b[39m\n",
       "\u001b[90m│  \u001b[39m %3 = Base.add_float(%2, y)\u001b[36m::Float64\u001b[39m\n",
       "\u001b[90m└──\u001b[39m      return %3\n",
       ") => Float64"
      ]
     },
     "execution_count": 28,
     "metadata": {},
     "output_type": "execute_result"
    }
   ],
   "source": [
    "@code_typed axpy(2, 3, 5.0)"
   ]
  },
  {
   "cell_type": "markdown",
   "id": "62a7b56a-3a6d-4e24-90e6-d4383b6a7e69",
   "metadata": {},
   "source": [
    "Obviously, when the function is called with arguments that are all `Int`, the result type of the function will be `Int64`.\n",
    "\n",
    "In a subsequence phase, the intermediate code is translated to LLVM representation, the virtual machine code used by the underlying compiler."
   ]
  },
  {
   "cell_type": "code",
   "execution_count": 29,
   "id": "5309d3d6-2375-454c-a82d-f3cda068786f",
   "metadata": {},
   "outputs": [
    {
     "name": "stdout",
     "output_type": "stream",
     "text": [
      "\u001b[90m;  @ In[13]:1 within `axpy`\u001b[39m\n",
      "\u001b[95mdefine\u001b[39m \u001b[36mdouble\u001b[39m \u001b[93m@julia_axpy_2860\u001b[39m\u001b[33m(\u001b[39m\u001b[36mdouble\u001b[39m \u001b[0m%0\u001b[0m, \u001b[36mdouble\u001b[39m \u001b[0m%1\u001b[0m, \u001b[36mdouble\u001b[39m \u001b[0m%2\u001b[33m)\u001b[39m \u001b[0m#0 \u001b[33m{\u001b[39m\n",
      "\u001b[91mtop:\u001b[39m\n",
      "\u001b[90m; ┌ @ float.jl:385 within `*`\u001b[39m\n",
      "   \u001b[0m%3 \u001b[0m= \u001b[96m\u001b[1mfmul\u001b[22m\u001b[39m \u001b[36mdouble\u001b[39m \u001b[0m%0\u001b[0m, \u001b[0m%1\n",
      "\u001b[90m; └\u001b[39m\n",
      "\u001b[90m; ┌ @ float.jl:383 within `+`\u001b[39m\n",
      "   \u001b[0m%4 \u001b[0m= \u001b[96m\u001b[1mfadd\u001b[22m\u001b[39m \u001b[36mdouble\u001b[39m \u001b[0m%3\u001b[0m, \u001b[0m%2\n",
      "\u001b[90m; └\u001b[39m\n",
      "  \u001b[96m\u001b[1mret\u001b[22m\u001b[39m \u001b[36mdouble\u001b[39m \u001b[0m%4\n",
      "\u001b[33m}\u001b[39m\n"
     ]
    }
   ],
   "source": [
    "@code_llvm axpy(2.0, 3.0, 5.0)"
   ]
  },
  {
   "cell_type": "markdown",
   "id": "e0ca82d6-d741-4165-8e55-ab04e7838f9e",
   "metadata": {},
   "source": [
    "Finally, native code is produced in which you recognize the familiar machine instructions."
   ]
  },
  {
   "cell_type": "code",
   "execution_count": 30,
   "id": "80d2f569-e144-40cd-a128-ac1e5b89f42b",
   "metadata": {},
   "outputs": [
    {
     "name": "stdout",
     "output_type": "stream",
     "text": [
      "\t\u001b[0m.text\n",
      "\t\u001b[0m.file\t\u001b[0m\"axpy\"\n",
      "\t\u001b[0m.globl\t\u001b[0mjulia_axpy_2894                 \u001b[90m# -- Begin function julia_axpy_2894\u001b[39m\n",
      "\t\u001b[0m.p2align\t\u001b[33m4\u001b[39m\u001b[0m, \u001b[33m0x90\u001b[39m\n",
      "\t\u001b[0m.type\t\u001b[0mjulia_axpy_2894\u001b[0m,\u001b[0m@function\n",
      "\u001b[91mjulia_axpy_2894:\u001b[39m                        \u001b[90m# @julia_axpy_2894\u001b[39m\n",
      "\u001b[90m; ┌ @ In[13]:1 within `axpy`\u001b[39m\n",
      "\t\u001b[0m.cfi_startproc\n",
      "\u001b[90m# %bb.0:                                # %top\u001b[39m\n",
      "\u001b[90m; │┌ @ float.jl:385 within `*`\u001b[39m\n",
      "\t\u001b[96m\u001b[1mvmulsd\u001b[22m\u001b[39m\t\u001b[0m%xmm1\u001b[0m, \u001b[0m%xmm0\u001b[0m, \u001b[0m%xmm0\n",
      "\u001b[90m; │└\u001b[39m\n",
      "\u001b[90m; │┌ @ float.jl:383 within `+`\u001b[39m\n",
      "\t\u001b[96m\u001b[1mvaddsd\u001b[22m\u001b[39m\t\u001b[0m%xmm2\u001b[0m, \u001b[0m%xmm0\u001b[0m, \u001b[0m%xmm0\n",
      "\u001b[90m; │└\u001b[39m\n",
      "\t\u001b[96m\u001b[1mretq\u001b[22m\u001b[39m\n",
      "\u001b[91m.Lfunc_end0:\u001b[39m\n",
      "\t\u001b[0m.size\t\u001b[0mjulia_axpy_2894\u001b[0m, \u001b[0m.Lfunc_end0-julia_axpy_2894\n",
      "\t\u001b[0m.cfi_endproc\n",
      "\u001b[90m; └\u001b[39m\n",
      "                                        \u001b[90m# -- End function\u001b[39m\n",
      "\t\u001b[0m.section\t\u001b[0m\".note.GNU-stack\"\u001b[0m,\u001b[0m\"\"\u001b[0m,\u001b[0m@progbits\n"
     ]
    }
   ],
   "source": [
    "@code_native axpy(2.0, 3.0, 5.0)"
   ]
  },
  {
   "cell_type": "markdown",
   "id": "7186bad5-1345-49c7-8a86-312c31c383b9",
   "metadata": {},
   "source": [
    "## Type stability\n",
    "\n"
   ]
  },
  {
   "cell_type": "markdown",
   "id": "5fcfafdb-4beb-4c6a-adcb-2dad7467717c",
   "metadata": {},
   "source": [
    "The performance of your code can suffer significantly when type instability occurs.  This happens when the return type of a function is ambiguous.  As a trivial example, consider calling the function `distance` with a vector of floating point values, and a vector for which each element is type `Any`."
   ]
  },
  {
   "cell_type": "code",
   "execution_count": 4,
   "id": "b1eafa65-ffac-4e8e-b4be-78311dddb075",
   "metadata": {},
   "outputs": [
    {
     "data": {
      "text/plain": [
       "distance (generic function with 1 method)"
      ]
     },
     "execution_count": 4,
     "metadata": {},
     "output_type": "execute_result"
    }
   ],
   "source": [
    "distance(v1, v2) = sqrt((v1[1] - v2[1])^2 + (v1[2] - v2[2])^2)"
   ]
  },
  {
   "cell_type": "code",
   "execution_count": 5,
   "id": "4b561889-1a38-48fc-a798-69f24d10f1e6",
   "metadata": {},
   "outputs": [],
   "source": [
    "using BenchmarkTools"
   ]
  },
  {
   "cell_type": "code",
   "execution_count": 11,
   "id": "25941ac9-03cf-47e8-a987-9287e552378f",
   "metadata": {},
   "outputs": [
    {
     "name": "stdout",
     "output_type": "stream",
     "text": [
      "  1.884 ns (0 allocations: 0 bytes)\n",
      "  74.452 ns (6 allocations: 96 bytes)\n"
     ]
    }
   ],
   "source": [
    "@btime distance(v1, v2) setup=(v1=rand(2); v2=rand(2));\n",
    "@btime distance(v1, v2) setup=(v1=Any[rand(), rand()]; v2=Any[rand(), rand()]);"
   ]
  },
  {
   "cell_type": "markdown",
   "id": "631fe4e7-8fc5-4535-b0f5-7eca91ff1f49",
   "metadata": {},
   "source": [
    "The difference in performance between the two computation is substantial.\n",
    "\n",
    "Fortunately, the `@code_warntype` macro can be used to check for this.  It will print declarations that lead to type stability in red."
   ]
  },
  {
   "cell_type": "code",
   "execution_count": null,
   "id": "61045829-63bf-4424-8a3c-70146efc2a83",
   "metadata": {},
   "outputs": [
    {
     "name": "stdout",
     "output_type": "stream",
     "text": [
      "MethodInstance for distance(::Vector{Float64}, ::Vector{Float64})\n",
      "  from distance(v1, v2) in Main at In[4]:1\n",
      "Arguments\n",
      "  #self#\u001b[36m::Core.Const(distance)\u001b[39m\n",
      "  v1\u001b[36m::Vector{Float64}\u001b[39m\n",
      "  v2\u001b[36m::Vector{Float64}\u001b[39m\n",
      "Body\u001b[36m::Float64\u001b[39m\n",
      "\u001b[90m1 ─\u001b[39m %1  = Base.getindex(v1, 1)\u001b[36m::Float64\u001b[39m\n",
      "\u001b[90m│  \u001b[39m %2  = Base.getindex(v2, 1)\u001b[36m::Float64\u001b[39m\n",
      "\u001b[90m│  \u001b[39m %3  = (%1 - %2)\u001b[36m::Float64\u001b[39m\n",
      "\u001b[90m│  \u001b[39m %4  = Core.apply_type(Base.Val, 2)\u001b[36m::Core.Const(Val{2})\u001b[39m\n",
      "\u001b[90m│  \u001b[39m %5  = (%4)()\u001b[36m::Core.Const(Val{2}())\u001b[39m\n",
      "\u001b[90m│  \u001b[39m %6  = Base.literal_pow(Main.:^, %3, %5)\u001b[36m::Float64\u001b[39m\n",
      "\u001b[90m│  \u001b[39m %7  = Base.getindex(v1, 2)\u001b[36m::Float64\u001b[39m\n",
      "\u001b[90m│  \u001b[39m %8  = Base.getindex(v2, 2)\u001b[36m::Float64\u001b[39m\n",
      "\u001b[90m│  \u001b[39m %9  = (%7 - %8)\u001b[36m::Float64\u001b[39m\n",
      "\u001b[90m│  \u001b[39m %10 = Core.apply_type(Base.Val, 2)\u001b[36m::Core.Const(Val{2})\u001b[39m\n",
      "\u001b[90m│  \u001b[39m %11 = (%10)()\u001b[36m::Core.Const(Val{2}())\u001b[39m\n",
      "\u001b[90m│  \u001b[39m %12 = Base.literal_pow(Main.:^, %9, %11)\u001b[36m::Float64\u001b[39m\n",
      "\u001b[90m│  \u001b[39m %13 = (%6 + %12)\u001b[36m::Float64\u001b[39m\n",
      "\u001b[90m│  \u001b[39m %14 = Main.sqrt(%13)\u001b[36m::Float64\u001b[39m\n",
      "\u001b[90m└──\u001b[39m       return %14\n",
      "\n"
     ]
    }
   ],
   "source": [
    "@code_warntype distance(rand(2), rand(2))"
   ]
  },
  {
   "cell_type": "code",
   "execution_count": 12,
   "id": "0f3a4b3f-c4c2-48ea-a60c-f2a72ed32bea",
   "metadata": {},
   "outputs": [
    {
     "name": "stdout",
     "output_type": "stream",
     "text": [
      "MethodInstance for distance(::Vector{Any}, ::Vector{Any})\n",
      "  from distance(v1, v2) in Main at In[4]:1\n",
      "Arguments\n",
      "  #self#\u001b[36m::Core.Const(distance)\u001b[39m\n",
      "  v1\u001b[36m::Vector{Any}\u001b[39m\n",
      "  v2\u001b[36m::Vector{Any}\u001b[39m\n",
      "Body\u001b[91m\u001b[1m::Any\u001b[22m\u001b[39m\n",
      "\u001b[90m1 ─\u001b[39m %1  = Base.getindex(v1, 1)\u001b[91m\u001b[1m::Any\u001b[22m\u001b[39m\n",
      "\u001b[90m│  \u001b[39m %2  = Base.getindex(v2, 1)\u001b[91m\u001b[1m::Any\u001b[22m\u001b[39m\n",
      "\u001b[90m│  \u001b[39m %3  = (%1 - %2)\u001b[91m\u001b[1m::Any\u001b[22m\u001b[39m\n",
      "\u001b[90m│  \u001b[39m %4  = Core.apply_type(Base.Val, 2)\u001b[36m::Core.Const(Val{2})\u001b[39m\n",
      "\u001b[90m│  \u001b[39m %5  = (%4)()\u001b[36m::Core.Const(Val{2}())\u001b[39m\n",
      "\u001b[90m│  \u001b[39m %6  = Base.literal_pow(Main.:^, %3, %5)\u001b[91m\u001b[1m::Any\u001b[22m\u001b[39m\n",
      "\u001b[90m│  \u001b[39m %7  = Base.getindex(v1, 2)\u001b[91m\u001b[1m::Any\u001b[22m\u001b[39m\n",
      "\u001b[90m│  \u001b[39m %8  = Base.getindex(v2, 2)\u001b[91m\u001b[1m::Any\u001b[22m\u001b[39m\n",
      "\u001b[90m│  \u001b[39m %9  = (%7 - %8)\u001b[91m\u001b[1m::Any\u001b[22m\u001b[39m\n",
      "\u001b[90m│  \u001b[39m %10 = Core.apply_type(Base.Val, 2)\u001b[36m::Core.Const(Val{2})\u001b[39m\n",
      "\u001b[90m│  \u001b[39m %11 = (%10)()\u001b[36m::Core.Const(Val{2}())\u001b[39m\n",
      "\u001b[90m│  \u001b[39m %12 = Base.literal_pow(Main.:^, %9, %11)\u001b[91m\u001b[1m::Any\u001b[22m\u001b[39m\n",
      "\u001b[90m│  \u001b[39m %13 = (%6 + %12)\u001b[91m\u001b[1m::Any\u001b[22m\u001b[39m\n",
      "\u001b[90m│  \u001b[39m %14 = Main.sqrt(%13)\u001b[91m\u001b[1m::Any\u001b[22m\u001b[39m\n",
      "\u001b[90m└──\u001b[39m       return %14\n",
      "\n"
     ]
    }
   ],
   "source": [
    "@code_warntype distance(Any[rand(), rand()], Any[rand(), rand()])"
   ]
  },
  {
   "cell_type": "markdown",
   "id": "ea2d1b09-3d6c-43a1-890e-1de81bb3851d",
   "metadata": {},
   "source": [
    "The example above is of course contrived, a more realistic example is given below.  The function simply computes the sum of the elements of a vector."
   ]
  },
  {
   "cell_type": "code",
   "execution_count": 10,
   "id": "16bcb189-9589-47d8-b42d-26cf826c8f02",
   "metadata": {},
   "outputs": [
    {
     "data": {
      "text/plain": [
       "sum_all (generic function with 1 method)"
      ]
     },
     "execution_count": 10,
     "metadata": {},
     "output_type": "execute_result"
    }
   ],
   "source": [
    "sum_all(v) = begin\n",
    "    total = 0\n",
    "    for value in v\n",
    "        total += value\n",
    "    end\n",
    "    return total\n",
    "end"
   ]
  },
  {
   "cell_type": "markdown",
   "id": "513be72b-b3f9-458e-a078-990c65df9874",
   "metadata": {},
   "source": [
    "When you call the function with a vector of floating point values, the type of the variable `total` can not be determined unambiguously.  It is initialized with `0`, an `Int64` value.  Depending on whether the length of the vector is non-zero, floating point values are added to it.  At the return statement, `total` may be eitehr `Int64` or `Float64`.  This is indicated by the `Union` type."
   ]
  },
  {
   "cell_type": "code",
   "execution_count": 11,
   "id": "e4276ad0-6487-413c-9a29-dab50046d848",
   "metadata": {},
   "outputs": [
    {
     "name": "stdout",
     "output_type": "stream",
     "text": [
      "MethodInstance for sum_all(::Vector{Float64})\n",
      "  from sum_all(v) in Main at In[10]:1\n",
      "Arguments\n",
      "  #self#\u001b[36m::Core.Const(sum_all)\u001b[39m\n",
      "  v\u001b[36m::Vector{Float64}\u001b[39m\n",
      "Locals\n",
      "  @_3\u001b[33m\u001b[1m::Union{Nothing, Tuple{Float64, Int64}}\u001b[22m\u001b[39m\n",
      "  total\u001b[91m\u001b[1m::Union{Float64, Int64}\u001b[22m\u001b[39m\n",
      "  value\u001b[36m::Float64\u001b[39m\n",
      "Body\u001b[91m\u001b[1m::Union{Float64, Int64}\u001b[22m\u001b[39m\n",
      "\u001b[90m1 ─\u001b[39m       (total = 0)\n",
      "\u001b[90m│  \u001b[39m %2  = v\u001b[36m::Vector{Float64}\u001b[39m\n",
      "\u001b[90m│  \u001b[39m       (@_3 = Base.iterate(%2))\n",
      "\u001b[90m│  \u001b[39m %4  = (@_3 === nothing)\u001b[36m::Bool\u001b[39m\n",
      "\u001b[90m│  \u001b[39m %5  = Base.not_int(%4)\u001b[36m::Bool\u001b[39m\n",
      "\u001b[90m└──\u001b[39m       goto #4 if not %5\n",
      "\u001b[90m2 ┄\u001b[39m %7  = @_3\u001b[36m::Tuple{Float64, Int64}\u001b[39m\n",
      "\u001b[90m│  \u001b[39m       (value = Core.getfield(%7, 1))\n",
      "\u001b[90m│  \u001b[39m %9  = Core.getfield(%7, 2)\u001b[36m::Int64\u001b[39m\n",
      "\u001b[90m│  \u001b[39m       (total = total + value)\n",
      "\u001b[90m│  \u001b[39m       (@_3 = Base.iterate(%2, %9))\n",
      "\u001b[90m│  \u001b[39m %12 = (@_3 === nothing)\u001b[36m::Bool\u001b[39m\n",
      "\u001b[90m│  \u001b[39m %13 = Base.not_int(%12)\u001b[36m::Bool\u001b[39m\n",
      "\u001b[90m└──\u001b[39m       goto #4 if not %13\n",
      "\u001b[90m3 ─\u001b[39m       goto #2\n",
      "\u001b[90m4 ┄\u001b[39m       return total\n",
      "\n"
     ]
    }
   ],
   "source": [
    "v = rand(1000);\n",
    "@code_warntype sum_all(v)"
   ]
  },
  {
   "cell_type": "markdown",
   "id": "3e3101e3-0bd6-42e7-9b17-6950baf518b2",
   "metadata": {},
   "source": [
    "This can be easily remedied by making sure that `total` is initialized by a zero value of a type that corresponds to the elements of the vector `v`), the argument of the function."
   ]
  },
  {
   "cell_type": "code",
   "execution_count": 1,
   "id": "69a8d8af-a111-4ef6-8ace-2fc8937127bf",
   "metadata": {},
   "outputs": [
    {
     "data": {
      "text/plain": [
       "sum_all_2 (generic function with 1 method)"
      ]
     },
     "execution_count": 1,
     "metadata": {},
     "output_type": "execute_result"
    }
   ],
   "source": [
    "sum_all_2(v) = begin\n",
    "    total = zero(eltype(v))\n",
    "    for value in v\n",
    "        total += value\n",
    "    end\n",
    "    return total\n",
    "end"
   ]
  },
  {
   "cell_type": "markdown",
   "id": "bf041ae4-3991-48aa-b002-f68cdf58e1a1",
   "metadata": {},
   "source": [
    "When calling `sum_all_2` with a vector containing `Float64` values, `total` will be initialized to a `Float64` 0.0 and its type is unambiguous."
   ]
  },
  {
   "cell_type": "code",
   "execution_count": 13,
   "id": "1e7345d0-890c-4913-b321-d7ebc584b054",
   "metadata": {},
   "outputs": [
    {
     "name": "stdout",
     "output_type": "stream",
     "text": [
      "MethodInstance for sum_all_2(::Vector{Float64})\n",
      "  from sum_all_2(v) in Main at In[12]:1\n",
      "Arguments\n",
      "  #self#\u001b[36m::Core.Const(sum_all_2)\u001b[39m\n",
      "  v\u001b[36m::Vector{Float64}\u001b[39m\n",
      "Locals\n",
      "  @_3\u001b[33m\u001b[1m::Union{Nothing, Tuple{Float64, Int64}}\u001b[22m\u001b[39m\n",
      "  total\u001b[36m::Float64\u001b[39m\n",
      "  value\u001b[36m::Float64\u001b[39m\n",
      "Body\u001b[36m::Float64\u001b[39m\n",
      "\u001b[90m1 ─\u001b[39m %1  = Main.eltype(v)\u001b[36m::Core.Const(Float64)\u001b[39m\n",
      "\u001b[90m│  \u001b[39m       (total = Main.zero(%1))\n",
      "\u001b[90m│  \u001b[39m %3  = v\u001b[36m::Vector{Float64}\u001b[39m\n",
      "\u001b[90m│  \u001b[39m       (@_3 = Base.iterate(%3))\n",
      "\u001b[90m│  \u001b[39m %5  = (@_3 === nothing)\u001b[36m::Bool\u001b[39m\n",
      "\u001b[90m│  \u001b[39m %6  = Base.not_int(%5)\u001b[36m::Bool\u001b[39m\n",
      "\u001b[90m└──\u001b[39m       goto #4 if not %6\n",
      "\u001b[90m2 ┄\u001b[39m %8  = @_3\u001b[36m::Tuple{Float64, Int64}\u001b[39m\n",
      "\u001b[90m│  \u001b[39m       (value = Core.getfield(%8, 1))\n",
      "\u001b[90m│  \u001b[39m %10 = Core.getfield(%8, 2)\u001b[36m::Int64\u001b[39m\n",
      "\u001b[90m│  \u001b[39m       (total = total + value)\n",
      "\u001b[90m│  \u001b[39m       (@_3 = Base.iterate(%3, %10))\n",
      "\u001b[90m│  \u001b[39m %13 = (@_3 === nothing)\u001b[36m::Bool\u001b[39m\n",
      "\u001b[90m│  \u001b[39m %14 = Base.not_int(%13)\u001b[36m::Bool\u001b[39m\n",
      "\u001b[90m└──\u001b[39m       goto #4 if not %14\n",
      "\u001b[90m3 ─\u001b[39m       goto #2\n",
      "\u001b[90m4 ┄\u001b[39m       return total\n",
      "\n"
     ]
    }
   ],
   "source": [
    "v = rand(1000);\n",
    "@code_warntype sum_all_2(v)"
   ]
  },
  {
   "cell_type": "markdown",
   "id": "2c1ba637-086f-437f-a827-6b22d2fbb3c2",
   "metadata": {},
   "source": [
    "Similarly, when the function `sum_all_2` is called with a vector of `Int32`, the code that is generated initializes `total` to an `Int32` 0 and again, its type is unambiguous."
   ]
  },
  {
   "cell_type": "code",
   "execution_count": 2,
   "id": "4f8b7a43-5ea1-46ee-ae3a-d102ba9304e2",
   "metadata": {},
   "outputs": [
    {
     "name": "stdout",
     "output_type": "stream",
     "text": [
      "MethodInstance for sum_all_2(::Vector{Int32})\n",
      "  from sum_all_2(v) in Main at In[1]:1\n",
      "Arguments\n",
      "  #self#\u001b[36m::Core.Const(sum_all_2)\u001b[39m\n",
      "  v\u001b[36m::Vector{Int32}\u001b[39m\n",
      "Locals\n",
      "  @_3\u001b[33m\u001b[1m::Union{Nothing, Tuple{Int32, Int64}}\u001b[22m\u001b[39m\n",
      "  total\u001b[36m::Int32\u001b[39m\n",
      "  value\u001b[36m::Int32\u001b[39m\n",
      "Body\u001b[36m::Int32\u001b[39m\n",
      "\u001b[90m1 ─\u001b[39m %1  = Main.eltype(v)\u001b[36m::Core.Const(Int32)\u001b[39m\n",
      "\u001b[90m│  \u001b[39m       (total = Main.zero(%1))\n",
      "\u001b[90m│  \u001b[39m %3  = v\u001b[36m::Vector{Int32}\u001b[39m\n",
      "\u001b[90m│  \u001b[39m       (@_3 = Base.iterate(%3))\n",
      "\u001b[90m│  \u001b[39m %5  = (@_3 === nothing)\u001b[36m::Bool\u001b[39m\n",
      "\u001b[90m│  \u001b[39m %6  = Base.not_int(%5)\u001b[36m::Bool\u001b[39m\n",
      "\u001b[90m└──\u001b[39m       goto #4 if not %6\n",
      "\u001b[90m2 ┄\u001b[39m %8  = @_3\u001b[36m::Tuple{Int32, Int64}\u001b[39m\n",
      "\u001b[90m│  \u001b[39m       (value = Core.getfield(%8, 1))\n",
      "\u001b[90m│  \u001b[39m %10 = Core.getfield(%8, 2)\u001b[36m::Int64\u001b[39m\n",
      "\u001b[90m│  \u001b[39m       (total = total + value)\n",
      "\u001b[90m│  \u001b[39m       (@_3 = Base.iterate(%3, %10))\n",
      "\u001b[90m│  \u001b[39m %13 = (@_3 === nothing)\u001b[36m::Bool\u001b[39m\n",
      "\u001b[90m│  \u001b[39m %14 = Base.not_int(%13)\u001b[36m::Bool\u001b[39m\n",
      "\u001b[90m└──\u001b[39m       goto #4 if not %14\n",
      "\u001b[90m3 ─\u001b[39m       goto #2\n",
      "\u001b[90m4 ┄\u001b[39m       return total\n",
      "\n"
     ]
    }
   ],
   "source": [
    "v = rand(Int32, 1000);\n",
    "@code_warntype sum_all_2(v)"
   ]
  },
  {
   "cell_type": "markdown",
   "id": "e3339e51-6441-4636-8c4b-6d3806f043ab",
   "metadata": {},
   "source": [
    "Some care is required to ensure type stability, so the JAOT compilation can generate efficient code."
   ]
  }
 ],
 "metadata": {
  "kernelspec": {
   "display_name": "Julia 1.8.0",
   "language": "julia",
   "name": "julia-1.8"
  },
  "language_info": {
   "file_extension": ".jl",
   "mimetype": "application/julia",
   "name": "julia",
   "version": "1.8.0"
  }
 },
 "nbformat": 4,
 "nbformat_minor": 5
}
