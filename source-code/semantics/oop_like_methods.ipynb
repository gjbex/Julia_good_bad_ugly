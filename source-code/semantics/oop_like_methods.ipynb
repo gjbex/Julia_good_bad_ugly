{
 "cells": [
  {
   "cell_type": "markdown",
   "id": "adb7cfc2-0abe-48a2-8dc1-34ff9bb419b3",
   "metadata": {},
   "source": [
    "Types can be used to add \"methods\" to a struct.  The type has to be parameterized with a type for each \"method\".  The field `distance` will store a function that computes the distance between two points.  The type of that field is `DsitantanceType` and it will be used by the inner constructor.  This inner constructor defines the function and passes it and its type to `new`."
   ]
  },
  {
   "cell_type": "code",
   "execution_count": 11,
   "id": "9a9fad81-9d9d-4b92-b58c-8f43d32ebd8b",
   "metadata": {},
   "outputs": [],
   "source": [
    "mutable struct Point{DistanceType}\n",
    "    x::AbstractFloat\n",
    "    y::AbstractFloat\n",
    "    distance::DistanceType\n",
    "    \n",
    "    function Point(x::AbstractFloat, y::AbstractFloat)\n",
    "        function dist(p::Point)\n",
    "            return sqrt((x - p.x)^2 + (y - p.y)^2)\n",
    "        end\n",
    "        return new{typeof(dist)}(x, y, dist)\n",
    "    end\n",
    "end"
   ]
  },
  {
   "cell_type": "markdown",
   "id": "02173cc7-8d9f-453b-9a53-b289e30711b9",
   "metadata": {},
   "source": [
    "We can now create two points and use the distance \"method\"."
   ]
  },
  {
   "cell_type": "code",
   "execution_count": 12,
   "id": "dfdc369c-0d6b-4cd7-8e36-8969e6d794ff",
   "metadata": {},
   "outputs": [
    {
     "data": {
      "text/plain": [
       "Point{var\"#dist#6\"{Float64, Float64}}(3.1, 4.5, var\"#dist#6\"{Float64, Float64}(3.1, 4.5))"
      ]
     },
     "execution_count": 12,
     "metadata": {},
     "output_type": "execute_result"
    }
   ],
   "source": [
    "p1 = Point(3.1, 4.5)"
   ]
  },
  {
   "cell_type": "code",
   "execution_count": 13,
   "id": "cd3a1d66-e837-403e-9b55-c61b2f50529e",
   "metadata": {},
   "outputs": [
    {
     "data": {
      "text/plain": [
       "Point{var\"#dist#6\"{Float64, Float64}}(2.5, 4.9, var\"#dist#6\"{Float64, Float64}(2.5, 4.9))"
      ]
     },
     "execution_count": 13,
     "metadata": {},
     "output_type": "execute_result"
    }
   ],
   "source": [
    "p2 = Point(2.5, 4.9)"
   ]
  },
  {
   "cell_type": "code",
   "execution_count": 14,
   "id": "ae3102b3-2cf7-438c-a870-251b7be15dac",
   "metadata": {},
   "outputs": [
    {
     "data": {
      "text/plain": [
       "0.7211102550927981"
      ]
     },
     "execution_count": 14,
     "metadata": {},
     "output_type": "execute_result"
    }
   ],
   "source": [
    "p1.distance(p2)"
   ]
  },
  {
   "cell_type": "markdown",
   "id": "42986c03-f90b-4c6b-bb1a-9488dba17405",
   "metadata": {},
   "source": [
    "Verifying the result shows that this works correctly."
   ]
  },
  {
   "cell_type": "code",
   "execution_count": 17,
   "id": "06a0332b-1cad-4d23-931d-c1b710b81be0",
   "metadata": {},
   "outputs": [
    {
     "data": {
      "text/plain": [
       "0.7211102550927981"
      ]
     },
     "execution_count": 17,
     "metadata": {},
     "output_type": "execute_result"
    }
   ],
   "source": [
    "sqrt((p1.x - p2.x)^2 + (p1.y - p2.y)^2)"
   ]
  },
  {
   "cell_type": "markdown",
   "id": "4422bbc8-6c1a-4f73-9022-77b957830f88",
   "metadata": {},
   "source": [
    "However, because you can doesn't imply you should.  A first, obvious drawback is that you need a type for each \"method\", so this gets unwieldy real fast."
   ]
  },
  {
   "cell_type": "markdown",
   "id": "4c18660b-742a-47c7-9482-7eae9a5d5abf",
   "metadata": {},
   "source": [
    "A second, less obvious reason is that the \"method\" is stored in each `Point`, but all `distance` \"methods\" are in fact distinct objects."
   ]
  },
  {
   "cell_type": "code",
   "execution_count": 16,
   "id": "22bf6cd4-96e6-495b-b4bc-a98a68d523fe",
   "metadata": {},
   "outputs": [
    {
     "data": {
      "text/plain": [
       "false"
      ]
     },
     "execution_count": 16,
     "metadata": {},
     "output_type": "execute_result"
    }
   ],
   "source": [
    "p1.distance === p2.distance"
   ]
  }
 ],
 "metadata": {
  "kernelspec": {
   "display_name": "Julia 1.6.1",
   "language": "julia",
   "name": "julia-1.6"
  },
  "language_info": {
   "file_extension": ".jl",
   "mimetype": "application/julia",
   "name": "julia",
   "version": "1.6.1"
  }
 },
 "nbformat": 4,
 "nbformat_minor": 5
}
