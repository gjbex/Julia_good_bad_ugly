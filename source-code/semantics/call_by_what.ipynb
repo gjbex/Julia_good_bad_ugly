{
 "cells": [
  {
   "cell_type": "markdown",
   "id": "416e9841-ed46-4ea3-b3f3-cd30d1e074fd",
   "metadata": {},
   "source": [
    "C++ has call-by-value semantics, but you can pass a reference to a function.  Fortran has call by reference, but you can specify call-by-value by annotating a dummy variable with `value`.\n",
    "\n",
    "What is the deal for Julia?"
   ]
  },
  {
   "cell_type": "markdown",
   "id": "e62ede55-9cf7-422b-9ba4-adb626fc6615",
   "metadata": {},
   "source": [
    "# Basic type arguments"
   ]
  },
  {
   "cell_type": "markdown",
   "id": "66975baa-99fd-4dcf-ad6b-e7c614bfd8c7",
   "metadata": {},
   "source": [
    "Consider the following function:"
   ]
  },
  {
   "cell_type": "code",
   "execution_count": 1,
   "id": "631dcc31-1fb2-4b38-9af4-ed8286852654",
   "metadata": {
    "tags": []
   },
   "outputs": [
    {
     "data": {
      "text/plain": [
       "swap (generic function with 1 method)"
      ]
     },
     "execution_count": 1,
     "metadata": {},
     "output_type": "execute_result"
    }
   ],
   "source": [
    "function swap(x, y)\n",
    "    tmp = x\n",
    "    x = y\n",
    "    y = tmp\n",
    "    return\n",
    "end"
   ]
  },
  {
   "cell_type": "markdown",
   "id": "54fa3851-3199-44f7-a58d-91b37e28a0d1",
   "metadata": {},
   "source": [
    "If Julia supports call-by-reference, then if we call it with variables as arguments, their values would be swapped in the calling context."
   ]
  },
  {
   "cell_type": "code",
   "execution_count": 2,
   "id": "477505c6-0e59-439f-996d-42c459313733",
   "metadata": {
    "tags": []
   },
   "outputs": [
    {
     "data": {
      "text/plain": [
       "(3, 5)"
      ]
     },
     "execution_count": 2,
     "metadata": {},
     "output_type": "execute_result"
    }
   ],
   "source": [
    "a = 3; b = 5;\n",
    "swap(a, b)\n",
    "a, b"
   ]
  },
  {
   "cell_type": "markdown",
   "id": "9146eb01-5b7b-418e-a964-36926d52b6d9",
   "metadata": {},
   "source": [
    "Clearly, `a` and `b` retain their values in the calling context, so Julia uses call-by-value semantics."
   ]
  },
  {
   "cell_type": "markdown",
   "id": "1ce41c99-fa76-4752-89b0-3ad52569b1c2",
   "metadata": {},
   "source": [
    "# Data structure arguments"
   ]
  },
  {
   "cell_type": "markdown",
   "id": "df9228f4-21d6-4d12-ba2d-c5efd0912ee3",
   "metadata": {},
   "source": [
    "However, we can modify a value that is a data structure, for instance the components of a vector."
   ]
  },
  {
   "cell_type": "code",
   "execution_count": 13,
   "id": "950ed7e6-803d-47a6-8452-84db45bfdef8",
   "metadata": {
    "tags": []
   },
   "outputs": [
    {
     "data": {
      "text/plain": [
       "iota (generic function with 2 methods)"
      ]
     },
     "execution_count": 13,
     "metadata": {},
     "output_type": "execute_result"
    }
   ],
   "source": [
    "function iota(v::Vector{<:Number}, start::Number)\n",
    "    for i in 1:length(v)\n",
    "        v[i] = start + (i - 1)\n",
    "    end\n",
    "    return v\n",
    "end"
   ]
  },
  {
   "cell_type": "code",
   "execution_count": 14,
   "id": "15a64fc0-51e9-4e52-946d-059d98ad7c36",
   "metadata": {
    "tags": []
   },
   "outputs": [],
   "source": [
    "x = Array{Int64}(undef, 10);"
   ]
  },
  {
   "cell_type": "code",
   "execution_count": 15,
   "id": "232a4e0c-7862-48fd-b025-fc9e57850b1a",
   "metadata": {
    "tags": []
   },
   "outputs": [
    {
     "data": {
      "text/plain": [
       "10-element Vector{Int64}:\n",
       "  5\n",
       "  6\n",
       "  7\n",
       "  8\n",
       "  9\n",
       " 10\n",
       " 11\n",
       " 12\n",
       " 13\n",
       " 14"
      ]
     },
     "execution_count": 15,
     "metadata": {},
     "output_type": "execute_result"
    }
   ],
   "source": [
    "iota(x, 5)"
   ]
  },
  {
   "cell_type": "code",
   "execution_count": 17,
   "id": "875cb23b-e14c-4b61-aa8d-cf9693768817",
   "metadata": {
    "tags": []
   },
   "outputs": [
    {
     "data": {
      "text/plain": [
       "10-element Vector{Int64}:\n",
       "  5\n",
       "  6\n",
       "  7\n",
       "  8\n",
       "  9\n",
       " 10\n",
       " 11\n",
       " 12\n",
       " 13\n",
       " 14"
      ]
     },
     "execution_count": 17,
     "metadata": {},
     "output_type": "execute_result"
    }
   ],
   "source": [
    "x"
   ]
  },
  {
   "cell_type": "markdown",
   "id": "c55399eb-923d-4a33-a9c8-03ebc75f6c33",
   "metadata": {},
   "source": [
    "Clearly, we were able to modify the *components* of the `Vector` that was passed of an argument.  However, we can not modify the actual value being passed in, i.e., calling the `swap` function with two `Vector`s as arguments will not change the arguments."
   ]
  },
  {
   "cell_type": "code",
   "execution_count": 19,
   "id": "a54a51d6-6d8d-4a46-8945-9f472713d01e",
   "metadata": {
    "tags": []
   },
   "outputs": [
    {
     "data": {
      "text/plain": [
       "1×10 Matrix{Int64}:\n",
       " 0  0  0  0  0  0  0  0  0  0"
      ]
     },
     "execution_count": 19,
     "metadata": {},
     "output_type": "execute_result"
    }
   ],
   "source": [
    "y = zeros(Int64, 1, 10)"
   ]
  },
  {
   "cell_type": "code",
   "execution_count": 20,
   "id": "e9b51905-5e6d-4553-8085-812ba2536473",
   "metadata": {
    "tags": []
   },
   "outputs": [],
   "source": [
    "swap(x, y)"
   ]
  },
  {
   "cell_type": "code",
   "execution_count": 22,
   "id": "88bc5586-cd04-47fe-9fd7-87b268d6ff3d",
   "metadata": {
    "tags": []
   },
   "outputs": [
    {
     "data": {
      "text/plain": [
       "([5, 6, 7, 8, 9, 10, 11, 12, 13, 14], [0 0 … 0 0])"
      ]
     },
     "execution_count": 22,
     "metadata": {},
     "output_type": "execute_result"
    }
   ],
   "source": [
    "x, y"
   ]
  }
 ],
 "metadata": {
  "kernelspec": {
   "display_name": "Julia 1.8.5",
   "language": "julia",
   "name": "julia-1.8"
  },
  "language_info": {
   "file_extension": ".jl",
   "mimetype": "application/julia",
   "name": "julia",
   "version": "1.8.5"
  }
 },
 "nbformat": 4,
 "nbformat_minor": 5
}
