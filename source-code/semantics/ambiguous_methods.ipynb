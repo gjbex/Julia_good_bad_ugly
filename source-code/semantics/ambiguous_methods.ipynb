{
 "cells": [
  {
   "cell_type": "markdown",
   "id": "7cda8286-7afe-4f40-b3eb-1d0cf678c961",
   "metadata": {},
   "source": [
    "Methods for a function can be ambiguous, consider the following example."
   ]
  },
  {
   "cell_type": "code",
   "execution_count": 1,
   "id": "48a3e45a-5756-4ead-9327-af201a574367",
   "metadata": {},
   "outputs": [
    {
     "data": {
      "text/plain": [
       "f (generic function with 1 method)"
      ]
     },
     "execution_count": 1,
     "metadata": {},
     "output_type": "execute_result"
    }
   ],
   "source": [
    "f(x, y::Integer) = x - y"
   ]
  },
  {
   "cell_type": "code",
   "execution_count": 2,
   "id": "e301a22b-65ce-41d6-b4c0-8bb02d3ecbc5",
   "metadata": {},
   "outputs": [
    {
     "data": {
      "text/plain": [
       "f (generic function with 2 methods)"
      ]
     },
     "execution_count": 2,
     "metadata": {},
     "output_type": "execute_result"
    }
   ],
   "source": [
    "f(x::Integer, y) = x + y"
   ]
  },
  {
   "cell_type": "code",
   "execution_count": 3,
   "id": "d8120a07-587d-4098-8b50-c223a673608d",
   "metadata": {},
   "outputs": [
    {
     "ename": "LoadError",
     "evalue": "MethodError: f(::Int64, ::Int64) is ambiguous. Candidates:\n  f(x, y::Integer) in Main at In[1]:1\n  f(x::Integer, y) in Main at In[2]:1\nPossible fix, define\n  f(::\u001b[0mInteger, ::\u001b[0mInteger)",
     "output_type": "error",
     "traceback": [
      "MethodError: f(::Int64, ::Int64) is ambiguous. Candidates:\n  f(x, y::Integer) in Main at In[1]:1\n  f(x::Integer, y) in Main at In[2]:1\nPossible fix, define\n  f(::\u001b[0mInteger, ::\u001b[0mInteger)",
      "",
      "Stacktrace:",
      " [1] top-level scope",
      "   @ In[3]:1",
      " [2] eval",
      "   @ ./boot.jl:360 [inlined]",
      " [3] include_string(mapexpr::typeof(REPL.softscope), mod::Module, code::String, filename::String)",
      "   @ Base ./loading.jl:1094"
     ]
    }
   ],
   "source": [
    "f(2, 3)"
   ]
  },
  {
   "cell_type": "markdown",
   "id": "cc820831-9bf2-4e83-9d8a-1742045f43c0",
   "metadata": {},
   "source": [
    "You can test a module for ambiguous functions using `detect_ambiguities` in the `Test` module."
   ]
  },
  {
   "cell_type": "code",
   "execution_count": 4,
   "id": "ac3d7433-c05f-4ed3-852e-ea7710708433",
   "metadata": {},
   "outputs": [],
   "source": [
    "using Test"
   ]
  },
  {
   "cell_type": "code",
   "execution_count": 5,
   "id": "5646c8a0-4820-4d42-a708-4e1bae725ada",
   "metadata": {},
   "outputs": [
    {
     "data": {
      "text/plain": [
       "1-element Vector{Tuple{Method, Method}}:\n",
       " (f(x, y::Integer) in Main at In[1]:1, f(x::Integer, y) in Main at In[2]:1)"
      ]
     },
     "execution_count": 5,
     "metadata": {},
     "output_type": "execute_result"
    }
   ],
   "source": [
    "detect_ambiguities(Main)"
   ]
  },
  {
   "cell_type": "markdown",
   "id": "44f4b916-4f30-44bb-9380-e3e7f055e342",
   "metadata": {},
   "source": [
    "This can be resolved by adding a third method."
   ]
  },
  {
   "cell_type": "code",
   "execution_count": 6,
   "id": "a302f3ab-cab4-4cff-bcc2-1e12d05a48ef",
   "metadata": {},
   "outputs": [
    {
     "data": {
      "text/plain": [
       "f (generic function with 3 methods)"
      ]
     },
     "execution_count": 6,
     "metadata": {},
     "output_type": "execute_result"
    }
   ],
   "source": [
    "f(x::Integer, y::Integer) = x*y"
   ]
  },
  {
   "cell_type": "code",
   "execution_count": 7,
   "id": "6d0105da-1e8d-41d5-8c3c-88e0c54bbff7",
   "metadata": {},
   "outputs": [
    {
     "data": {
      "text/plain": [
       "6"
      ]
     },
     "execution_count": 7,
     "metadata": {},
     "output_type": "execute_result"
    }
   ],
   "source": [
    "f(2, 3)"
   ]
  },
  {
   "cell_type": "code",
   "execution_count": 8,
   "id": "fbcfae30-4190-44fa-93a1-268337f1135c",
   "metadata": {},
   "outputs": [
    {
     "data": {
      "text/plain": [
       "Tuple{Method, Method}[]"
      ]
     },
     "execution_count": 8,
     "metadata": {},
     "output_type": "execute_result"
    }
   ],
   "source": [
    "detect_ambiguities(Main)"
   ]
  }
 ],
 "metadata": {
  "kernelspec": {
   "display_name": "Julia 1.6.1",
   "language": "julia",
   "name": "julia-1.6"
  },
  "language_info": {
   "file_extension": ".jl",
   "mimetype": "application/julia",
   "name": "julia",
   "version": "1.6.1"
  }
 },
 "nbformat": 4,
 "nbformat_minor": 5
}
