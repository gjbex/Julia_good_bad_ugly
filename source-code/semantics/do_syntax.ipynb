{
 "cells": [
  {
   "cell_type": "code",
   "execution_count": 8,
   "id": "86b8839f-63bc-432b-b12b-fd3d5042cc19",
   "metadata": {},
   "outputs": [],
   "source": [
    "struct Particle\n",
    "    x; y; mass\n",
    "end"
   ]
  },
  {
   "cell_type": "code",
   "execution_count": 11,
   "id": "8c4daf76-c301-4208-9c38-c7d92752415f",
   "metadata": {},
   "outputs": [
    {
     "data": {
      "text/plain": [
       "init_particles (generic function with 1 method)"
      ]
     },
     "execution_count": 11,
     "metadata": {},
     "output_type": "execute_result"
    }
   ],
   "source": [
    "function init_particles(n)\n",
    "    return map(zip(randn(n), randn(n), rand(n))) do values\n",
    "        x, y, mass = values\n",
    "        return Particle(x, y, mass)\n",
    "    end\n",
    "end"
   ]
  },
  {
   "cell_type": "code",
   "execution_count": 12,
   "id": "00c7744c-dedf-4fef-8cb4-8946dc88df70",
   "metadata": {},
   "outputs": [
    {
     "data": {
      "text/plain": [
       "3-element Vector{Particle}:\n",
       " Particle(-0.09899584430482143, -1.2364595406817946, 0.41885753947547233)\n",
       " Particle(0.29519856096570857, 1.5763404701358334, 0.1981295980073805)\n",
       " Particle(-0.8449894812437599, -0.6059911993590658, 0.22779884314054955)"
      ]
     },
     "execution_count": 12,
     "metadata": {},
     "output_type": "execute_result"
    }
   ],
   "source": [
    "particles = collect(init_particles(3))"
   ]
  },
  {
   "cell_type": "code",
   "execution_count": 14,
   "id": "13356bd3-bf66-4b5b-b908-a9398b994705",
   "metadata": {},
   "outputs": [
    {
     "data": {
      "text/plain": [
       "init_particles (generic function with 1 method)"
      ]
     },
     "execution_count": 14,
     "metadata": {},
     "output_type": "execute_result"
    }
   ],
   "source": [
    "function init_particles(n)\n",
    "    return map(v -> Particle(v...), zip(randn(n), randn(n), rand(n)))\n",
    "end"
   ]
  },
  {
   "cell_type": "code",
   "execution_count": 15,
   "id": "9988318d-6014-4f79-b97e-ebc6758e085e",
   "metadata": {},
   "outputs": [
    {
     "data": {
      "text/plain": [
       "3-element Vector{Particle}:\n",
       " Particle(-0.07449909970423291, 0.6464812622185958, 0.9106747737690137)\n",
       " Particle(0.6219919346845537, 0.6979464204662578, 0.9182646531844105)\n",
       " Particle(-0.2564375870531312, -0.5411659656949617, 0.6338646382431739)"
      ]
     },
     "execution_count": 15,
     "metadata": {},
     "output_type": "execute_result"
    }
   ],
   "source": [
    "particles = collect(init_particles(3))"
   ]
  }
 ],
 "metadata": {
  "kernelspec": {
   "display_name": "Julia 1.6.1",
   "language": "julia",
   "name": "julia-1.6"
  },
  "language_info": {
   "file_extension": ".jl",
   "mimetype": "application/julia",
   "name": "julia",
   "version": "1.6.1"
  }
 },
 "nbformat": 4,
 "nbformat_minor": 5
}
